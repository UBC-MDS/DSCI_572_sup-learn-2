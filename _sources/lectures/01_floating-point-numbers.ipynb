{
 "cells": [
  {
   "attachments": {},
   "cell_type": "markdown",
   "metadata": {},
   "source": [
    "<img src=\"img/dsci572_header.png\" width=\"600\">"
   ]
  },
  {
   "attachments": {},
   "cell_type": "markdown",
   "metadata": {},
   "source": [
    "# Lecture 1: Floating-Point Numbers"
   ]
  },
  {
   "attachments": {},
   "cell_type": "markdown",
   "metadata": {},
   "source": [
    "<br><br><br>"
   ]
  },
  {
   "cell_type": "markdown",
   "metadata": {},
   "source": [
    "## Lecture Learning Objectives\n"
   ]
  },
  {
   "attachments": {},
   "cell_type": "markdown",
   "metadata": {},
   "source": [
    "- Compare and contrast the representations of integers and floating-point numbers\n",
    "\n",
    "- Explain how double-precision floating-point numbers are represented by 64 bits\n",
    "- Identify common computational issues caused by floating-point numbers, e.g., rounding, overflow, etc.\n",
    "- Calculate the \"spacing\" of a 64 bit floating-point number in Python\n",
    "- Write code defensively against numerical errors\n",
    "- Use `numpy.iinfo()`/`numpy.finfo()` to work out the possible numerical range of an integer or float dtype"
   ]
  },
  {
   "attachments": {},
   "cell_type": "markdown",
   "metadata": {},
   "source": [
    "<br><br><br>"
   ]
  },
  {
   "cell_type": "markdown",
   "metadata": {},
   "source": [
    "## Imports\n"
   ]
  },
  {
   "cell_type": "code",
   "execution_count": 1,
   "metadata": {},
   "outputs": [],
   "source": [
    "import numpy as np\n",
    "import matplotlib.pyplot as plt\n",
    "from utils.floating_point import *\n",
    "\n",
    "%config InlineBackend.figure_formats = ['svg']\n",
    "plt.rcParams.update({'font.size': 12, 'axes.labelweight': 'bold', 'figure.figsize': (6, 4)})"
   ]
  },
  {
   "attachments": {},
   "cell_type": "markdown",
   "metadata": {},
   "source": [
    "<br><br><br>"
   ]
  },
  {
   "cell_type": "markdown",
   "metadata": {
    "slideshow": {
     "slide_type": "slide"
    }
   },
   "source": [
    "## ❓❓ Questions for you"
   ]
  },
  {
   "cell_type": "markdown",
   "metadata": {},
   "source": [
    "### Exercise 1.1\n",
    "\n",
    "**iClicker cloud join link: https://join.iclicker.com/SDMQ**\n",
    "\n",
    "**Which of the following Python statements do you think will return True?**\n",
    "\n",
    "- (A) `1.0 + 2.0 + 3.0 == 6.0`\n",
    "- (B) `0.1 + 0.2 == 0.3`\n",
    "- (C) `1e16 + 1 == 1e16`\n",
    "- (D) `1e16 + 2 == 1e16`\n",
    "- (E) `1e16 + 1.0 + 1.0  == 1e16`"
   ]
  },
  {
   "cell_type": "markdown",
   "metadata": {},
   "source": [
    "<br><br><br><br>"
   ]
  },
  {
   "cell_type": "markdown",
   "metadata": {},
   "source": [
    "## Motivation: Floating Point Errors"
   ]
  },
  {
   "cell_type": "code",
   "execution_count": 2,
   "metadata": {},
   "outputs": [
    {
     "data": {
      "text/plain": [
       "True"
      ]
     },
     "execution_count": 2,
     "metadata": {},
     "output_type": "execute_result"
    }
   ],
   "source": [
    "1.0 + 2.0 + 3.0 == 6.0"
   ]
  },
  {
   "cell_type": "code",
   "execution_count": 3,
   "metadata": {},
   "outputs": [
    {
     "data": {
      "text/plain": [
       "False"
      ]
     },
     "execution_count": 3,
     "metadata": {},
     "output_type": "execute_result"
    }
   ],
   "source": [
    "0.1 + 0.2 == 0.3"
   ]
  },
  {
   "cell_type": "code",
   "execution_count": 4,
   "metadata": {},
   "outputs": [
    {
     "data": {
      "text/plain": [
       "True"
      ]
     },
     "execution_count": 4,
     "metadata": {},
     "output_type": "execute_result"
    }
   ],
   "source": [
    "1e16 + 1 == 1e16"
   ]
  },
  {
   "cell_type": "code",
   "execution_count": 5,
   "metadata": {},
   "outputs": [
    {
     "data": {
      "text/plain": [
       "False"
      ]
     },
     "execution_count": 5,
     "metadata": {},
     "output_type": "execute_result"
    }
   ],
   "source": [
    "1e16 + 2.0 == 1e16"
   ]
  },
  {
   "cell_type": "code",
   "execution_count": 6,
   "metadata": {},
   "outputs": [
    {
     "data": {
      "text/plain": [
       "True"
      ]
     },
     "execution_count": 6,
     "metadata": {},
     "output_type": "execute_result"
    }
   ],
   "source": [
    "1e16 + 1.0 + 1.0  == 1e16"
   ]
  },
  {
   "attachments": {},
   "cell_type": "markdown",
   "metadata": {},
   "source": [
    "- Computers cannot always represent numbers as accurately as some of us might think. \n",
    "- The problem boils down to this: we have a finite amount of bits in our computer to store an infinite amount of numbers.\n",
    "- This inevitably leads to precision errors, rounding errors, underflows, and overflows."
   ]
  },
  {
   "cell_type": "markdown",
   "metadata": {},
   "source": [
    "Although the rounding error in each calculation may seem insignificant, it can become substantial when accumulated over a large number of calculations."
   ]
  },
  {
   "cell_type": "markdown",
   "metadata": {},
   "source": [
    "### Example 1 \n",
    "\n",
    "- Suppose you have an odometer which adds 1.0 cm (0.01) at a timestep. How would it look like after 100_000_000 timesteps (1000 kilometers)?\n",
    "([Example source](https://jvns.ca/blog/2023/01/13/examples-of-floating-point-problems/#example-1-the-odometer-that-stopped))"
   ]
  },
  {
   "cell_type": "code",
   "execution_count": 7,
   "metadata": {},
   "outputs": [
    {
     "name": "stdout",
     "output_type": "stream",
     "text": [
      "Odometer reading after 1000 km: 262.144 km 😕\n"
     ]
    }
   ],
   "source": [
    "# 1000 km = 1_000_000 meters = 100_000_000 cm \n",
    "meters = np.float32(0.0)\n",
    "iterations = 100_000_000\n",
    "increment = np.float32(0.01)\n",
    "for i in range(iterations):\n",
    "    meters += increment\n",
    "\n",
    "print('Odometer reading after 1000 km: %6g km 😕' %(meters/1000))"
   ]
  },
  {
   "cell_type": "markdown",
   "metadata": {},
   "source": [
    "What's going on here? \n",
    "<br><br><br><br><br><br><br><br>"
   ]
  },
  {
   "cell_type": "markdown",
   "metadata": {
    "jp-MarkdownHeadingCollapsed": true
   },
   "source": [
    "### Example 2 \n",
    "\n",
    "Suppose you work at a bank where the software rounds numbers to four decimal places. For example it would round the interest rate of 0.030045 to 0.0300.\n",
    "\n",
    "- Number of customers: $\\$1,000,000$\n",
    "- Minimum account balance per customer: $ \\$1,000$\n",
    "- Actual yearly interest rate: $\\$0.030045 (3.0045\\%)$\n",
    "- Rounded yearly interest rate:$\\$0.0300 (3.00\\%)$\n",
    "- Interest per account:\n",
    "    - Without rounding: $\\$1000 * \\$0.030045 = \\$30.045$\n",
    "    - With rounding: $\\$1000 * \\$0.030 = \\$30.00$\n",
    "- Difference per account: $\\$30.045 - \\$30.00 = \\$0.045$\n",
    "- Cumulative impact for 1 Million customers:\n",
    "    - Total Error per year: $\\$0.045 / \\text{account} * 1,000,000 \\text{ accounts} = \\$45,000$\n",
    " \n",
    "The per-account rounding error is small, just $\\$0.045$. However, across 1 million customers, this error aggregates to $\\$45,000$ per year!\n",
    "<br><br><br><br><br><br><br><br>"
   ]
  },
  {
   "cell_type": "markdown",
   "metadata": {},
   "source": [
    "### Why is this relevant in deep learning and machine learning in general?\n",
    "- Deep learning models are often trained on large datasets with millions of parameters and require a vast amount of numerical computations.\n",
    "- In such models, small rounding errors in floating-point calculations can accumulate as data passes through multiple layers and we might end up converging to a suboptimal set of parameters. \n",
    "- In general, precision of floating point numbers, efficient computation, and numerical stability are very important aspects in machine learning, especially in optimization. "
   ]
  },
  {
   "cell_type": "markdown",
   "metadata": {},
   "source": [
    "In this lecture, we are going to take a journey to discover \n",
    "- How double-precision floating-point numbers are represented by 64 bits?\n",
    "- How bad are the rounding errors? \n",
    "- How can we code defensively against numerical errors?"
   ]
  },
  {
   "attachments": {},
   "cell_type": "markdown",
   "metadata": {},
   "source": [
    "<br><br><br>"
   ]
  },
  {
   "cell_type": "markdown",
   "metadata": {},
   "source": [
    "## Binary Numbers and Integers\n"
   ]
  },
  {
   "attachments": {},
   "cell_type": "markdown",
   "metadata": {},
   "source": [
    "- We are used to using a base-10 number system (i.e., \"decimal\" or \"denary\")\n",
    "\n",
    "- For example, we can read the number 104 as:\n",
    "    - 1 x 100 ($10^2$)\n",
    "    - 0 x 10 ($10^1$)\n",
    "    - 4 x 1 ($10^0$)"
   ]
  },
  {
   "cell_type": "markdown",
   "metadata": {},
   "source": [
    "- Or in a tabular format:"
   ]
  },
  {
   "cell_type": "markdown",
   "metadata": {},
   "source": [
    "| Unit | $10^2$ | $10^1$ | $10^0$ |\n",
    "|:---|:----|:----|:----|\n",
    "|Value | 100   | 10   |1 |\n",
    "|Number of units|1   |0   |   4|\n",
    "|**Total**|**100**   |**0**   |   **4**|"
   ]
  },
  {
   "attachments": {},
   "cell_type": "markdown",
   "metadata": {},
   "source": [
    "- Many of you will be aware that computers use a base-2 system (i.e., \"binary\") to store data\n",
    "\n",
    "- Binary is based on powers of 2 rather than powers of 10 and we only have two numbers (0 and 1) to work with (think of them as \"off\" and \"on\" switches respectively)\n",
    "- If you're interested in learning more about how computers work under the hood, check out [this excellent Youtube series on computer science by CrashCourse](https://www.youtube.com/playlist?list=PL8dPuuaLjXtNlUrzyH5r6jN9ulIgZBpdo&app=desktop)\n",
    "- In binary, 104 looks like:"
   ]
  },
  {
   "cell_type": "code",
   "execution_count": 8,
   "metadata": {},
   "outputs": [
    {
     "data": {
      "text/plain": [
       "'1101000'"
      ]
     },
     "execution_count": 8,
     "metadata": {},
     "output_type": "execute_result"
    }
   ],
   "source": [
    "f\"{104:b}\"  # I'm using the python f-string format code \"b\" to display my integer in binary"
   ]
  },
  {
   "attachments": {},
   "cell_type": "markdown",
   "metadata": {},
   "source": [
    "We can also directly obtain the binary representation of a number using Python's built-in `bin()` function:"
   ]
  },
  {
   "cell_type": "code",
   "execution_count": 9,
   "metadata": {},
   "outputs": [
    {
     "data": {
      "text/plain": [
       "'0b1101000'"
      ]
     },
     "execution_count": 9,
     "metadata": {},
     "output_type": "execute_result"
    }
   ],
   "source": [
    "bin(104)"
   ]
  },
  {
   "cell_type": "markdown",
   "metadata": {},
   "source": [
    "- So this is:\n",
    "    \n",
    "|Unit|$2^6$ |$2^5$ |$2^4$ |$2^3$ |$2^2$ |$2^1$ |$2^0$ |\n",
    "|:---|:----|:----|:----|:---|:---|:---|:---|\n",
    "|Value|64   |32   |   16|   8|   4|   2| 1|\n",
    "|Number of units|1   |1   |   0|   1|   0|   0| 0|\n",
    "|**Total**|**64**   |**32**   | **0** | **8**| **0**| **0**| **0**|"
   ]
  },
  {
   "attachments": {},
   "cell_type": "markdown",
   "metadata": {},
   "source": [
    "- We call these single binary 0/1 values, **bits**\n",
    "\n",
    "- So we needed 7 bits to represent the number 104\n",
    "- We can confirm using the `.bit_length()` integer method"
   ]
  },
  {
   "cell_type": "code",
   "execution_count": 10,
   "metadata": {},
   "outputs": [
    {
     "data": {
      "text/plain": [
       "7"
      ]
     },
     "execution_count": 10,
     "metadata": {},
     "output_type": "execute_result"
    }
   ],
   "source": [
    "x = 104\n",
    "x.bit_length()"
   ]
  },
  {
   "cell_type": "markdown",
   "metadata": {},
   "source": [
    "- Here are the first 10 positive integers in binary (using 4 bits):"
   ]
  },
  {
   "cell_type": "code",
   "execution_count": 11,
   "metadata": {},
   "outputs": [
    {
     "name": "stdout",
     "output_type": "stream",
     "text": [
      "DECIMAL | BINARY\n",
      "================\n",
      "   00   |  0000\n",
      "   01   |  0001\n",
      "   02   |  0010\n",
      "   03   |  0011\n",
      "   04   |  0100\n",
      "   05   |  0101\n",
      "   06   |  0110\n",
      "   07   |  0111\n",
      "   08   |  1000\n",
      "   09   |  1001\n",
      "   10   |  1010\n"
     ]
    }
   ],
   "source": [
    "print(\"DECIMAL | BINARY\")\n",
    "print(\"================\")\n",
    "for _ in range(11):\n",
    "    print(f\"   {_:02}   |  {_:04b}\")"
   ]
  },
  {
   "cell_type": "markdown",
   "metadata": {},
   "source": [
    "- And a useful GIF counting up in binary to drive the point home:"
   ]
  },
  {
   "cell_type": "markdown",
   "metadata": {},
   "source": [
    "<img src=\"img/binary-denary.gif\" width=\"400\">\n",
    "\n",
    "Source: [futurelearn.com](https://www.futurelearn.com/courses/how-computers-work/0/steps/49261)"
   ]
  },
  {
   "attachments": {},
   "cell_type": "markdown",
   "metadata": {},
   "source": [
    "<br><br><br>"
   ]
  },
  {
   "attachments": {},
   "cell_type": "markdown",
   "metadata": {},
   "source": [
    "- The range of **unsigned integers** we can represent with `N` bits is: 0 to $2^{N}-1$, just like the range of unsigned integers with `N` digits is: 0 to $10^{N}-1$.\n",
    "\n",
    "- The range of **signed integers** you can represent with `N` bits is: $-2^{N-1}$ to $2^{N-1}-1$"
   ]
  },
  {
   "attachments": {},
   "cell_type": "markdown",
   "metadata": {},
   "source": [
    "> **(OPTIONAL)** You don't really need to know this, but it's worth mentioning that:\n",
    ">\n",
    ">The reason for why the range of 8-bit integers is -128 to 127, instead of -127 to 127 is because of a particular way of representing negative numbers in computer hardware (see these Wikipedia links: [1](https://en.wikipedia.org/wiki/Signed_number_representations) and [2](https://en.wikipedia.org/wiki/Method_of_complements)), known as **two's complement** (this is the most widely used system today, but there are also other systems which you can find in the Wikipedia article).\n",
    ">\n",
    ">- It is basically a workaround, on the hardware level, to avoid having different methods for addition and subtraction for positive and negative numbers. In decimal, it's like saying 700 - 250 = 450 can be done by writing 700 + 750 = 1450 and then drop the 1, giving 450 (750 is the tens's complement of 250). Put otherwise, **we turned a subtraction operation into an addition by doing this**.\n",
    ">\n",
    ">- There is no negative zero in this system, which is why we get one more number to store for free (1,000,0000 in binary represents -128 in decimal). The more important implication of this is that there's no check needed to see if non-zero values are not just negative zero (e.g., 1000 is non-zero, but would be interpreted as negative zero in a 4-bit digit that uses the sign-and-magnitude system of representing negative numbers)."
   ]
  },
  {
   "attachments": {},
   "cell_type": "markdown",
   "metadata": {},
   "source": [
    "- For example, with 8 bits we can represent the unsigned integers 0 to $2^8 - 1 = 255$, or signed integers from -128 to 127:"
   ]
  },
  {
   "cell_type": "code",
   "execution_count": 12,
   "metadata": {},
   "outputs": [
    {
     "name": "stdout",
     "output_type": "stream",
     "text": [
      "unsigned min: 0\n",
      "unsigned max: 255\n",
      "\n",
      "signed min: -128\n",
      "signed max: 127\n"
     ]
    }
   ],
   "source": [
    "bits = 8\n",
    "print(f\"unsigned min: 0\")\n",
    "print(f\"unsigned max: {2 ** bits - 1}\\n\")\n",
    "print(f\"signed min: {-2 ** (bits - 1)}\")\n",
    "print(f\"signed max: {2 ** (bits - 1) - 1}\")"
   ]
  },
  {
   "cell_type": "markdown",
   "metadata": {},
   "source": [
    "- We can confirm all this with the numpy function `np.iinfo()`:"
   ]
  },
  {
   "cell_type": "code",
   "execution_count": 13,
   "metadata": {},
   "outputs": [
    {
     "data": {
      "text/plain": [
       "iinfo(min=-128, max=127, dtype=int8)"
      ]
     },
     "execution_count": 13,
     "metadata": {},
     "output_type": "execute_result"
    }
   ],
   "source": [
    "np.iinfo(\"int8\")  # use np.iinfo() to check out the limits of a dtype"
   ]
  },
  {
   "cell_type": "code",
   "execution_count": 14,
   "metadata": {},
   "outputs": [
    {
     "data": {
      "text/plain": [
       "iinfo(min=0, max=255, dtype=uint8)"
      ]
     },
     "execution_count": 14,
     "metadata": {},
     "output_type": "execute_result"
    }
   ],
   "source": [
    "np.iinfo(\"uint8\")  # \"uint8\" is an unsigned 8-bit integer, so ranging from 0 to 2^7"
   ]
  },
  {
   "attachments": {},
   "cell_type": "markdown",
   "metadata": {},
   "source": [
    "- Depending on the language/library you're using, you may get an error or some other funky behaviour if you try to store an integer smaller/larger than the allowable"
   ]
  },
  {
   "cell_type": "code",
   "execution_count": 15,
   "metadata": {},
   "outputs": [
    {
     "data": {
      "text/plain": [
       "array([127,   0], dtype=int8)"
      ]
     },
     "execution_count": 15,
     "metadata": {},
     "output_type": "execute_result"
    }
   ],
   "source": [
    "np.array([-129, 256]).astype(\"int8\")  # these numbers are outside the allowable range!"
   ]
  },
  {
   "attachments": {},
   "cell_type": "markdown",
   "metadata": {},
   "source": [
    "<br><br><br>"
   ]
  },
  {
   "attachments": {},
   "cell_type": "markdown",
   "metadata": {},
   "source": [
    "**(OPTIONAL) Reason:**"
   ]
  },
  {
   "attachments": {},
   "cell_type": "markdown",
   "metadata": {},
   "source": [
    "In case of 256, it merely converts it to binary:"
   ]
  },
  {
   "cell_type": "code",
   "execution_count": 16,
   "metadata": {},
   "outputs": [
    {
     "data": {
      "text/plain": [
       "'0b100000000'"
      ]
     },
     "execution_count": 16,
     "metadata": {},
     "output_type": "execute_result"
    }
   ],
   "source": [
    "bin(256)"
   ]
  },
  {
   "attachments": {},
   "cell_type": "markdown",
   "metadata": {},
   "source": [
    "and then forces it to an 8-bit memory location, which means that only the zeros in 100000000 will be retained, and the 9-th digit (the leftmost 1) will be discarded. Therefore, we get zero."
   ]
  },
  {
   "attachments": {},
   "cell_type": "markdown",
   "metadata": {},
   "source": [
    "On the other hand, since -129 is a negative number, NumPy computes the two's complement of 129. To do that:\n",
    "\n",
    "- the first step is to flip 0s to 1s and 1s to 0s in `10000001` (the binary representation of unsigned 129), which gives `01111110`\n",
    "\n",
    "- and then add 1 to the result: `01111110 + 1 = 01111111`. This bit pattern already belongs to another number in that range:"
   ]
  },
  {
   "cell_type": "code",
   "execution_count": 17,
   "metadata": {},
   "outputs": [
    {
     "data": {
      "text/plain": [
       "127"
      ]
     },
     "execution_count": 17,
     "metadata": {},
     "output_type": "execute_result"
    }
   ],
   "source": [
    "int(0b01111111)"
   ]
  },
  {
   "attachments": {},
   "cell_type": "markdown",
   "metadata": {},
   "source": [
    "This image below, which shows the 2's complement circle in case of a 4-bit digit, makes this process more clear:\n",
    "\n",
    "<img src=\"img/2s-complement-wheel.png\" width=\"300\">\n",
    "\n",
    "[source](https://courses.cs.washington.edu/courses/cse351/19sp/sections/03/cse351_sec3_soln.pdf)"
   ]
  },
  {
   "attachments": {},
   "cell_type": "markdown",
   "metadata": {},
   "source": [
    "<br><br><br>"
   ]
  },
  {
   "attachments": {},
   "cell_type": "markdown",
   "metadata": {},
   "source": [
    "- To store the example values above, we need more bits in the memory\n",
    "- For example, 16 bits will be more than enough:"
   ]
  },
  {
   "cell_type": "code",
   "execution_count": 18,
   "metadata": {},
   "outputs": [
    {
     "data": {
      "text/plain": [
       "array([-129,  128], dtype=int16)"
      ]
     },
     "execution_count": 18,
     "metadata": {},
     "output_type": "execute_result"
    }
   ],
   "source": [
    "np.array([-129, 128]).astype(\"int16\")"
   ]
  },
  {
   "cell_type": "markdown",
   "metadata": {},
   "source": [
    "- You often see bits in multiples of 8 (e.g., 8, 16, 32, 64, etc)\n",
    "- 8 bits is traditionally called 1 \"byte\""
   ]
  },
  {
   "attachments": {},
   "cell_type": "markdown",
   "metadata": {},
   "source": [
    "**Note:** Python does not restrict the number of bits for storing an integer. It can dynamically allocate more memory to store your integer if needed."
   ]
  },
  {
   "cell_type": "code",
   "execution_count": 19,
   "metadata": {},
   "outputs": [
    {
     "data": {
      "text/plain": [
       "114813069527425452423283320117768198402231770208869520047764273682576626139237031385665948631650626991844596463898746277344711896086305533142593135616665318539129989145312280000688779148240044871428926990063486244781615463646388363947317026040466353970904996558162398808944629605623311649536164221970332681344168908984458505602379484807914058900934776500429002716706625830522008132236281291761267883317206598995396418127021779858404042159853183251540889433902091920554957783589672039160081957216630582755380425583726015528348786419432054508915275783882625175435528800822842770817965453762184851149029376"
      ]
     },
     "execution_count": 19,
     "metadata": {},
     "output_type": "execute_result"
    }
   ],
   "source": [
    "x = 2 ** 2000\n",
    "x"
   ]
  },
  {
   "cell_type": "code",
   "execution_count": 20,
   "metadata": {},
   "outputs": [
    {
     "data": {
      "text/plain": [
       "2001"
      ]
     },
     "execution_count": 20,
     "metadata": {},
     "output_type": "execute_result"
    }
   ],
   "source": [
    "x.bit_length()"
   ]
  },
  {
   "attachments": {},
   "cell_type": "markdown",
   "metadata": {},
   "source": [
    "<br><br><br>"
   ]
  },
  {
   "cell_type": "markdown",
   "metadata": {},
   "source": [
    "## Fractional Numbers in Binary\n"
   ]
  },
  {
   "attachments": {},
   "cell_type": "markdown",
   "metadata": {},
   "source": [
    "- At this point you might be thinking, \"Well that's all well and good for integers, but what about fractional numbers like 14.75?\"\n",
    "\n",
    "- Let's interpret the number 14.75 in our familiar decimal format"
   ]
  },
  {
   "cell_type": "markdown",
   "metadata": {},
   "source": [
    "|Unit| $10^1$ |$10^0$ | $10^{-1}$ | $10^{-2}$ |\n",
    "|:---|:----|:----|:----|:---|\n",
    "|Value|10   |1   |   0.1|   0.01|\n",
    "|Number of units|1   |4   |   7|   5|\n",
    "|**Total**|**10**   |**4**  |   **0.7**|  **0.05**|"
   ]
  },
  {
   "cell_type": "markdown",
   "metadata": {},
   "source": [
    "- That seems pretty natural, and in binary it's much the same\n",
    "\n",
    "- Anything to the right of the decimal point (now called a \"binary point\") is treated with a **negative exponent**\n",
    "- So in binary, 14.75 would look like this: 1110.11"
   ]
  },
  {
   "attachments": {},
   "cell_type": "markdown",
   "metadata": {},
   "source": [
    "- Let's break that down:"
   ]
  },
  {
   "cell_type": "markdown",
   "metadata": {},
   "source": [
    "|Unit|$2^3$ |$2^2$ |$2^1$ |$2^0$ |$2^{-1}$ |$2^{-2}$ |\n",
    "|:---|:----|:----|:----|:---|:---|:---|\n",
    "|Value|8   |4   |   2|   1|   0.5|   0.25|\n",
    "|Number of units|1   |1   |   1|   0|   1|   1|\n",
    "|**Total**|**8**   |**4**   | **2** | **0**| **0.5**| **0.25**|"
   ]
  },
  {
   "attachments": {},
   "cell_type": "markdown",
   "metadata": {},
   "source": [
    "<br><br><br>"
   ]
  },
  {
   "cell_type": "markdown",
   "metadata": {},
   "source": [
    "## Fixed Point Numbers\n"
   ]
  },
  {
   "attachments": {},
   "cell_type": "markdown",
   "metadata": {},
   "source": [
    "- As we learned earlier, we typically have a fixed number of bits to work with when storing a number, e.g., 8, 16, 32, 64 bits etc.\n",
    "\n",
    "- How do we decide where to put the binary point to allow for fractional numbers?\n",
    "- With 8 bits, one option is to put **4 bits on the left and 4 on the right**:"
   ]
  },
  {
   "attachments": {},
   "cell_type": "markdown",
   "metadata": {},
   "source": [
    "|Unit|$2^{3}$ |$2^{2}$ |$2^{1}$ |$2^{0}$ |$2^{-1}$|$2^{-2}$|$2^{-3}$|$2^{-4}$|\n",
    "|---|----|----|---|---|---|---|---|---|\n",
    "|Value|8   |   4|   2|   1|   0.5|   0.25|   0.125|   0.0625|"
   ]
  },
  {
   "cell_type": "markdown",
   "metadata": {},
   "source": [
    "- In this case, the largest and smallest (closest to 0) numbers we could represent in the unsigned case are:"
   ]
  },
  {
   "cell_type": "code",
   "execution_count": 21,
   "metadata": {},
   "outputs": [
    {
     "data": {
      "text/plain": [
       "15.9375"
      ]
     },
     "execution_count": 21,
     "metadata": {},
     "output_type": "execute_result"
    }
   ],
   "source": [
    "(2.0**np.arange(-4, 4, 1)).sum()"
   ]
  },
  {
   "cell_type": "code",
   "execution_count": 22,
   "metadata": {},
   "outputs": [
    {
     "data": {
      "text/plain": [
       "0.0625"
      ]
     },
     "execution_count": 22,
     "metadata": {},
     "output_type": "execute_result"
    }
   ],
   "source": [
    "2 ** -4"
   ]
  },
  {
   "attachments": {},
   "cell_type": "markdown",
   "metadata": {},
   "source": [
    "- But what if we wanted to represent numbers larger than this?\n",
    "\n",
    "- We could shift the binary point right, so we have 6 on the left and 2 on the right, then our range would be:"
   ]
  },
  {
   "cell_type": "code",
   "execution_count": 23,
   "metadata": {},
   "outputs": [
    {
     "data": {
      "text/plain": [
       "63.75"
      ]
     },
     "execution_count": 23,
     "metadata": {},
     "output_type": "execute_result"
    }
   ],
   "source": [
    "(2.0 ** np.arange(-2, 6, 1)).sum()"
   ]
  },
  {
   "cell_type": "code",
   "execution_count": 24,
   "metadata": {},
   "outputs": [
    {
     "data": {
      "text/plain": [
       "0.25"
      ]
     },
     "execution_count": 24,
     "metadata": {},
     "output_type": "execute_result"
    }
   ],
   "source": [
    "2 ** -2"
   ]
  },
  {
   "attachments": {},
   "cell_type": "markdown",
   "metadata": {},
   "source": [
    "- We get this trade-off between being able to represent large numbers and small numbers\n",
    "\n",
    "- What if we want to represent both very large and very small numbers?"
   ]
  },
  {
   "attachments": {},
   "cell_type": "markdown",
   "metadata": {},
   "source": [
    "<br><br><br>"
   ]
  },
  {
   "attachments": {},
   "cell_type": "markdown",
   "metadata": {},
   "source": [
    "## Floating-point numbers\n"
   ]
  },
  {
   "attachments": {},
   "cell_type": "markdown",
   "metadata": {},
   "source": [
    "- Rather than having a fixed location for our binary point, we could let it \"float\" around depending on what number we want to store\n",
    "\n",
    "- Recall \"scientific notation\", which for the number 1234 looks like $1.234 \\times 10^3$, or for computers we usually use `e` (exponent) for shorthand:"
   ]
  },
  {
   "cell_type": "code",
   "execution_count": 25,
   "metadata": {},
   "outputs": [
    {
     "data": {
      "text/plain": [
       "'1.234e+03'"
      ]
     },
     "execution_count": 25,
     "metadata": {},
     "output_type": "execute_result"
    }
   ],
   "source": [
    "f\"{1234:.3e}\""
   ]
  },
  {
   "attachments": {},
   "cell_type": "markdown",
   "metadata": {},
   "source": [
    "- The \"exponent\" controls the location of the decimal point\n",
    "\n",
    "- Consider the following numbers:\n",
    "    - $1.234 \\times 10^0 = 1.234$\n",
    "    \n",
    "    - $1.234 \\times 10^1 = 12.34$\n",
    "    - $1.234 \\times 10^2 = 123.4$\n",
    "    - $1.234 \\times 10^3 = 1234.$"
   ]
  },
  {
   "attachments": {},
   "cell_type": "markdown",
   "metadata": {},
   "source": [
    "<br><br><br>"
   ]
  },
  {
   "attachments": {},
   "cell_type": "markdown",
   "metadata": {},
   "source": [
    "- See how by changing the value of the exponent we can control the location of the floating point and represent a range of values?\n",
    "\n",
    "- We'll be using the exact same logic with the binary system to come up with our \"floating-point numbers\"\n",
    "\n",
    "- This means that **instead of powers of 10, we want to express numbers in powers of 2**\n",
    "\n",
    "- This is floating point format:\n",
    "\n",
    "$$1.\\underbrace{M}_\\text{Mantissa} \\times \\underbrace{2^E}_\\text{Exponent}$$\n",
    "\n",
    "- $M$ = Mantissa\n",
    "\n",
    "- $E$ = Exponent\n",
    "\n",
    "- In binary, $1.M$ is always between 1 and 2, just like in decimal the significand is always between 1 and 10 (if it's bigger than that you simply add 1 to the powers of 2 or 10)"
   ]
  },
  {
   "attachments": {},
   "cell_type": "markdown",
   "metadata": {},
   "source": [
    "<br><br><br>"
   ]
  },
  {
   "attachments": {},
   "cell_type": "markdown",
   "metadata": {},
   "source": [
    "- Consider the number 10\n",
    "\n",
    "- $10 = 1.25 \\times 2^3$\n",
    "- So $M=.25$ and $E=3$\n",
    "- But we want binary, not decimal, so $M=01$ and $E=11$\n",
    "- Therefore, 10 in floating point binary is: $1.01 \\times 2^{11}$\n",
    "\n",
    "  - Note that the $.$ is a **\"binary point\"** (or more generally the _radix point_), digits on the left are 2's with positive exponents, digits on the right are 2's with negative exponents\n"
   ]
  },
  {
   "attachments": {},
   "cell_type": "markdown",
   "metadata": {},
   "source": [
    "- This is where the magic happens, just as the exponent of 10 in scientific notation defines the location of the decimal point, so does the exponent of a floating-point number define the location of the binary point\n",
    "\n",
    "- For $1.01 \\times 2^{11}$, the exponent is 11 in binary and 3 in decimal, so move the binary point three places to the right: $1.01 \\times 2^{11} = 1010.$\n",
    "- What is the decimal representation of binary 1010?"
   ]
  },
  {
   "cell_type": "code",
   "execution_count": 26,
   "metadata": {},
   "outputs": [
    {
     "data": {
      "text/plain": [
       "10"
      ]
     },
     "execution_count": 26,
     "metadata": {},
     "output_type": "execute_result"
    }
   ],
   "source": [
    "int(0b1010)"
   ]
  },
  {
   "attachments": {},
   "cell_type": "markdown",
   "metadata": {},
   "source": [
    "- We now have this \"floating-point\" data type that uses an exponent to help us represent both small and large fractional numbers (unlike fixed point where we would have to choose one or the other)\n",
    "\n",
    "- I wrote a function `binary()` to display any number in floating point format:"
   ]
  },
  {
   "cell_type": "code",
   "execution_count": 27,
   "metadata": {},
   "outputs": [
    {
     "name": "stdout",
     "output_type": "stream",
     "text": [
      " Decimal: 1.25 x 2^3\n",
      "  Binary: 1.01 x 2^11\n",
      "\n",
      "    Sign: 0 (+)\n",
      "Mantissa: 01 (0.25)\n",
      "Exponent: 11 (3)\n"
     ]
    }
   ],
   "source": [
    "binary(10)"
   ]
  },
  {
   "cell_type": "markdown",
   "metadata": {},
   "source": [
    "- Let's try the speed of light: $2.998 \\times 10 ^ 8 m/s$"
   ]
  },
  {
   "cell_type": "code",
   "execution_count": 28,
   "metadata": {},
   "outputs": [
    {
     "name": "stdout",
     "output_type": "stream",
     "text": [
      " Decimal: 1.11684203147888184 x 2^28\n",
      "  Binary: 1.0001110111101001010111 x 2^11100\n",
      "\n",
      "    Sign: 0 (+)\n",
      "Mantissa: 0001110111101001010111 (0.11684203147888184)\n",
      "Exponent: 11100 (28)\n"
     ]
    }
   ],
   "source": [
    "binary(2.998e8)"
   ]
  },
  {
   "cell_type": "markdown",
   "metadata": {},
   "source": [
    "- A mole of a substance: $6.02214076 \\times 10^{23}$ particles"
   ]
  },
  {
   "cell_type": "code",
   "execution_count": 29,
   "metadata": {},
   "outputs": [
    {
     "name": "stdout",
     "output_type": "stream",
     "text": [
      " Decimal: 1.9925592330949422 x 2^78\n",
      "  Binary: 1.1111111000011000010111001010010101111100010100010111 x 2^1001110\n",
      "\n",
      "    Sign: 0 (+)\n",
      "Mantissa: 1111111000011000010111001010010101111100010100010111 (0.9925592330949422)\n",
      "Exponent: 1001110 (78)\n"
     ]
    }
   ],
   "source": [
    "binary(6.02214076e23)"
   ]
  },
  {
   "attachments": {},
   "cell_type": "markdown",
   "metadata": {},
   "source": [
    "- Planck's constant: $6.62607004 \\times 10^{-34} \\left[m^2 kg / s\\right]$"
   ]
  },
  {
   "cell_type": "code",
   "execution_count": 30,
   "metadata": {},
   "outputs": [
    {
     "name": "stdout",
     "output_type": "stream",
     "text": [
      " Decimal: 1.720226132656187 x 2^-111\n",
      "  Binary: 1.1011100001100000101111010110010101111011100111100001 x 2^-1101111\n",
      "\n",
      "    Sign: 0 (+)\n",
      "Mantissa: 1011100001100000101111010110010101111011100111100001 (0.720226132656187)\n",
      "Exponent: -1101111 (-111)\n"
     ]
    }
   ],
   "source": [
    "binary(6.62607004e-34)"
   ]
  },
  {
   "cell_type": "markdown",
   "metadata": {},
   "source": [
    "- You get the point, we can represent a wide range of numbers with this format."
   ]
  },
  {
   "attachments": {},
   "cell_type": "markdown",
   "metadata": {},
   "source": [
    "<br><br><br>"
   ]
  },
  {
   "cell_type": "markdown",
   "metadata": {},
   "source": [
    "### Floating Point Standard"
   ]
  },
  {
   "attachments": {},
   "cell_type": "markdown",
   "metadata": {},
   "source": [
    "- One question you might have about the above: how many bits should I use for the mantissa and how many for the exponent?\n",
    "\n",
    "- Well that's already been decided for you in: IEEE Standard for Floating-Point Arithmetic ([IEEE 754](https://en.wikipedia.org/wiki/IEEE_754)) which is what most computers/software use\n",
    "- You'll mostly be using the data types `float64` and `float32`\n",
    "\n",
    "- **Float 64** (also called \"double precision\")\n",
    "\n",
    "  - 1 bit for the overall sign\n",
    "  - 52 bits for the mantissa ([plus 1 implied bit](https://stackoverflow.com/a/18409644))\n",
    "  - 11 bits for the exponent\n",
    "  \n",
    "<img src=\"img/float64.png\" width=\"600\">\n",
    "\n",
    "[image source](https://upload.wikimedia.org/wikipedia/commons/thumb/a/a9/IEEE_754_Double_Floating_Point_Format.svg/1236px-IEEE_754_Double_Floating_Point_Format.svg.png)\n",
    "\n",
    "- **Float 32** (also called \"single precision\")\n",
    "\n",
    "  - 1 bit for the overall sign\n",
    "  - 23 bits for the mantissa (plus 1 implied bit)\n",
    "  - 8 bits for the exponent\n",
    "\n",
    "<img src=\"img/float32.png\" width=\"600\">\n",
    "\n",
    "[image source](https://upload.wikimedia.org/wikipedia/commons/thumb/d/d2/Float_example.svg/1180px-Float_example.svg.png)"
   ]
  },
  {
   "cell_type": "code",
   "execution_count": 31,
   "metadata": {},
   "outputs": [],
   "source": [
    "# ?np.finfo"
   ]
  },
  {
   "cell_type": "code",
   "execution_count": 32,
   "metadata": {},
   "outputs": [
    {
     "data": {
      "text/plain": [
       "finfo(resolution=1e-15, min=-1.7976931348623157e+308, max=1.7976931348623157e+308, dtype=float64)"
      ]
     },
     "execution_count": 32,
     "metadata": {},
     "output_type": "execute_result"
    }
   ],
   "source": [
    "np.finfo(np.float64)"
   ]
  },
  {
   "cell_type": "code",
   "execution_count": 33,
   "metadata": {},
   "outputs": [
    {
     "data": {
      "text/plain": [
       "2.2250738585072014e-308"
      ]
     },
     "execution_count": 33,
     "metadata": {},
     "output_type": "execute_result"
    }
   ],
   "source": [
    "np.finfo(np.float64).tiny"
   ]
  },
  {
   "attachments": {},
   "cell_type": "markdown",
   "metadata": {},
   "source": [
    "<br><br><br>"
   ]
  },
  {
   "attachments": {},
   "cell_type": "markdown",
   "metadata": {},
   "source": [
    "## Rounding Errors and Spacing\n"
   ]
  },
  {
   "attachments": {},
   "cell_type": "markdown",
   "metadata": {},
   "source": [
    "### Rounding Errors"
   ]
  },
  {
   "attachments": {},
   "cell_type": "markdown",
   "metadata": {},
   "source": [
    "- Many fractional numbers can't be represented exactly using binary\n",
    "\n",
    "- **Instead, your computer will round numbers to the closest representable number and we get rounding errors**\n",
    "- For example, 0.1 can't be exactly represented in binary (feel free to try and make 0.1 using binary floating point format).\n",
    "- Python usually hides this fact for us out of convenience:"
   ]
  },
  {
   "cell_type": "code",
   "execution_count": 34,
   "metadata": {},
   "outputs": [
    {
     "data": {
      "text/plain": [
       "0.1"
      ]
     },
     "execution_count": 34,
     "metadata": {},
     "output_type": "execute_result"
    }
   ],
   "source": [
    "0.1"
   ]
  },
  {
   "attachments": {},
   "cell_type": "markdown",
   "metadata": {},
   "source": [
    "but here is what's stored in the memory as 0.1:"
   ]
  },
  {
   "cell_type": "code",
   "execution_count": 35,
   "metadata": {},
   "outputs": [
    {
     "data": {
      "text/plain": [
       "'0.1000000000000000055511151231257827021181583404541015625000000000000000000000000000000000000000000000'"
      ]
     },
     "execution_count": 35,
     "metadata": {},
     "output_type": "execute_result"
    }
   ],
   "source": [
    "f\"{0.1:.100f}\""
   ]
  },
  {
   "attachments": {},
   "cell_type": "markdown",
   "metadata": {},
   "source": [
    "- So 0.1 is actually represented as a number slightly bigger than 0.1\n",
    "\n",
    "- I wrote a function to work out if a number is stored exactly or inexactly, and to show the rounding error:"
   ]
  },
  {
   "cell_type": "code",
   "execution_count": 36,
   "metadata": {},
   "outputs": [
    {
     "name": "stdout",
     "output_type": "stream",
     "text": [
      "You entered: 0.1\n",
      "Which is inexactly stored as: 0.1000000000000000055511151231257827021181583404541015625\n"
     ]
    }
   ],
   "source": [
    "float_rep(0.1)"
   ]
  },
  {
   "cell_type": "code",
   "execution_count": 37,
   "metadata": {},
   "outputs": [
    {
     "name": "stdout",
     "output_type": "stream",
     "text": [
      "You entered: 0.25\n",
      "Which is exactly stored as: 0.25\n"
     ]
    }
   ],
   "source": [
    "float_rep(0.25)"
   ]
  },
  {
   "cell_type": "markdown",
   "metadata": {},
   "source": [
    "- Read more about float representation in the Python docs [here](https://docs.python.org/3/tutorial/floatingpoint.html)."
   ]
  },
  {
   "cell_type": "markdown",
   "metadata": {},
   "source": [
    "The reason why the following returns `False` is none of these numbers are exactly represented. "
   ]
  },
  {
   "cell_type": "code",
   "execution_count": 38,
   "metadata": {},
   "outputs": [
    {
     "data": {
      "text/plain": [
       "False"
      ]
     },
     "execution_count": 38,
     "metadata": {},
     "output_type": "execute_result"
    }
   ],
   "source": [
    "0.1 + 0.2 == 0.3"
   ]
  },
  {
   "cell_type": "code",
   "execution_count": 39,
   "metadata": {},
   "outputs": [
    {
     "name": "stdout",
     "output_type": "stream",
     "text": [
      "You entered: 0.1\n",
      "Which is inexactly stored as: 0.1000000000000000055511151231257827021181583404541015625\n"
     ]
    }
   ],
   "source": [
    "float_rep(0.1)"
   ]
  },
  {
   "cell_type": "code",
   "execution_count": 40,
   "metadata": {},
   "outputs": [
    {
     "name": "stdout",
     "output_type": "stream",
     "text": [
      "You entered: 0.2\n",
      "Which is inexactly stored as: 0.200000000000000011102230246251565404236316680908203125\n"
     ]
    }
   ],
   "source": [
    "float_rep(0.2)"
   ]
  },
  {
   "cell_type": "code",
   "execution_count": 41,
   "metadata": {},
   "outputs": [
    {
     "name": "stdout",
     "output_type": "stream",
     "text": [
      "You entered: 0.3\n",
      "Which is inexactly stored as: 0.29999999999999998889776975374843459576368331909179688\n"
     ]
    }
   ],
   "source": [
    "float_rep(0.3)"
   ]
  },
  {
   "attachments": {},
   "cell_type": "markdown",
   "metadata": {},
   "source": [
    "<br><br><br>"
   ]
  },
  {
   "attachments": {},
   "cell_type": "markdown",
   "metadata": {},
   "source": [
    "### Spacing"
   ]
  },
  {
   "attachments": {},
   "cell_type": "markdown",
   "metadata": {},
   "source": [
    "- So how bad are these rounding errors? Let's find out...\n",
    "\n",
    "- We can quantify the \"spacing\" between representable numbers\n",
    "- Imagine we're in the decimal system again:\n",
    "  - **For a number with a fixed number of significant digits**, the spacing between that number and the next greater number can be determined as the smallest significant digit multiplied by the exponent:"
   ]
  },
  {
   "attachments": {},
   "cell_type": "markdown",
   "metadata": {},
   "source": [
    "|Number| Next greater| Spacing|\n",
    "|---|---|---|\n",
    "|8.982e0| 8.983e0 | 0.001e0 = 0.001|\n",
    "|0.001e1| 0.002e1 | 0.001e1 = 0.01|\n",
    "|3.423e2| 3.424e2 | 0.001e2 = 0.1|"
   ]
  },
  {
   "attachments": {},
   "cell_type": "markdown",
   "metadata": {},
   "source": [
    "- The spacing can be determined as **the smallest part of the mantissa multiplied by a number's exponent**\n",
    "\n",
    "- The same goes for binary. The steps happen at every power of 2 instead of 10, and we have way more digits after the decimal (52 instead of 3), but everything else is pretty much the same.\n",
    "- So the spacing size, as a function of the number itself, is a staircase function:"
   ]
  },
  {
   "cell_type": "code",
   "execution_count": 42,
   "metadata": {},
   "outputs": [
    {
     "data": {
      "image/svg+xml": [
       "<?xml version=\"1.0\" encoding=\"utf-8\" standalone=\"no\"?>\n",
       "<!DOCTYPE svg PUBLIC \"-//W3C//DTD SVG 1.1//EN\"\n",
       "  \"http://www.w3.org/Graphics/SVG/1.1/DTD/svg11.dtd\">\n",
       "<svg xmlns:xlink=\"http://www.w3.org/1999/xlink\" width=\"405.29375pt\" height=\"270.3875pt\" viewBox=\"0 0 405.29375 270.3875\" xmlns=\"http://www.w3.org/2000/svg\" version=\"1.1\">\n",
       " <metadata>\n",
       "  <rdf:RDF xmlns:dc=\"http://purl.org/dc/elements/1.1/\" xmlns:cc=\"http://creativecommons.org/ns#\" xmlns:rdf=\"http://www.w3.org/1999/02/22-rdf-syntax-ns#\">\n",
       "   <cc:Work>\n",
       "    <dc:type rdf:resource=\"http://purl.org/dc/dcmitype/StillImage\"/>\n",
       "    <dc:date>2024-01-23T06:25:08.685155</dc:date>\n",
       "    <dc:format>image/svg+xml</dc:format>\n",
       "    <dc:creator>\n",
       "     <cc:Agent>\n",
       "      <dc:title>Matplotlib v3.8.2, https://matplotlib.org/</dc:title>\n",
       "     </cc:Agent>\n",
       "    </dc:creator>\n",
       "   </cc:Work>\n",
       "  </rdf:RDF>\n",
       " </metadata>\n",
       " <defs>\n",
       "  <style type=\"text/css\">*{stroke-linejoin: round; stroke-linecap: butt}</style>\n",
       " </defs>\n",
       " <g id=\"figure_1\">\n",
       "  <g id=\"patch_1\">\n",
       "   <path d=\"M 0 270.3875 \n",
       "L 405.29375 270.3875 \n",
       "L 405.29375 0 \n",
       "L 0 0 \n",
       "z\n",
       "\" style=\"fill: #ffffff\"/>\n",
       "  </g>\n",
       "  <g id=\"axes_1\">\n",
       "   <g id=\"patch_2\">\n",
       "    <path d=\"M 63.29375 228.96 \n",
       "L 398.09375 228.96 \n",
       "L 398.09375 7.2 \n",
       "L 63.29375 7.2 \n",
       "z\n",
       "\" style=\"fill: #ffffff\"/>\n",
       "   </g>\n",
       "   <g id=\"matplotlib.axis_1\">\n",
       "    <g id=\"xtick_1\">\n",
       "     <g id=\"line2d_1\">\n",
       "      <defs>\n",
       "       <path id=\"m640faf05ac\" d=\"M 0 0 \n",
       "L 0 3.5 \n",
       "\" style=\"stroke: #000000; stroke-width: 0.8\"/>\n",
       "      </defs>\n",
       "      <g>\n",
       "       <use xlink:href=\"#m640faf05ac\" x=\"78.511932\" y=\"228.96\" style=\"stroke: #000000; stroke-width: 0.8\"/>\n",
       "      </g>\n",
       "     </g>\n",
       "     <g id=\"text_1\">\n",
       "      <!-- $\\mathdefault{10^{0}}$ -->\n",
       "      <g transform=\"translate(67.951932 245.078125) scale(0.12 -0.12)\">\n",
       "       <defs>\n",
       "        <path id=\"DejaVuSans-31\" d=\"M 794 531 \n",
       "L 1825 531 \n",
       "L 1825 4091 \n",
       "L 703 3866 \n",
       "L 703 4441 \n",
       "L 1819 4666 \n",
       "L 2450 4666 \n",
       "L 2450 531 \n",
       "L 3481 531 \n",
       "L 3481 0 \n",
       "L 794 0 \n",
       "L 794 531 \n",
       "z\n",
       "\" transform=\"scale(0.015625)\"/>\n",
       "        <path id=\"DejaVuSans-30\" d=\"M 2034 4250 \n",
       "Q 1547 4250 1301 3770 \n",
       "Q 1056 3291 1056 2328 \n",
       "Q 1056 1369 1301 889 \n",
       "Q 1547 409 2034 409 \n",
       "Q 2525 409 2770 889 \n",
       "Q 3016 1369 3016 2328 \n",
       "Q 3016 3291 2770 3770 \n",
       "Q 2525 4250 2034 4250 \n",
       "z\n",
       "M 2034 4750 \n",
       "Q 2819 4750 3233 4129 \n",
       "Q 3647 3509 3647 2328 \n",
       "Q 3647 1150 3233 529 \n",
       "Q 2819 -91 2034 -91 \n",
       "Q 1250 -91 836 529 \n",
       "Q 422 1150 422 2328 \n",
       "Q 422 3509 836 4129 \n",
       "Q 1250 4750 2034 4750 \n",
       "z\n",
       "\" transform=\"scale(0.015625)\"/>\n",
       "       </defs>\n",
       "       <use xlink:href=\"#DejaVuSans-31\" transform=\"translate(0 0.765625)\"/>\n",
       "       <use xlink:href=\"#DejaVuSans-30\" transform=\"translate(63.623047 0.765625)\"/>\n",
       "       <use xlink:href=\"#DejaVuSans-30\" transform=\"translate(128.203125 39.046875) scale(0.7)\"/>\n",
       "      </g>\n",
       "     </g>\n",
       "    </g>\n",
       "    <g id=\"xtick_2\">\n",
       "     <g id=\"line2d_2\">\n",
       "      <g>\n",
       "       <use xlink:href=\"#m640faf05ac\" x=\"139.384659\" y=\"228.96\" style=\"stroke: #000000; stroke-width: 0.8\"/>\n",
       "      </g>\n",
       "     </g>\n",
       "     <g id=\"text_2\">\n",
       "      <!-- $\\mathdefault{10^{1}}$ -->\n",
       "      <g transform=\"translate(128.824659 245.078125) scale(0.12 -0.12)\">\n",
       "       <use xlink:href=\"#DejaVuSans-31\" transform=\"translate(0 0.684375)\"/>\n",
       "       <use xlink:href=\"#DejaVuSans-30\" transform=\"translate(63.623047 0.684375)\"/>\n",
       "       <use xlink:href=\"#DejaVuSans-31\" transform=\"translate(128.203125 38.965625) scale(0.7)\"/>\n",
       "      </g>\n",
       "     </g>\n",
       "    </g>\n",
       "    <g id=\"xtick_3\">\n",
       "     <g id=\"line2d_3\">\n",
       "      <g>\n",
       "       <use xlink:href=\"#m640faf05ac\" x=\"200.257386\" y=\"228.96\" style=\"stroke: #000000; stroke-width: 0.8\"/>\n",
       "      </g>\n",
       "     </g>\n",
       "     <g id=\"text_3\">\n",
       "      <!-- $\\mathdefault{10^{2}}$ -->\n",
       "      <g transform=\"translate(189.697386 245.078125) scale(0.12 -0.12)\">\n",
       "       <defs>\n",
       "        <path id=\"DejaVuSans-32\" d=\"M 1228 531 \n",
       "L 3431 531 \n",
       "L 3431 0 \n",
       "L 469 0 \n",
       "L 469 531 \n",
       "Q 828 903 1448 1529 \n",
       "Q 2069 2156 2228 2338 \n",
       "Q 2531 2678 2651 2914 \n",
       "Q 2772 3150 2772 3378 \n",
       "Q 2772 3750 2511 3984 \n",
       "Q 2250 4219 1831 4219 \n",
       "Q 1534 4219 1204 4116 \n",
       "Q 875 4013 500 3803 \n",
       "L 500 4441 \n",
       "Q 881 4594 1212 4672 \n",
       "Q 1544 4750 1819 4750 \n",
       "Q 2544 4750 2975 4387 \n",
       "Q 3406 4025 3406 3419 \n",
       "Q 3406 3131 3298 2873 \n",
       "Q 3191 2616 2906 2266 \n",
       "Q 2828 2175 2409 1742 \n",
       "Q 1991 1309 1228 531 \n",
       "z\n",
       "\" transform=\"scale(0.015625)\"/>\n",
       "       </defs>\n",
       "       <use xlink:href=\"#DejaVuSans-31\" transform=\"translate(0 0.765625)\"/>\n",
       "       <use xlink:href=\"#DejaVuSans-30\" transform=\"translate(63.623047 0.765625)\"/>\n",
       "       <use xlink:href=\"#DejaVuSans-32\" transform=\"translate(128.203125 39.046875) scale(0.7)\"/>\n",
       "      </g>\n",
       "     </g>\n",
       "    </g>\n",
       "    <g id=\"xtick_4\">\n",
       "     <g id=\"line2d_4\">\n",
       "      <g>\n",
       "       <use xlink:href=\"#m640faf05ac\" x=\"261.130114\" y=\"228.96\" style=\"stroke: #000000; stroke-width: 0.8\"/>\n",
       "      </g>\n",
       "     </g>\n",
       "     <g id=\"text_4\">\n",
       "      <!-- $\\mathdefault{10^{3}}$ -->\n",
       "      <g transform=\"translate(250.570114 245.078125) scale(0.12 -0.12)\">\n",
       "       <defs>\n",
       "        <path id=\"DejaVuSans-33\" d=\"M 2597 2516 \n",
       "Q 3050 2419 3304 2112 \n",
       "Q 3559 1806 3559 1356 \n",
       "Q 3559 666 3084 287 \n",
       "Q 2609 -91 1734 -91 \n",
       "Q 1441 -91 1130 -33 \n",
       "Q 819 25 488 141 \n",
       "L 488 750 \n",
       "Q 750 597 1062 519 \n",
       "Q 1375 441 1716 441 \n",
       "Q 2309 441 2620 675 \n",
       "Q 2931 909 2931 1356 \n",
       "Q 2931 1769 2642 2001 \n",
       "Q 2353 2234 1838 2234 \n",
       "L 1294 2234 \n",
       "L 1294 2753 \n",
       "L 1863 2753 \n",
       "Q 2328 2753 2575 2939 \n",
       "Q 2822 3125 2822 3475 \n",
       "Q 2822 3834 2567 4026 \n",
       "Q 2313 4219 1838 4219 \n",
       "Q 1578 4219 1281 4162 \n",
       "Q 984 4106 628 3988 \n",
       "L 628 4550 \n",
       "Q 988 4650 1302 4700 \n",
       "Q 1616 4750 1894 4750 \n",
       "Q 2613 4750 3031 4423 \n",
       "Q 3450 4097 3450 3541 \n",
       "Q 3450 3153 3228 2886 \n",
       "Q 3006 2619 2597 2516 \n",
       "z\n",
       "\" transform=\"scale(0.015625)\"/>\n",
       "       </defs>\n",
       "       <use xlink:href=\"#DejaVuSans-31\" transform=\"translate(0 0.765625)\"/>\n",
       "       <use xlink:href=\"#DejaVuSans-30\" transform=\"translate(63.623047 0.765625)\"/>\n",
       "       <use xlink:href=\"#DejaVuSans-33\" transform=\"translate(128.203125 39.046875) scale(0.7)\"/>\n",
       "      </g>\n",
       "     </g>\n",
       "    </g>\n",
       "    <g id=\"xtick_5\">\n",
       "     <g id=\"line2d_5\">\n",
       "      <g>\n",
       "       <use xlink:href=\"#m640faf05ac\" x=\"322.002841\" y=\"228.96\" style=\"stroke: #000000; stroke-width: 0.8\"/>\n",
       "      </g>\n",
       "     </g>\n",
       "     <g id=\"text_5\">\n",
       "      <!-- $\\mathdefault{10^{4}}$ -->\n",
       "      <g transform=\"translate(311.442841 245.078125) scale(0.12 -0.12)\">\n",
       "       <defs>\n",
       "        <path id=\"DejaVuSans-34\" d=\"M 2419 4116 \n",
       "L 825 1625 \n",
       "L 2419 1625 \n",
       "L 2419 4116 \n",
       "z\n",
       "M 2253 4666 \n",
       "L 3047 4666 \n",
       "L 3047 1625 \n",
       "L 3713 1625 \n",
       "L 3713 1100 \n",
       "L 3047 1100 \n",
       "L 3047 0 \n",
       "L 2419 0 \n",
       "L 2419 1100 \n",
       "L 313 1100 \n",
       "L 313 1709 \n",
       "L 2253 4666 \n",
       "z\n",
       "\" transform=\"scale(0.015625)\"/>\n",
       "       </defs>\n",
       "       <use xlink:href=\"#DejaVuSans-31\" transform=\"translate(0 0.684375)\"/>\n",
       "       <use xlink:href=\"#DejaVuSans-30\" transform=\"translate(63.623047 0.684375)\"/>\n",
       "       <use xlink:href=\"#DejaVuSans-34\" transform=\"translate(128.203125 38.965625) scale(0.7)\"/>\n",
       "      </g>\n",
       "     </g>\n",
       "    </g>\n",
       "    <g id=\"xtick_6\">\n",
       "     <g id=\"line2d_6\">\n",
       "      <g>\n",
       "       <use xlink:href=\"#m640faf05ac\" x=\"382.875568\" y=\"228.96\" style=\"stroke: #000000; stroke-width: 0.8\"/>\n",
       "      </g>\n",
       "     </g>\n",
       "     <g id=\"text_6\">\n",
       "      <!-- $\\mathdefault{10^{5}}$ -->\n",
       "      <g transform=\"translate(372.315568 245.078125) scale(0.12 -0.12)\">\n",
       "       <defs>\n",
       "        <path id=\"DejaVuSans-35\" d=\"M 691 4666 \n",
       "L 3169 4666 \n",
       "L 3169 4134 \n",
       "L 1269 4134 \n",
       "L 1269 2991 \n",
       "Q 1406 3038 1543 3061 \n",
       "Q 1681 3084 1819 3084 \n",
       "Q 2600 3084 3056 2656 \n",
       "Q 3513 2228 3513 1497 \n",
       "Q 3513 744 3044 326 \n",
       "Q 2575 -91 1722 -91 \n",
       "Q 1428 -91 1123 -41 \n",
       "Q 819 9 494 109 \n",
       "L 494 744 \n",
       "Q 775 591 1075 516 \n",
       "Q 1375 441 1709 441 \n",
       "Q 2250 441 2565 725 \n",
       "Q 2881 1009 2881 1497 \n",
       "Q 2881 1984 2565 2268 \n",
       "Q 2250 2553 1709 2553 \n",
       "Q 1456 2553 1204 2497 \n",
       "Q 953 2441 691 2322 \n",
       "L 691 4666 \n",
       "z\n",
       "\" transform=\"scale(0.015625)\"/>\n",
       "       </defs>\n",
       "       <use xlink:href=\"#DejaVuSans-31\" transform=\"translate(0 0.684375)\"/>\n",
       "       <use xlink:href=\"#DejaVuSans-30\" transform=\"translate(63.623047 0.684375)\"/>\n",
       "       <use xlink:href=\"#DejaVuSans-35\" transform=\"translate(128.203125 38.965625) scale(0.7)\"/>\n",
       "      </g>\n",
       "     </g>\n",
       "    </g>\n",
       "    <g id=\"xtick_7\">\n",
       "     <g id=\"line2d_7\">\n",
       "      <defs>\n",
       "       <path id=\"m385d3427e0\" d=\"M 0 0 \n",
       "L 0 2 \n",
       "\" style=\"stroke: #000000; stroke-width: 0.6\"/>\n",
       "      </defs>\n",
       "      <g>\n",
       "       <use xlink:href=\"#m385d3427e0\" x=\"65.007393\" y=\"228.96\" style=\"stroke: #000000; stroke-width: 0.6\"/>\n",
       "      </g>\n",
       "     </g>\n",
       "    </g>\n",
       "    <g id=\"xtick_8\">\n",
       "     <g id=\"line2d_8\">\n",
       "      <g>\n",
       "       <use xlink:href=\"#m385d3427e0\" x=\"69.082627\" y=\"228.96\" style=\"stroke: #000000; stroke-width: 0.6\"/>\n",
       "      </g>\n",
       "     </g>\n",
       "    </g>\n",
       "    <g id=\"xtick_9\">\n",
       "     <g id=\"line2d_9\">\n",
       "      <g>\n",
       "       <use xlink:href=\"#m385d3427e0\" x=\"72.612755\" y=\"228.96\" style=\"stroke: #000000; stroke-width: 0.6\"/>\n",
       "      </g>\n",
       "     </g>\n",
       "    </g>\n",
       "    <g id=\"xtick_10\">\n",
       "     <g id=\"line2d_10\">\n",
       "      <g>\n",
       "       <use xlink:href=\"#m385d3427e0\" x=\"75.726549\" y=\"228.96\" style=\"stroke: #000000; stroke-width: 0.6\"/>\n",
       "      </g>\n",
       "     </g>\n",
       "    </g>\n",
       "    <g id=\"xtick_11\">\n",
       "     <g id=\"line2d_11\">\n",
       "      <g>\n",
       "       <use xlink:href=\"#m385d3427e0\" x=\"96.836449\" y=\"228.96\" style=\"stroke: #000000; stroke-width: 0.6\"/>\n",
       "      </g>\n",
       "     </g>\n",
       "    </g>\n",
       "    <g id=\"xtick_12\">\n",
       "     <g id=\"line2d_12\">\n",
       "      <g>\n",
       "       <use xlink:href=\"#m385d3427e0\" x=\"107.555604\" y=\"228.96\" style=\"stroke: #000000; stroke-width: 0.6\"/>\n",
       "      </g>\n",
       "     </g>\n",
       "    </g>\n",
       "    <g id=\"xtick_13\">\n",
       "     <g id=\"line2d_13\">\n",
       "      <g>\n",
       "       <use xlink:href=\"#m385d3427e0\" x=\"115.160965\" y=\"228.96\" style=\"stroke: #000000; stroke-width: 0.6\"/>\n",
       "      </g>\n",
       "     </g>\n",
       "    </g>\n",
       "    <g id=\"xtick_14\">\n",
       "     <g id=\"line2d_14\">\n",
       "      <g>\n",
       "       <use xlink:href=\"#m385d3427e0\" x=\"121.060142\" y=\"228.96\" style=\"stroke: #000000; stroke-width: 0.6\"/>\n",
       "      </g>\n",
       "     </g>\n",
       "    </g>\n",
       "    <g id=\"xtick_15\">\n",
       "     <g id=\"line2d_15\">\n",
       "      <g>\n",
       "       <use xlink:href=\"#m385d3427e0\" x=\"125.880121\" y=\"228.96\" style=\"stroke: #000000; stroke-width: 0.6\"/>\n",
       "      </g>\n",
       "     </g>\n",
       "    </g>\n",
       "    <g id=\"xtick_16\">\n",
       "     <g id=\"line2d_16\">\n",
       "      <g>\n",
       "       <use xlink:href=\"#m385d3427e0\" x=\"129.955354\" y=\"228.96\" style=\"stroke: #000000; stroke-width: 0.6\"/>\n",
       "      </g>\n",
       "     </g>\n",
       "    </g>\n",
       "    <g id=\"xtick_17\">\n",
       "     <g id=\"line2d_17\">\n",
       "      <g>\n",
       "       <use xlink:href=\"#m385d3427e0\" x=\"133.485482\" y=\"228.96\" style=\"stroke: #000000; stroke-width: 0.6\"/>\n",
       "      </g>\n",
       "     </g>\n",
       "    </g>\n",
       "    <g id=\"xtick_18\">\n",
       "     <g id=\"line2d_18\">\n",
       "      <g>\n",
       "       <use xlink:href=\"#m385d3427e0\" x=\"136.599276\" y=\"228.96\" style=\"stroke: #000000; stroke-width: 0.6\"/>\n",
       "      </g>\n",
       "     </g>\n",
       "    </g>\n",
       "    <g id=\"xtick_19\">\n",
       "     <g id=\"line2d_19\">\n",
       "      <g>\n",
       "       <use xlink:href=\"#m385d3427e0\" x=\"157.709176\" y=\"228.96\" style=\"stroke: #000000; stroke-width: 0.6\"/>\n",
       "      </g>\n",
       "     </g>\n",
       "    </g>\n",
       "    <g id=\"xtick_20\">\n",
       "     <g id=\"line2d_20\">\n",
       "      <g>\n",
       "       <use xlink:href=\"#m385d3427e0\" x=\"168.428331\" y=\"228.96\" style=\"stroke: #000000; stroke-width: 0.6\"/>\n",
       "      </g>\n",
       "     </g>\n",
       "    </g>\n",
       "    <g id=\"xtick_21\">\n",
       "     <g id=\"line2d_21\">\n",
       "      <g>\n",
       "       <use xlink:href=\"#m385d3427e0\" x=\"176.033693\" y=\"228.96\" style=\"stroke: #000000; stroke-width: 0.6\"/>\n",
       "      </g>\n",
       "     </g>\n",
       "    </g>\n",
       "    <g id=\"xtick_22\">\n",
       "     <g id=\"line2d_22\">\n",
       "      <g>\n",
       "       <use xlink:href=\"#m385d3427e0\" x=\"181.93287\" y=\"228.96\" style=\"stroke: #000000; stroke-width: 0.6\"/>\n",
       "      </g>\n",
       "     </g>\n",
       "    </g>\n",
       "    <g id=\"xtick_23\">\n",
       "     <g id=\"line2d_23\">\n",
       "      <g>\n",
       "       <use xlink:href=\"#m385d3427e0\" x=\"186.752848\" y=\"228.96\" style=\"stroke: #000000; stroke-width: 0.6\"/>\n",
       "      </g>\n",
       "     </g>\n",
       "    </g>\n",
       "    <g id=\"xtick_24\">\n",
       "     <g id=\"line2d_24\">\n",
       "      <g>\n",
       "       <use xlink:href=\"#m385d3427e0\" x=\"190.828082\" y=\"228.96\" style=\"stroke: #000000; stroke-width: 0.6\"/>\n",
       "      </g>\n",
       "     </g>\n",
       "    </g>\n",
       "    <g id=\"xtick_25\">\n",
       "     <g id=\"line2d_25\">\n",
       "      <g>\n",
       "       <use xlink:href=\"#m385d3427e0\" x=\"194.35821\" y=\"228.96\" style=\"stroke: #000000; stroke-width: 0.6\"/>\n",
       "      </g>\n",
       "     </g>\n",
       "    </g>\n",
       "    <g id=\"xtick_26\">\n",
       "     <g id=\"line2d_26\">\n",
       "      <g>\n",
       "       <use xlink:href=\"#m385d3427e0\" x=\"197.472003\" y=\"228.96\" style=\"stroke: #000000; stroke-width: 0.6\"/>\n",
       "      </g>\n",
       "     </g>\n",
       "    </g>\n",
       "    <g id=\"xtick_27\">\n",
       "     <g id=\"line2d_27\">\n",
       "      <g>\n",
       "       <use xlink:href=\"#m385d3427e0\" x=\"218.581903\" y=\"228.96\" style=\"stroke: #000000; stroke-width: 0.6\"/>\n",
       "      </g>\n",
       "     </g>\n",
       "    </g>\n",
       "    <g id=\"xtick_28\">\n",
       "     <g id=\"line2d_28\">\n",
       "      <g>\n",
       "       <use xlink:href=\"#m385d3427e0\" x=\"229.301058\" y=\"228.96\" style=\"stroke: #000000; stroke-width: 0.6\"/>\n",
       "      </g>\n",
       "     </g>\n",
       "    </g>\n",
       "    <g id=\"xtick_29\">\n",
       "     <g id=\"line2d_29\">\n",
       "      <g>\n",
       "       <use xlink:href=\"#m385d3427e0\" x=\"236.90642\" y=\"228.96\" style=\"stroke: #000000; stroke-width: 0.6\"/>\n",
       "      </g>\n",
       "     </g>\n",
       "    </g>\n",
       "    <g id=\"xtick_30\">\n",
       "     <g id=\"line2d_30\">\n",
       "      <g>\n",
       "       <use xlink:href=\"#m385d3427e0\" x=\"242.805597\" y=\"228.96\" style=\"stroke: #000000; stroke-width: 0.6\"/>\n",
       "      </g>\n",
       "     </g>\n",
       "    </g>\n",
       "    <g id=\"xtick_31\">\n",
       "     <g id=\"line2d_31\">\n",
       "      <g>\n",
       "       <use xlink:href=\"#m385d3427e0\" x=\"247.625575\" y=\"228.96\" style=\"stroke: #000000; stroke-width: 0.6\"/>\n",
       "      </g>\n",
       "     </g>\n",
       "    </g>\n",
       "    <g id=\"xtick_32\">\n",
       "     <g id=\"line2d_32\">\n",
       "      <g>\n",
       "       <use xlink:href=\"#m385d3427e0\" x=\"251.700809\" y=\"228.96\" style=\"stroke: #000000; stroke-width: 0.6\"/>\n",
       "      </g>\n",
       "     </g>\n",
       "    </g>\n",
       "    <g id=\"xtick_33\">\n",
       "     <g id=\"line2d_33\">\n",
       "      <g>\n",
       "       <use xlink:href=\"#m385d3427e0\" x=\"255.230937\" y=\"228.96\" style=\"stroke: #000000; stroke-width: 0.6\"/>\n",
       "      </g>\n",
       "     </g>\n",
       "    </g>\n",
       "    <g id=\"xtick_34\">\n",
       "     <g id=\"line2d_34\">\n",
       "      <g>\n",
       "       <use xlink:href=\"#m385d3427e0\" x=\"258.34473\" y=\"228.96\" style=\"stroke: #000000; stroke-width: 0.6\"/>\n",
       "      </g>\n",
       "     </g>\n",
       "    </g>\n",
       "    <g id=\"xtick_35\">\n",
       "     <g id=\"line2d_35\">\n",
       "      <g>\n",
       "       <use xlink:href=\"#m385d3427e0\" x=\"279.45463\" y=\"228.96\" style=\"stroke: #000000; stroke-width: 0.6\"/>\n",
       "      </g>\n",
       "     </g>\n",
       "    </g>\n",
       "    <g id=\"xtick_36\">\n",
       "     <g id=\"line2d_36\">\n",
       "      <g>\n",
       "       <use xlink:href=\"#m385d3427e0\" x=\"290.173786\" y=\"228.96\" style=\"stroke: #000000; stroke-width: 0.6\"/>\n",
       "      </g>\n",
       "     </g>\n",
       "    </g>\n",
       "    <g id=\"xtick_37\">\n",
       "     <g id=\"line2d_37\">\n",
       "      <g>\n",
       "       <use xlink:href=\"#m385d3427e0\" x=\"297.779147\" y=\"228.96\" style=\"stroke: #000000; stroke-width: 0.6\"/>\n",
       "      </g>\n",
       "     </g>\n",
       "    </g>\n",
       "    <g id=\"xtick_38\">\n",
       "     <g id=\"line2d_38\">\n",
       "      <g>\n",
       "       <use xlink:href=\"#m385d3427e0\" x=\"303.678324\" y=\"228.96\" style=\"stroke: #000000; stroke-width: 0.6\"/>\n",
       "      </g>\n",
       "     </g>\n",
       "    </g>\n",
       "    <g id=\"xtick_39\">\n",
       "     <g id=\"line2d_39\">\n",
       "      <g>\n",
       "       <use xlink:href=\"#m385d3427e0\" x=\"308.498302\" y=\"228.96\" style=\"stroke: #000000; stroke-width: 0.6\"/>\n",
       "      </g>\n",
       "     </g>\n",
       "    </g>\n",
       "    <g id=\"xtick_40\">\n",
       "     <g id=\"line2d_40\">\n",
       "      <g>\n",
       "       <use xlink:href=\"#m385d3427e0\" x=\"312.573536\" y=\"228.96\" style=\"stroke: #000000; stroke-width: 0.6\"/>\n",
       "      </g>\n",
       "     </g>\n",
       "    </g>\n",
       "    <g id=\"xtick_41\">\n",
       "     <g id=\"line2d_41\">\n",
       "      <g>\n",
       "       <use xlink:href=\"#m385d3427e0\" x=\"316.103664\" y=\"228.96\" style=\"stroke: #000000; stroke-width: 0.6\"/>\n",
       "      </g>\n",
       "     </g>\n",
       "    </g>\n",
       "    <g id=\"xtick_42\">\n",
       "     <g id=\"line2d_42\">\n",
       "      <g>\n",
       "       <use xlink:href=\"#m385d3427e0\" x=\"319.217458\" y=\"228.96\" style=\"stroke: #000000; stroke-width: 0.6\"/>\n",
       "      </g>\n",
       "     </g>\n",
       "    </g>\n",
       "    <g id=\"xtick_43\">\n",
       "     <g id=\"line2d_43\">\n",
       "      <g>\n",
       "       <use xlink:href=\"#m385d3427e0\" x=\"340.327358\" y=\"228.96\" style=\"stroke: #000000; stroke-width: 0.6\"/>\n",
       "      </g>\n",
       "     </g>\n",
       "    </g>\n",
       "    <g id=\"xtick_44\">\n",
       "     <g id=\"line2d_44\">\n",
       "      <g>\n",
       "       <use xlink:href=\"#m385d3427e0\" x=\"351.046513\" y=\"228.96\" style=\"stroke: #000000; stroke-width: 0.6\"/>\n",
       "      </g>\n",
       "     </g>\n",
       "    </g>\n",
       "    <g id=\"xtick_45\">\n",
       "     <g id=\"line2d_45\">\n",
       "      <g>\n",
       "       <use xlink:href=\"#m385d3427e0\" x=\"358.651875\" y=\"228.96\" style=\"stroke: #000000; stroke-width: 0.6\"/>\n",
       "      </g>\n",
       "     </g>\n",
       "    </g>\n",
       "    <g id=\"xtick_46\">\n",
       "     <g id=\"line2d_46\">\n",
       "      <g>\n",
       "       <use xlink:href=\"#m385d3427e0\" x=\"364.551051\" y=\"228.96\" style=\"stroke: #000000; stroke-width: 0.6\"/>\n",
       "      </g>\n",
       "     </g>\n",
       "    </g>\n",
       "    <g id=\"xtick_47\">\n",
       "     <g id=\"line2d_47\">\n",
       "      <g>\n",
       "       <use xlink:href=\"#m385d3427e0\" x=\"369.37103\" y=\"228.96\" style=\"stroke: #000000; stroke-width: 0.6\"/>\n",
       "      </g>\n",
       "     </g>\n",
       "    </g>\n",
       "    <g id=\"xtick_48\">\n",
       "     <g id=\"line2d_48\">\n",
       "      <g>\n",
       "       <use xlink:href=\"#m385d3427e0\" x=\"373.446263\" y=\"228.96\" style=\"stroke: #000000; stroke-width: 0.6\"/>\n",
       "      </g>\n",
       "     </g>\n",
       "    </g>\n",
       "    <g id=\"xtick_49\">\n",
       "     <g id=\"line2d_49\">\n",
       "      <g>\n",
       "       <use xlink:href=\"#m385d3427e0\" x=\"376.976391\" y=\"228.96\" style=\"stroke: #000000; stroke-width: 0.6\"/>\n",
       "      </g>\n",
       "     </g>\n",
       "    </g>\n",
       "    <g id=\"xtick_50\">\n",
       "     <g id=\"line2d_50\">\n",
       "      <g>\n",
       "       <use xlink:href=\"#m385d3427e0\" x=\"380.090185\" y=\"228.96\" style=\"stroke: #000000; stroke-width: 0.6\"/>\n",
       "      </g>\n",
       "     </g>\n",
       "    </g>\n",
       "    <g id=\"text_7\">\n",
       "     <!-- Number itself -->\n",
       "     <g transform=\"translate(184.505 260.691875) scale(0.12 -0.12)\">\n",
       "      <defs>\n",
       "       <path id=\"DejaVuSans-Bold-4e\" d=\"M 588 4666 \n",
       "L 1931 4666 \n",
       "L 3628 1466 \n",
       "L 3628 4666 \n",
       "L 4769 4666 \n",
       "L 4769 0 \n",
       "L 3425 0 \n",
       "L 1728 3200 \n",
       "L 1728 0 \n",
       "L 588 0 \n",
       "L 588 4666 \n",
       "z\n",
       "\" transform=\"scale(0.015625)\"/>\n",
       "       <path id=\"DejaVuSans-Bold-75\" d=\"M 500 1363 \n",
       "L 500 3500 \n",
       "L 1625 3500 \n",
       "L 1625 3150 \n",
       "Q 1625 2866 1622 2436 \n",
       "Q 1619 2006 1619 1863 \n",
       "Q 1619 1441 1641 1255 \n",
       "Q 1663 1069 1716 984 \n",
       "Q 1784 875 1895 815 \n",
       "Q 2006 756 2150 756 \n",
       "Q 2500 756 2700 1025 \n",
       "Q 2900 1294 2900 1772 \n",
       "L 2900 3500 \n",
       "L 4019 3500 \n",
       "L 4019 0 \n",
       "L 2900 0 \n",
       "L 2900 506 \n",
       "Q 2647 200 2364 54 \n",
       "Q 2081 -91 1741 -91 \n",
       "Q 1134 -91 817 281 \n",
       "Q 500 653 500 1363 \n",
       "z\n",
       "\" transform=\"scale(0.015625)\"/>\n",
       "       <path id=\"DejaVuSans-Bold-6d\" d=\"M 3781 2919 \n",
       "Q 3994 3244 4286 3414 \n",
       "Q 4578 3584 4928 3584 \n",
       "Q 5531 3584 5847 3212 \n",
       "Q 6163 2841 6163 2131 \n",
       "L 6163 0 \n",
       "L 5038 0 \n",
       "L 5038 1825 \n",
       "Q 5041 1866 5042 1909 \n",
       "Q 5044 1953 5044 2034 \n",
       "Q 5044 2406 4934 2573 \n",
       "Q 4825 2741 4581 2741 \n",
       "Q 4263 2741 4089 2478 \n",
       "Q 3916 2216 3909 1719 \n",
       "L 3909 0 \n",
       "L 2784 0 \n",
       "L 2784 1825 \n",
       "Q 2784 2406 2684 2573 \n",
       "Q 2584 2741 2328 2741 \n",
       "Q 2006 2741 1831 2477 \n",
       "Q 1656 2213 1656 1722 \n",
       "L 1656 0 \n",
       "L 531 0 \n",
       "L 531 3500 \n",
       "L 1656 3500 \n",
       "L 1656 2988 \n",
       "Q 1863 3284 2130 3434 \n",
       "Q 2397 3584 2719 3584 \n",
       "Q 3081 3584 3359 3409 \n",
       "Q 3638 3234 3781 2919 \n",
       "z\n",
       "\" transform=\"scale(0.015625)\"/>\n",
       "       <path id=\"DejaVuSans-Bold-62\" d=\"M 2400 722 \n",
       "Q 2759 722 2948 984 \n",
       "Q 3138 1247 3138 1747 \n",
       "Q 3138 2247 2948 2509 \n",
       "Q 2759 2772 2400 2772 \n",
       "Q 2041 2772 1848 2508 \n",
       "Q 1656 2244 1656 1747 \n",
       "Q 1656 1250 1848 986 \n",
       "Q 2041 722 2400 722 \n",
       "z\n",
       "M 1656 2988 \n",
       "Q 1888 3294 2169 3439 \n",
       "Q 2450 3584 2816 3584 \n",
       "Q 3463 3584 3878 3070 \n",
       "Q 4294 2556 4294 1747 \n",
       "Q 4294 938 3878 423 \n",
       "Q 3463 -91 2816 -91 \n",
       "Q 2450 -91 2169 54 \n",
       "Q 1888 200 1656 506 \n",
       "L 1656 0 \n",
       "L 538 0 \n",
       "L 538 4863 \n",
       "L 1656 4863 \n",
       "L 1656 2988 \n",
       "z\n",
       "\" transform=\"scale(0.015625)\"/>\n",
       "       <path id=\"DejaVuSans-Bold-65\" d=\"M 4031 1759 \n",
       "L 4031 1441 \n",
       "L 1416 1441 \n",
       "Q 1456 1047 1700 850 \n",
       "Q 1944 653 2381 653 \n",
       "Q 2734 653 3104 758 \n",
       "Q 3475 863 3866 1075 \n",
       "L 3866 213 \n",
       "Q 3469 63 3072 -14 \n",
       "Q 2675 -91 2278 -91 \n",
       "Q 1328 -91 801 392 \n",
       "Q 275 875 275 1747 \n",
       "Q 275 2603 792 3093 \n",
       "Q 1309 3584 2216 3584 \n",
       "Q 3041 3584 3536 3087 \n",
       "Q 4031 2591 4031 1759 \n",
       "z\n",
       "M 2881 2131 \n",
       "Q 2881 2450 2695 2645 \n",
       "Q 2509 2841 2209 2841 \n",
       "Q 1884 2841 1681 2658 \n",
       "Q 1478 2475 1428 2131 \n",
       "L 2881 2131 \n",
       "z\n",
       "\" transform=\"scale(0.015625)\"/>\n",
       "       <path id=\"DejaVuSans-Bold-72\" d=\"M 3138 2547 \n",
       "Q 2991 2616 2845 2648 \n",
       "Q 2700 2681 2553 2681 \n",
       "Q 2122 2681 1889 2404 \n",
       "Q 1656 2128 1656 1613 \n",
       "L 1656 0 \n",
       "L 538 0 \n",
       "L 538 3500 \n",
       "L 1656 3500 \n",
       "L 1656 2925 \n",
       "Q 1872 3269 2151 3426 \n",
       "Q 2431 3584 2822 3584 \n",
       "Q 2878 3584 2943 3579 \n",
       "Q 3009 3575 3134 3559 \n",
       "L 3138 2547 \n",
       "z\n",
       "\" transform=\"scale(0.015625)\"/>\n",
       "       <path id=\"DejaVuSans-Bold-20\" transform=\"scale(0.015625)\"/>\n",
       "       <path id=\"DejaVuSans-Bold-69\" d=\"M 538 3500 \n",
       "L 1656 3500 \n",
       "L 1656 0 \n",
       "L 538 0 \n",
       "L 538 3500 \n",
       "z\n",
       "M 538 4863 \n",
       "L 1656 4863 \n",
       "L 1656 3950 \n",
       "L 538 3950 \n",
       "L 538 4863 \n",
       "z\n",
       "\" transform=\"scale(0.015625)\"/>\n",
       "       <path id=\"DejaVuSans-Bold-74\" d=\"M 1759 4494 \n",
       "L 1759 3500 \n",
       "L 2913 3500 \n",
       "L 2913 2700 \n",
       "L 1759 2700 \n",
       "L 1759 1216 \n",
       "Q 1759 972 1856 886 \n",
       "Q 1953 800 2241 800 \n",
       "L 2816 800 \n",
       "L 2816 0 \n",
       "L 1856 0 \n",
       "Q 1194 0 917 276 \n",
       "Q 641 553 641 1216 \n",
       "L 641 2700 \n",
       "L 84 2700 \n",
       "L 84 3500 \n",
       "L 641 3500 \n",
       "L 641 4494 \n",
       "L 1759 4494 \n",
       "z\n",
       "\" transform=\"scale(0.015625)\"/>\n",
       "       <path id=\"DejaVuSans-Bold-73\" d=\"M 3272 3391 \n",
       "L 3272 2541 \n",
       "Q 2913 2691 2578 2766 \n",
       "Q 2244 2841 1947 2841 \n",
       "Q 1628 2841 1473 2761 \n",
       "Q 1319 2681 1319 2516 \n",
       "Q 1319 2381 1436 2309 \n",
       "Q 1553 2238 1856 2203 \n",
       "L 2053 2175 \n",
       "Q 2913 2066 3209 1816 \n",
       "Q 3506 1566 3506 1031 \n",
       "Q 3506 472 3093 190 \n",
       "Q 2681 -91 1863 -91 \n",
       "Q 1516 -91 1145 -36 \n",
       "Q 775 19 384 128 \n",
       "L 384 978 \n",
       "Q 719 816 1070 734 \n",
       "Q 1422 653 1784 653 \n",
       "Q 2113 653 2278 743 \n",
       "Q 2444 834 2444 1013 \n",
       "Q 2444 1163 2330 1236 \n",
       "Q 2216 1309 1875 1350 \n",
       "L 1678 1375 \n",
       "Q 931 1469 631 1722 \n",
       "Q 331 1975 331 2491 \n",
       "Q 331 3047 712 3315 \n",
       "Q 1094 3584 1881 3584 \n",
       "Q 2191 3584 2531 3537 \n",
       "Q 2872 3491 3272 3391 \n",
       "z\n",
       "\" transform=\"scale(0.015625)\"/>\n",
       "       <path id=\"DejaVuSans-Bold-6c\" d=\"M 538 4863 \n",
       "L 1656 4863 \n",
       "L 1656 0 \n",
       "L 538 0 \n",
       "L 538 4863 \n",
       "z\n",
       "\" transform=\"scale(0.015625)\"/>\n",
       "       <path id=\"DejaVuSans-Bold-66\" d=\"M 2841 4863 \n",
       "L 2841 4128 \n",
       "L 2222 4128 \n",
       "Q 1984 4128 1890 4042 \n",
       "Q 1797 3956 1797 3744 \n",
       "L 1797 3500 \n",
       "L 2753 3500 \n",
       "L 2753 2700 \n",
       "L 1797 2700 \n",
       "L 1797 0 \n",
       "L 678 0 \n",
       "L 678 2700 \n",
       "L 122 2700 \n",
       "L 122 3500 \n",
       "L 678 3500 \n",
       "L 678 3744 \n",
       "Q 678 4316 997 4589 \n",
       "Q 1316 4863 1984 4863 \n",
       "L 2841 4863 \n",
       "z\n",
       "\" transform=\"scale(0.015625)\"/>\n",
       "      </defs>\n",
       "      <use xlink:href=\"#DejaVuSans-Bold-4e\"/>\n",
       "      <use xlink:href=\"#DejaVuSans-Bold-75\" x=\"83.691406\"/>\n",
       "      <use xlink:href=\"#DejaVuSans-Bold-6d\" x=\"154.882812\"/>\n",
       "      <use xlink:href=\"#DejaVuSans-Bold-62\" x=\"259.082031\"/>\n",
       "      <use xlink:href=\"#DejaVuSans-Bold-65\" x=\"330.664062\"/>\n",
       "      <use xlink:href=\"#DejaVuSans-Bold-72\" x=\"398.486328\"/>\n",
       "      <use xlink:href=\"#DejaVuSans-Bold-20\" x=\"447.802734\"/>\n",
       "      <use xlink:href=\"#DejaVuSans-Bold-69\" x=\"482.617188\"/>\n",
       "      <use xlink:href=\"#DejaVuSans-Bold-74\" x=\"516.894531\"/>\n",
       "      <use xlink:href=\"#DejaVuSans-Bold-73\" x=\"564.697266\"/>\n",
       "      <use xlink:href=\"#DejaVuSans-Bold-65\" x=\"624.21875\"/>\n",
       "      <use xlink:href=\"#DejaVuSans-Bold-6c\" x=\"692.041016\"/>\n",
       "      <use xlink:href=\"#DejaVuSans-Bold-66\" x=\"726.318359\"/>\n",
       "     </g>\n",
       "    </g>\n",
       "   </g>\n",
       "   <g id=\"matplotlib.axis_2\">\n",
       "    <g id=\"ytick_1\">\n",
       "     <g id=\"line2d_51\">\n",
       "      <defs>\n",
       "       <path id=\"m6fc258be34\" d=\"M 0 0 \n",
       "L -3.5 0 \n",
       "\" style=\"stroke: #000000; stroke-width: 0.8\"/>\n",
       "      </defs>\n",
       "      <g>\n",
       "       <use xlink:href=\"#m6fc258be34\" x=\"63.29375\" y=\"191.52441\" style=\"stroke: #000000; stroke-width: 0.8\"/>\n",
       "      </g>\n",
       "     </g>\n",
       "     <g id=\"text_8\">\n",
       "      <!-- $\\mathdefault{10^{-15}}$ -->\n",
       "      <g transform=\"translate(22.81375 196.083472) scale(0.12 -0.12)\">\n",
       "       <defs>\n",
       "        <path id=\"DejaVuSans-2212\" d=\"M 678 2272 \n",
       "L 4684 2272 \n",
       "L 4684 1741 \n",
       "L 678 1741 \n",
       "L 678 2272 \n",
       "z\n",
       "\" transform=\"scale(0.015625)\"/>\n",
       "       </defs>\n",
       "       <use xlink:href=\"#DejaVuSans-31\" transform=\"translate(0 0.684375)\"/>\n",
       "       <use xlink:href=\"#DejaVuSans-30\" transform=\"translate(63.623047 0.684375)\"/>\n",
       "       <use xlink:href=\"#DejaVuSans-2212\" transform=\"translate(128.203125 38.965625) scale(0.7)\"/>\n",
       "       <use xlink:href=\"#DejaVuSans-31\" transform=\"translate(186.855469 38.965625) scale(0.7)\"/>\n",
       "       <use xlink:href=\"#DejaVuSans-35\" transform=\"translate(231.391602 38.965625) scale(0.7)\"/>\n",
       "      </g>\n",
       "     </g>\n",
       "    </g>\n",
       "    <g id=\"ytick_2\">\n",
       "     <g id=\"line2d_52\">\n",
       "      <g>\n",
       "       <use xlink:href=\"#m6fc258be34\" x=\"63.29375\" y=\"149.668116\" style=\"stroke: #000000; stroke-width: 0.8\"/>\n",
       "      </g>\n",
       "     </g>\n",
       "     <g id=\"text_9\">\n",
       "      <!-- $\\mathdefault{10^{-14}}$ -->\n",
       "      <g transform=\"translate(22.81375 154.227178) scale(0.12 -0.12)\">\n",
       "       <use xlink:href=\"#DejaVuSans-31\" transform=\"translate(0 0.684375)\"/>\n",
       "       <use xlink:href=\"#DejaVuSans-30\" transform=\"translate(63.623047 0.684375)\"/>\n",
       "       <use xlink:href=\"#DejaVuSans-2212\" transform=\"translate(128.203125 38.965625) scale(0.7)\"/>\n",
       "       <use xlink:href=\"#DejaVuSans-31\" transform=\"translate(186.855469 38.965625) scale(0.7)\"/>\n",
       "       <use xlink:href=\"#DejaVuSans-34\" transform=\"translate(231.391602 38.965625) scale(0.7)\"/>\n",
       "      </g>\n",
       "     </g>\n",
       "    </g>\n",
       "    <g id=\"ytick_3\">\n",
       "     <g id=\"line2d_53\">\n",
       "      <g>\n",
       "       <use xlink:href=\"#m6fc258be34\" x=\"63.29375\" y=\"107.811822\" style=\"stroke: #000000; stroke-width: 0.8\"/>\n",
       "      </g>\n",
       "     </g>\n",
       "     <g id=\"text_10\">\n",
       "      <!-- $\\mathdefault{10^{-13}}$ -->\n",
       "      <g transform=\"translate(22.81375 112.370884) scale(0.12 -0.12)\">\n",
       "       <use xlink:href=\"#DejaVuSans-31\" transform=\"translate(0 0.765625)\"/>\n",
       "       <use xlink:href=\"#DejaVuSans-30\" transform=\"translate(63.623047 0.765625)\"/>\n",
       "       <use xlink:href=\"#DejaVuSans-2212\" transform=\"translate(128.203125 39.046875) scale(0.7)\"/>\n",
       "       <use xlink:href=\"#DejaVuSans-31\" transform=\"translate(186.855469 39.046875) scale(0.7)\"/>\n",
       "       <use xlink:href=\"#DejaVuSans-33\" transform=\"translate(231.391602 39.046875) scale(0.7)\"/>\n",
       "      </g>\n",
       "     </g>\n",
       "    </g>\n",
       "    <g id=\"ytick_4\">\n",
       "     <g id=\"line2d_54\">\n",
       "      <g>\n",
       "       <use xlink:href=\"#m6fc258be34\" x=\"63.29375\" y=\"65.955528\" style=\"stroke: #000000; stroke-width: 0.8\"/>\n",
       "      </g>\n",
       "     </g>\n",
       "     <g id=\"text_11\">\n",
       "      <!-- $\\mathdefault{10^{-12}}$ -->\n",
       "      <g transform=\"translate(22.81375 70.51459) scale(0.12 -0.12)\">\n",
       "       <use xlink:href=\"#DejaVuSans-31\" transform=\"translate(0 0.765625)\"/>\n",
       "       <use xlink:href=\"#DejaVuSans-30\" transform=\"translate(63.623047 0.765625)\"/>\n",
       "       <use xlink:href=\"#DejaVuSans-2212\" transform=\"translate(128.203125 39.046875) scale(0.7)\"/>\n",
       "       <use xlink:href=\"#DejaVuSans-31\" transform=\"translate(186.855469 39.046875) scale(0.7)\"/>\n",
       "       <use xlink:href=\"#DejaVuSans-32\" transform=\"translate(231.391602 39.046875) scale(0.7)\"/>\n",
       "      </g>\n",
       "     </g>\n",
       "    </g>\n",
       "    <g id=\"ytick_5\">\n",
       "     <g id=\"line2d_55\">\n",
       "      <g>\n",
       "       <use xlink:href=\"#m6fc258be34\" x=\"63.29375\" y=\"24.099234\" style=\"stroke: #000000; stroke-width: 0.8\"/>\n",
       "      </g>\n",
       "     </g>\n",
       "     <g id=\"text_12\">\n",
       "      <!-- $\\mathdefault{10^{-11}}$ -->\n",
       "      <g transform=\"translate(22.81375 28.658296) scale(0.12 -0.12)\">\n",
       "       <use xlink:href=\"#DejaVuSans-31\" transform=\"translate(0 0.684375)\"/>\n",
       "       <use xlink:href=\"#DejaVuSans-30\" transform=\"translate(63.623047 0.684375)\"/>\n",
       "       <use xlink:href=\"#DejaVuSans-2212\" transform=\"translate(128.203125 38.965625) scale(0.7)\"/>\n",
       "       <use xlink:href=\"#DejaVuSans-31\" transform=\"translate(186.855469 38.965625) scale(0.7)\"/>\n",
       "       <use xlink:href=\"#DejaVuSans-31\" transform=\"translate(231.391602 38.965625) scale(0.7)\"/>\n",
       "      </g>\n",
       "     </g>\n",
       "    </g>\n",
       "    <g id=\"ytick_6\">\n",
       "     <g id=\"line2d_56\">\n",
       "      <defs>\n",
       "       <path id=\"mb8b2fc6b96\" d=\"M 0 0 \n",
       "L -2 0 \n",
       "\" style=\"stroke: #000000; stroke-width: 0.6\"/>\n",
       "      </defs>\n",
       "      <g>\n",
       "       <use xlink:href=\"#mb8b2fc6b96\" x=\"63.29375\" y=\"220.780704\" style=\"stroke: #000000; stroke-width: 0.6\"/>\n",
       "      </g>\n",
       "     </g>\n",
       "    </g>\n",
       "    <g id=\"ytick_7\">\n",
       "     <g id=\"line2d_57\">\n",
       "      <g>\n",
       "       <use xlink:href=\"#mb8b2fc6b96\" x=\"63.29375\" y=\"213.410176\" style=\"stroke: #000000; stroke-width: 0.6\"/>\n",
       "      </g>\n",
       "     </g>\n",
       "    </g>\n",
       "    <g id=\"ytick_8\">\n",
       "     <g id=\"line2d_58\">\n",
       "      <g>\n",
       "       <use xlink:href=\"#mb8b2fc6b96\" x=\"63.29375\" y=\"208.180704\" style=\"stroke: #000000; stroke-width: 0.6\"/>\n",
       "      </g>\n",
       "     </g>\n",
       "    </g>\n",
       "    <g id=\"ytick_9\">\n",
       "     <g id=\"line2d_59\">\n",
       "      <g>\n",
       "       <use xlink:href=\"#mb8b2fc6b96\" x=\"63.29375\" y=\"204.12441\" style=\"stroke: #000000; stroke-width: 0.6\"/>\n",
       "      </g>\n",
       "     </g>\n",
       "    </g>\n",
       "    <g id=\"ytick_10\">\n",
       "     <g id=\"line2d_60\">\n",
       "      <g>\n",
       "       <use xlink:href=\"#mb8b2fc6b96\" x=\"63.29375\" y=\"200.810176\" style=\"stroke: #000000; stroke-width: 0.6\"/>\n",
       "      </g>\n",
       "     </g>\n",
       "    </g>\n",
       "    <g id=\"ytick_11\">\n",
       "     <g id=\"line2d_61\">\n",
       "      <g>\n",
       "       <use xlink:href=\"#mb8b2fc6b96\" x=\"63.29375\" y=\"198.008032\" style=\"stroke: #000000; stroke-width: 0.6\"/>\n",
       "      </g>\n",
       "     </g>\n",
       "    </g>\n",
       "    <g id=\"ytick_12\">\n",
       "     <g id=\"line2d_62\">\n",
       "      <g>\n",
       "       <use xlink:href=\"#mb8b2fc6b96\" x=\"63.29375\" y=\"195.580704\" style=\"stroke: #000000; stroke-width: 0.6\"/>\n",
       "      </g>\n",
       "     </g>\n",
       "    </g>\n",
       "    <g id=\"ytick_13\">\n",
       "     <g id=\"line2d_63\">\n",
       "      <g>\n",
       "       <use xlink:href=\"#mb8b2fc6b96\" x=\"63.29375\" y=\"193.439649\" style=\"stroke: #000000; stroke-width: 0.6\"/>\n",
       "      </g>\n",
       "     </g>\n",
       "    </g>\n",
       "    <g id=\"ytick_14\">\n",
       "     <g id=\"line2d_64\">\n",
       "      <g>\n",
       "       <use xlink:href=\"#mb8b2fc6b96\" x=\"63.29375\" y=\"178.92441\" style=\"stroke: #000000; stroke-width: 0.6\"/>\n",
       "      </g>\n",
       "     </g>\n",
       "    </g>\n",
       "    <g id=\"ytick_15\">\n",
       "     <g id=\"line2d_65\">\n",
       "      <g>\n",
       "       <use xlink:href=\"#mb8b2fc6b96\" x=\"63.29375\" y=\"171.553882\" style=\"stroke: #000000; stroke-width: 0.6\"/>\n",
       "      </g>\n",
       "     </g>\n",
       "    </g>\n",
       "    <g id=\"ytick_16\">\n",
       "     <g id=\"line2d_66\">\n",
       "      <g>\n",
       "       <use xlink:href=\"#mb8b2fc6b96\" x=\"63.29375\" y=\"166.32441\" style=\"stroke: #000000; stroke-width: 0.6\"/>\n",
       "      </g>\n",
       "     </g>\n",
       "    </g>\n",
       "    <g id=\"ytick_17\">\n",
       "     <g id=\"line2d_67\">\n",
       "      <g>\n",
       "       <use xlink:href=\"#mb8b2fc6b96\" x=\"63.29375\" y=\"162.268116\" style=\"stroke: #000000; stroke-width: 0.6\"/>\n",
       "      </g>\n",
       "     </g>\n",
       "    </g>\n",
       "    <g id=\"ytick_18\">\n",
       "     <g id=\"line2d_68\">\n",
       "      <g>\n",
       "       <use xlink:href=\"#mb8b2fc6b96\" x=\"63.29375\" y=\"158.953882\" style=\"stroke: #000000; stroke-width: 0.6\"/>\n",
       "      </g>\n",
       "     </g>\n",
       "    </g>\n",
       "    <g id=\"ytick_19\">\n",
       "     <g id=\"line2d_69\">\n",
       "      <g>\n",
       "       <use xlink:href=\"#mb8b2fc6b96\" x=\"63.29375\" y=\"156.151738\" style=\"stroke: #000000; stroke-width: 0.6\"/>\n",
       "      </g>\n",
       "     </g>\n",
       "    </g>\n",
       "    <g id=\"ytick_20\">\n",
       "     <g id=\"line2d_70\">\n",
       "      <g>\n",
       "       <use xlink:href=\"#mb8b2fc6b96\" x=\"63.29375\" y=\"153.72441\" style=\"stroke: #000000; stroke-width: 0.6\"/>\n",
       "      </g>\n",
       "     </g>\n",
       "    </g>\n",
       "    <g id=\"ytick_21\">\n",
       "     <g id=\"line2d_71\">\n",
       "      <g>\n",
       "       <use xlink:href=\"#mb8b2fc6b96\" x=\"63.29375\" y=\"151.583355\" style=\"stroke: #000000; stroke-width: 0.6\"/>\n",
       "      </g>\n",
       "     </g>\n",
       "    </g>\n",
       "    <g id=\"ytick_22\">\n",
       "     <g id=\"line2d_72\">\n",
       "      <g>\n",
       "       <use xlink:href=\"#mb8b2fc6b96\" x=\"63.29375\" y=\"137.068116\" style=\"stroke: #000000; stroke-width: 0.6\"/>\n",
       "      </g>\n",
       "     </g>\n",
       "    </g>\n",
       "    <g id=\"ytick_23\">\n",
       "     <g id=\"line2d_73\">\n",
       "      <g>\n",
       "       <use xlink:href=\"#mb8b2fc6b96\" x=\"63.29375\" y=\"129.697588\" style=\"stroke: #000000; stroke-width: 0.6\"/>\n",
       "      </g>\n",
       "     </g>\n",
       "    </g>\n",
       "    <g id=\"ytick_24\">\n",
       "     <g id=\"line2d_74\">\n",
       "      <g>\n",
       "       <use xlink:href=\"#mb8b2fc6b96\" x=\"63.29375\" y=\"124.468116\" style=\"stroke: #000000; stroke-width: 0.6\"/>\n",
       "      </g>\n",
       "     </g>\n",
       "    </g>\n",
       "    <g id=\"ytick_25\">\n",
       "     <g id=\"line2d_75\">\n",
       "      <g>\n",
       "       <use xlink:href=\"#mb8b2fc6b96\" x=\"63.29375\" y=\"120.411822\" style=\"stroke: #000000; stroke-width: 0.6\"/>\n",
       "      </g>\n",
       "     </g>\n",
       "    </g>\n",
       "    <g id=\"ytick_26\">\n",
       "     <g id=\"line2d_76\">\n",
       "      <g>\n",
       "       <use xlink:href=\"#mb8b2fc6b96\" x=\"63.29375\" y=\"117.097588\" style=\"stroke: #000000; stroke-width: 0.6\"/>\n",
       "      </g>\n",
       "     </g>\n",
       "    </g>\n",
       "    <g id=\"ytick_27\">\n",
       "     <g id=\"line2d_77\">\n",
       "      <g>\n",
       "       <use xlink:href=\"#mb8b2fc6b96\" x=\"63.29375\" y=\"114.295444\" style=\"stroke: #000000; stroke-width: 0.6\"/>\n",
       "      </g>\n",
       "     </g>\n",
       "    </g>\n",
       "    <g id=\"ytick_28\">\n",
       "     <g id=\"line2d_78\">\n",
       "      <g>\n",
       "       <use xlink:href=\"#mb8b2fc6b96\" x=\"63.29375\" y=\"111.868116\" style=\"stroke: #000000; stroke-width: 0.6\"/>\n",
       "      </g>\n",
       "     </g>\n",
       "    </g>\n",
       "    <g id=\"ytick_29\">\n",
       "     <g id=\"line2d_79\">\n",
       "      <g>\n",
       "       <use xlink:href=\"#mb8b2fc6b96\" x=\"63.29375\" y=\"109.727061\" style=\"stroke: #000000; stroke-width: 0.6\"/>\n",
       "      </g>\n",
       "     </g>\n",
       "    </g>\n",
       "    <g id=\"ytick_30\">\n",
       "     <g id=\"line2d_80\">\n",
       "      <g>\n",
       "       <use xlink:href=\"#mb8b2fc6b96\" x=\"63.29375\" y=\"95.211822\" style=\"stroke: #000000; stroke-width: 0.6\"/>\n",
       "      </g>\n",
       "     </g>\n",
       "    </g>\n",
       "    <g id=\"ytick_31\">\n",
       "     <g id=\"line2d_81\">\n",
       "      <g>\n",
       "       <use xlink:href=\"#mb8b2fc6b96\" x=\"63.29375\" y=\"87.841294\" style=\"stroke: #000000; stroke-width: 0.6\"/>\n",
       "      </g>\n",
       "     </g>\n",
       "    </g>\n",
       "    <g id=\"ytick_32\">\n",
       "     <g id=\"line2d_82\">\n",
       "      <g>\n",
       "       <use xlink:href=\"#mb8b2fc6b96\" x=\"63.29375\" y=\"82.611822\" style=\"stroke: #000000; stroke-width: 0.6\"/>\n",
       "      </g>\n",
       "     </g>\n",
       "    </g>\n",
       "    <g id=\"ytick_33\">\n",
       "     <g id=\"line2d_83\">\n",
       "      <g>\n",
       "       <use xlink:href=\"#mb8b2fc6b96\" x=\"63.29375\" y=\"78.555528\" style=\"stroke: #000000; stroke-width: 0.6\"/>\n",
       "      </g>\n",
       "     </g>\n",
       "    </g>\n",
       "    <g id=\"ytick_34\">\n",
       "     <g id=\"line2d_84\">\n",
       "      <g>\n",
       "       <use xlink:href=\"#mb8b2fc6b96\" x=\"63.29375\" y=\"75.241294\" style=\"stroke: #000000; stroke-width: 0.6\"/>\n",
       "      </g>\n",
       "     </g>\n",
       "    </g>\n",
       "    <g id=\"ytick_35\">\n",
       "     <g id=\"line2d_85\">\n",
       "      <g>\n",
       "       <use xlink:href=\"#mb8b2fc6b96\" x=\"63.29375\" y=\"72.43915\" style=\"stroke: #000000; stroke-width: 0.6\"/>\n",
       "      </g>\n",
       "     </g>\n",
       "    </g>\n",
       "    <g id=\"ytick_36\">\n",
       "     <g id=\"line2d_86\">\n",
       "      <g>\n",
       "       <use xlink:href=\"#mb8b2fc6b96\" x=\"63.29375\" y=\"70.011822\" style=\"stroke: #000000; stroke-width: 0.6\"/>\n",
       "      </g>\n",
       "     </g>\n",
       "    </g>\n",
       "    <g id=\"ytick_37\">\n",
       "     <g id=\"line2d_87\">\n",
       "      <g>\n",
       "       <use xlink:href=\"#mb8b2fc6b96\" x=\"63.29375\" y=\"67.870767\" style=\"stroke: #000000; stroke-width: 0.6\"/>\n",
       "      </g>\n",
       "     </g>\n",
       "    </g>\n",
       "    <g id=\"ytick_38\">\n",
       "     <g id=\"line2d_88\">\n",
       "      <g>\n",
       "       <use xlink:href=\"#mb8b2fc6b96\" x=\"63.29375\" y=\"53.355528\" style=\"stroke: #000000; stroke-width: 0.6\"/>\n",
       "      </g>\n",
       "     </g>\n",
       "    </g>\n",
       "    <g id=\"ytick_39\">\n",
       "     <g id=\"line2d_89\">\n",
       "      <g>\n",
       "       <use xlink:href=\"#mb8b2fc6b96\" x=\"63.29375\" y=\"45.985\" style=\"stroke: #000000; stroke-width: 0.6\"/>\n",
       "      </g>\n",
       "     </g>\n",
       "    </g>\n",
       "    <g id=\"ytick_40\">\n",
       "     <g id=\"line2d_90\">\n",
       "      <g>\n",
       "       <use xlink:href=\"#mb8b2fc6b96\" x=\"63.29375\" y=\"40.755528\" style=\"stroke: #000000; stroke-width: 0.6\"/>\n",
       "      </g>\n",
       "     </g>\n",
       "    </g>\n",
       "    <g id=\"ytick_41\">\n",
       "     <g id=\"line2d_91\">\n",
       "      <g>\n",
       "       <use xlink:href=\"#mb8b2fc6b96\" x=\"63.29375\" y=\"36.699234\" style=\"stroke: #000000; stroke-width: 0.6\"/>\n",
       "      </g>\n",
       "     </g>\n",
       "    </g>\n",
       "    <g id=\"ytick_42\">\n",
       "     <g id=\"line2d_92\">\n",
       "      <g>\n",
       "       <use xlink:href=\"#mb8b2fc6b96\" x=\"63.29375\" y=\"33.385\" style=\"stroke: #000000; stroke-width: 0.6\"/>\n",
       "      </g>\n",
       "     </g>\n",
       "    </g>\n",
       "    <g id=\"ytick_43\">\n",
       "     <g id=\"line2d_93\">\n",
       "      <g>\n",
       "       <use xlink:href=\"#mb8b2fc6b96\" x=\"63.29375\" y=\"30.582856\" style=\"stroke: #000000; stroke-width: 0.6\"/>\n",
       "      </g>\n",
       "     </g>\n",
       "    </g>\n",
       "    <g id=\"ytick_44\">\n",
       "     <g id=\"line2d_94\">\n",
       "      <g>\n",
       "       <use xlink:href=\"#mb8b2fc6b96\" x=\"63.29375\" y=\"28.155528\" style=\"stroke: #000000; stroke-width: 0.6\"/>\n",
       "      </g>\n",
       "     </g>\n",
       "    </g>\n",
       "    <g id=\"ytick_45\">\n",
       "     <g id=\"line2d_95\">\n",
       "      <g>\n",
       "       <use xlink:href=\"#mb8b2fc6b96\" x=\"63.29375\" y=\"26.014473\" style=\"stroke: #000000; stroke-width: 0.6\"/>\n",
       "      </g>\n",
       "     </g>\n",
       "    </g>\n",
       "    <g id=\"ytick_46\">\n",
       "     <g id=\"line2d_96\">\n",
       "      <g>\n",
       "       <use xlink:href=\"#mb8b2fc6b96\" x=\"63.29375\" y=\"11.499234\" style=\"stroke: #000000; stroke-width: 0.6\"/>\n",
       "      </g>\n",
       "     </g>\n",
       "    </g>\n",
       "    <g id=\"text_13\">\n",
       "     <!-- Gap to the next number -->\n",
       "     <g transform=\"translate(16.318125 199.09875) rotate(-90) scale(0.12 -0.12)\">\n",
       "      <defs>\n",
       "       <path id=\"DejaVuSans-Bold-47\" d=\"M 4781 347 \n",
       "Q 4331 128 3847 18 \n",
       "Q 3363 -91 2847 -91 \n",
       "Q 1681 -91 1000 561 \n",
       "Q 319 1213 319 2328 \n",
       "Q 319 3456 1012 4103 \n",
       "Q 1706 4750 2913 4750 \n",
       "Q 3378 4750 3804 4662 \n",
       "Q 4231 4575 4609 4403 \n",
       "L 4609 3438 \n",
       "Q 4219 3659 3833 3768 \n",
       "Q 3447 3878 3059 3878 \n",
       "Q 2341 3878 1952 3476 \n",
       "Q 1563 3075 1563 2328 \n",
       "Q 1563 1588 1938 1184 \n",
       "Q 2313 781 3003 781 \n",
       "Q 3191 781 3352 804 \n",
       "Q 3513 828 3641 878 \n",
       "L 3641 1784 \n",
       "L 2906 1784 \n",
       "L 2906 2591 \n",
       "L 4781 2591 \n",
       "L 4781 347 \n",
       "z\n",
       "\" transform=\"scale(0.015625)\"/>\n",
       "       <path id=\"DejaVuSans-Bold-61\" d=\"M 2106 1575 \n",
       "Q 1756 1575 1579 1456 \n",
       "Q 1403 1338 1403 1106 \n",
       "Q 1403 894 1545 773 \n",
       "Q 1688 653 1941 653 \n",
       "Q 2256 653 2472 879 \n",
       "Q 2688 1106 2688 1447 \n",
       "L 2688 1575 \n",
       "L 2106 1575 \n",
       "z\n",
       "M 3816 1997 \n",
       "L 3816 0 \n",
       "L 2688 0 \n",
       "L 2688 519 \n",
       "Q 2463 200 2181 54 \n",
       "Q 1900 -91 1497 -91 \n",
       "Q 953 -91 614 226 \n",
       "Q 275 544 275 1050 \n",
       "Q 275 1666 698 1953 \n",
       "Q 1122 2241 2028 2241 \n",
       "L 2688 2241 \n",
       "L 2688 2328 \n",
       "Q 2688 2594 2478 2717 \n",
       "Q 2269 2841 1825 2841 \n",
       "Q 1466 2841 1156 2769 \n",
       "Q 847 2697 581 2553 \n",
       "L 581 3406 \n",
       "Q 941 3494 1303 3539 \n",
       "Q 1666 3584 2028 3584 \n",
       "Q 2975 3584 3395 3211 \n",
       "Q 3816 2838 3816 1997 \n",
       "z\n",
       "\" transform=\"scale(0.015625)\"/>\n",
       "       <path id=\"DejaVuSans-Bold-70\" d=\"M 1656 506 \n",
       "L 1656 -1331 \n",
       "L 538 -1331 \n",
       "L 538 3500 \n",
       "L 1656 3500 \n",
       "L 1656 2988 \n",
       "Q 1888 3294 2169 3439 \n",
       "Q 2450 3584 2816 3584 \n",
       "Q 3463 3584 3878 3070 \n",
       "Q 4294 2556 4294 1747 \n",
       "Q 4294 938 3878 423 \n",
       "Q 3463 -91 2816 -91 \n",
       "Q 2450 -91 2169 54 \n",
       "Q 1888 200 1656 506 \n",
       "z\n",
       "M 2400 2772 \n",
       "Q 2041 2772 1848 2508 \n",
       "Q 1656 2244 1656 1747 \n",
       "Q 1656 1250 1848 986 \n",
       "Q 2041 722 2400 722 \n",
       "Q 2759 722 2948 984 \n",
       "Q 3138 1247 3138 1747 \n",
       "Q 3138 2247 2948 2509 \n",
       "Q 2759 2772 2400 2772 \n",
       "z\n",
       "\" transform=\"scale(0.015625)\"/>\n",
       "       <path id=\"DejaVuSans-Bold-6f\" d=\"M 2203 2784 \n",
       "Q 1831 2784 1636 2517 \n",
       "Q 1441 2250 1441 1747 \n",
       "Q 1441 1244 1636 976 \n",
       "Q 1831 709 2203 709 \n",
       "Q 2569 709 2762 976 \n",
       "Q 2956 1244 2956 1747 \n",
       "Q 2956 2250 2762 2517 \n",
       "Q 2569 2784 2203 2784 \n",
       "z\n",
       "M 2203 3584 \n",
       "Q 3106 3584 3614 3096 \n",
       "Q 4122 2609 4122 1747 \n",
       "Q 4122 884 3614 396 \n",
       "Q 3106 -91 2203 -91 \n",
       "Q 1297 -91 786 396 \n",
       "Q 275 884 275 1747 \n",
       "Q 275 2609 786 3096 \n",
       "Q 1297 3584 2203 3584 \n",
       "z\n",
       "\" transform=\"scale(0.015625)\"/>\n",
       "       <path id=\"DejaVuSans-Bold-68\" d=\"M 4056 2131 \n",
       "L 4056 0 \n",
       "L 2931 0 \n",
       "L 2931 347 \n",
       "L 2931 1625 \n",
       "Q 2931 2084 2911 2256 \n",
       "Q 2891 2428 2841 2509 \n",
       "Q 2775 2619 2662 2680 \n",
       "Q 2550 2741 2406 2741 \n",
       "Q 2056 2741 1856 2470 \n",
       "Q 1656 2200 1656 1722 \n",
       "L 1656 0 \n",
       "L 538 0 \n",
       "L 538 4863 \n",
       "L 1656 4863 \n",
       "L 1656 2988 \n",
       "Q 1909 3294 2193 3439 \n",
       "Q 2478 3584 2822 3584 \n",
       "Q 3428 3584 3742 3212 \n",
       "Q 4056 2841 4056 2131 \n",
       "z\n",
       "\" transform=\"scale(0.015625)\"/>\n",
       "       <path id=\"DejaVuSans-Bold-6e\" d=\"M 4056 2131 \n",
       "L 4056 0 \n",
       "L 2931 0 \n",
       "L 2931 347 \n",
       "L 2931 1631 \n",
       "Q 2931 2084 2911 2256 \n",
       "Q 2891 2428 2841 2509 \n",
       "Q 2775 2619 2662 2680 \n",
       "Q 2550 2741 2406 2741 \n",
       "Q 2056 2741 1856 2470 \n",
       "Q 1656 2200 1656 1722 \n",
       "L 1656 0 \n",
       "L 538 0 \n",
       "L 538 3500 \n",
       "L 1656 3500 \n",
       "L 1656 2988 \n",
       "Q 1909 3294 2193 3439 \n",
       "Q 2478 3584 2822 3584 \n",
       "Q 3428 3584 3742 3212 \n",
       "Q 4056 2841 4056 2131 \n",
       "z\n",
       "\" transform=\"scale(0.015625)\"/>\n",
       "       <path id=\"DejaVuSans-Bold-78\" d=\"M 1422 1791 \n",
       "L 159 3500 \n",
       "L 1344 3500 \n",
       "L 2059 2463 \n",
       "L 2784 3500 \n",
       "L 3969 3500 \n",
       "L 2706 1797 \n",
       "L 4031 0 \n",
       "L 2847 0 \n",
       "L 2059 1106 \n",
       "L 1281 0 \n",
       "L 97 0 \n",
       "L 1422 1791 \n",
       "z\n",
       "\" transform=\"scale(0.015625)\"/>\n",
       "      </defs>\n",
       "      <use xlink:href=\"#DejaVuSans-Bold-47\"/>\n",
       "      <use xlink:href=\"#DejaVuSans-Bold-61\" x=\"82.080078\"/>\n",
       "      <use xlink:href=\"#DejaVuSans-Bold-70\" x=\"149.560547\"/>\n",
       "      <use xlink:href=\"#DejaVuSans-Bold-20\" x=\"221.142578\"/>\n",
       "      <use xlink:href=\"#DejaVuSans-Bold-74\" x=\"255.957031\"/>\n",
       "      <use xlink:href=\"#DejaVuSans-Bold-6f\" x=\"303.759766\"/>\n",
       "      <use xlink:href=\"#DejaVuSans-Bold-20\" x=\"372.460938\"/>\n",
       "      <use xlink:href=\"#DejaVuSans-Bold-74\" x=\"407.275391\"/>\n",
       "      <use xlink:href=\"#DejaVuSans-Bold-68\" x=\"455.078125\"/>\n",
       "      <use xlink:href=\"#DejaVuSans-Bold-65\" x=\"526.269531\"/>\n",
       "      <use xlink:href=\"#DejaVuSans-Bold-20\" x=\"594.091797\"/>\n",
       "      <use xlink:href=\"#DejaVuSans-Bold-6e\" x=\"628.90625\"/>\n",
       "      <use xlink:href=\"#DejaVuSans-Bold-65\" x=\"700.097656\"/>\n",
       "      <use xlink:href=\"#DejaVuSans-Bold-78\" x=\"767.919922\"/>\n",
       "      <use xlink:href=\"#DejaVuSans-Bold-74\" x=\"832.421875\"/>\n",
       "      <use xlink:href=\"#DejaVuSans-Bold-20\" x=\"880.224609\"/>\n",
       "      <use xlink:href=\"#DejaVuSans-Bold-6e\" x=\"915.039062\"/>\n",
       "      <use xlink:href=\"#DejaVuSans-Bold-75\" x=\"986.230469\"/>\n",
       "      <use xlink:href=\"#DejaVuSans-Bold-6d\" x=\"1057.421875\"/>\n",
       "      <use xlink:href=\"#DejaVuSans-Bold-62\" x=\"1161.621094\"/>\n",
       "      <use xlink:href=\"#DejaVuSans-Bold-65\" x=\"1233.203125\"/>\n",
       "      <use xlink:href=\"#DejaVuSans-Bold-72\" x=\"1301.025391\"/>\n",
       "     </g>\n",
       "    </g>\n",
       "   </g>\n",
       "   <g id=\"line2d_97\">\n",
       "    <path d=\"M 78.511932 218.88 \n",
       "L 96.836318 218.88 \n",
       "L 96.968171 206.28 \n",
       "L 115.160769 206.28 \n",
       "L 115.292623 193.68 \n",
       "L 133.485253 193.68 \n",
       "L 133.617107 181.08 \n",
       "L 151.809754 181.08 \n",
       "L 151.925162 168.48 \n",
       "L 170.134262 168.48 \n",
       "L 170.249671 155.88 \n",
       "L 188.458775 155.88 \n",
       "L 188.57007 143.28 \n",
       "L 206.78329 143.28 \n",
       "L 206.894585 130.68 \n",
       "L 225.107806 130.68 \n",
       "L 225.219101 118.08 \n",
       "L 243.432322 118.08 \n",
       "L 243.543617 105.48 \n",
       "L 261.757097 105.48 \n",
       "L 261.868391 92.88 \n",
       "L 280.081613 92.88 \n",
       "L 280.192779 80.28 \n",
       "L 298.40613 80.28 \n",
       "L 298.517296 67.68 \n",
       "L 316.730647 67.68 \n",
       "L 316.84178 55.08 \n",
       "L 335.055164 55.08 \n",
       "L 335.166281 42.48 \n",
       "L 353.379681 42.48 \n",
       "L 353.490798 29.88 \n",
       "L 371.704197 29.88 \n",
       "L 371.815311 17.28 \n",
       "L 382.875568 17.28 \n",
       "L 382.875568 17.28 \n",
       "\" clip-path=\"url(#p89bb90e161)\" style=\"fill: none; stroke: #1f77b4; stroke-width: 1.5; stroke-linecap: square\"/>\n",
       "   </g>\n",
       "   <g id=\"patch_3\">\n",
       "    <path d=\"M 63.29375 228.96 \n",
       "L 63.29375 7.2 \n",
       "\" style=\"fill: none; stroke: #000000; stroke-width: 0.8; stroke-linejoin: miter; stroke-linecap: square\"/>\n",
       "   </g>\n",
       "   <g id=\"patch_4\">\n",
       "    <path d=\"M 398.09375 228.96 \n",
       "L 398.09375 7.2 \n",
       "\" style=\"fill: none; stroke: #000000; stroke-width: 0.8; stroke-linejoin: miter; stroke-linecap: square\"/>\n",
       "   </g>\n",
       "   <g id=\"patch_5\">\n",
       "    <path d=\"M 63.29375 228.96 \n",
       "L 398.09375 228.96 \n",
       "\" style=\"fill: none; stroke: #000000; stroke-width: 0.8; stroke-linejoin: miter; stroke-linecap: square\"/>\n",
       "   </g>\n",
       "   <g id=\"patch_6\">\n",
       "    <path d=\"M 63.29375 7.2 \n",
       "L 398.09375 7.2 \n",
       "\" style=\"fill: none; stroke: #000000; stroke-width: 0.8; stroke-linejoin: miter; stroke-linecap: square\"/>\n",
       "   </g>\n",
       "  </g>\n",
       " </g>\n",
       " <defs>\n",
       "  <clipPath id=\"p89bb90e161\">\n",
       "   <rect x=\"63.29375\" y=\"7.2\" width=\"334.8\" height=\"221.76\"/>\n",
       "  </clipPath>\n",
       " </defs>\n",
       "</svg>\n"
      ],
      "text/plain": [
       "<Figure size 600x400 with 1 Axes>"
      ]
     },
     "metadata": {},
     "output_type": "display_data"
    }
   ],
   "source": [
    "x = np.linspace(1, 100000, 10000000)\n",
    "\n",
    "spacing = (2 ** -52) * 2**np.floor(np.log2(x))\n",
    "plt.loglog(x, spacing)\n",
    "plt.xlabel(\"Number itself\")\n",
    "plt.ylabel(\"Gap to the next number\");"
   ]
  },
  {
   "cell_type": "markdown",
   "metadata": {},
   "source": [
    "- As the **magnitude** of the number increases ($\\uparrow$)\n",
    "    - The **exponent** increases ($\\uparrow$)\n",
    "    - The **spacing** between representable numbers increases ($\\uparrow$)\n",
    "    - The **precision** decreases ($\\downarrow$)"
   ]
  },
  {
   "cell_type": "markdown",
   "metadata": {},
   "source": [
    "- For `float64`, we have 52 explicit bits for the mantissa, therefore the smallest significant digit is $2^{-52}$"
   ]
  },
  {
   "cell_type": "code",
   "execution_count": 43,
   "metadata": {},
   "outputs": [
    {
     "data": {
      "text/plain": [
       "2.220446049250313e-16"
      ]
     },
     "execution_count": 43,
     "metadata": {},
     "output_type": "execute_result"
    }
   ],
   "source": [
    "2 ** -52"
   ]
  },
  {
   "attachments": {},
   "cell_type": "markdown",
   "metadata": {},
   "source": [
    "- Numpy has a helpful function we can use to calculate spacing\n",
    "\n",
    "- `np.nextafter(x1, x2)` returns the next representable floating-point value after `x1` towards `x2`\n",
    "- The next representable number after 1 should be 1 plus the spacing above, let's check:"
   ]
  },
  {
   "cell_type": "code",
   "execution_count": 44,
   "metadata": {},
   "outputs": [
    {
     "data": {
      "text/plain": [
       "1.0000000000000002"
      ]
     },
     "execution_count": 44,
     "metadata": {},
     "output_type": "execute_result"
    }
   ],
   "source": [
    "np.nextafter(1, 2)"
   ]
  },
  {
   "cell_type": "code",
   "execution_count": 45,
   "metadata": {},
   "outputs": [
    {
     "data": {
      "text/plain": [
       "2.220446049250313e-16"
      ]
     },
     "execution_count": 45,
     "metadata": {},
     "output_type": "execute_result"
    }
   ],
   "source": [
    "spacing = np.nextafter(1, 2) - 1\n",
    "spacing"
   ]
  },
  {
   "cell_type": "code",
   "execution_count": 46,
   "metadata": {},
   "outputs": [
    {
     "data": {
      "text/plain": [
       "True"
      ]
     },
     "execution_count": 46,
     "metadata": {},
     "output_type": "execute_result"
    }
   ],
   "source": [
    "spacing == (2 ** -52) * (2**0)"
   ]
  },
  {
   "attachments": {},
   "cell_type": "markdown",
   "metadata": {},
   "source": [
    "- If you do a calculation that puts you somewhere between the **space** of two numbers, the computer will automatically round to the nearest one\n",
    "\n",
    "- I like to think of this as a mountain range in the computer\n",
    "- In the valleys are representable numbers, if a calculation puts us on a mountain side, we'll roll down the mountain to the closest valley\n",
    "- For example, spacing for the number 1 is $2^{-52}$, so if we don't add at least half that, we won't reach the next representable number:"
   ]
  },
  {
   "cell_type": "code",
   "execution_count": 47,
   "metadata": {},
   "outputs": [
    {
     "data": {
      "text/plain": [
       "True"
      ]
     },
     "execution_count": 47,
     "metadata": {},
     "output_type": "execute_result"
    }
   ],
   "source": [
    "1 + 0.4 * spacing == 1  # add less than half the spacing"
   ]
  },
  {
   "cell_type": "markdown",
   "metadata": {},
   "source": [
    "<img src=\"img/fall_left.png\" width=\"500\">"
   ]
  },
  {
   "cell_type": "code",
   "execution_count": 48,
   "metadata": {},
   "outputs": [
    {
     "data": {
      "text/plain": [
       "False"
      ]
     },
     "execution_count": 48,
     "metadata": {},
     "output_type": "execute_result"
    }
   ],
   "source": [
    "1 + 0.6 * spacing == 1 # add a more than half the spacing"
   ]
  },
  {
   "cell_type": "markdown",
   "metadata": {},
   "source": [
    "<img src=\"img/fall_right.png\" width=\"500\">"
   ]
  },
  {
   "attachments": {},
   "cell_type": "markdown",
   "metadata": {},
   "source": [
    "- We're working with pretty small numbers here so you might not be too shocked\n",
    "\n",
    "- But remember, the bigger our exponent, the bigger our rounding errors will be!"
   ]
  },
  {
   "cell_type": "code",
   "execution_count": 49,
   "metadata": {},
   "outputs": [],
   "source": [
    "large_number = 1e25"
   ]
  },
  {
   "cell_type": "code",
   "execution_count": 50,
   "metadata": {},
   "outputs": [
    {
     "name": "stdout",
     "output_type": "stream",
     "text": [
      " Decimal: 1.03397576569128469 x 2^83\n",
      "  Binary: 1.0000100010110010101000101100001010000000001010010001 x 2^1010011\n",
      "\n",
      "    Sign: 0 (+)\n",
      "Mantissa: 0000100010110010101000101100001010000000001010010001 (0.03397576569128469)\n",
      "Exponent: 1010011 (83)\n"
     ]
    }
   ],
   "source": [
    "binary(large_number)"
   ]
  },
  {
   "cell_type": "markdown",
   "metadata": {},
   "source": [
    "- The exponent is 83 so the spacing should be:"
   ]
  },
  {
   "cell_type": "code",
   "execution_count": 51,
   "metadata": {},
   "outputs": [
    {
     "name": "stdout",
     "output_type": "stream",
     "text": [
      "2.14748e+09\n"
     ]
    }
   ],
   "source": [
    "spacing = (2 ** -52) * (2 ** 83)\n",
    "print(f\"{spacing:.5e}\")"
   ]
  },
  {
   "cell_type": "markdown",
   "metadata": {},
   "source": [
    "Or with `np.nextafter`: "
   ]
  },
  {
   "cell_type": "code",
   "execution_count": 52,
   "metadata": {},
   "outputs": [
    {
     "data": {
      "text/plain": [
       "2147483648.0"
      ]
     },
     "execution_count": 52,
     "metadata": {},
     "output_type": "execute_result"
    }
   ],
   "source": [
    "num = 2.0 ** 83\n",
    "spacing = np.nextafter(num, 2.0**84) - num\n",
    "spacing"
   ]
  },
  {
   "cell_type": "markdown",
   "metadata": {},
   "source": [
    "- 1 billion is less than half that spacing, so if we add it to `large_number`, we won't cross the mountain peak, and we'll slide back down into the same valley:"
   ]
  },
  {
   "cell_type": "code",
   "execution_count": 53,
   "metadata": {},
   "outputs": [
    {
     "data": {
      "text/plain": [
       "True"
      ]
     },
     "execution_count": 53,
     "metadata": {},
     "output_type": "execute_result"
    }
   ],
   "source": [
    "one_billion = 1e9\n",
    "1e25 + one_billion == 1e25  # adding a billion didn't change our number!"
   ]
  },
  {
   "cell_type": "markdown",
   "metadata": {},
   "source": [
    "- 2 billion is more than half that spacing, so if we add it to `large_number`, we'll slide into the next valley (representable number):"
   ]
  },
  {
   "cell_type": "code",
   "execution_count": 54,
   "metadata": {},
   "outputs": [
    {
     "data": {
      "text/plain": [
       "False"
      ]
     },
     "execution_count": 54,
     "metadata": {},
     "output_type": "execute_result"
    }
   ],
   "source": [
    "two_billion = 2e9\n",
    "1e25 + two_billion == 1e25  # adding two billion (more than half the spacing) did change our number"
   ]
  },
  {
   "attachments": {},
   "cell_type": "markdown",
   "metadata": {},
   "source": [
    "- Another implication of having a finite number of floating point digits to represent an infinite number system is that two numbers may share the same representation in memory\n",
    "\n",
    "- For example, these are all `True`:"
   ]
  },
  {
   "cell_type": "code",
   "execution_count": 55,
   "metadata": {},
   "outputs": [
    {
     "data": {
      "text/plain": [
       "True"
      ]
     },
     "execution_count": 55,
     "metadata": {},
     "output_type": "execute_result"
    }
   ],
   "source": [
    "0.99999999999999999 == 1"
   ]
  },
  {
   "cell_type": "code",
   "execution_count": 56,
   "metadata": {},
   "outputs": [
    {
     "data": {
      "text/plain": [
       "True"
      ]
     },
     "execution_count": 56,
     "metadata": {},
     "output_type": "execute_result"
    }
   ],
   "source": [
    "1.00000000000000004 == 1"
   ]
  },
  {
   "cell_type": "code",
   "execution_count": 57,
   "metadata": {},
   "outputs": [
    {
     "data": {
      "text/plain": [
       "True"
      ]
     },
     "execution_count": 57,
     "metadata": {},
     "output_type": "execute_result"
    }
   ],
   "source": [
    "1.00000000000000009 == 1"
   ]
  },
  {
   "attachments": {},
   "cell_type": "markdown",
   "metadata": {},
   "source": [
    "- No matter what number you are, if you don't pass over the peak to your left or right, you'll roll back down to the valley\n",
    "\n",
    "- And also remember, the bigger the number, the bigger the spacing/rounding errors"
   ]
  },
  {
   "cell_type": "markdown",
   "metadata": {},
   "source": [
    "<br><br><br><br>"
   ]
  },
  {
   "cell_type": "markdown",
   "metadata": {
    "slideshow": {
     "slide_type": "slide"
    }
   },
   "source": [
    "## ❓❓ Questions for you\n",
    "\n",
    "### Exercise 1.2\n",
    "\n",
    "Now that you know about spacing discuss the reasons for the following."
   ]
  },
  {
   "cell_type": "code",
   "execution_count": 58,
   "metadata": {},
   "outputs": [
    {
     "data": {
      "text/plain": [
       "False"
      ]
     },
     "execution_count": 58,
     "metadata": {},
     "output_type": "execute_result"
    }
   ],
   "source": [
    "0.1 + 0.2 == 0.3 "
   ]
  },
  {
   "cell_type": "code",
   "execution_count": 59,
   "metadata": {},
   "outputs": [
    {
     "data": {
      "text/plain": [
       "True"
      ]
     },
     "execution_count": 59,
     "metadata": {},
     "output_type": "execute_result"
    }
   ],
   "source": [
    "1e16 + 1 == 1e16"
   ]
  },
  {
   "cell_type": "code",
   "execution_count": 60,
   "metadata": {},
   "outputs": [
    {
     "data": {
      "text/plain": [
       "False"
      ]
     },
     "execution_count": 60,
     "metadata": {},
     "output_type": "execute_result"
    }
   ],
   "source": [
    "1e16 + 2.0 == 1e16"
   ]
  },
  {
   "cell_type": "code",
   "execution_count": 61,
   "metadata": {},
   "outputs": [
    {
     "name": "stdout",
     "output_type": "stream",
     "text": [
      " Decimal: 1.11022302462515654 x 2^53\n",
      "  Binary: 1.0001110000110111100100110111111000001 x 2^110101\n",
      "\n",
      "    Sign: 0 (+)\n",
      "Mantissa: 0001110000110111100100110111111000001 (0.11022302462515654)\n",
      "Exponent: 110101 (53)\n"
     ]
    }
   ],
   "source": [
    "binary(1e16)"
   ]
  },
  {
   "cell_type": "code",
   "execution_count": 62,
   "metadata": {},
   "outputs": [
    {
     "data": {
      "text/plain": [
       "'0b10010'"
      ]
     },
     "execution_count": 62,
     "metadata": {},
     "output_type": "execute_result"
    }
   ],
   "source": [
    "bin(18)"
   ]
  },
  {
   "cell_type": "code",
   "execution_count": 63,
   "metadata": {},
   "outputs": [
    {
     "data": {
      "text/plain": [
       "True"
      ]
     },
     "execution_count": 63,
     "metadata": {},
     "output_type": "execute_result"
    }
   ],
   "source": [
    "1e16 + 1.0 + 1.0  == 1e16"
   ]
  },
  {
   "attachments": {},
   "cell_type": "markdown",
   "metadata": {},
   "source": [
    "<br><br><br><br>"
   ]
  },
  {
   "cell_type": "markdown",
   "metadata": {},
   "source": [
    "## More on Floating Points"
   ]
  },
  {
   "cell_type": "markdown",
   "metadata": {},
   "source": [
    "### (OPTIONAL) Floating Point Range"
   ]
  },
  {
   "attachments": {},
   "cell_type": "markdown",
   "metadata": {},
   "source": [
    "Recall that most compute environments you'll encounter will be using IEEE double precision (`float64`), so 52 bits for the mantissa, 11 for the exponent. In order to obtain the range of values for IEEE `float64`, we first need to know that the **exponent** in this standard is expressed differently than we expect. Let's see:"
   ]
  },
  {
   "attachments": {},
   "cell_type": "markdown",
   "metadata": {},
   "source": [
    "<br><br><br>"
   ]
  },
  {
   "attachments": {},
   "cell_type": "markdown",
   "metadata": {},
   "source": [
    "With 11 bits, we would expect the range of representable signed integers to be $-2^{10}$ to $2^{10} - 1$ (i.e. $-1024$ to $+1023$). We learned in previous sections that the two's-complement system avoids having both $-0$ and $+0$, and thus enables us to store one more number instead of one of those signed zeros."
   ]
  },
  {
   "attachments": {},
   "cell_type": "markdown",
   "metadata": {},
   "source": [
    "Instead of the two's-complement system, however, IEEE `float64` numbers use a **biased format** to represent the exponent.\n",
    "\n",
    "This is done to make comparison between two floating-point numbers easier, if the entire bit pattern is taken to be an integer (see [this](https://indepth.dev/posts/1018/the-mechanics-behind-exponent-bias-in-floating-point#advantages-over-two-s-complement) for more info)."
   ]
  },
  {
   "attachments": {},
   "cell_type": "markdown",
   "metadata": {},
   "source": [
    "- In the biased format, **the entire signed exponent is represented as an unsigned integer, with a bias subtracted from it**. With 11 bits, the range of **unsigned** values we can store would be $0$ to $2^{11} - 1$ or $2047$.\n",
    "\n",
    "- With the bias set to $1023$, the range of **signed** values represented by those numbers would be\n",
    "\n",
    "$0 - 1023 = -1023$\n",
    "\n",
    "to\n",
    "\n",
    "$2047 - 1023 = 1024$\n"
   ]
  },
  {
   "attachments": {},
   "cell_type": "markdown",
   "metadata": {},
   "source": [
    "- Two numbers from that range are used for [special cases](https://people.orie.cornell.edu/snp32/orie_6125/ieee754/ieee754.html) (such as subnormal numbers or infinities):\n",
    "\n",
    "  - all 0 bits ($-1023$), and\n",
    "  \n",
    "  - all 1 bits ($+1024$)"
   ]
  },
  {
   "cell_type": "markdown",
   "metadata": {},
   "source": [
    "- Finally, this means that the smallest exponent is $-1022$ and the greatest exponent is $+1023$."
   ]
  },
  {
   "attachments": {},
   "cell_type": "markdown",
   "metadata": {},
   "source": [
    "<br><br><br>"
   ]
  },
  {
   "cell_type": "markdown",
   "metadata": {},
   "source": [
    "- For `float64`, the maximum mantissa can be calculated as the sum of all 52 bits from ($2^{-1}$ to $2^{-52}$):"
   ]
  },
  {
   "cell_type": "code",
   "execution_count": 64,
   "metadata": {},
   "outputs": [
    {
     "data": {
      "text/plain": [
       "0.9999999999999998"
      ]
     },
     "execution_count": 64,
     "metadata": {},
     "output_type": "execute_result"
    }
   ],
   "source": [
    "max_mantissa = (2.0 ** np.arange(-1, -53, -1)).sum()\n",
    "max_mantissa"
   ]
  },
  {
   "cell_type": "markdown",
   "metadata": {},
   "source": [
    "- Therefore the maximum float we can represent is (remember our format is $1.M \\times 2 ^ E$):"
   ]
  },
  {
   "cell_type": "code",
   "execution_count": 65,
   "metadata": {},
   "outputs": [
    {
     "data": {
      "text/plain": [
       "1.7976931348623157e+308"
      ]
     },
     "execution_count": 65,
     "metadata": {},
     "output_type": "execute_result"
    }
   ],
   "source": [
    "(1 + max_mantissa) * 2 ** 1023"
   ]
  },
  {
   "cell_type": "markdown",
   "metadata": {},
   "source": [
    "- Let's confirm using the `numpy` function `np.finfo()`:"
   ]
  },
  {
   "cell_type": "code",
   "execution_count": 66,
   "metadata": {},
   "outputs": [
    {
     "data": {
      "text/plain": [
       "1.7976931348623157e+308"
      ]
     },
     "execution_count": 66,
     "metadata": {},
     "output_type": "execute_result"
    }
   ],
   "source": [
    "np.finfo(np.float64).max"
   ]
  },
  {
   "attachments": {},
   "cell_type": "markdown",
   "metadata": {},
   "source": [
    "- What happens if we try to make a number bigger than this?"
   ]
  },
  {
   "cell_type": "code",
   "execution_count": 67,
   "metadata": {
    "tags": []
   },
   "outputs": [],
   "source": [
    "# 10.0 ** 309"
   ]
  },
  {
   "cell_type": "markdown",
   "metadata": {},
   "source": [
    "- Or in `numpy`, it throws a warning and defaults to `inf`:"
   ]
  },
  {
   "cell_type": "code",
   "execution_count": 68,
   "metadata": {},
   "outputs": [
    {
     "name": "stderr",
     "output_type": "stream",
     "text": [
      "/var/folders/b3/g26r0dcx4b35vf3nk31216hc0000gr/T/ipykernel_16523/1970181666.py:1: RuntimeWarning: overflow encountered in power\n",
      "  np.power(10.0, 309)\n"
     ]
    },
    {
     "data": {
      "text/plain": [
       "inf"
      ]
     },
     "execution_count": 68,
     "metadata": {},
     "output_type": "execute_result"
    }
   ],
   "source": [
    "np.power(10.0, 309)"
   ]
  },
  {
   "cell_type": "markdown",
   "metadata": {},
   "source": [
    "- Now let's do the minimum value:"
   ]
  },
  {
   "cell_type": "code",
   "execution_count": 69,
   "metadata": {},
   "outputs": [
    {
     "data": {
      "text/plain": [
       "2.2250738585072014e-308"
      ]
     },
     "execution_count": 69,
     "metadata": {},
     "output_type": "execute_result"
    }
   ],
   "source": [
    "1.0 * (2 ** -1022)"
   ]
  },
  {
   "cell_type": "markdown",
   "metadata": {},
   "source": [
    "- You don't need to worry about this derivation too much, after all `numpy` can help!"
   ]
  },
  {
   "cell_type": "code",
   "execution_count": 70,
   "metadata": {},
   "outputs": [
    {
     "data": {
      "text/plain": [
       "-1022"
      ]
     },
     "execution_count": 70,
     "metadata": {},
     "output_type": "execute_result"
    }
   ],
   "source": [
    "np.finfo(np.float64).minexp  # minimum exponent value"
   ]
  },
  {
   "cell_type": "code",
   "execution_count": 71,
   "metadata": {},
   "outputs": [
    {
     "data": {
      "text/plain": [
       "2.2250738585072014e-308"
      ]
     },
     "execution_count": 71,
     "metadata": {},
     "output_type": "execute_result"
    }
   ],
   "source": [
    "np.finfo(np.float64).tiny  # smallest possible positive value"
   ]
  },
  {
   "attachments": {},
   "cell_type": "markdown",
   "metadata": {},
   "source": [
    "<br><br><br>"
   ]
  },
  {
   "attachments": {},
   "cell_type": "markdown",
   "metadata": {},
   "source": [
    "### (OPTIONAL) Subnormal Numbers"
   ]
  },
  {
   "cell_type": "markdown",
   "metadata": {},
   "source": [
    "- What happens if we try to store a number smaller than the above?"
   ]
  },
  {
   "cell_type": "code",
   "execution_count": 72,
   "metadata": {},
   "outputs": [
    {
     "data": {
      "text/plain": [
       "5.562684646268003e-309"
      ]
     },
     "execution_count": 72,
     "metadata": {},
     "output_type": "execute_result"
    }
   ],
   "source": [
    "2 ** -1024"
   ]
  },
  {
   "attachments": {},
   "cell_type": "markdown",
   "metadata": {},
   "source": [
    "- Um, it worked... 🤔\n",
    "\n",
    "- Remember how I discussed \"special bit patterns\" earlier? One of these is \"[subnormal numbers](https://en.wikipedia.org/wiki/Denormal_number)\"\n",
    "- This is well beyond the scope of the course, but briefly, subnormal numbers help us fill the gap between 0 and $2^{-1022}$\n",
    "- If the exponent is set to its minimum value, then we can play with the bits (if we are willing to sacrifice precision): **instead of the mantissa starting with a 1, we can start it with a 0**\n",
    "- This gives our mantissa a minimum value of $2^{-52}$ (rather than 1, which is what we had before)\n",
    "- So the smallest subnormal number we can have is $2^{-52} \\times 2 ^ {-1022} = 2 ^ {-1074}$:"
   ]
  },
  {
   "cell_type": "code",
   "execution_count": 73,
   "metadata": {},
   "outputs": [
    {
     "data": {
      "text/plain": [
       "5e-324"
      ]
     },
     "execution_count": 73,
     "metadata": {},
     "output_type": "execute_result"
    }
   ],
   "source": [
    "2 ** -1074"
   ]
  },
  {
   "cell_type": "markdown",
   "metadata": {},
   "source": [
    "- Anything less than this is rounded to 0:"
   ]
  },
  {
   "cell_type": "code",
   "execution_count": 74,
   "metadata": {},
   "outputs": [
    {
     "data": {
      "text/plain": [
       "0.0"
      ]
     },
     "execution_count": 74,
     "metadata": {},
     "output_type": "execute_result"
    }
   ],
   "source": [
    "2 ** -1075"
   ]
  },
  {
   "attachments": {},
   "cell_type": "markdown",
   "metadata": {},
   "source": [
    "> Note that with subnormal numbers, we lose more and more precision for smaller and smaller numbers, because we can no longer use the exponent to make the binary point float around."
   ]
  },
  {
   "cell_type": "markdown",
   "metadata": {},
   "source": [
    "- You can read more [in this article](https://people.orie.cornell.edu/snp32/orie_6125/ieee754/ieee754.html#subnormal-numbers) and this [stackoverflow post](https://stackoverflow.com/a/14002396/14179508), but as I said, this is beyond the scope of the course."
   ]
  },
  {
   "attachments": {},
   "cell_type": "markdown",
   "metadata": {},
   "source": [
    "<br><br><br>"
   ]
  },
  {
   "cell_type": "markdown",
   "metadata": {},
   "source": [
    "### Order of Operations"
   ]
  },
  {
   "cell_type": "markdown",
   "metadata": {},
   "source": [
    "- Consider the following:"
   ]
  },
  {
   "cell_type": "code",
   "execution_count": 75,
   "metadata": {},
   "outputs": [
    {
     "data": {
      "text/plain": [
       "False"
      ]
     },
     "execution_count": 75,
     "metadata": {},
     "output_type": "execute_result"
    }
   ],
   "source": [
    "1e16 + 1 + 1 == 1 + 1 + 1e16"
   ]
  },
  {
   "attachments": {},
   "cell_type": "markdown",
   "metadata": {},
   "source": [
    "- What's up with that?\n",
    "\n",
    "- Let's break it down...\n",
    "- First the spacing of `1e16` is:"
   ]
  },
  {
   "cell_type": "code",
   "execution_count": 76,
   "metadata": {},
   "outputs": [
    {
     "data": {
      "text/plain": [
       "2.0"
      ]
     },
     "execution_count": 76,
     "metadata": {},
     "output_type": "execute_result"
    }
   ],
   "source": [
    "spacing = np.nextafter(1e16, 1e17) - 1e16\n",
    "spacing"
   ]
  },
  {
   "cell_type": "code",
   "execution_count": 77,
   "metadata": {},
   "outputs": [
    {
     "data": {
      "text/plain": [
       "True"
      ]
     },
     "execution_count": 77,
     "metadata": {},
     "output_type": "execute_result"
    }
   ],
   "source": [
    "1e16 + 1 == 1e16"
   ]
  },
  {
   "attachments": {},
   "cell_type": "markdown",
   "metadata": {},
   "source": [
    "- So the above should make sense, we aren't adding more than half the spacing, so we remain at `1e16`\n",
    "\n",
    "- Another example:"
   ]
  },
  {
   "cell_type": "code",
   "execution_count": 78,
   "metadata": {},
   "outputs": [
    {
     "data": {
      "text/plain": [
       "False"
      ]
     },
     "execution_count": 78,
     "metadata": {},
     "output_type": "execute_result"
    }
   ],
   "source": [
    "1e16 + (1 + 1) == 1e16"
   ]
  },
  {
   "attachments": {},
   "cell_type": "markdown",
   "metadata": {},
   "source": [
    "- This time we added `(1 + 1)`, which is more than half the spacing, and we got a `False` as expected\n",
    "\n",
    "- But now let's remove the parentheses:"
   ]
  },
  {
   "cell_type": "code",
   "execution_count": 79,
   "metadata": {},
   "outputs": [
    {
     "data": {
      "text/plain": [
       "True"
      ]
     },
     "execution_count": 79,
     "metadata": {},
     "output_type": "execute_result"
    }
   ],
   "source": [
    "1e16 + 1 + 1 == 1e16"
   ]
  },
  {
   "attachments": {},
   "cell_type": "markdown",
   "metadata": {},
   "source": [
    "- Back to `True`, what's going on...\n",
    "\n",
    "- Well we have an \"order of operations\" here, the `1e16 + 1` happens first, which is just `1e16`, and then we try add `1` again but the same thing happens\n",
    "- What do you think will happen with this one?"
   ]
  },
  {
   "cell_type": "code",
   "execution_count": 80,
   "metadata": {},
   "outputs": [
    {
     "data": {
      "text/plain": [
       "False"
      ]
     },
     "execution_count": 80,
     "metadata": {},
     "output_type": "execute_result"
    }
   ],
   "source": [
    "1 + 1 + 1e16 == 1e16"
   ]
  },
  {
   "cell_type": "markdown",
   "metadata": {},
   "source": [
    "- This time, the `1 + 1` happened first, which is `2`, and then we add `1e16`"
   ]
  },
  {
   "attachments": {},
   "cell_type": "markdown",
   "metadata": {},
   "source": [
    "<br><br><br>"
   ]
  },
  {
   "cell_type": "markdown",
   "metadata": {},
   "source": [
    "### Writing Functions"
   ]
  },
  {
   "cell_type": "markdown",
   "metadata": {},
   "source": [
    "- Later in this course we'll create a Logistic Regression model from scratch and you'll have to calculate something that looks like:\n",
    "\n",
    "$\\log(1+\\exp(z))$\n",
    "\n",
    "- Looks pretty harmless right?"
   ]
  },
  {
   "cell_type": "code",
   "execution_count": 81,
   "metadata": {},
   "outputs": [],
   "source": [
    "def log_1_plus_exp(z):\n",
    "    return np.log(1 + np.exp(z))"
   ]
  },
  {
   "cell_type": "markdown",
   "metadata": {},
   "source": [
    "- But what happens if `z` is large? Say, 1000:"
   ]
  },
  {
   "cell_type": "code",
   "execution_count": 82,
   "metadata": {},
   "outputs": [
    {
     "name": "stderr",
     "output_type": "stream",
     "text": [
      "/var/folders/b3/g26r0dcx4b35vf3nk31216hc0000gr/T/ipykernel_16523/2578511584.py:2: RuntimeWarning: overflow encountered in exp\n",
      "  return np.log(1 + np.exp(z))\n"
     ]
    },
    {
     "data": {
      "text/plain": [
       "inf"
      ]
     },
     "execution_count": 82,
     "metadata": {},
     "output_type": "execute_result"
    }
   ],
   "source": [
    "log_1_plus_exp(1000)"
   ]
  },
  {
   "attachments": {},
   "cell_type": "markdown",
   "metadata": {},
   "source": [
    "- We get an overflow error when `z` in `exp(z)` is large!\n",
    "\n",
    "- In fact, we can find out what the limit of `z` is:"
   ]
  },
  {
   "cell_type": "code",
   "execution_count": 83,
   "metadata": {},
   "outputs": [
    {
     "data": {
      "text/plain": [
       "1.7976931348623157e+308"
      ]
     },
     "execution_count": 83,
     "metadata": {},
     "output_type": "execute_result"
    }
   ],
   "source": [
    "max_float = np.finfo(np.float64).max\n",
    "max_float"
   ]
  },
  {
   "cell_type": "code",
   "execution_count": 84,
   "metadata": {},
   "outputs": [
    {
     "data": {
      "text/plain": [
       "709.782712893384"
      ]
     },
     "execution_count": 84,
     "metadata": {},
     "output_type": "execute_result"
    }
   ],
   "source": [
    "np.log(max_float)"
   ]
  },
  {
   "cell_type": "markdown",
   "metadata": {},
   "source": [
    "- If we pass anything bigger than that into `np.exp()` we'll get an overflow error"
   ]
  },
  {
   "cell_type": "code",
   "execution_count": 85,
   "metadata": {},
   "outputs": [
    {
     "name": "stderr",
     "output_type": "stream",
     "text": [
      "/var/folders/b3/g26r0dcx4b35vf3nk31216hc0000gr/T/ipykernel_16523/574927170.py:1: RuntimeWarning: overflow encountered in exp\n",
      "  np.exp(710)\n"
     ]
    },
    {
     "data": {
      "text/plain": [
       "inf"
      ]
     },
     "execution_count": 85,
     "metadata": {},
     "output_type": "execute_result"
    }
   ],
   "source": [
    "np.exp(710)"
   ]
  },
  {
   "attachments": {},
   "cell_type": "markdown",
   "metadata": {},
   "source": [
    "- However, you might know that for $z \\gg 1$:\n",
    "\n",
    "$\\log(1+\\exp(z)) \\approx \\log(\\exp(z)) = z$\n",
    "\n",
    "- e.g.:"
   ]
  },
  {
   "cell_type": "code",
   "execution_count": 86,
   "metadata": {},
   "outputs": [
    {
     "data": {
      "text/plain": [
       "700.0"
      ]
     },
     "execution_count": 86,
     "metadata": {},
     "output_type": "execute_result"
    }
   ],
   "source": [
    "z = 700\n",
    "np.log(1 + np.exp(z))"
   ]
  },
  {
   "cell_type": "markdown",
   "metadata": {},
   "source": [
    "The returned looks the same as $z$!"
   ]
  },
  {
   "cell_type": "markdown",
   "metadata": {},
   "source": [
    "- We can use this to account for the overflow error:"
   ]
  },
  {
   "cell_type": "code",
   "execution_count": 87,
   "metadata": {},
   "outputs": [],
   "source": [
    "@np.vectorize  # decorator to vectorize the function\n",
    "def log_1_plus_exp_safe(z):\n",
    "    if z > 100:\n",
    "        print(f\"Avoiding overflow error with approximation of {z:.0f}!\")        \n",
    "        return z\n",
    "    else:\n",
    "        return np.log(1 + np.exp(z))"
   ]
  },
  {
   "cell_type": "code",
   "execution_count": 88,
   "metadata": {},
   "outputs": [
    {
     "name": "stdout",
     "output_type": "stream",
     "text": [
      "Avoiding overflow error with approximation of 1000!\n"
     ]
    },
    {
     "data": {
      "text/plain": [
       "array([   1.31326169,   10.0000454 ,  100.        , 1000.        ])"
      ]
     },
     "execution_count": 88,
     "metadata": {},
     "output_type": "execute_result"
    }
   ],
   "source": [
    "log_1_plus_exp_safe([1, 10, 100, 1000])"
   ]
  },
  {
   "cell_type": "markdown",
   "metadata": {},
   "source": [
    "- This is part of the reason we use libraries like `numpy`, `scipy`, `scikit-learn`, etc. They've taken care of all of this for us."
   ]
  },
  {
   "attachments": {},
   "cell_type": "markdown",
   "metadata": {},
   "source": [
    "<br><br><br>"
   ]
  },
  {
   "attachments": {},
   "cell_type": "markdown",
   "metadata": {},
   "source": [
    "### Precision, Memory, Speed"
   ]
  },
  {
   "cell_type": "markdown",
   "metadata": {},
   "source": [
    "- So double precision floats are pretty standard and require 64 bits to store:"
   ]
  },
  {
   "cell_type": "code",
   "execution_count": 89,
   "metadata": {},
   "outputs": [
    {
     "data": {
      "text/plain": [
       "8"
      ]
     },
     "execution_count": 89,
     "metadata": {},
     "output_type": "execute_result"
    }
   ],
   "source": [
    "np.float64().nbytes  # number of bytes consumed by a float64"
   ]
  },
  {
   "cell_type": "code",
   "execution_count": 90,
   "metadata": {},
   "outputs": [
    {
     "data": {
      "text/plain": [
       "64"
      ]
     },
     "execution_count": 90,
     "metadata": {},
     "output_type": "execute_result"
    }
   ],
   "source": [
    "np.float64().nbytes * 8  # recall 1 byte = 8 bits"
   ]
  },
  {
   "cell_type": "markdown",
   "metadata": {},
   "source": [
    "- When dealing with huge datasets or models with millions or billions of parameters it may be desirable to lower the precision of our numbers to use less memory and/or gain speed"
   ]
  },
  {
   "cell_type": "code",
   "execution_count": 91,
   "metadata": {},
   "outputs": [
    {
     "name": "stdout",
     "output_type": "stream",
     "text": [
      "array size: (1000, 1000)\n",
      "array type: float64\n",
      "mem. usage: 8.0 MB\n"
     ]
    }
   ],
   "source": [
    "x64 = np.random.randn(1000, 1000)\n",
    "print(f\"array size: {x64.shape}\")\n",
    "print(f\"array type: {x64.dtype}\")\n",
    "print(f\"mem. usage: {x64.nbytes / (1000 * 1000)} MB\")"
   ]
  },
  {
   "cell_type": "code",
   "execution_count": 92,
   "metadata": {},
   "outputs": [
    {
     "name": "stdout",
     "output_type": "stream",
     "text": [
      "array type: float32\n",
      "mem. usage: 4.0 MB\n"
     ]
    }
   ],
   "source": [
    "x32 = x64.astype('float32')\n",
    "print(f\"array type: {x32.dtype}\")\n",
    "print(f\"mem. usage: {x32.nbytes / (1000 * 1000)} MB\")"
   ]
  },
  {
   "cell_type": "markdown",
   "metadata": {},
   "source": [
    "- Below I'm squaring the elements of my two arrays. They have the same number of elements, but different data types - let's observe the difference in the speed of the operation:"
   ]
  },
  {
   "cell_type": "code",
   "execution_count": 93,
   "metadata": {},
   "outputs": [
    {
     "name": "stdout",
     "output_type": "stream",
     "text": [
      "float32 array is 2.16x faster than float64 array here.\n"
     ]
    }
   ],
   "source": [
    "time64 = %timeit -q -o -r 3 x64 ** 2\n",
    "time32 = %timeit -q -o -r 3 x32 ** 2\n",
    "print(f\"float32 array is {time64.average / time32.average:.2f}x faster than float64 array here.\")"
   ]
  },
  {
   "cell_type": "markdown",
   "metadata": {},
   "source": [
    "- I'm showing you this as foreboding for later topics dealing with memory and deep neural networks, where we'll use these ideas of precision vs speed to optimize our models."
   ]
  },
  {
   "attachments": {},
   "cell_type": "markdown",
   "metadata": {},
   "source": [
    "<br><br><br>"
   ]
  },
  {
   "cell_type": "markdown",
   "metadata": {},
   "source": [
    "## ❓❓ Questions for you"
   ]
  },
  {
   "cell_type": "markdown",
   "metadata": {
    "slideshow": {
     "slide_type": "slide"
    }
   },
   "source": [
    "### Exercise 1.3\n",
    "\n",
    "**iClicker cloud join link: https://join.iclicker.com/SDMQ**\n",
    "\n",
    "**Select all of the following statements which are TRUE.**\n",
    "\n",
    "- (A) In IEEE double precision representation, the spacing between two consecutive representable numbers is constant throughout the entire range of numbers.\n",
    "- (B) In floating-point arithmetic, the associative property of addition (i.e., (a + b) + c = a + (b + c)) doesn't always hold true.\n",
    "- (C) In floating-point representation, increasing the number of bits in the exponent part can increase the precision of the representation.\n",
    "- (D) A 64-bit floating-point number typically uses twice as much memory as a 32-bit floating-point number.\n",
    "- (E) In floating point arithmetic, it's often recommended to check if the numbers are close within a small tolerance instead of checking for equality directly. "
   ]
  },
  {
   "cell_type": "markdown",
   "metadata": {},
   "source": [
    "```{admonition} V's Solutions!\n",
    ":class: tip, dropdown\n",
    "B, D, E\n",
    "```"
   ]
  },
  {
   "cell_type": "markdown",
   "metadata": {},
   "source": [
    "<br><br><br><br>"
   ]
  },
  {
   "cell_type": "markdown",
   "metadata": {},
   "source": [
    "Three ways to calculate spacing. "
   ]
  },
  {
   "cell_type": "code",
   "execution_count": 94,
   "metadata": {},
   "outputs": [
    {
     "data": {
      "text/plain": [
       "2147483648.0"
      ]
     },
     "execution_count": 94,
     "metadata": {},
     "output_type": "execute_result"
    }
   ],
   "source": [
    "np.spacing(1e25)"
   ]
  },
  {
   "cell_type": "code",
   "execution_count": 95,
   "metadata": {},
   "outputs": [
    {
     "data": {
      "text/plain": [
       "2147483648.0"
      ]
     },
     "execution_count": 95,
     "metadata": {},
     "output_type": "execute_result"
    }
   ],
   "source": [
    "np.nextafter(1e25, 1e26) - 1e25"
   ]
  },
  {
   "cell_type": "code",
   "execution_count": 96,
   "metadata": {},
   "outputs": [
    {
     "data": {
      "text/plain": [
       "2147483648.0"
      ]
     },
     "execution_count": 96,
     "metadata": {},
     "output_type": "execute_result"
    }
   ],
   "source": [
    "2**-52 * 2**83"
   ]
  },
  {
   "cell_type": "markdown",
   "metadata": {},
   "source": [
    "<br><br><br><br>"
   ]
  },
  {
   "cell_type": "markdown",
   "metadata": {},
   "source": [
    "## Lecture Highlights\n"
   ]
  },
  {
   "attachments": {},
   "cell_type": "markdown",
   "metadata": {},
   "source": [
    "1. Most fractional numbers are not represented exactly by floating-point numbers in computers which can lead to rounding errors.\n",
    "\n",
    "2. Most compute environments you'll encounter will use IEEE double precision, but others do exist (especially single precision). Some software will require you to use a particular data type due to computational limitations (for example, PyTorch sometimes forces you to use `float32` instead of `float64`).\n",
    "\n",
    "3. There is a biggest and smallest floating-point number (depending on precision), beyond these we get overflow or underflow errors. Use `np.nextafter()` and `numpy.finfo()` to work out float spacing and ranges."
   ]
  }
 ],
 "metadata": {
  "kernelspec": {
   "display_name": "dsci572",
   "language": "python",
   "name": "dsci572"
  },
  "language_info": {
   "codemirror_mode": {
    "name": "ipython",
    "version": 3
   },
   "file_extension": ".py",
   "mimetype": "text/x-python",
   "name": "python",
   "nbconvert_exporter": "python",
   "pygments_lexer": "ipython3",
   "version": "3.11.7"
  },
  "toc": {
   "base_numbering": 1,
   "nav_menu": {},
   "number_sections": false,
   "sideBar": true,
   "skip_h1_title": true,
   "title_cell": "Lecture Outline",
   "title_sidebar": "Contents",
   "toc_cell": true,
   "toc_position": {},
   "toc_section_display": true,
   "toc_window_display": false
  },
  "toc-autonumbering": false,
  "toc-showcode": false,
  "toc-showmarkdowntxt": false,
  "toc-showtags": false,
  "vscode": {
   "interpreter": {
    "hash": "f821000d0c0da66e5bcde88c37d59c8e0de03b40667fb62009a8148ca49465a0"
   }
  }
 },
 "nbformat": 4,
 "nbformat_minor": 4
}
