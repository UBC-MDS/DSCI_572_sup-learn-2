{
 "cells": [
  {
   "cell_type": "markdown",
   "metadata": {},
   "source": [
    "<img src=\"img/dsci572_header.png\" width=\"600\">"
   ]
  },
  {
   "cell_type": "markdown",
   "metadata": {},
   "source": [
    "# Appendix C: Computing Derivatives"
   ]
  },
  {
   "cell_type": "code",
   "execution_count": 1,
   "metadata": {},
   "outputs": [],
   "source": [
    "import numpy as np\n",
    "import sklearn\n",
    "import sklearn.linear_model\n",
    "import scipy.optimize\n",
    "import autograd # pip install autograd\n",
    "from autograd import grad\n",
    "import autograd.numpy as anp\n",
    "from scipy.optimize import minimize\n",
    "import matplotlib.pyplot as plt\n",
    "\n",
    "plt.rcParams.update({'font.size': 14, 'axes.labelweight': 'bold', 'figure.figsize': (6, 4)})\n",
    "%config InlineBackend.figure_formats = ['svg']"
   ]
  },
  {
   "cell_type": "markdown",
   "metadata": {},
   "source": [
    "## Gradients Introduction\n"
   ]
  },
  {
   "cell_type": "markdown",
   "metadata": {},
   "source": [
    "What if we are optimizing a function and we don't know its derivative/gradient. This could happen because:\n",
    "- You're optimizing the parameters of a computer simulation\n",
    "  - a robot\n",
    "  - weather / atmospheric science\n",
    "  - financial simulation\n",
    "  - etc.\n",
    "- You're optimizing the hyperparameters of a machine learning algorithm\n",
    "- The derivative is just too much effort to compute and it's slowing down your prototyping efforts\n",
    "\n",
    "What to do? Well, there are 3 main approaches to computing derivatives with a computer:\n",
    "\n",
    "1. Symbolic differentiation\n",
    "2. Numerical differentiation\n",
    "3. Automatic differentiation\n",
    "\n",
    "We'll explore these different options in this short appendix. Note that this material has been modified after material originally created by [Mike Gelbart](https://www.mikegelbart.com/).\n",
    "\n",
    "As a running example, consider $f(x)=\\sin(x)$. We know that $f'(x)\\equiv\\frac{df(x)}{dx}=\\cos(x)$ and thus $f'(1)=\\cos(1)$"
   ]
  },
  {
   "cell_type": "markdown",
   "metadata": {},
   "source": [
    "## Symbolic Differentiation\n"
   ]
  },
  {
   "cell_type": "markdown",
   "metadata": {},
   "source": [
    "Symbolic differentiation is basically what you learned in calculus. We interpret the symbols in an equation and apply the rules of differentiation. Wolfram Alpha is a good tool for this, e.g., <https://www.wolframalpha.com/input/?i=derivative+of+sin(x)>.\n",
    "\n",
    "Symbolic differentiation is useful but less so when dealing with data. We will not say more about this now. You should be aware of its existence."
   ]
  },
  {
   "cell_type": "markdown",
   "metadata": {},
   "source": [
    "## Numerical Differentiation (Finite Differences)\n"
   ]
  },
  {
   "attachments": {},
   "cell_type": "markdown",
   "metadata": {},
   "source": [
    "A derivative is defined as:\n",
    "\n",
    "$$\\frac{df(x)}{dx} \\equiv \\lim_{h\\rightarrow 0} \\frac{f(x+h)-f(x)}{h} $$\n",
    "\n",
    "Numerical differentiation simply approximates the above using a very small $h$:\n",
    "\n",
    "$$\\frac{df(x)}{dx} \\approx \\frac{f(x+h)-f(x)}{h}$$\n",
    "\n",
    "for small $h$.\n",
    "\n",
    "This approach is called \"finite differences\". I like to think of it as an estimate of as the \"rise over run\" estimate of slope. Let's give it a try!"
   ]
  },
  {
   "cell_type": "code",
   "execution_count": 2,
   "metadata": {},
   "outputs": [
    {
     "data": {
      "text/plain": [
       "0.5398814803603269"
      ]
     },
     "execution_count": 2,
     "metadata": {},
     "output_type": "execute_result"
    }
   ],
   "source": [
    "h = 0.001  # small h\n",
    "f = np.sin\n",
    "x0 = 1\n",
    "dfdx = (f(x0 + h) - f(x0)) / h\n",
    "dfdx"
   ]
  },
  {
   "cell_type": "code",
   "execution_count": 3,
   "metadata": {},
   "outputs": [
    {
     "data": {
      "text/plain": [
       "0.5403023058681398"
      ]
     },
     "execution_count": 3,
     "metadata": {},
     "output_type": "execute_result"
    }
   ],
   "source": [
    "np.cos(x0)"
   ]
  },
  {
   "cell_type": "markdown",
   "metadata": {},
   "source": [
    "Not bad!"
   ]
  },
  {
   "cell_type": "markdown",
   "metadata": {},
   "source": [
    "### Error of Derivative Estimates"
   ]
  },
  {
   "cell_type": "markdown",
   "metadata": {},
   "source": [
    "In [Lecture 1](lecture1_floating-point.ipynb) we discussed numerical issues due to the **floating point** representation. There's another entirely different type of numerical error that arises from the *discretization* inherent finite difference approximations. Let's explore this a bit. What do you think will happen to the absolute error of the estimate of the derivative if I change $h$?"
   ]
  },
  {
   "cell_type": "code",
   "execution_count": 4,
   "metadata": {},
   "outputs": [
    {
     "data": {
      "image/svg+xml": "<?xml version=\"1.0\" encoding=\"utf-8\" standalone=\"no\"?>\n<!DOCTYPE svg PUBLIC \"-//W3C//DTD SVG 1.1//EN\"\n  \"http://www.w3.org/Graphics/SVG/1.1/DTD/svg11.dtd\">\n<svg xmlns:xlink=\"http://www.w3.org/1999/xlink\" width=\"406.649375pt\" height=\"277.408854pt\" viewBox=\"0 0 406.649375 277.408854\" xmlns=\"http://www.w3.org/2000/svg\" version=\"1.1\">\n <metadata>\n  <rdf:RDF xmlns:dc=\"http://purl.org/dc/elements/1.1/\" xmlns:cc=\"http://creativecommons.org/ns#\" xmlns:rdf=\"http://www.w3.org/1999/02/22-rdf-syntax-ns#\">\n   <cc:Work>\n    <dc:type rdf:resource=\"http://purl.org/dc/dcmitype/StillImage\"/>\n    <dc:date>2023-01-28T20:06:02.561885</dc:date>\n    <dc:format>image/svg+xml</dc:format>\n    <dc:creator>\n     <cc:Agent>\n      <dc:title>Matplotlib v3.6.3, https://matplotlib.org/</dc:title>\n     </cc:Agent>\n    </dc:creator>\n   </cc:Work>\n  </rdf:RDF>\n </metadata>\n <defs>\n  <style type=\"text/css\">*{stroke-linejoin: round; stroke-linecap: butt}</style>\n </defs>\n <g id=\"figure_1\">\n  <g id=\"patch_1\">\n   <path d=\"M 0 277.408854 \nL 406.649375 277.408854 \nL 406.649375 0 \nL 0 0 \nz\n\" style=\"fill: #ffffff\"/>\n  </g>\n  <g id=\"axes_1\">\n   <g id=\"patch_2\">\n    <path d=\"M 64.649375 232.110104 \nL 399.449375 232.110104 \nL 399.449375 10.350104 \nL 64.649375 10.350104 \nz\n\" style=\"fill: #ffffff\"/>\n   </g>\n   <g id=\"matplotlib.axis_1\">\n    <g id=\"xtick_1\">\n     <g id=\"line2d_1\">\n      <defs>\n       <path id=\"m10bb4400a7\" d=\"M 0 0 \nL 0 3.5 \n\" style=\"stroke: #000000; stroke-width: 0.8\"/>\n      </defs>\n      <g>\n       <use xlink:href=\"#m10bb4400a7\" x=\"117.913011\" y=\"232.110104\" style=\"stroke: #000000; stroke-width: 0.8\"/>\n      </g>\n     </g>\n     <g id=\"text_1\">\n      <!-- $\\mathdefault{10^{-7}}$ -->\n      <g transform=\"translate(101.463011 249.747917) scale(0.14 -0.14)\">\n       <defs>\n        <path id=\"DejaVuSans-31\" d=\"M 794 531 \nL 1825 531 \nL 1825 4091 \nL 703 3866 \nL 703 4441 \nL 1819 4666 \nL 2450 4666 \nL 2450 531 \nL 3481 531 \nL 3481 0 \nL 794 0 \nL 794 531 \nz\n\" transform=\"scale(0.015625)\"/>\n        <path id=\"DejaVuSans-30\" d=\"M 2034 4250 \nQ 1547 4250 1301 3770 \nQ 1056 3291 1056 2328 \nQ 1056 1369 1301 889 \nQ 1547 409 2034 409 \nQ 2525 409 2770 889 \nQ 3016 1369 3016 2328 \nQ 3016 3291 2770 3770 \nQ 2525 4250 2034 4250 \nz\nM 2034 4750 \nQ 2819 4750 3233 4129 \nQ 3647 3509 3647 2328 \nQ 3647 1150 3233 529 \nQ 2819 -91 2034 -91 \nQ 1250 -91 836 529 \nQ 422 1150 422 2328 \nQ 422 3509 836 4129 \nQ 1250 4750 2034 4750 \nz\n\" transform=\"scale(0.015625)\"/>\n        <path id=\"DejaVuSans-2212\" d=\"M 678 2272 \nL 4684 2272 \nL 4684 1741 \nL 678 1741 \nL 678 2272 \nz\n\" transform=\"scale(0.015625)\"/>\n        <path id=\"DejaVuSans-37\" d=\"M 525 4666 \nL 3525 4666 \nL 3525 4397 \nL 1831 0 \nL 1172 0 \nL 2766 4134 \nL 525 4134 \nL 525 4666 \nz\n\" transform=\"scale(0.015625)\"/>\n       </defs>\n       <use xlink:href=\"#DejaVuSans-31\" transform=\"translate(0 0.684375)\"/>\n       <use xlink:href=\"#DejaVuSans-30\" transform=\"translate(63.623047 0.684375)\"/>\n       <use xlink:href=\"#DejaVuSans-2212\" transform=\"translate(128.203125 38.965625) scale(0.7)\"/>\n       <use xlink:href=\"#DejaVuSans-37\" transform=\"translate(186.855469 38.965625) scale(0.7)\"/>\n      </g>\n     </g>\n    </g>\n    <g id=\"xtick_2\">\n     <g id=\"line2d_2\">\n      <g>\n       <use xlink:href=\"#m10bb4400a7\" x=\"194.00392\" y=\"232.110104\" style=\"stroke: #000000; stroke-width: 0.8\"/>\n      </g>\n     </g>\n     <g id=\"text_2\">\n      <!-- $\\mathdefault{10^{-5}}$ -->\n      <g transform=\"translate(177.55392 249.747917) scale(0.14 -0.14)\">\n       <defs>\n        <path id=\"DejaVuSans-35\" d=\"M 691 4666 \nL 3169 4666 \nL 3169 4134 \nL 1269 4134 \nL 1269 2991 \nQ 1406 3038 1543 3061 \nQ 1681 3084 1819 3084 \nQ 2600 3084 3056 2656 \nQ 3513 2228 3513 1497 \nQ 3513 744 3044 326 \nQ 2575 -91 1722 -91 \nQ 1428 -91 1123 -41 \nQ 819 9 494 109 \nL 494 744 \nQ 775 591 1075 516 \nQ 1375 441 1709 441 \nQ 2250 441 2565 725 \nQ 2881 1009 2881 1497 \nQ 2881 1984 2565 2268 \nQ 2250 2553 1709 2553 \nQ 1456 2553 1204 2497 \nQ 953 2441 691 2322 \nL 691 4666 \nz\n\" transform=\"scale(0.015625)\"/>\n       </defs>\n       <use xlink:href=\"#DejaVuSans-31\" transform=\"translate(0 0.684375)\"/>\n       <use xlink:href=\"#DejaVuSans-30\" transform=\"translate(63.623047 0.684375)\"/>\n       <use xlink:href=\"#DejaVuSans-2212\" transform=\"translate(128.203125 38.965625) scale(0.7)\"/>\n       <use xlink:href=\"#DejaVuSans-35\" transform=\"translate(186.855469 38.965625) scale(0.7)\"/>\n      </g>\n     </g>\n    </g>\n    <g id=\"xtick_3\">\n     <g id=\"line2d_3\">\n      <g>\n       <use xlink:href=\"#m10bb4400a7\" x=\"270.09483\" y=\"232.110104\" style=\"stroke: #000000; stroke-width: 0.8\"/>\n      </g>\n     </g>\n     <g id=\"text_3\">\n      <!-- $\\mathdefault{10^{-3}}$ -->\n      <g transform=\"translate(253.64483 249.747917) scale(0.14 -0.14)\">\n       <defs>\n        <path id=\"DejaVuSans-33\" d=\"M 2597 2516 \nQ 3050 2419 3304 2112 \nQ 3559 1806 3559 1356 \nQ 3559 666 3084 287 \nQ 2609 -91 1734 -91 \nQ 1441 -91 1130 -33 \nQ 819 25 488 141 \nL 488 750 \nQ 750 597 1062 519 \nQ 1375 441 1716 441 \nQ 2309 441 2620 675 \nQ 2931 909 2931 1356 \nQ 2931 1769 2642 2001 \nQ 2353 2234 1838 2234 \nL 1294 2234 \nL 1294 2753 \nL 1863 2753 \nQ 2328 2753 2575 2939 \nQ 2822 3125 2822 3475 \nQ 2822 3834 2567 4026 \nQ 2313 4219 1838 4219 \nQ 1578 4219 1281 4162 \nQ 984 4106 628 3988 \nL 628 4550 \nQ 988 4650 1302 4700 \nQ 1616 4750 1894 4750 \nQ 2613 4750 3031 4423 \nQ 3450 4097 3450 3541 \nQ 3450 3153 3228 2886 \nQ 3006 2619 2597 2516 \nz\n\" transform=\"scale(0.015625)\"/>\n       </defs>\n       <use xlink:href=\"#DejaVuSans-31\" transform=\"translate(0 0.765625)\"/>\n       <use xlink:href=\"#DejaVuSans-30\" transform=\"translate(63.623047 0.765625)\"/>\n       <use xlink:href=\"#DejaVuSans-2212\" transform=\"translate(128.203125 39.046875) scale(0.7)\"/>\n       <use xlink:href=\"#DejaVuSans-33\" transform=\"translate(186.855469 39.046875) scale(0.7)\"/>\n      </g>\n     </g>\n    </g>\n    <g id=\"xtick_4\">\n     <g id=\"line2d_4\">\n      <g>\n       <use xlink:href=\"#m10bb4400a7\" x=\"346.185739\" y=\"232.110104\" style=\"stroke: #000000; stroke-width: 0.8\"/>\n      </g>\n     </g>\n     <g id=\"text_4\">\n      <!-- $\\mathdefault{10^{-1}}$ -->\n      <g transform=\"translate(329.735739 249.747917) scale(0.14 -0.14)\">\n       <use xlink:href=\"#DejaVuSans-31\" transform=\"translate(0 0.684375)\"/>\n       <use xlink:href=\"#DejaVuSans-30\" transform=\"translate(63.623047 0.684375)\"/>\n       <use xlink:href=\"#DejaVuSans-2212\" transform=\"translate(128.203125 38.965625) scale(0.7)\"/>\n       <use xlink:href=\"#DejaVuSans-31\" transform=\"translate(186.855469 38.965625) scale(0.7)\"/>\n      </g>\n     </g>\n    </g>\n    <g id=\"text_5\">\n     <!-- h -->\n     <g transform=\"translate(227.06625 267.297292) scale(0.14 -0.14)\">\n      <defs>\n       <path id=\"DejaVuSans-Bold-68\" d=\"M 4056 2131 \nL 4056 0 \nL 2931 0 \nL 2931 347 \nL 2931 1625 \nQ 2931 2084 2911 2256 \nQ 2891 2428 2841 2509 \nQ 2775 2619 2662 2680 \nQ 2550 2741 2406 2741 \nQ 2056 2741 1856 2470 \nQ 1656 2200 1656 1722 \nL 1656 0 \nL 538 0 \nL 538 4863 \nL 1656 4863 \nL 1656 2988 \nQ 1909 3294 2193 3439 \nQ 2478 3584 2822 3584 \nQ 3428 3584 3742 3212 \nQ 4056 2841 4056 2131 \nz\n\" transform=\"scale(0.015625)\"/>\n      </defs>\n      <use xlink:href=\"#DejaVuSans-Bold-68\"/>\n     </g>\n    </g>\n   </g>\n   <g id=\"matplotlib.axis_2\">\n    <g id=\"ytick_1\">\n     <g id=\"line2d_5\">\n      <defs>\n       <path id=\"me7a8a4bb6d\" d=\"M 0 0 \nL -3.5 0 \n\" style=\"stroke: #000000; stroke-width: 0.8\"/>\n      </defs>\n      <g>\n       <use xlink:href=\"#me7a8a4bb6d\" x=\"64.649375\" y=\"206.885068\" style=\"stroke: #000000; stroke-width: 0.8\"/>\n      </g>\n     </g>\n     <g id=\"text_6\">\n      <!-- $\\mathdefault{10^{-8}}$ -->\n      <g transform=\"translate(24.749375 212.203975) scale(0.14 -0.14)\">\n       <defs>\n        <path id=\"DejaVuSans-38\" d=\"M 2034 2216 \nQ 1584 2216 1326 1975 \nQ 1069 1734 1069 1313 \nQ 1069 891 1326 650 \nQ 1584 409 2034 409 \nQ 2484 409 2743 651 \nQ 3003 894 3003 1313 \nQ 3003 1734 2745 1975 \nQ 2488 2216 2034 2216 \nz\nM 1403 2484 \nQ 997 2584 770 2862 \nQ 544 3141 544 3541 \nQ 544 4100 942 4425 \nQ 1341 4750 2034 4750 \nQ 2731 4750 3128 4425 \nQ 3525 4100 3525 3541 \nQ 3525 3141 3298 2862 \nQ 3072 2584 2669 2484 \nQ 3125 2378 3379 2068 \nQ 3634 1759 3634 1313 \nQ 3634 634 3220 271 \nQ 2806 -91 2034 -91 \nQ 1263 -91 848 271 \nQ 434 634 434 1313 \nQ 434 1759 690 2068 \nQ 947 2378 1403 2484 \nz\nM 1172 3481 \nQ 1172 3119 1398 2916 \nQ 1625 2713 2034 2713 \nQ 2441 2713 2670 2916 \nQ 2900 3119 2900 3481 \nQ 2900 3844 2670 4047 \nQ 2441 4250 2034 4250 \nQ 1625 4250 1398 4047 \nQ 1172 3844 1172 3481 \nz\n\" transform=\"scale(0.015625)\"/>\n       </defs>\n       <use xlink:href=\"#DejaVuSans-31\" transform=\"translate(0 0.765625)\"/>\n       <use xlink:href=\"#DejaVuSans-30\" transform=\"translate(63.623047 0.765625)\"/>\n       <use xlink:href=\"#DejaVuSans-2212\" transform=\"translate(128.203125 39.046875) scale(0.7)\"/>\n       <use xlink:href=\"#DejaVuSans-38\" transform=\"translate(186.855469 39.046875) scale(0.7)\"/>\n      </g>\n     </g>\n    </g>\n    <g id=\"ytick_2\">\n     <g id=\"line2d_6\">\n      <g>\n       <use xlink:href=\"#me7a8a4bb6d\" x=\"64.649375\" y=\"158.293528\" style=\"stroke: #000000; stroke-width: 0.8\"/>\n      </g>\n     </g>\n     <g id=\"text_7\">\n      <!-- $\\mathdefault{10^{-6}}$ -->\n      <g transform=\"translate(24.749375 163.612434) scale(0.14 -0.14)\">\n       <defs>\n        <path id=\"DejaVuSans-36\" d=\"M 2113 2584 \nQ 1688 2584 1439 2293 \nQ 1191 2003 1191 1497 \nQ 1191 994 1439 701 \nQ 1688 409 2113 409 \nQ 2538 409 2786 701 \nQ 3034 994 3034 1497 \nQ 3034 2003 2786 2293 \nQ 2538 2584 2113 2584 \nz\nM 3366 4563 \nL 3366 3988 \nQ 3128 4100 2886 4159 \nQ 2644 4219 2406 4219 \nQ 1781 4219 1451 3797 \nQ 1122 3375 1075 2522 \nQ 1259 2794 1537 2939 \nQ 1816 3084 2150 3084 \nQ 2853 3084 3261 2657 \nQ 3669 2231 3669 1497 \nQ 3669 778 3244 343 \nQ 2819 -91 2113 -91 \nQ 1303 -91 875 529 \nQ 447 1150 447 2328 \nQ 447 3434 972 4092 \nQ 1497 4750 2381 4750 \nQ 2619 4750 2861 4703 \nQ 3103 4656 3366 4563 \nz\n\" transform=\"scale(0.015625)\"/>\n       </defs>\n       <use xlink:href=\"#DejaVuSans-31\" transform=\"translate(0 0.765625)\"/>\n       <use xlink:href=\"#DejaVuSans-30\" transform=\"translate(63.623047 0.765625)\"/>\n       <use xlink:href=\"#DejaVuSans-2212\" transform=\"translate(128.203125 39.046875) scale(0.7)\"/>\n       <use xlink:href=\"#DejaVuSans-36\" transform=\"translate(186.855469 39.046875) scale(0.7)\"/>\n      </g>\n     </g>\n    </g>\n    <g id=\"ytick_3\">\n     <g id=\"line2d_7\">\n      <g>\n       <use xlink:href=\"#me7a8a4bb6d\" x=\"64.649375\" y=\"109.701987\" style=\"stroke: #000000; stroke-width: 0.8\"/>\n      </g>\n     </g>\n     <g id=\"text_8\">\n      <!-- $\\mathdefault{10^{-4}}$ -->\n      <g transform=\"translate(24.749375 115.020894) scale(0.14 -0.14)\">\n       <defs>\n        <path id=\"DejaVuSans-34\" d=\"M 2419 4116 \nL 825 1625 \nL 2419 1625 \nL 2419 4116 \nz\nM 2253 4666 \nL 3047 4666 \nL 3047 1625 \nL 3713 1625 \nL 3713 1100 \nL 3047 1100 \nL 3047 0 \nL 2419 0 \nL 2419 1100 \nL 313 1100 \nL 313 1709 \nL 2253 4666 \nz\n\" transform=\"scale(0.015625)\"/>\n       </defs>\n       <use xlink:href=\"#DejaVuSans-31\" transform=\"translate(0 0.684375)\"/>\n       <use xlink:href=\"#DejaVuSans-30\" transform=\"translate(63.623047 0.684375)\"/>\n       <use xlink:href=\"#DejaVuSans-2212\" transform=\"translate(128.203125 38.965625) scale(0.7)\"/>\n       <use xlink:href=\"#DejaVuSans-34\" transform=\"translate(186.855469 38.965625) scale(0.7)\"/>\n      </g>\n     </g>\n    </g>\n    <g id=\"ytick_4\">\n     <g id=\"line2d_8\">\n      <g>\n       <use xlink:href=\"#me7a8a4bb6d\" x=\"64.649375\" y=\"61.110447\" style=\"stroke: #000000; stroke-width: 0.8\"/>\n      </g>\n     </g>\n     <g id=\"text_9\">\n      <!-- $\\mathdefault{10^{-2}}$ -->\n      <g transform=\"translate(24.749375 66.429353) scale(0.14 -0.14)\">\n       <defs>\n        <path id=\"DejaVuSans-32\" d=\"M 1228 531 \nL 3431 531 \nL 3431 0 \nL 469 0 \nL 469 531 \nQ 828 903 1448 1529 \nQ 2069 2156 2228 2338 \nQ 2531 2678 2651 2914 \nQ 2772 3150 2772 3378 \nQ 2772 3750 2511 3984 \nQ 2250 4219 1831 4219 \nQ 1534 4219 1204 4116 \nQ 875 4013 500 3803 \nL 500 4441 \nQ 881 4594 1212 4672 \nQ 1544 4750 1819 4750 \nQ 2544 4750 2975 4387 \nQ 3406 4025 3406 3419 \nQ 3406 3131 3298 2873 \nQ 3191 2616 2906 2266 \nQ 2828 2175 2409 1742 \nQ 1991 1309 1228 531 \nz\n\" transform=\"scale(0.015625)\"/>\n       </defs>\n       <use xlink:href=\"#DejaVuSans-31\" transform=\"translate(0 0.765625)\"/>\n       <use xlink:href=\"#DejaVuSans-30\" transform=\"translate(63.623047 0.765625)\"/>\n       <use xlink:href=\"#DejaVuSans-2212\" transform=\"translate(128.203125 39.046875) scale(0.7)\"/>\n       <use xlink:href=\"#DejaVuSans-32\" transform=\"translate(186.855469 39.046875) scale(0.7)\"/>\n      </g>\n     </g>\n    </g>\n    <g id=\"ytick_5\">\n     <g id=\"line2d_9\">\n      <g>\n       <use xlink:href=\"#me7a8a4bb6d\" x=\"64.649375\" y=\"12.518906\" style=\"stroke: #000000; stroke-width: 0.8\"/>\n      </g>\n     </g>\n     <g id=\"text_10\">\n      <!-- $\\mathdefault{10^{0}}$ -->\n      <g transform=\"translate(33.009375 17.837812) scale(0.14 -0.14)\">\n       <use xlink:href=\"#DejaVuSans-31\" transform=\"translate(0 0.765625)\"/>\n       <use xlink:href=\"#DejaVuSans-30\" transform=\"translate(63.623047 0.765625)\"/>\n       <use xlink:href=\"#DejaVuSans-30\" transform=\"translate(128.203125 39.046875) scale(0.7)\"/>\n      </g>\n     </g>\n    </g>\n    <g id=\"text_11\">\n     <!-- Error of derivative estimate -->\n     <g transform=\"translate(17.837813 231.066667) rotate(-90) scale(0.14 -0.14)\">\n      <defs>\n       <path id=\"DejaVuSans-Bold-45\" d=\"M 588 4666 \nL 3834 4666 \nL 3834 3756 \nL 1791 3756 \nL 1791 2888 \nL 3713 2888 \nL 3713 1978 \nL 1791 1978 \nL 1791 909 \nL 3903 909 \nL 3903 0 \nL 588 0 \nL 588 4666 \nz\n\" transform=\"scale(0.015625)\"/>\n       <path id=\"DejaVuSans-Bold-72\" d=\"M 3138 2547 \nQ 2991 2616 2845 2648 \nQ 2700 2681 2553 2681 \nQ 2122 2681 1889 2404 \nQ 1656 2128 1656 1613 \nL 1656 0 \nL 538 0 \nL 538 3500 \nL 1656 3500 \nL 1656 2925 \nQ 1872 3269 2151 3426 \nQ 2431 3584 2822 3584 \nQ 2878 3584 2943 3579 \nQ 3009 3575 3134 3559 \nL 3138 2547 \nz\n\" transform=\"scale(0.015625)\"/>\n       <path id=\"DejaVuSans-Bold-6f\" d=\"M 2203 2784 \nQ 1831 2784 1636 2517 \nQ 1441 2250 1441 1747 \nQ 1441 1244 1636 976 \nQ 1831 709 2203 709 \nQ 2569 709 2762 976 \nQ 2956 1244 2956 1747 \nQ 2956 2250 2762 2517 \nQ 2569 2784 2203 2784 \nz\nM 2203 3584 \nQ 3106 3584 3614 3096 \nQ 4122 2609 4122 1747 \nQ 4122 884 3614 396 \nQ 3106 -91 2203 -91 \nQ 1297 -91 786 396 \nQ 275 884 275 1747 \nQ 275 2609 786 3096 \nQ 1297 3584 2203 3584 \nz\n\" transform=\"scale(0.015625)\"/>\n       <path id=\"DejaVuSans-Bold-20\" transform=\"scale(0.015625)\"/>\n       <path id=\"DejaVuSans-Bold-66\" d=\"M 2841 4863 \nL 2841 4128 \nL 2222 4128 \nQ 1984 4128 1890 4042 \nQ 1797 3956 1797 3744 \nL 1797 3500 \nL 2753 3500 \nL 2753 2700 \nL 1797 2700 \nL 1797 0 \nL 678 0 \nL 678 2700 \nL 122 2700 \nL 122 3500 \nL 678 3500 \nL 678 3744 \nQ 678 4316 997 4589 \nQ 1316 4863 1984 4863 \nL 2841 4863 \nz\n\" transform=\"scale(0.015625)\"/>\n       <path id=\"DejaVuSans-Bold-64\" d=\"M 2919 2988 \nL 2919 4863 \nL 4044 4863 \nL 4044 0 \nL 2919 0 \nL 2919 506 \nQ 2688 197 2409 53 \nQ 2131 -91 1766 -91 \nQ 1119 -91 703 423 \nQ 288 938 288 1747 \nQ 288 2556 703 3070 \nQ 1119 3584 1766 3584 \nQ 2128 3584 2408 3439 \nQ 2688 3294 2919 2988 \nz\nM 2181 722 \nQ 2541 722 2730 984 \nQ 2919 1247 2919 1747 \nQ 2919 2247 2730 2509 \nQ 2541 2772 2181 2772 \nQ 1825 2772 1636 2509 \nQ 1447 2247 1447 1747 \nQ 1447 1247 1636 984 \nQ 1825 722 2181 722 \nz\n\" transform=\"scale(0.015625)\"/>\n       <path id=\"DejaVuSans-Bold-65\" d=\"M 4031 1759 \nL 4031 1441 \nL 1416 1441 \nQ 1456 1047 1700 850 \nQ 1944 653 2381 653 \nQ 2734 653 3104 758 \nQ 3475 863 3866 1075 \nL 3866 213 \nQ 3469 63 3072 -14 \nQ 2675 -91 2278 -91 \nQ 1328 -91 801 392 \nQ 275 875 275 1747 \nQ 275 2603 792 3093 \nQ 1309 3584 2216 3584 \nQ 3041 3584 3536 3087 \nQ 4031 2591 4031 1759 \nz\nM 2881 2131 \nQ 2881 2450 2695 2645 \nQ 2509 2841 2209 2841 \nQ 1884 2841 1681 2658 \nQ 1478 2475 1428 2131 \nL 2881 2131 \nz\n\" transform=\"scale(0.015625)\"/>\n       <path id=\"DejaVuSans-Bold-69\" d=\"M 538 3500 \nL 1656 3500 \nL 1656 0 \nL 538 0 \nL 538 3500 \nz\nM 538 4863 \nL 1656 4863 \nL 1656 3950 \nL 538 3950 \nL 538 4863 \nz\n\" transform=\"scale(0.015625)\"/>\n       <path id=\"DejaVuSans-Bold-76\" d=\"M 97 3500 \nL 1216 3500 \nL 2088 1081 \nL 2956 3500 \nL 4078 3500 \nL 2700 0 \nL 1472 0 \nL 97 3500 \nz\n\" transform=\"scale(0.015625)\"/>\n       <path id=\"DejaVuSans-Bold-61\" d=\"M 2106 1575 \nQ 1756 1575 1579 1456 \nQ 1403 1338 1403 1106 \nQ 1403 894 1545 773 \nQ 1688 653 1941 653 \nQ 2256 653 2472 879 \nQ 2688 1106 2688 1447 \nL 2688 1575 \nL 2106 1575 \nz\nM 3816 1997 \nL 3816 0 \nL 2688 0 \nL 2688 519 \nQ 2463 200 2181 54 \nQ 1900 -91 1497 -91 \nQ 953 -91 614 226 \nQ 275 544 275 1050 \nQ 275 1666 698 1953 \nQ 1122 2241 2028 2241 \nL 2688 2241 \nL 2688 2328 \nQ 2688 2594 2478 2717 \nQ 2269 2841 1825 2841 \nQ 1466 2841 1156 2769 \nQ 847 2697 581 2553 \nL 581 3406 \nQ 941 3494 1303 3539 \nQ 1666 3584 2028 3584 \nQ 2975 3584 3395 3211 \nQ 3816 2838 3816 1997 \nz\n\" transform=\"scale(0.015625)\"/>\n       <path id=\"DejaVuSans-Bold-74\" d=\"M 1759 4494 \nL 1759 3500 \nL 2913 3500 \nL 2913 2700 \nL 1759 2700 \nL 1759 1216 \nQ 1759 972 1856 886 \nQ 1953 800 2241 800 \nL 2816 800 \nL 2816 0 \nL 1856 0 \nQ 1194 0 917 276 \nQ 641 553 641 1216 \nL 641 2700 \nL 84 2700 \nL 84 3500 \nL 641 3500 \nL 641 4494 \nL 1759 4494 \nz\n\" transform=\"scale(0.015625)\"/>\n       <path id=\"DejaVuSans-Bold-73\" d=\"M 3272 3391 \nL 3272 2541 \nQ 2913 2691 2578 2766 \nQ 2244 2841 1947 2841 \nQ 1628 2841 1473 2761 \nQ 1319 2681 1319 2516 \nQ 1319 2381 1436 2309 \nQ 1553 2238 1856 2203 \nL 2053 2175 \nQ 2913 2066 3209 1816 \nQ 3506 1566 3506 1031 \nQ 3506 472 3093 190 \nQ 2681 -91 1863 -91 \nQ 1516 -91 1145 -36 \nQ 775 19 384 128 \nL 384 978 \nQ 719 816 1070 734 \nQ 1422 653 1784 653 \nQ 2113 653 2278 743 \nQ 2444 834 2444 1013 \nQ 2444 1163 2330 1236 \nQ 2216 1309 1875 1350 \nL 1678 1375 \nQ 931 1469 631 1722 \nQ 331 1975 331 2491 \nQ 331 3047 712 3315 \nQ 1094 3584 1881 3584 \nQ 2191 3584 2531 3537 \nQ 2872 3491 3272 3391 \nz\n\" transform=\"scale(0.015625)\"/>\n       <path id=\"DejaVuSans-Bold-6d\" d=\"M 3781 2919 \nQ 3994 3244 4286 3414 \nQ 4578 3584 4928 3584 \nQ 5531 3584 5847 3212 \nQ 6163 2841 6163 2131 \nL 6163 0 \nL 5038 0 \nL 5038 1825 \nQ 5041 1866 5042 1909 \nQ 5044 1953 5044 2034 \nQ 5044 2406 4934 2573 \nQ 4825 2741 4581 2741 \nQ 4263 2741 4089 2478 \nQ 3916 2216 3909 1719 \nL 3909 0 \nL 2784 0 \nL 2784 1825 \nQ 2784 2406 2684 2573 \nQ 2584 2741 2328 2741 \nQ 2006 2741 1831 2477 \nQ 1656 2213 1656 1722 \nL 1656 0 \nL 531 0 \nL 531 3500 \nL 1656 3500 \nL 1656 2988 \nQ 1863 3284 2130 3434 \nQ 2397 3584 2719 3584 \nQ 3081 3584 3359 3409 \nQ 3638 3234 3781 2919 \nz\n\" transform=\"scale(0.015625)\"/>\n      </defs>\n      <use xlink:href=\"#DejaVuSans-Bold-45\"/>\n      <use xlink:href=\"#DejaVuSans-Bold-72\" x=\"68.310547\"/>\n      <use xlink:href=\"#DejaVuSans-Bold-72\" x=\"117.626953\"/>\n      <use xlink:href=\"#DejaVuSans-Bold-6f\" x=\"166.943359\"/>\n      <use xlink:href=\"#DejaVuSans-Bold-72\" x=\"235.644531\"/>\n      <use xlink:href=\"#DejaVuSans-Bold-20\" x=\"284.960938\"/>\n      <use xlink:href=\"#DejaVuSans-Bold-6f\" x=\"319.775391\"/>\n      <use xlink:href=\"#DejaVuSans-Bold-66\" x=\"388.476562\"/>\n      <use xlink:href=\"#DejaVuSans-Bold-20\" x=\"431.982422\"/>\n      <use xlink:href=\"#DejaVuSans-Bold-64\" x=\"466.796875\"/>\n      <use xlink:href=\"#DejaVuSans-Bold-65\" x=\"538.378906\"/>\n      <use xlink:href=\"#DejaVuSans-Bold-72\" x=\"606.201172\"/>\n      <use xlink:href=\"#DejaVuSans-Bold-69\" x=\"655.517578\"/>\n      <use xlink:href=\"#DejaVuSans-Bold-76\" x=\"689.794922\"/>\n      <use xlink:href=\"#DejaVuSans-Bold-61\" x=\"754.980469\"/>\n      <use xlink:href=\"#DejaVuSans-Bold-74\" x=\"822.460938\"/>\n      <use xlink:href=\"#DejaVuSans-Bold-69\" x=\"870.263672\"/>\n      <use xlink:href=\"#DejaVuSans-Bold-76\" x=\"904.541016\"/>\n      <use xlink:href=\"#DejaVuSans-Bold-65\" x=\"969.726562\"/>\n      <use xlink:href=\"#DejaVuSans-Bold-20\" x=\"1037.548828\"/>\n      <use xlink:href=\"#DejaVuSans-Bold-65\" x=\"1072.363281\"/>\n      <use xlink:href=\"#DejaVuSans-Bold-73\" x=\"1140.185547\"/>\n      <use xlink:href=\"#DejaVuSans-Bold-74\" x=\"1199.707031\"/>\n      <use xlink:href=\"#DejaVuSans-Bold-69\" x=\"1247.509766\"/>\n      <use xlink:href=\"#DejaVuSans-Bold-6d\" x=\"1281.787109\"/>\n      <use xlink:href=\"#DejaVuSans-Bold-61\" x=\"1385.986328\"/>\n      <use xlink:href=\"#DejaVuSans-Bold-74\" x=\"1453.466797\"/>\n      <use xlink:href=\"#DejaVuSans-Bold-65\" x=\"1501.269531\"/>\n     </g>\n    </g>\n   </g>\n   <g id=\"line2d_10\">\n    <path d=\"M 79.867557 203.280563 \nL 86.07906 222.030104 \nL 92.290562 205.498197 \nL 98.502065 204.104513 \nL 104.713568 199.965038 \nL 110.925071 195.646923 \nL 117.136574 192.105771 \nL 123.348076 188.28058 \nL 129.559579 184.289433 \nL 135.771082 180.329246 \nL 141.982585 176.353997 \nL 148.194087 172.385689 \nL 154.40559 168.419405 \nL 160.617093 164.453735 \nL 166.828596 160.486802 \nL 173.040099 156.520131 \nL 179.251601 152.553611 \nL 185.463104 148.586818 \nL 191.674607 144.620231 \nL 197.88611 140.65356 \nL 204.097612 136.68689 \nL 210.309115 132.720214 \nL 216.520618 128.753528 \nL 222.732121 124.786831 \nL 228.943624 120.820116 \nL 235.155126 116.853374 \nL 241.366629 112.886593 \nL 247.578132 108.919756 \nL 253.789635 104.952836 \nL 260.001138 100.985795 \nL 266.21264 97.01858 \nL 272.424143 93.051109 \nL 278.635646 89.083268 \nL 284.847149 85.114887 \nL 291.058651 81.145722 \nL 297.270154 77.175416 \nL 303.481657 73.203455 \nL 309.69316 69.229096 \nL 315.904663 65.25127 \nL 322.116165 61.268446 \nL 328.327668 57.278456 \nL 334.539171 53.278268 \nL 340.750674 49.263724 \nL 346.962176 45.229322 \nL 353.173679 41.1682 \nL 359.385182 37.072745 \nL 365.596685 32.936792 \nL 371.808188 28.761396 \nL 378.01969 24.568368 \nL 384.231193 20.430104 \n\" clip-path=\"url(#p868f6be942)\" style=\"fill: none; stroke: #1f77b4; stroke-width: 1.5; stroke-linecap: square\"/>\n   </g>\n   <g id=\"patch_3\">\n    <path d=\"M 64.649375 232.110104 \nL 64.649375 10.350104 \n\" style=\"fill: none; stroke: #000000; stroke-width: 0.8; stroke-linejoin: miter; stroke-linecap: square\"/>\n   </g>\n   <g id=\"patch_4\">\n    <path d=\"M 399.449375 232.110104 \nL 399.449375 10.350104 \n\" style=\"fill: none; stroke: #000000; stroke-width: 0.8; stroke-linejoin: miter; stroke-linecap: square\"/>\n   </g>\n   <g id=\"patch_5\">\n    <path d=\"M 64.649375 232.110104 \nL 399.449375 232.110104 \n\" style=\"fill: none; stroke: #000000; stroke-width: 0.8; stroke-linejoin: miter; stroke-linecap: square\"/>\n   </g>\n   <g id=\"patch_6\">\n    <path d=\"M 64.649375 10.350104 \nL 399.449375 10.350104 \n\" style=\"fill: none; stroke: #000000; stroke-width: 0.8; stroke-linejoin: miter; stroke-linecap: square\"/>\n   </g>\n  </g>\n </g>\n <defs>\n  <clipPath id=\"p868f6be942\">\n   <rect x=\"64.649375\" y=\"10.350104\" width=\"334.8\" height=\"221.76\"/>\n  </clipPath>\n </defs>\n</svg>\n",
      "text/plain": [
       "<Figure size 600x400 with 1 Axes>"
      ]
     },
     "metadata": {},
     "output_type": "display_data"
    }
   ],
   "source": [
    "f = lambda x: np.sin(x)\n",
    "dfdx_estimate = lambda h: (f(x0 + h) - f(x0)) / h\n",
    "dfdx_true = np.cos(x0)\n",
    "abs_error = lambda h: np.abs(dfdx_estimate(h) - dfdx_true)\n",
    "\n",
    "h = 10 ** (np.linspace(-8, 0))\n",
    "plt.loglog(h, abs_error(h))\n",
    "plt.xlabel(\"h\")\n",
    "plt.ylabel(\"Error of derivative estimate\");"
   ]
  },
  {
   "cell_type": "markdown",
   "metadata": {},
   "source": [
    "The above plot says that the error between our estimate and the true derivative grows as $h$ gets bigger. Makes sense, right? But the plot thickens when we look at very small values of $h$..."
   ]
  },
  {
   "cell_type": "code",
   "execution_count": 5,
   "metadata": {},
   "outputs": [
    {
     "data": {
      "image/svg+xml": "<?xml version=\"1.0\" encoding=\"utf-8\" standalone=\"no\"?>\n<!DOCTYPE svg PUBLIC \"-//W3C//DTD SVG 1.1//EN\"\n  \"http://www.w3.org/Graphics/SVG/1.1/DTD/svg11.dtd\">\n<svg xmlns:xlink=\"http://www.w3.org/1999/xlink\" width=\"406.649375pt\" height=\"275.427807pt\" viewBox=\"0 0 406.649375 275.427807\" xmlns=\"http://www.w3.org/2000/svg\" version=\"1.1\">\n <metadata>\n  <rdf:RDF xmlns:dc=\"http://purl.org/dc/elements/1.1/\" xmlns:cc=\"http://creativecommons.org/ns#\" xmlns:rdf=\"http://www.w3.org/1999/02/22-rdf-syntax-ns#\">\n   <cc:Work>\n    <dc:type rdf:resource=\"http://purl.org/dc/dcmitype/StillImage\"/>\n    <dc:date>2023-01-28T20:06:02.680713</dc:date>\n    <dc:format>image/svg+xml</dc:format>\n    <dc:creator>\n     <cc:Agent>\n      <dc:title>Matplotlib v3.6.3, https://matplotlib.org/</dc:title>\n     </cc:Agent>\n    </dc:creator>\n   </cc:Work>\n  </rdf:RDF>\n </metadata>\n <defs>\n  <style type=\"text/css\">*{stroke-linejoin: round; stroke-linecap: butt}</style>\n </defs>\n <g id=\"figure_1\">\n  <g id=\"patch_1\">\n   <path d=\"M 0 275.427807 \nL 406.649375 275.427807 \nL 406.649375 0 \nL 0 0 \nz\n\" style=\"fill: #ffffff\"/>\n  </g>\n  <g id=\"axes_1\">\n   <g id=\"patch_2\">\n    <path d=\"M 64.649375 230.129057 \nL 399.449375 230.129057 \nL 399.449375 8.369057 \nL 64.649375 8.369057 \nz\n\" style=\"fill: #ffffff\"/>\n   </g>\n   <g id=\"matplotlib.axis_1\">\n    <g id=\"xtick_1\">\n     <g id=\"line2d_1\">\n      <defs>\n       <path id=\"m918e6ddbcb\" d=\"M 0 0 \nL 0 3.5 \n\" style=\"stroke: #000000; stroke-width: 0.8\"/>\n      </defs>\n      <g>\n       <use xlink:href=\"#m918e6ddbcb\" x=\"117.913011\" y=\"230.129057\" style=\"stroke: #000000; stroke-width: 0.8\"/>\n      </g>\n     </g>\n     <g id=\"text_1\">\n      <!-- $\\mathdefault{10^{-14}}$ -->\n      <g transform=\"translate(98.383011 247.766869) scale(0.14 -0.14)\">\n       <defs>\n        <path id=\"DejaVuSans-31\" d=\"M 794 531 \nL 1825 531 \nL 1825 4091 \nL 703 3866 \nL 703 4441 \nL 1819 4666 \nL 2450 4666 \nL 2450 531 \nL 3481 531 \nL 3481 0 \nL 794 0 \nL 794 531 \nz\n\" transform=\"scale(0.015625)\"/>\n        <path id=\"DejaVuSans-30\" d=\"M 2034 4250 \nQ 1547 4250 1301 3770 \nQ 1056 3291 1056 2328 \nQ 1056 1369 1301 889 \nQ 1547 409 2034 409 \nQ 2525 409 2770 889 \nQ 3016 1369 3016 2328 \nQ 3016 3291 2770 3770 \nQ 2525 4250 2034 4250 \nz\nM 2034 4750 \nQ 2819 4750 3233 4129 \nQ 3647 3509 3647 2328 \nQ 3647 1150 3233 529 \nQ 2819 -91 2034 -91 \nQ 1250 -91 836 529 \nQ 422 1150 422 2328 \nQ 422 3509 836 4129 \nQ 1250 4750 2034 4750 \nz\n\" transform=\"scale(0.015625)\"/>\n        <path id=\"DejaVuSans-2212\" d=\"M 678 2272 \nL 4684 2272 \nL 4684 1741 \nL 678 1741 \nL 678 2272 \nz\n\" transform=\"scale(0.015625)\"/>\n        <path id=\"DejaVuSans-34\" d=\"M 2419 4116 \nL 825 1625 \nL 2419 1625 \nL 2419 4116 \nz\nM 2253 4666 \nL 3047 4666 \nL 3047 1625 \nL 3713 1625 \nL 3713 1100 \nL 3047 1100 \nL 3047 0 \nL 2419 0 \nL 2419 1100 \nL 313 1100 \nL 313 1709 \nL 2253 4666 \nz\n\" transform=\"scale(0.015625)\"/>\n       </defs>\n       <use xlink:href=\"#DejaVuSans-31\" transform=\"translate(0 0.684375)\"/>\n       <use xlink:href=\"#DejaVuSans-30\" transform=\"translate(63.623047 0.684375)\"/>\n       <use xlink:href=\"#DejaVuSans-2212\" transform=\"translate(128.203125 38.965625) scale(0.7)\"/>\n       <use xlink:href=\"#DejaVuSans-31\" transform=\"translate(186.855469 38.965625) scale(0.7)\"/>\n       <use xlink:href=\"#DejaVuSans-34\" transform=\"translate(231.391602 38.965625) scale(0.7)\"/>\n      </g>\n     </g>\n    </g>\n    <g id=\"xtick_2\">\n     <g id=\"line2d_2\">\n      <g>\n       <use xlink:href=\"#m918e6ddbcb\" x=\"174.981193\" y=\"230.129057\" style=\"stroke: #000000; stroke-width: 0.8\"/>\n      </g>\n     </g>\n     <g id=\"text_2\">\n      <!-- $\\mathdefault{10^{-11}}$ -->\n      <g transform=\"translate(155.451193 247.766869) scale(0.14 -0.14)\">\n       <use xlink:href=\"#DejaVuSans-31\" transform=\"translate(0 0.684375)\"/>\n       <use xlink:href=\"#DejaVuSans-30\" transform=\"translate(63.623047 0.684375)\"/>\n       <use xlink:href=\"#DejaVuSans-2212\" transform=\"translate(128.203125 38.965625) scale(0.7)\"/>\n       <use xlink:href=\"#DejaVuSans-31\" transform=\"translate(186.855469 38.965625) scale(0.7)\"/>\n       <use xlink:href=\"#DejaVuSans-31\" transform=\"translate(231.391602 38.965625) scale(0.7)\"/>\n      </g>\n     </g>\n    </g>\n    <g id=\"xtick_3\">\n     <g id=\"line2d_3\">\n      <g>\n       <use xlink:href=\"#m918e6ddbcb\" x=\"232.049375\" y=\"230.129057\" style=\"stroke: #000000; stroke-width: 0.8\"/>\n      </g>\n     </g>\n     <g id=\"text_3\">\n      <!-- $\\mathdefault{10^{-8}}$ -->\n      <g transform=\"translate(215.599375 247.766869) scale(0.14 -0.14)\">\n       <defs>\n        <path id=\"DejaVuSans-38\" d=\"M 2034 2216 \nQ 1584 2216 1326 1975 \nQ 1069 1734 1069 1313 \nQ 1069 891 1326 650 \nQ 1584 409 2034 409 \nQ 2484 409 2743 651 \nQ 3003 894 3003 1313 \nQ 3003 1734 2745 1975 \nQ 2488 2216 2034 2216 \nz\nM 1403 2484 \nQ 997 2584 770 2862 \nQ 544 3141 544 3541 \nQ 544 4100 942 4425 \nQ 1341 4750 2034 4750 \nQ 2731 4750 3128 4425 \nQ 3525 4100 3525 3541 \nQ 3525 3141 3298 2862 \nQ 3072 2584 2669 2484 \nQ 3125 2378 3379 2068 \nQ 3634 1759 3634 1313 \nQ 3634 634 3220 271 \nQ 2806 -91 2034 -91 \nQ 1263 -91 848 271 \nQ 434 634 434 1313 \nQ 434 1759 690 2068 \nQ 947 2378 1403 2484 \nz\nM 1172 3481 \nQ 1172 3119 1398 2916 \nQ 1625 2713 2034 2713 \nQ 2441 2713 2670 2916 \nQ 2900 3119 2900 3481 \nQ 2900 3844 2670 4047 \nQ 2441 4250 2034 4250 \nQ 1625 4250 1398 4047 \nQ 1172 3844 1172 3481 \nz\n\" transform=\"scale(0.015625)\"/>\n       </defs>\n       <use xlink:href=\"#DejaVuSans-31\" transform=\"translate(0 0.765625)\"/>\n       <use xlink:href=\"#DejaVuSans-30\" transform=\"translate(63.623047 0.765625)\"/>\n       <use xlink:href=\"#DejaVuSans-2212\" transform=\"translate(128.203125 39.046875) scale(0.7)\"/>\n       <use xlink:href=\"#DejaVuSans-38\" transform=\"translate(186.855469 39.046875) scale(0.7)\"/>\n      </g>\n     </g>\n    </g>\n    <g id=\"xtick_4\">\n     <g id=\"line2d_4\">\n      <g>\n       <use xlink:href=\"#m918e6ddbcb\" x=\"289.117557\" y=\"230.129057\" style=\"stroke: #000000; stroke-width: 0.8\"/>\n      </g>\n     </g>\n     <g id=\"text_4\">\n      <!-- $\\mathdefault{10^{-5}}$ -->\n      <g transform=\"translate(272.667557 247.766869) scale(0.14 -0.14)\">\n       <defs>\n        <path id=\"DejaVuSans-35\" d=\"M 691 4666 \nL 3169 4666 \nL 3169 4134 \nL 1269 4134 \nL 1269 2991 \nQ 1406 3038 1543 3061 \nQ 1681 3084 1819 3084 \nQ 2600 3084 3056 2656 \nQ 3513 2228 3513 1497 \nQ 3513 744 3044 326 \nQ 2575 -91 1722 -91 \nQ 1428 -91 1123 -41 \nQ 819 9 494 109 \nL 494 744 \nQ 775 591 1075 516 \nQ 1375 441 1709 441 \nQ 2250 441 2565 725 \nQ 2881 1009 2881 1497 \nQ 2881 1984 2565 2268 \nQ 2250 2553 1709 2553 \nQ 1456 2553 1204 2497 \nQ 953 2441 691 2322 \nL 691 4666 \nz\n\" transform=\"scale(0.015625)\"/>\n       </defs>\n       <use xlink:href=\"#DejaVuSans-31\" transform=\"translate(0 0.684375)\"/>\n       <use xlink:href=\"#DejaVuSans-30\" transform=\"translate(63.623047 0.684375)\"/>\n       <use xlink:href=\"#DejaVuSans-2212\" transform=\"translate(128.203125 38.965625) scale(0.7)\"/>\n       <use xlink:href=\"#DejaVuSans-35\" transform=\"translate(186.855469 38.965625) scale(0.7)\"/>\n      </g>\n     </g>\n    </g>\n    <g id=\"xtick_5\">\n     <g id=\"line2d_5\">\n      <g>\n       <use xlink:href=\"#m918e6ddbcb\" x=\"346.185739\" y=\"230.129057\" style=\"stroke: #000000; stroke-width: 0.8\"/>\n      </g>\n     </g>\n     <g id=\"text_5\">\n      <!-- $\\mathdefault{10^{-2}}$ -->\n      <g transform=\"translate(329.735739 247.766869) scale(0.14 -0.14)\">\n       <defs>\n        <path id=\"DejaVuSans-32\" d=\"M 1228 531 \nL 3431 531 \nL 3431 0 \nL 469 0 \nL 469 531 \nQ 828 903 1448 1529 \nQ 2069 2156 2228 2338 \nQ 2531 2678 2651 2914 \nQ 2772 3150 2772 3378 \nQ 2772 3750 2511 3984 \nQ 2250 4219 1831 4219 \nQ 1534 4219 1204 4116 \nQ 875 4013 500 3803 \nL 500 4441 \nQ 881 4594 1212 4672 \nQ 1544 4750 1819 4750 \nQ 2544 4750 2975 4387 \nQ 3406 4025 3406 3419 \nQ 3406 3131 3298 2873 \nQ 3191 2616 2906 2266 \nQ 2828 2175 2409 1742 \nQ 1991 1309 1228 531 \nz\n\" transform=\"scale(0.015625)\"/>\n       </defs>\n       <use xlink:href=\"#DejaVuSans-31\" transform=\"translate(0 0.765625)\"/>\n       <use xlink:href=\"#DejaVuSans-30\" transform=\"translate(63.623047 0.765625)\"/>\n       <use xlink:href=\"#DejaVuSans-2212\" transform=\"translate(128.203125 39.046875) scale(0.7)\"/>\n       <use xlink:href=\"#DejaVuSans-32\" transform=\"translate(186.855469 39.046875) scale(0.7)\"/>\n      </g>\n     </g>\n    </g>\n    <g id=\"text_6\">\n     <!-- h -->\n     <g transform=\"translate(227.06625 265.316244) scale(0.14 -0.14)\">\n      <defs>\n       <path id=\"DejaVuSans-Bold-68\" d=\"M 4056 2131 \nL 4056 0 \nL 2931 0 \nL 2931 347 \nL 2931 1625 \nQ 2931 2084 2911 2256 \nQ 2891 2428 2841 2509 \nQ 2775 2619 2662 2680 \nQ 2550 2741 2406 2741 \nQ 2056 2741 1856 2470 \nQ 1656 2200 1656 1722 \nL 1656 0 \nL 538 0 \nL 538 4863 \nL 1656 4863 \nL 1656 2988 \nQ 1909 3294 2193 3439 \nQ 2478 3584 2822 3584 \nQ 3428 3584 3742 3212 \nQ 4056 2841 4056 2131 \nz\n\" transform=\"scale(0.015625)\"/>\n      </defs>\n      <use xlink:href=\"#DejaVuSans-Bold-68\"/>\n     </g>\n    </g>\n   </g>\n   <g id=\"matplotlib.axis_2\">\n    <g id=\"ytick_1\">\n     <g id=\"line2d_6\">\n      <defs>\n       <path id=\"md091c2139e\" d=\"M 0 0 \nL -3.5 0 \n\" style=\"stroke: #000000; stroke-width: 0.8\"/>\n      </defs>\n      <g>\n       <use xlink:href=\"#md091c2139e\" x=\"64.649375\" y=\"189.959957\" style=\"stroke: #000000; stroke-width: 0.8\"/>\n      </g>\n     </g>\n     <g id=\"text_7\">\n      <!-- $\\mathdefault{10^{-8}}$ -->\n      <g transform=\"translate(24.749375 195.278863) scale(0.14 -0.14)\">\n       <use xlink:href=\"#DejaVuSans-31\" transform=\"translate(0 0.765625)\"/>\n       <use xlink:href=\"#DejaVuSans-30\" transform=\"translate(63.623047 0.765625)\"/>\n       <use xlink:href=\"#DejaVuSans-2212\" transform=\"translate(128.203125 39.046875) scale(0.7)\"/>\n       <use xlink:href=\"#DejaVuSans-38\" transform=\"translate(186.855469 39.046875) scale(0.7)\"/>\n      </g>\n     </g>\n    </g>\n    <g id=\"ytick_2\">\n     <g id=\"line2d_7\">\n      <g>\n       <use xlink:href=\"#md091c2139e\" x=\"64.649375\" y=\"145.599694\" style=\"stroke: #000000; stroke-width: 0.8\"/>\n      </g>\n     </g>\n     <g id=\"text_8\">\n      <!-- $\\mathdefault{10^{-6}}$ -->\n      <g transform=\"translate(24.749375 150.918601) scale(0.14 -0.14)\">\n       <defs>\n        <path id=\"DejaVuSans-36\" d=\"M 2113 2584 \nQ 1688 2584 1439 2293 \nQ 1191 2003 1191 1497 \nQ 1191 994 1439 701 \nQ 1688 409 2113 409 \nQ 2538 409 2786 701 \nQ 3034 994 3034 1497 \nQ 3034 2003 2786 2293 \nQ 2538 2584 2113 2584 \nz\nM 3366 4563 \nL 3366 3988 \nQ 3128 4100 2886 4159 \nQ 2644 4219 2406 4219 \nQ 1781 4219 1451 3797 \nQ 1122 3375 1075 2522 \nQ 1259 2794 1537 2939 \nQ 1816 3084 2150 3084 \nQ 2853 3084 3261 2657 \nQ 3669 2231 3669 1497 \nQ 3669 778 3244 343 \nQ 2819 -91 2113 -91 \nQ 1303 -91 875 529 \nQ 447 1150 447 2328 \nQ 447 3434 972 4092 \nQ 1497 4750 2381 4750 \nQ 2619 4750 2861 4703 \nQ 3103 4656 3366 4563 \nz\n\" transform=\"scale(0.015625)\"/>\n       </defs>\n       <use xlink:href=\"#DejaVuSans-31\" transform=\"translate(0 0.765625)\"/>\n       <use xlink:href=\"#DejaVuSans-30\" transform=\"translate(63.623047 0.765625)\"/>\n       <use xlink:href=\"#DejaVuSans-2212\" transform=\"translate(128.203125 39.046875) scale(0.7)\"/>\n       <use xlink:href=\"#DejaVuSans-36\" transform=\"translate(186.855469 39.046875) scale(0.7)\"/>\n      </g>\n     </g>\n    </g>\n    <g id=\"ytick_3\">\n     <g id=\"line2d_8\">\n      <g>\n       <use xlink:href=\"#md091c2139e\" x=\"64.649375\" y=\"101.239432\" style=\"stroke: #000000; stroke-width: 0.8\"/>\n      </g>\n     </g>\n     <g id=\"text_9\">\n      <!-- $\\mathdefault{10^{-4}}$ -->\n      <g transform=\"translate(24.749375 106.558338) scale(0.14 -0.14)\">\n       <use xlink:href=\"#DejaVuSans-31\" transform=\"translate(0 0.684375)\"/>\n       <use xlink:href=\"#DejaVuSans-30\" transform=\"translate(63.623047 0.684375)\"/>\n       <use xlink:href=\"#DejaVuSans-2212\" transform=\"translate(128.203125 38.965625) scale(0.7)\"/>\n       <use xlink:href=\"#DejaVuSans-34\" transform=\"translate(186.855469 38.965625) scale(0.7)\"/>\n      </g>\n     </g>\n    </g>\n    <g id=\"ytick_4\">\n     <g id=\"line2d_9\">\n      <g>\n       <use xlink:href=\"#md091c2139e\" x=\"64.649375\" y=\"56.879169\" style=\"stroke: #000000; stroke-width: 0.8\"/>\n      </g>\n     </g>\n     <g id=\"text_10\">\n      <!-- $\\mathdefault{10^{-2}}$ -->\n      <g transform=\"translate(24.749375 62.198075) scale(0.14 -0.14)\">\n       <use xlink:href=\"#DejaVuSans-31\" transform=\"translate(0 0.765625)\"/>\n       <use xlink:href=\"#DejaVuSans-30\" transform=\"translate(63.623047 0.765625)\"/>\n       <use xlink:href=\"#DejaVuSans-2212\" transform=\"translate(128.203125 39.046875) scale(0.7)\"/>\n       <use xlink:href=\"#DejaVuSans-32\" transform=\"translate(186.855469 39.046875) scale(0.7)\"/>\n      </g>\n     </g>\n    </g>\n    <g id=\"ytick_5\">\n     <g id=\"line2d_10\">\n      <g>\n       <use xlink:href=\"#md091c2139e\" x=\"64.649375\" y=\"12.518906\" style=\"stroke: #000000; stroke-width: 0.8\"/>\n      </g>\n     </g>\n     <g id=\"text_11\">\n      <!-- $\\mathdefault{10^{0}}$ -->\n      <g transform=\"translate(33.009375 17.837812) scale(0.14 -0.14)\">\n       <use xlink:href=\"#DejaVuSans-31\" transform=\"translate(0 0.765625)\"/>\n       <use xlink:href=\"#DejaVuSans-30\" transform=\"translate(63.623047 0.765625)\"/>\n       <use xlink:href=\"#DejaVuSans-30\" transform=\"translate(128.203125 39.046875) scale(0.7)\"/>\n      </g>\n     </g>\n    </g>\n    <g id=\"text_12\">\n     <!-- Error of derivative estimate -->\n     <g transform=\"translate(17.837813 229.085619) rotate(-90) scale(0.14 -0.14)\">\n      <defs>\n       <path id=\"DejaVuSans-Bold-45\" d=\"M 588 4666 \nL 3834 4666 \nL 3834 3756 \nL 1791 3756 \nL 1791 2888 \nL 3713 2888 \nL 3713 1978 \nL 1791 1978 \nL 1791 909 \nL 3903 909 \nL 3903 0 \nL 588 0 \nL 588 4666 \nz\n\" transform=\"scale(0.015625)\"/>\n       <path id=\"DejaVuSans-Bold-72\" d=\"M 3138 2547 \nQ 2991 2616 2845 2648 \nQ 2700 2681 2553 2681 \nQ 2122 2681 1889 2404 \nQ 1656 2128 1656 1613 \nL 1656 0 \nL 538 0 \nL 538 3500 \nL 1656 3500 \nL 1656 2925 \nQ 1872 3269 2151 3426 \nQ 2431 3584 2822 3584 \nQ 2878 3584 2943 3579 \nQ 3009 3575 3134 3559 \nL 3138 2547 \nz\n\" transform=\"scale(0.015625)\"/>\n       <path id=\"DejaVuSans-Bold-6f\" d=\"M 2203 2784 \nQ 1831 2784 1636 2517 \nQ 1441 2250 1441 1747 \nQ 1441 1244 1636 976 \nQ 1831 709 2203 709 \nQ 2569 709 2762 976 \nQ 2956 1244 2956 1747 \nQ 2956 2250 2762 2517 \nQ 2569 2784 2203 2784 \nz\nM 2203 3584 \nQ 3106 3584 3614 3096 \nQ 4122 2609 4122 1747 \nQ 4122 884 3614 396 \nQ 3106 -91 2203 -91 \nQ 1297 -91 786 396 \nQ 275 884 275 1747 \nQ 275 2609 786 3096 \nQ 1297 3584 2203 3584 \nz\n\" transform=\"scale(0.015625)\"/>\n       <path id=\"DejaVuSans-Bold-20\" transform=\"scale(0.015625)\"/>\n       <path id=\"DejaVuSans-Bold-66\" d=\"M 2841 4863 \nL 2841 4128 \nL 2222 4128 \nQ 1984 4128 1890 4042 \nQ 1797 3956 1797 3744 \nL 1797 3500 \nL 2753 3500 \nL 2753 2700 \nL 1797 2700 \nL 1797 0 \nL 678 0 \nL 678 2700 \nL 122 2700 \nL 122 3500 \nL 678 3500 \nL 678 3744 \nQ 678 4316 997 4589 \nQ 1316 4863 1984 4863 \nL 2841 4863 \nz\n\" transform=\"scale(0.015625)\"/>\n       <path id=\"DejaVuSans-Bold-64\" d=\"M 2919 2988 \nL 2919 4863 \nL 4044 4863 \nL 4044 0 \nL 2919 0 \nL 2919 506 \nQ 2688 197 2409 53 \nQ 2131 -91 1766 -91 \nQ 1119 -91 703 423 \nQ 288 938 288 1747 \nQ 288 2556 703 3070 \nQ 1119 3584 1766 3584 \nQ 2128 3584 2408 3439 \nQ 2688 3294 2919 2988 \nz\nM 2181 722 \nQ 2541 722 2730 984 \nQ 2919 1247 2919 1747 \nQ 2919 2247 2730 2509 \nQ 2541 2772 2181 2772 \nQ 1825 2772 1636 2509 \nQ 1447 2247 1447 1747 \nQ 1447 1247 1636 984 \nQ 1825 722 2181 722 \nz\n\" transform=\"scale(0.015625)\"/>\n       <path id=\"DejaVuSans-Bold-65\" d=\"M 4031 1759 \nL 4031 1441 \nL 1416 1441 \nQ 1456 1047 1700 850 \nQ 1944 653 2381 653 \nQ 2734 653 3104 758 \nQ 3475 863 3866 1075 \nL 3866 213 \nQ 3469 63 3072 -14 \nQ 2675 -91 2278 -91 \nQ 1328 -91 801 392 \nQ 275 875 275 1747 \nQ 275 2603 792 3093 \nQ 1309 3584 2216 3584 \nQ 3041 3584 3536 3087 \nQ 4031 2591 4031 1759 \nz\nM 2881 2131 \nQ 2881 2450 2695 2645 \nQ 2509 2841 2209 2841 \nQ 1884 2841 1681 2658 \nQ 1478 2475 1428 2131 \nL 2881 2131 \nz\n\" transform=\"scale(0.015625)\"/>\n       <path id=\"DejaVuSans-Bold-69\" d=\"M 538 3500 \nL 1656 3500 \nL 1656 0 \nL 538 0 \nL 538 3500 \nz\nM 538 4863 \nL 1656 4863 \nL 1656 3950 \nL 538 3950 \nL 538 4863 \nz\n\" transform=\"scale(0.015625)\"/>\n       <path id=\"DejaVuSans-Bold-76\" d=\"M 97 3500 \nL 1216 3500 \nL 2088 1081 \nL 2956 3500 \nL 4078 3500 \nL 2700 0 \nL 1472 0 \nL 97 3500 \nz\n\" transform=\"scale(0.015625)\"/>\n       <path id=\"DejaVuSans-Bold-61\" d=\"M 2106 1575 \nQ 1756 1575 1579 1456 \nQ 1403 1338 1403 1106 \nQ 1403 894 1545 773 \nQ 1688 653 1941 653 \nQ 2256 653 2472 879 \nQ 2688 1106 2688 1447 \nL 2688 1575 \nL 2106 1575 \nz\nM 3816 1997 \nL 3816 0 \nL 2688 0 \nL 2688 519 \nQ 2463 200 2181 54 \nQ 1900 -91 1497 -91 \nQ 953 -91 614 226 \nQ 275 544 275 1050 \nQ 275 1666 698 1953 \nQ 1122 2241 2028 2241 \nL 2688 2241 \nL 2688 2328 \nQ 2688 2594 2478 2717 \nQ 2269 2841 1825 2841 \nQ 1466 2841 1156 2769 \nQ 847 2697 581 2553 \nL 581 3406 \nQ 941 3494 1303 3539 \nQ 1666 3584 2028 3584 \nQ 2975 3584 3395 3211 \nQ 3816 2838 3816 1997 \nz\n\" transform=\"scale(0.015625)\"/>\n       <path id=\"DejaVuSans-Bold-74\" d=\"M 1759 4494 \nL 1759 3500 \nL 2913 3500 \nL 2913 2700 \nL 1759 2700 \nL 1759 1216 \nQ 1759 972 1856 886 \nQ 1953 800 2241 800 \nL 2816 800 \nL 2816 0 \nL 1856 0 \nQ 1194 0 917 276 \nQ 641 553 641 1216 \nL 641 2700 \nL 84 2700 \nL 84 3500 \nL 641 3500 \nL 641 4494 \nL 1759 4494 \nz\n\" transform=\"scale(0.015625)\"/>\n       <path id=\"DejaVuSans-Bold-73\" d=\"M 3272 3391 \nL 3272 2541 \nQ 2913 2691 2578 2766 \nQ 2244 2841 1947 2841 \nQ 1628 2841 1473 2761 \nQ 1319 2681 1319 2516 \nQ 1319 2381 1436 2309 \nQ 1553 2238 1856 2203 \nL 2053 2175 \nQ 2913 2066 3209 1816 \nQ 3506 1566 3506 1031 \nQ 3506 472 3093 190 \nQ 2681 -91 1863 -91 \nQ 1516 -91 1145 -36 \nQ 775 19 384 128 \nL 384 978 \nQ 719 816 1070 734 \nQ 1422 653 1784 653 \nQ 2113 653 2278 743 \nQ 2444 834 2444 1013 \nQ 2444 1163 2330 1236 \nQ 2216 1309 1875 1350 \nL 1678 1375 \nQ 931 1469 631 1722 \nQ 331 1975 331 2491 \nQ 331 3047 712 3315 \nQ 1094 3584 1881 3584 \nQ 2191 3584 2531 3537 \nQ 2872 3491 3272 3391 \nz\n\" transform=\"scale(0.015625)\"/>\n       <path id=\"DejaVuSans-Bold-6d\" d=\"M 3781 2919 \nQ 3994 3244 4286 3414 \nQ 4578 3584 4928 3584 \nQ 5531 3584 5847 3212 \nQ 6163 2841 6163 2131 \nL 6163 0 \nL 5038 0 \nL 5038 1825 \nQ 5041 1866 5042 1909 \nQ 5044 1953 5044 2034 \nQ 5044 2406 4934 2573 \nQ 4825 2741 4581 2741 \nQ 4263 2741 4089 2478 \nQ 3916 2216 3909 1719 \nL 3909 0 \nL 2784 0 \nL 2784 1825 \nQ 2784 2406 2684 2573 \nQ 2584 2741 2328 2741 \nQ 2006 2741 1831 2477 \nQ 1656 2213 1656 1722 \nL 1656 0 \nL 531 0 \nL 531 3500 \nL 1656 3500 \nL 1656 2988 \nQ 1863 3284 2130 3434 \nQ 2397 3584 2719 3584 \nQ 3081 3584 3359 3409 \nQ 3638 3234 3781 2919 \nz\n\" transform=\"scale(0.015625)\"/>\n      </defs>\n      <use xlink:href=\"#DejaVuSans-Bold-45\"/>\n      <use xlink:href=\"#DejaVuSans-Bold-72\" x=\"68.310547\"/>\n      <use xlink:href=\"#DejaVuSans-Bold-72\" x=\"117.626953\"/>\n      <use xlink:href=\"#DejaVuSans-Bold-6f\" x=\"166.943359\"/>\n      <use xlink:href=\"#DejaVuSans-Bold-72\" x=\"235.644531\"/>\n      <use xlink:href=\"#DejaVuSans-Bold-20\" x=\"284.960938\"/>\n      <use xlink:href=\"#DejaVuSans-Bold-6f\" x=\"319.775391\"/>\n      <use xlink:href=\"#DejaVuSans-Bold-66\" x=\"388.476562\"/>\n      <use xlink:href=\"#DejaVuSans-Bold-20\" x=\"431.982422\"/>\n      <use xlink:href=\"#DejaVuSans-Bold-64\" x=\"466.796875\"/>\n      <use xlink:href=\"#DejaVuSans-Bold-65\" x=\"538.378906\"/>\n      <use xlink:href=\"#DejaVuSans-Bold-72\" x=\"606.201172\"/>\n      <use xlink:href=\"#DejaVuSans-Bold-69\" x=\"655.517578\"/>\n      <use xlink:href=\"#DejaVuSans-Bold-76\" x=\"689.794922\"/>\n      <use xlink:href=\"#DejaVuSans-Bold-61\" x=\"754.980469\"/>\n      <use xlink:href=\"#DejaVuSans-Bold-74\" x=\"822.460938\"/>\n      <use xlink:href=\"#DejaVuSans-Bold-69\" x=\"870.263672\"/>\n      <use xlink:href=\"#DejaVuSans-Bold-76\" x=\"904.541016\"/>\n      <use xlink:href=\"#DejaVuSans-Bold-65\" x=\"969.726562\"/>\n      <use xlink:href=\"#DejaVuSans-Bold-20\" x=\"1037.548828\"/>\n      <use xlink:href=\"#DejaVuSans-Bold-65\" x=\"1072.363281\"/>\n      <use xlink:href=\"#DejaVuSans-Bold-73\" x=\"1140.185547\"/>\n      <use xlink:href=\"#DejaVuSans-Bold-74\" x=\"1199.707031\"/>\n      <use xlink:href=\"#DejaVuSans-Bold-69\" x=\"1247.509766\"/>\n      <use xlink:href=\"#DejaVuSans-Bold-6d\" x=\"1281.787109\"/>\n      <use xlink:href=\"#DejaVuSans-Bold-61\" x=\"1385.986328\"/>\n      <use xlink:href=\"#DejaVuSans-Bold-74\" x=\"1453.466797\"/>\n      <use xlink:href=\"#DejaVuSans-Bold-65\" x=\"1501.269531\"/>\n     </g>\n    </g>\n   </g>\n   <g id=\"line2d_11\">\n    <path d=\"M 79.867557 18.449057 \nL 86.07906 51.854876 \nL 92.290562 42.03406 \nL 98.502065 37.489921 \nL 104.713568 58.629923 \nL 110.925071 68.741717 \nL 117.136574 66.54278 \nL 123.348076 93.105235 \nL 129.559579 81.591789 \nL 135.771082 87.39282 \nL 141.982585 89.938577 \nL 148.194087 95.41061 \nL 154.40559 109.446976 \nL 160.617093 126.111461 \nL 166.828596 126.139315 \nL 173.040099 129.807866 \nL 179.251601 152.765412 \nL 185.463104 135.077233 \nL 191.674607 154.310526 \nL 197.88611 174.54617 \nL 204.097612 176.743003 \nL 210.309115 183.419697 \nL 216.520618 173.652732 \nL 222.732121 208.576032 \nL 228.943624 220.049057 \nL 235.155126 203.786186 \nL 241.366629 187.421529 \nL 247.578132 179.700413 \nL 253.789635 172.97552 \nL 260.001138 165.716576 \nL 266.21264 158.464731 \nL 272.424143 151.22348 \nL 278.635646 143.980722 \nL 284.847149 136.73823 \nL 291.058651 129.495788 \nL 297.270154 122.253266 \nL 303.481657 115.01071 \nL 309.69316 107.768086 \nL 315.904663 100.525316 \nL 322.116165 93.282233 \nL 328.327668 86.038487 \nL 334.539171 78.793339 \nL 340.750674 71.545225 \nL 346.962176 64.290859 \nL 353.173679 57.02341 \nL 359.385182 49.729004 \nL 365.596685 42.380949 \nL 371.808188 34.934634 \nL 378.01969 27.347025 \nL 384.231193 19.741209 \n\" clip-path=\"url(#p02426f467f)\" style=\"fill: none; stroke: #1f77b4; stroke-width: 1.5; stroke-linecap: square\"/>\n   </g>\n   <g id=\"patch_3\">\n    <path d=\"M 64.649375 230.129057 \nL 64.649375 8.369057 \n\" style=\"fill: none; stroke: #000000; stroke-width: 0.8; stroke-linejoin: miter; stroke-linecap: square\"/>\n   </g>\n   <g id=\"patch_4\">\n    <path d=\"M 399.449375 230.129057 \nL 399.449375 8.369057 \n\" style=\"fill: none; stroke: #000000; stroke-width: 0.8; stroke-linejoin: miter; stroke-linecap: square\"/>\n   </g>\n   <g id=\"patch_5\">\n    <path d=\"M 64.649375 230.129057 \nL 399.449375 230.129057 \n\" style=\"fill: none; stroke: #000000; stroke-width: 0.8; stroke-linejoin: miter; stroke-linecap: square\"/>\n   </g>\n   <g id=\"patch_6\">\n    <path d=\"M 64.649375 8.369057 \nL 399.449375 8.369057 \n\" style=\"fill: none; stroke: #000000; stroke-width: 0.8; stroke-linejoin: miter; stroke-linecap: square\"/>\n   </g>\n  </g>\n </g>\n <defs>\n  <clipPath id=\"p02426f467f\">\n   <rect x=\"64.649375\" y=\"8.369057\" width=\"334.8\" height=\"221.76\"/>\n  </clipPath>\n </defs>\n</svg>\n",
      "text/plain": [
       "<Figure size 600x400 with 1 Axes>"
      ]
     },
     "metadata": {},
     "output_type": "display_data"
    }
   ],
   "source": [
    "h = 10 ** (np.linspace(-16, 0))\n",
    "plt.loglog(h, abs_error(h))\n",
    "plt.xlabel(\"h\")\n",
    "plt.ylabel(\"Error of derivative estimate\");"
   ]
  },
  {
   "cell_type": "markdown",
   "metadata": {},
   "source": [
    "Wait... what?\n",
    "\n",
    "When $h\\ll 1$ we have that $\\left| f(x+h)-f(x) \\right| \\ll 1$. This leads to _roundoff errors_. Is it underflow?"
   ]
  },
  {
   "cell_type": "code",
   "execution_count": 6,
   "metadata": {},
   "outputs": [
    {
     "data": {
      "image/svg+xml": "<?xml version=\"1.0\" encoding=\"utf-8\" standalone=\"no\"?>\n<!DOCTYPE svg PUBLIC \"-//W3C//DTD SVG 1.1//EN\"\n  \"http://www.w3.org/Graphics/SVG/1.1/DTD/svg11.dtd\">\n<svg xmlns:xlink=\"http://www.w3.org/1999/xlink\" width=\"389.1pt\" height=\"257.87843pt\" viewBox=\"0 0 389.1 257.87843\" xmlns=\"http://www.w3.org/2000/svg\" version=\"1.1\">\n <metadata>\n  <rdf:RDF xmlns:dc=\"http://purl.org/dc/elements/1.1/\" xmlns:cc=\"http://creativecommons.org/ns#\" xmlns:rdf=\"http://www.w3.org/1999/02/22-rdf-syntax-ns#\">\n   <cc:Work>\n    <dc:type rdf:resource=\"http://purl.org/dc/dcmitype/StillImage\"/>\n    <dc:date>2023-01-28T20:06:02.803288</dc:date>\n    <dc:format>image/svg+xml</dc:format>\n    <dc:creator>\n     <cc:Agent>\n      <dc:title>Matplotlib v3.6.3, https://matplotlib.org/</dc:title>\n     </cc:Agent>\n    </dc:creator>\n   </cc:Work>\n  </rdf:RDF>\n </metadata>\n <defs>\n  <style type=\"text/css\">*{stroke-linejoin: round; stroke-linecap: butt}</style>\n </defs>\n <g id=\"figure_1\">\n  <g id=\"patch_1\">\n   <path d=\"M 0 257.87843 \nL 389.1 257.87843 \nL 389.1 0 \nL 0 0 \nz\n\" style=\"fill: #ffffff\"/>\n  </g>\n  <g id=\"axes_1\">\n   <g id=\"patch_2\">\n    <path d=\"M 47.1 230.129055 \nL 381.9 230.129055 \nL 381.9 8.369055 \nL 47.1 8.369055 \nz\n\" style=\"fill: #ffffff\"/>\n   </g>\n   <g id=\"matplotlib.axis_1\">\n    <g id=\"xtick_1\">\n     <g id=\"line2d_1\">\n      <defs>\n       <path id=\"m5b8d4991ad\" d=\"M 0 0 \nL 0 3.5 \n\" style=\"stroke: #000000; stroke-width: 0.8\"/>\n      </defs>\n      <g>\n       <use xlink:href=\"#m5b8d4991ad\" x=\"98.841818\" y=\"230.129055\" style=\"stroke: #000000; stroke-width: 0.8\"/>\n      </g>\n     </g>\n     <g id=\"text_1\">\n      <!-- $\\mathdefault{10^{-22}}$ -->\n      <g transform=\"translate(79.311818 247.766868) scale(0.14 -0.14)\">\n       <defs>\n        <path id=\"DejaVuSans-31\" d=\"M 794 531 \nL 1825 531 \nL 1825 4091 \nL 703 3866 \nL 703 4441 \nL 1819 4666 \nL 2450 4666 \nL 2450 531 \nL 3481 531 \nL 3481 0 \nL 794 0 \nL 794 531 \nz\n\" transform=\"scale(0.015625)\"/>\n        <path id=\"DejaVuSans-30\" d=\"M 2034 4250 \nQ 1547 4250 1301 3770 \nQ 1056 3291 1056 2328 \nQ 1056 1369 1301 889 \nQ 1547 409 2034 409 \nQ 2525 409 2770 889 \nQ 3016 1369 3016 2328 \nQ 3016 3291 2770 3770 \nQ 2525 4250 2034 4250 \nz\nM 2034 4750 \nQ 2819 4750 3233 4129 \nQ 3647 3509 3647 2328 \nQ 3647 1150 3233 529 \nQ 2819 -91 2034 -91 \nQ 1250 -91 836 529 \nQ 422 1150 422 2328 \nQ 422 3509 836 4129 \nQ 1250 4750 2034 4750 \nz\n\" transform=\"scale(0.015625)\"/>\n        <path id=\"DejaVuSans-2212\" d=\"M 678 2272 \nL 4684 2272 \nL 4684 1741 \nL 678 1741 \nL 678 2272 \nz\n\" transform=\"scale(0.015625)\"/>\n        <path id=\"DejaVuSans-32\" d=\"M 1228 531 \nL 3431 531 \nL 3431 0 \nL 469 0 \nL 469 531 \nQ 828 903 1448 1529 \nQ 2069 2156 2228 2338 \nQ 2531 2678 2651 2914 \nQ 2772 3150 2772 3378 \nQ 2772 3750 2511 3984 \nQ 2250 4219 1831 4219 \nQ 1534 4219 1204 4116 \nQ 875 4013 500 3803 \nL 500 4441 \nQ 881 4594 1212 4672 \nQ 1544 4750 1819 4750 \nQ 2544 4750 2975 4387 \nQ 3406 4025 3406 3419 \nQ 3406 3131 3298 2873 \nQ 3191 2616 2906 2266 \nQ 2828 2175 2409 1742 \nQ 1991 1309 1228 531 \nz\n\" transform=\"scale(0.015625)\"/>\n       </defs>\n       <use xlink:href=\"#DejaVuSans-31\" transform=\"translate(0 0.765625)\"/>\n       <use xlink:href=\"#DejaVuSans-30\" transform=\"translate(63.623047 0.765625)\"/>\n       <use xlink:href=\"#DejaVuSans-2212\" transform=\"translate(128.203125 39.046875) scale(0.7)\"/>\n       <use xlink:href=\"#DejaVuSans-32\" transform=\"translate(186.855469 39.046875) scale(0.7)\"/>\n       <use xlink:href=\"#DejaVuSans-32\" transform=\"translate(231.391602 39.046875) scale(0.7)\"/>\n      </g>\n     </g>\n    </g>\n    <g id=\"xtick_2\">\n     <g id=\"line2d_2\">\n      <g>\n       <use xlink:href=\"#m5b8d4991ad\" x=\"159.714545\" y=\"230.129055\" style=\"stroke: #000000; stroke-width: 0.8\"/>\n      </g>\n     </g>\n     <g id=\"text_2\">\n      <!-- $\\mathdefault{10^{-17}}$ -->\n      <g transform=\"translate(140.184545 247.766868) scale(0.14 -0.14)\">\n       <defs>\n        <path id=\"DejaVuSans-37\" d=\"M 525 4666 \nL 3525 4666 \nL 3525 4397 \nL 1831 0 \nL 1172 0 \nL 2766 4134 \nL 525 4134 \nL 525 4666 \nz\n\" transform=\"scale(0.015625)\"/>\n       </defs>\n       <use xlink:href=\"#DejaVuSans-31\" transform=\"translate(0 0.684375)\"/>\n       <use xlink:href=\"#DejaVuSans-30\" transform=\"translate(63.623047 0.684375)\"/>\n       <use xlink:href=\"#DejaVuSans-2212\" transform=\"translate(128.203125 38.965625) scale(0.7)\"/>\n       <use xlink:href=\"#DejaVuSans-31\" transform=\"translate(186.855469 38.965625) scale(0.7)\"/>\n       <use xlink:href=\"#DejaVuSans-37\" transform=\"translate(231.391602 38.965625) scale(0.7)\"/>\n      </g>\n     </g>\n    </g>\n    <g id=\"xtick_3\">\n     <g id=\"line2d_3\">\n      <g>\n       <use xlink:href=\"#m5b8d4991ad\" x=\"220.587273\" y=\"230.129055\" style=\"stroke: #000000; stroke-width: 0.8\"/>\n      </g>\n     </g>\n     <g id=\"text_3\">\n      <!-- $\\mathdefault{10^{-12}}$ -->\n      <g transform=\"translate(201.057273 247.766868) scale(0.14 -0.14)\">\n       <use xlink:href=\"#DejaVuSans-31\" transform=\"translate(0 0.765625)\"/>\n       <use xlink:href=\"#DejaVuSans-30\" transform=\"translate(63.623047 0.765625)\"/>\n       <use xlink:href=\"#DejaVuSans-2212\" transform=\"translate(128.203125 39.046875) scale(0.7)\"/>\n       <use xlink:href=\"#DejaVuSans-31\" transform=\"translate(186.855469 39.046875) scale(0.7)\"/>\n       <use xlink:href=\"#DejaVuSans-32\" transform=\"translate(231.391602 39.046875) scale(0.7)\"/>\n      </g>\n     </g>\n    </g>\n    <g id=\"xtick_4\">\n     <g id=\"line2d_4\">\n      <g>\n       <use xlink:href=\"#m5b8d4991ad\" x=\"281.46\" y=\"230.129055\" style=\"stroke: #000000; stroke-width: 0.8\"/>\n      </g>\n     </g>\n     <g id=\"text_4\">\n      <!-- $\\mathdefault{10^{-7}}$ -->\n      <g transform=\"translate(265.01 247.766868) scale(0.14 -0.14)\">\n       <use xlink:href=\"#DejaVuSans-31\" transform=\"translate(0 0.684375)\"/>\n       <use xlink:href=\"#DejaVuSans-30\" transform=\"translate(63.623047 0.684375)\"/>\n       <use xlink:href=\"#DejaVuSans-2212\" transform=\"translate(128.203125 38.965625) scale(0.7)\"/>\n       <use xlink:href=\"#DejaVuSans-37\" transform=\"translate(186.855469 38.965625) scale(0.7)\"/>\n      </g>\n     </g>\n    </g>\n    <g id=\"xtick_5\">\n     <g id=\"line2d_5\">\n      <g>\n       <use xlink:href=\"#m5b8d4991ad\" x=\"342.332727\" y=\"230.129055\" style=\"stroke: #000000; stroke-width: 0.8\"/>\n      </g>\n     </g>\n     <g id=\"text_5\">\n      <!-- $\\mathdefault{10^{-2}}$ -->\n      <g transform=\"translate(325.882727 247.766868) scale(0.14 -0.14)\">\n       <use xlink:href=\"#DejaVuSans-31\" transform=\"translate(0 0.765625)\"/>\n       <use xlink:href=\"#DejaVuSans-30\" transform=\"translate(63.623047 0.765625)\"/>\n       <use xlink:href=\"#DejaVuSans-2212\" transform=\"translate(128.203125 39.046875) scale(0.7)\"/>\n       <use xlink:href=\"#DejaVuSans-32\" transform=\"translate(186.855469 39.046875) scale(0.7)\"/>\n      </g>\n     </g>\n    </g>\n   </g>\n   <g id=\"matplotlib.axis_2\">\n    <g id=\"ytick_1\">\n     <g id=\"line2d_6\">\n      <defs>\n       <path id=\"meb4884787a\" d=\"M 0 0 \nL -3.5 0 \n\" style=\"stroke: #000000; stroke-width: 0.8\"/>\n      </defs>\n      <g>\n       <use xlink:href=\"#meb4884787a\" x=\"47.1\" y=\"189.959914\" style=\"stroke: #000000; stroke-width: 0.8\"/>\n      </g>\n     </g>\n     <g id=\"text_6\">\n      <!-- $\\mathdefault{10^{-8}}$ -->\n      <g transform=\"translate(7.2 195.278821) scale(0.14 -0.14)\">\n       <defs>\n        <path id=\"DejaVuSans-38\" d=\"M 2034 2216 \nQ 1584 2216 1326 1975 \nQ 1069 1734 1069 1313 \nQ 1069 891 1326 650 \nQ 1584 409 2034 409 \nQ 2484 409 2743 651 \nQ 3003 894 3003 1313 \nQ 3003 1734 2745 1975 \nQ 2488 2216 2034 2216 \nz\nM 1403 2484 \nQ 997 2584 770 2862 \nQ 544 3141 544 3541 \nQ 544 4100 942 4425 \nQ 1341 4750 2034 4750 \nQ 2731 4750 3128 4425 \nQ 3525 4100 3525 3541 \nQ 3525 3141 3298 2862 \nQ 3072 2584 2669 2484 \nQ 3125 2378 3379 2068 \nQ 3634 1759 3634 1313 \nQ 3634 634 3220 271 \nQ 2806 -91 2034 -91 \nQ 1263 -91 848 271 \nQ 434 634 434 1313 \nQ 434 1759 690 2068 \nQ 947 2378 1403 2484 \nz\nM 1172 3481 \nQ 1172 3119 1398 2916 \nQ 1625 2713 2034 2713 \nQ 2441 2713 2670 2916 \nQ 2900 3119 2900 3481 \nQ 2900 3844 2670 4047 \nQ 2441 4250 2034 4250 \nQ 1625 4250 1398 4047 \nQ 1172 3844 1172 3481 \nz\n\" transform=\"scale(0.015625)\"/>\n       </defs>\n       <use xlink:href=\"#DejaVuSans-31\" transform=\"translate(0 0.765625)\"/>\n       <use xlink:href=\"#DejaVuSans-30\" transform=\"translate(63.623047 0.765625)\"/>\n       <use xlink:href=\"#DejaVuSans-2212\" transform=\"translate(128.203125 39.046875) scale(0.7)\"/>\n       <use xlink:href=\"#DejaVuSans-38\" transform=\"translate(186.855469 39.046875) scale(0.7)\"/>\n      </g>\n     </g>\n    </g>\n    <g id=\"ytick_2\">\n     <g id=\"line2d_7\">\n      <g>\n       <use xlink:href=\"#meb4884787a\" x=\"47.1\" y=\"145.599662\" style=\"stroke: #000000; stroke-width: 0.8\"/>\n      </g>\n     </g>\n     <g id=\"text_7\">\n      <!-- $\\mathdefault{10^{-6}}$ -->\n      <g transform=\"translate(7.2 150.918569) scale(0.14 -0.14)\">\n       <defs>\n        <path id=\"DejaVuSans-36\" d=\"M 2113 2584 \nQ 1688 2584 1439 2293 \nQ 1191 2003 1191 1497 \nQ 1191 994 1439 701 \nQ 1688 409 2113 409 \nQ 2538 409 2786 701 \nQ 3034 994 3034 1497 \nQ 3034 2003 2786 2293 \nQ 2538 2584 2113 2584 \nz\nM 3366 4563 \nL 3366 3988 \nQ 3128 4100 2886 4159 \nQ 2644 4219 2406 4219 \nQ 1781 4219 1451 3797 \nQ 1122 3375 1075 2522 \nQ 1259 2794 1537 2939 \nQ 1816 3084 2150 3084 \nQ 2853 3084 3261 2657 \nQ 3669 2231 3669 1497 \nQ 3669 778 3244 343 \nQ 2819 -91 2113 -91 \nQ 1303 -91 875 529 \nQ 447 1150 447 2328 \nQ 447 3434 972 4092 \nQ 1497 4750 2381 4750 \nQ 2619 4750 2861 4703 \nQ 3103 4656 3366 4563 \nz\n\" transform=\"scale(0.015625)\"/>\n       </defs>\n       <use xlink:href=\"#DejaVuSans-31\" transform=\"translate(0 0.765625)\"/>\n       <use xlink:href=\"#DejaVuSans-30\" transform=\"translate(63.623047 0.765625)\"/>\n       <use xlink:href=\"#DejaVuSans-2212\" transform=\"translate(128.203125 39.046875) scale(0.7)\"/>\n       <use xlink:href=\"#DejaVuSans-36\" transform=\"translate(186.855469 39.046875) scale(0.7)\"/>\n      </g>\n     </g>\n    </g>\n    <g id=\"ytick_3\">\n     <g id=\"line2d_8\">\n      <g>\n       <use xlink:href=\"#meb4884787a\" x=\"47.1\" y=\"101.23941\" style=\"stroke: #000000; stroke-width: 0.8\"/>\n      </g>\n     </g>\n     <g id=\"text_8\">\n      <!-- $\\mathdefault{10^{-4}}$ -->\n      <g transform=\"translate(7.2 106.558317) scale(0.14 -0.14)\">\n       <defs>\n        <path id=\"DejaVuSans-34\" d=\"M 2419 4116 \nL 825 1625 \nL 2419 1625 \nL 2419 4116 \nz\nM 2253 4666 \nL 3047 4666 \nL 3047 1625 \nL 3713 1625 \nL 3713 1100 \nL 3047 1100 \nL 3047 0 \nL 2419 0 \nL 2419 1100 \nL 313 1100 \nL 313 1709 \nL 2253 4666 \nz\n\" transform=\"scale(0.015625)\"/>\n       </defs>\n       <use xlink:href=\"#DejaVuSans-31\" transform=\"translate(0 0.684375)\"/>\n       <use xlink:href=\"#DejaVuSans-30\" transform=\"translate(63.623047 0.684375)\"/>\n       <use xlink:href=\"#DejaVuSans-2212\" transform=\"translate(128.203125 38.965625) scale(0.7)\"/>\n       <use xlink:href=\"#DejaVuSans-34\" transform=\"translate(186.855469 38.965625) scale(0.7)\"/>\n      </g>\n     </g>\n    </g>\n    <g id=\"ytick_4\">\n     <g id=\"line2d_9\">\n      <g>\n       <use xlink:href=\"#meb4884787a\" x=\"47.1\" y=\"56.879158\" style=\"stroke: #000000; stroke-width: 0.8\"/>\n      </g>\n     </g>\n     <g id=\"text_9\">\n      <!-- $\\mathdefault{10^{-2}}$ -->\n      <g transform=\"translate(7.2 62.198065) scale(0.14 -0.14)\">\n       <use xlink:href=\"#DejaVuSans-31\" transform=\"translate(0 0.765625)\"/>\n       <use xlink:href=\"#DejaVuSans-30\" transform=\"translate(63.623047 0.765625)\"/>\n       <use xlink:href=\"#DejaVuSans-2212\" transform=\"translate(128.203125 39.046875) scale(0.7)\"/>\n       <use xlink:href=\"#DejaVuSans-32\" transform=\"translate(186.855469 39.046875) scale(0.7)\"/>\n      </g>\n     </g>\n    </g>\n    <g id=\"ytick_5\">\n     <g id=\"line2d_10\">\n      <g>\n       <use xlink:href=\"#meb4884787a\" x=\"47.1\" y=\"12.518906\" style=\"stroke: #000000; stroke-width: 0.8\"/>\n      </g>\n     </g>\n     <g id=\"text_10\">\n      <!-- $\\mathdefault{10^{0}}$ -->\n      <g transform=\"translate(15.46 17.837813) scale(0.14 -0.14)\">\n       <use xlink:href=\"#DejaVuSans-31\" transform=\"translate(0 0.765625)\"/>\n       <use xlink:href=\"#DejaVuSans-30\" transform=\"translate(63.623047 0.765625)\"/>\n       <use xlink:href=\"#DejaVuSans-30\" transform=\"translate(128.203125 39.046875) scale(0.7)\"/>\n      </g>\n     </g>\n    </g>\n   </g>\n   <g id=\"line2d_11\">\n    <path d=\"M 62.318182 18.449055 \nL 68.529685 18.449055 \nL 74.741187 18.449055 \nL 80.95269 18.449055 \nL 87.164193 18.449055 \nL 93.375696 18.449055 \nL 99.587199 18.449055 \nL 105.798701 18.449055 \nL 112.010204 18.449055 \nL 118.221707 18.449055 \nL 124.43321 18.449055 \nL 130.644712 18.449055 \nL 136.856215 18.449055 \nL 143.067718 18.449055 \nL 149.279221 18.449055 \nL 155.490724 18.449055 \nL 161.702226 18.449055 \nL 167.913729 18.449055 \nL 174.125232 28.667671 \nL 180.336735 35.610131 \nL 186.548237 40.539282 \nL 192.75974 64.730588 \nL 198.971243 69.796943 \nL 205.182746 88.039454 \nL 211.394249 87.085847 \nL 217.605751 94.457879 \nL 223.817254 115.880809 \nL 230.028757 127.062935 \nL 236.24026 136.20686 \nL 242.451763 178.777362 \nL 248.663265 154.389352 \nL 254.874768 169.995962 \nL 261.086271 198.091901 \nL 267.297774 220.049055 \nL 273.509276 190.837667 \nL 279.720779 179.491496 \nL 285.932282 168.015635 \nL 292.143785 156.658574 \nL 298.355288 145.338824 \nL 304.56679 134.022331 \nL 310.778293 122.705896 \nL 316.989796 111.389386 \nL 323.201299 100.072613 \nL 329.412801 88.754986 \nL 335.624304 77.434596 \nL 341.835807 66.105311 \nL 348.04731 54.74773 \nL 354.258813 43.303738 \nL 360.470315 31.632905 \nL 366.681818 19.741207 \n\" clip-path=\"url(#pde695b7562)\" style=\"fill: none; stroke: #1f77b4; stroke-width: 1.5; stroke-linecap: square\"/>\n   </g>\n   <g id=\"patch_3\">\n    <path d=\"M 47.1 230.129055 \nL 47.1 8.369055 \n\" style=\"fill: none; stroke: #000000; stroke-width: 0.8; stroke-linejoin: miter; stroke-linecap: square\"/>\n   </g>\n   <g id=\"patch_4\">\n    <path d=\"M 381.9 230.129055 \nL 381.9 8.369055 \n\" style=\"fill: none; stroke: #000000; stroke-width: 0.8; stroke-linejoin: miter; stroke-linecap: square\"/>\n   </g>\n   <g id=\"patch_5\">\n    <path d=\"M 47.1 230.129055 \nL 381.9 230.129055 \n\" style=\"fill: none; stroke: #000000; stroke-width: 0.8; stroke-linejoin: miter; stroke-linecap: square\"/>\n   </g>\n   <g id=\"patch_6\">\n    <path d=\"M 47.1 8.369055 \nL 381.9 8.369055 \n\" style=\"fill: none; stroke: #000000; stroke-width: 0.8; stroke-linejoin: miter; stroke-linecap: square\"/>\n   </g>\n  </g>\n </g>\n <defs>\n  <clipPath id=\"pde695b7562\">\n   <rect x=\"47.1\" y=\"8.369055\" width=\"334.8\" height=\"221.76\"/>\n  </clipPath>\n </defs>\n</svg>\n",
      "text/plain": [
       "<Figure size 600x400 with 1 Axes>"
      ]
     },
     "metadata": {},
     "output_type": "display_data"
    }
   ],
   "source": [
    "h = 10 ** (np.linspace(-25, 0))\n",
    "plt.loglog(h, abs_error(h));"
   ]
  },
  {
   "cell_type": "markdown",
   "metadata": {},
   "source": [
    "Well that flat part is underflow (estimate of the derivative is exactly zero). But what's up with the part in between, from $h=10^{-16}$ to $10^{-7}$?\n",
    "\n",
    "The problem is regular old roundoff error (go back to [Lecture 1](lecture1_floating-point.ipynb) if you've forgottn what this is). Roughly speaking, the magnitude of these roundoff errors is independent of $h$ (e.g. when computing $f(x)$ it has nothing to do with $h$), and so the $h$ in the denominator causes $\\frac{1}{h}$-like behavior. We can test this with a line, using our friend $10^{-16}$ from [Lecture 1](lecture1_floating-point.ipynb)."
   ]
  },
  {
   "cell_type": "code",
   "execution_count": 7,
   "metadata": {},
   "outputs": [
    {
     "data": {
      "image/svg+xml": "<?xml version=\"1.0\" encoding=\"utf-8\" standalone=\"no\"?>\n<!DOCTYPE svg PUBLIC \"-//W3C//DTD SVG 1.1//EN\"\n  \"http://www.w3.org/Graphics/SVG/1.1/DTD/svg11.dtd\">\n<svg xmlns:xlink=\"http://www.w3.org/1999/xlink\" width=\"395.26pt\" height=\"256.709375pt\" viewBox=\"0 0 395.26 256.709375\" xmlns=\"http://www.w3.org/2000/svg\" version=\"1.1\">\n <metadata>\n  <rdf:RDF xmlns:dc=\"http://purl.org/dc/elements/1.1/\" xmlns:cc=\"http://creativecommons.org/ns#\" xmlns:rdf=\"http://www.w3.org/1999/02/22-rdf-syntax-ns#\">\n   <cc:Work>\n    <dc:type rdf:resource=\"http://purl.org/dc/dcmitype/StillImage\"/>\n    <dc:date>2023-01-28T20:06:02.933676</dc:date>\n    <dc:format>image/svg+xml</dc:format>\n    <dc:creator>\n     <cc:Agent>\n      <dc:title>Matplotlib v3.6.3, https://matplotlib.org/</dc:title>\n     </cc:Agent>\n    </dc:creator>\n   </cc:Work>\n  </rdf:RDF>\n </metadata>\n <defs>\n  <style type=\"text/css\">*{stroke-linejoin: round; stroke-linecap: butt}</style>\n </defs>\n <g id=\"figure_1\">\n  <g id=\"patch_1\">\n   <path d=\"M 0 256.709375 \nL 395.26 256.709375 \nL 395.26 0 \nL 0 0 \nz\n\" style=\"fill: #ffffff\"/>\n  </g>\n  <g id=\"axes_1\">\n   <g id=\"patch_2\">\n    <path d=\"M 53.26 228.96 \nL 388.06 228.96 \nL 388.06 7.2 \nL 53.26 7.2 \nz\n\" style=\"fill: #ffffff\"/>\n   </g>\n   <g id=\"matplotlib.axis_1\">\n    <g id=\"xtick_1\">\n     <g id=\"line2d_1\">\n      <defs>\n       <path id=\"m24cd228ddb\" d=\"M 0 0 \nL 0 3.5 \n\" style=\"stroke: #000000; stroke-width: 0.8\"/>\n      </defs>\n      <g>\n       <use xlink:href=\"#m24cd228ddb\" x=\"106.523636\" y=\"228.96\" style=\"stroke: #000000; stroke-width: 0.8\"/>\n      </g>\n     </g>\n     <g id=\"text_1\">\n      <!-- $\\mathdefault{10^{-14}}$ -->\n      <g transform=\"translate(86.993636 246.597812) scale(0.14 -0.14)\">\n       <defs>\n        <path id=\"DejaVuSans-31\" d=\"M 794 531 \nL 1825 531 \nL 1825 4091 \nL 703 3866 \nL 703 4441 \nL 1819 4666 \nL 2450 4666 \nL 2450 531 \nL 3481 531 \nL 3481 0 \nL 794 0 \nL 794 531 \nz\n\" transform=\"scale(0.015625)\"/>\n        <path id=\"DejaVuSans-30\" d=\"M 2034 4250 \nQ 1547 4250 1301 3770 \nQ 1056 3291 1056 2328 \nQ 1056 1369 1301 889 \nQ 1547 409 2034 409 \nQ 2525 409 2770 889 \nQ 3016 1369 3016 2328 \nQ 3016 3291 2770 3770 \nQ 2525 4250 2034 4250 \nz\nM 2034 4750 \nQ 2819 4750 3233 4129 \nQ 3647 3509 3647 2328 \nQ 3647 1150 3233 529 \nQ 2819 -91 2034 -91 \nQ 1250 -91 836 529 \nQ 422 1150 422 2328 \nQ 422 3509 836 4129 \nQ 1250 4750 2034 4750 \nz\n\" transform=\"scale(0.015625)\"/>\n        <path id=\"DejaVuSans-2212\" d=\"M 678 2272 \nL 4684 2272 \nL 4684 1741 \nL 678 1741 \nL 678 2272 \nz\n\" transform=\"scale(0.015625)\"/>\n        <path id=\"DejaVuSans-34\" d=\"M 2419 4116 \nL 825 1625 \nL 2419 1625 \nL 2419 4116 \nz\nM 2253 4666 \nL 3047 4666 \nL 3047 1625 \nL 3713 1625 \nL 3713 1100 \nL 3047 1100 \nL 3047 0 \nL 2419 0 \nL 2419 1100 \nL 313 1100 \nL 313 1709 \nL 2253 4666 \nz\n\" transform=\"scale(0.015625)\"/>\n       </defs>\n       <use xlink:href=\"#DejaVuSans-31\" transform=\"translate(0 0.684375)\"/>\n       <use xlink:href=\"#DejaVuSans-30\" transform=\"translate(63.623047 0.684375)\"/>\n       <use xlink:href=\"#DejaVuSans-2212\" transform=\"translate(128.203125 38.965625) scale(0.7)\"/>\n       <use xlink:href=\"#DejaVuSans-31\" transform=\"translate(186.855469 38.965625) scale(0.7)\"/>\n       <use xlink:href=\"#DejaVuSans-34\" transform=\"translate(231.391602 38.965625) scale(0.7)\"/>\n      </g>\n     </g>\n    </g>\n    <g id=\"xtick_2\">\n     <g id=\"line2d_2\">\n      <g>\n       <use xlink:href=\"#m24cd228ddb\" x=\"163.591818\" y=\"228.96\" style=\"stroke: #000000; stroke-width: 0.8\"/>\n      </g>\n     </g>\n     <g id=\"text_2\">\n      <!-- $\\mathdefault{10^{-11}}$ -->\n      <g transform=\"translate(144.061818 246.597812) scale(0.14 -0.14)\">\n       <use xlink:href=\"#DejaVuSans-31\" transform=\"translate(0 0.684375)\"/>\n       <use xlink:href=\"#DejaVuSans-30\" transform=\"translate(63.623047 0.684375)\"/>\n       <use xlink:href=\"#DejaVuSans-2212\" transform=\"translate(128.203125 38.965625) scale(0.7)\"/>\n       <use xlink:href=\"#DejaVuSans-31\" transform=\"translate(186.855469 38.965625) scale(0.7)\"/>\n       <use xlink:href=\"#DejaVuSans-31\" transform=\"translate(231.391602 38.965625) scale(0.7)\"/>\n      </g>\n     </g>\n    </g>\n    <g id=\"xtick_3\">\n     <g id=\"line2d_3\">\n      <g>\n       <use xlink:href=\"#m24cd228ddb\" x=\"220.66\" y=\"228.96\" style=\"stroke: #000000; stroke-width: 0.8\"/>\n      </g>\n     </g>\n     <g id=\"text_3\">\n      <!-- $\\mathdefault{10^{-8}}$ -->\n      <g transform=\"translate(204.21 246.597812) scale(0.14 -0.14)\">\n       <defs>\n        <path id=\"DejaVuSans-38\" d=\"M 2034 2216 \nQ 1584 2216 1326 1975 \nQ 1069 1734 1069 1313 \nQ 1069 891 1326 650 \nQ 1584 409 2034 409 \nQ 2484 409 2743 651 \nQ 3003 894 3003 1313 \nQ 3003 1734 2745 1975 \nQ 2488 2216 2034 2216 \nz\nM 1403 2484 \nQ 997 2584 770 2862 \nQ 544 3141 544 3541 \nQ 544 4100 942 4425 \nQ 1341 4750 2034 4750 \nQ 2731 4750 3128 4425 \nQ 3525 4100 3525 3541 \nQ 3525 3141 3298 2862 \nQ 3072 2584 2669 2484 \nQ 3125 2378 3379 2068 \nQ 3634 1759 3634 1313 \nQ 3634 634 3220 271 \nQ 2806 -91 2034 -91 \nQ 1263 -91 848 271 \nQ 434 634 434 1313 \nQ 434 1759 690 2068 \nQ 947 2378 1403 2484 \nz\nM 1172 3481 \nQ 1172 3119 1398 2916 \nQ 1625 2713 2034 2713 \nQ 2441 2713 2670 2916 \nQ 2900 3119 2900 3481 \nQ 2900 3844 2670 4047 \nQ 2441 4250 2034 4250 \nQ 1625 4250 1398 4047 \nQ 1172 3844 1172 3481 \nz\n\" transform=\"scale(0.015625)\"/>\n       </defs>\n       <use xlink:href=\"#DejaVuSans-31\" transform=\"translate(0 0.765625)\"/>\n       <use xlink:href=\"#DejaVuSans-30\" transform=\"translate(63.623047 0.765625)\"/>\n       <use xlink:href=\"#DejaVuSans-2212\" transform=\"translate(128.203125 39.046875) scale(0.7)\"/>\n       <use xlink:href=\"#DejaVuSans-38\" transform=\"translate(186.855469 39.046875) scale(0.7)\"/>\n      </g>\n     </g>\n    </g>\n    <g id=\"xtick_4\">\n     <g id=\"line2d_4\">\n      <g>\n       <use xlink:href=\"#m24cd228ddb\" x=\"277.728182\" y=\"228.96\" style=\"stroke: #000000; stroke-width: 0.8\"/>\n      </g>\n     </g>\n     <g id=\"text_4\">\n      <!-- $\\mathdefault{10^{-5}}$ -->\n      <g transform=\"translate(261.278182 246.597812) scale(0.14 -0.14)\">\n       <defs>\n        <path id=\"DejaVuSans-35\" d=\"M 691 4666 \nL 3169 4666 \nL 3169 4134 \nL 1269 4134 \nL 1269 2991 \nQ 1406 3038 1543 3061 \nQ 1681 3084 1819 3084 \nQ 2600 3084 3056 2656 \nQ 3513 2228 3513 1497 \nQ 3513 744 3044 326 \nQ 2575 -91 1722 -91 \nQ 1428 -91 1123 -41 \nQ 819 9 494 109 \nL 494 744 \nQ 775 591 1075 516 \nQ 1375 441 1709 441 \nQ 2250 441 2565 725 \nQ 2881 1009 2881 1497 \nQ 2881 1984 2565 2268 \nQ 2250 2553 1709 2553 \nQ 1456 2553 1204 2497 \nQ 953 2441 691 2322 \nL 691 4666 \nz\n\" transform=\"scale(0.015625)\"/>\n       </defs>\n       <use xlink:href=\"#DejaVuSans-31\" transform=\"translate(0 0.684375)\"/>\n       <use xlink:href=\"#DejaVuSans-30\" transform=\"translate(63.623047 0.684375)\"/>\n       <use xlink:href=\"#DejaVuSans-2212\" transform=\"translate(128.203125 38.965625) scale(0.7)\"/>\n       <use xlink:href=\"#DejaVuSans-35\" transform=\"translate(186.855469 38.965625) scale(0.7)\"/>\n      </g>\n     </g>\n    </g>\n    <g id=\"xtick_5\">\n     <g id=\"line2d_5\">\n      <g>\n       <use xlink:href=\"#m24cd228ddb\" x=\"334.796364\" y=\"228.96\" style=\"stroke: #000000; stroke-width: 0.8\"/>\n      </g>\n     </g>\n     <g id=\"text_5\">\n      <!-- $\\mathdefault{10^{-2}}$ -->\n      <g transform=\"translate(318.346364 246.597812) scale(0.14 -0.14)\">\n       <defs>\n        <path id=\"DejaVuSans-32\" d=\"M 1228 531 \nL 3431 531 \nL 3431 0 \nL 469 0 \nL 469 531 \nQ 828 903 1448 1529 \nQ 2069 2156 2228 2338 \nQ 2531 2678 2651 2914 \nQ 2772 3150 2772 3378 \nQ 2772 3750 2511 3984 \nQ 2250 4219 1831 4219 \nQ 1534 4219 1204 4116 \nQ 875 4013 500 3803 \nL 500 4441 \nQ 881 4594 1212 4672 \nQ 1544 4750 1819 4750 \nQ 2544 4750 2975 4387 \nQ 3406 4025 3406 3419 \nQ 3406 3131 3298 2873 \nQ 3191 2616 2906 2266 \nQ 2828 2175 2409 1742 \nQ 1991 1309 1228 531 \nz\n\" transform=\"scale(0.015625)\"/>\n       </defs>\n       <use xlink:href=\"#DejaVuSans-31\" transform=\"translate(0 0.765625)\"/>\n       <use xlink:href=\"#DejaVuSans-30\" transform=\"translate(63.623047 0.765625)\"/>\n       <use xlink:href=\"#DejaVuSans-2212\" transform=\"translate(128.203125 39.046875) scale(0.7)\"/>\n       <use xlink:href=\"#DejaVuSans-32\" transform=\"translate(186.855469 39.046875) scale(0.7)\"/>\n      </g>\n     </g>\n    </g>\n   </g>\n   <g id=\"matplotlib.axis_2\">\n    <g id=\"ytick_1\">\n     <g id=\"line2d_6\">\n      <defs>\n       <path id=\"ma7dc88c0ff\" d=\"M 0 0 \nL -3.5 0 \n\" style=\"stroke: #000000; stroke-width: 0.8\"/>\n      </defs>\n      <g>\n       <use xlink:href=\"#ma7dc88c0ff\" x=\"53.26\" y=\"202.911224\" style=\"stroke: #000000; stroke-width: 0.8\"/>\n      </g>\n     </g>\n     <g id=\"text_6\">\n      <!-- $\\mathdefault{10^{-15}}$ -->\n      <g transform=\"translate(7.2 208.23013) scale(0.14 -0.14)\">\n       <use xlink:href=\"#DejaVuSans-31\" transform=\"translate(0 0.684375)\"/>\n       <use xlink:href=\"#DejaVuSans-30\" transform=\"translate(63.623047 0.684375)\"/>\n       <use xlink:href=\"#DejaVuSans-2212\" transform=\"translate(128.203125 38.965625) scale(0.7)\"/>\n       <use xlink:href=\"#DejaVuSans-31\" transform=\"translate(186.855469 38.965625) scale(0.7)\"/>\n       <use xlink:href=\"#DejaVuSans-35\" transform=\"translate(231.391602 38.965625) scale(0.7)\"/>\n      </g>\n     </g>\n    </g>\n    <g id=\"ytick_2\">\n     <g id=\"line2d_7\">\n      <g>\n       <use xlink:href=\"#ma7dc88c0ff\" x=\"53.26\" y=\"165.111224\" style=\"stroke: #000000; stroke-width: 0.8\"/>\n      </g>\n     </g>\n     <g id=\"text_7\">\n      <!-- $\\mathdefault{10^{-12}}$ -->\n      <g transform=\"translate(7.2 170.43013) scale(0.14 -0.14)\">\n       <use xlink:href=\"#DejaVuSans-31\" transform=\"translate(0 0.765625)\"/>\n       <use xlink:href=\"#DejaVuSans-30\" transform=\"translate(63.623047 0.765625)\"/>\n       <use xlink:href=\"#DejaVuSans-2212\" transform=\"translate(128.203125 39.046875) scale(0.7)\"/>\n       <use xlink:href=\"#DejaVuSans-31\" transform=\"translate(186.855469 39.046875) scale(0.7)\"/>\n       <use xlink:href=\"#DejaVuSans-32\" transform=\"translate(231.391602 39.046875) scale(0.7)\"/>\n      </g>\n     </g>\n    </g>\n    <g id=\"ytick_3\">\n     <g id=\"line2d_8\">\n      <g>\n       <use xlink:href=\"#ma7dc88c0ff\" x=\"53.26\" y=\"127.311224\" style=\"stroke: #000000; stroke-width: 0.8\"/>\n      </g>\n     </g>\n     <g id=\"text_8\">\n      <!-- $\\mathdefault{10^{-9}}$ -->\n      <g transform=\"translate(13.36 132.63013) scale(0.14 -0.14)\">\n       <defs>\n        <path id=\"DejaVuSans-39\" d=\"M 703 97 \nL 703 672 \nQ 941 559 1184 500 \nQ 1428 441 1663 441 \nQ 2288 441 2617 861 \nQ 2947 1281 2994 2138 \nQ 2813 1869 2534 1725 \nQ 2256 1581 1919 1581 \nQ 1219 1581 811 2004 \nQ 403 2428 403 3163 \nQ 403 3881 828 4315 \nQ 1253 4750 1959 4750 \nQ 2769 4750 3195 4129 \nQ 3622 3509 3622 2328 \nQ 3622 1225 3098 567 \nQ 2575 -91 1691 -91 \nQ 1453 -91 1209 -44 \nQ 966 3 703 97 \nz\nM 1959 2075 \nQ 2384 2075 2632 2365 \nQ 2881 2656 2881 3163 \nQ 2881 3666 2632 3958 \nQ 2384 4250 1959 4250 \nQ 1534 4250 1286 3958 \nQ 1038 3666 1038 3163 \nQ 1038 2656 1286 2365 \nQ 1534 2075 1959 2075 \nz\n\" transform=\"scale(0.015625)\"/>\n       </defs>\n       <use xlink:href=\"#DejaVuSans-31\" transform=\"translate(0 0.765625)\"/>\n       <use xlink:href=\"#DejaVuSans-30\" transform=\"translate(63.623047 0.765625)\"/>\n       <use xlink:href=\"#DejaVuSans-2212\" transform=\"translate(128.203125 39.046875) scale(0.7)\"/>\n       <use xlink:href=\"#DejaVuSans-39\" transform=\"translate(186.855469 39.046875) scale(0.7)\"/>\n      </g>\n     </g>\n    </g>\n    <g id=\"ytick_4\">\n     <g id=\"line2d_9\">\n      <g>\n       <use xlink:href=\"#ma7dc88c0ff\" x=\"53.26\" y=\"89.511224\" style=\"stroke: #000000; stroke-width: 0.8\"/>\n      </g>\n     </g>\n     <g id=\"text_9\">\n      <!-- $\\mathdefault{10^{-6}}$ -->\n      <g transform=\"translate(13.36 94.83013) scale(0.14 -0.14)\">\n       <defs>\n        <path id=\"DejaVuSans-36\" d=\"M 2113 2584 \nQ 1688 2584 1439 2293 \nQ 1191 2003 1191 1497 \nQ 1191 994 1439 701 \nQ 1688 409 2113 409 \nQ 2538 409 2786 701 \nQ 3034 994 3034 1497 \nQ 3034 2003 2786 2293 \nQ 2538 2584 2113 2584 \nz\nM 3366 4563 \nL 3366 3988 \nQ 3128 4100 2886 4159 \nQ 2644 4219 2406 4219 \nQ 1781 4219 1451 3797 \nQ 1122 3375 1075 2522 \nQ 1259 2794 1537 2939 \nQ 1816 3084 2150 3084 \nQ 2853 3084 3261 2657 \nQ 3669 2231 3669 1497 \nQ 3669 778 3244 343 \nQ 2819 -91 2113 -91 \nQ 1303 -91 875 529 \nQ 447 1150 447 2328 \nQ 447 3434 972 4092 \nQ 1497 4750 2381 4750 \nQ 2619 4750 2861 4703 \nQ 3103 4656 3366 4563 \nz\n\" transform=\"scale(0.015625)\"/>\n       </defs>\n       <use xlink:href=\"#DejaVuSans-31\" transform=\"translate(0 0.765625)\"/>\n       <use xlink:href=\"#DejaVuSans-30\" transform=\"translate(63.623047 0.765625)\"/>\n       <use xlink:href=\"#DejaVuSans-2212\" transform=\"translate(128.203125 39.046875) scale(0.7)\"/>\n       <use xlink:href=\"#DejaVuSans-36\" transform=\"translate(186.855469 39.046875) scale(0.7)\"/>\n      </g>\n     </g>\n    </g>\n    <g id=\"ytick_5\">\n     <g id=\"line2d_10\">\n      <g>\n       <use xlink:href=\"#ma7dc88c0ff\" x=\"53.26\" y=\"51.711224\" style=\"stroke: #000000; stroke-width: 0.8\"/>\n      </g>\n     </g>\n     <g id=\"text_10\">\n      <!-- $\\mathdefault{10^{-3}}$ -->\n      <g transform=\"translate(13.36 57.03013) scale(0.14 -0.14)\">\n       <defs>\n        <path id=\"DejaVuSans-33\" d=\"M 2597 2516 \nQ 3050 2419 3304 2112 \nQ 3559 1806 3559 1356 \nQ 3559 666 3084 287 \nQ 2609 -91 1734 -91 \nQ 1441 -91 1130 -33 \nQ 819 25 488 141 \nL 488 750 \nQ 750 597 1062 519 \nQ 1375 441 1716 441 \nQ 2309 441 2620 675 \nQ 2931 909 2931 1356 \nQ 2931 1769 2642 2001 \nQ 2353 2234 1838 2234 \nL 1294 2234 \nL 1294 2753 \nL 1863 2753 \nQ 2328 2753 2575 2939 \nQ 2822 3125 2822 3475 \nQ 2822 3834 2567 4026 \nQ 2313 4219 1838 4219 \nQ 1578 4219 1281 4162 \nQ 984 4106 628 3988 \nL 628 4550 \nQ 988 4650 1302 4700 \nQ 1616 4750 1894 4750 \nQ 2613 4750 3031 4423 \nQ 3450 4097 3450 3541 \nQ 3450 3153 3228 2886 \nQ 3006 2619 2597 2516 \nz\n\" transform=\"scale(0.015625)\"/>\n       </defs>\n       <use xlink:href=\"#DejaVuSans-31\" transform=\"translate(0 0.765625)\"/>\n       <use xlink:href=\"#DejaVuSans-30\" transform=\"translate(63.623047 0.765625)\"/>\n       <use xlink:href=\"#DejaVuSans-2212\" transform=\"translate(128.203125 39.046875) scale(0.7)\"/>\n       <use xlink:href=\"#DejaVuSans-33\" transform=\"translate(186.855469 39.046875) scale(0.7)\"/>\n      </g>\n     </g>\n    </g>\n    <g id=\"ytick_6\">\n     <g id=\"line2d_11\">\n      <g>\n       <use xlink:href=\"#ma7dc88c0ff\" x=\"53.26\" y=\"13.911224\" style=\"stroke: #000000; stroke-width: 0.8\"/>\n      </g>\n     </g>\n     <g id=\"text_11\">\n      <!-- $\\mathdefault{10^{0}}$ -->\n      <g transform=\"translate(21.62 19.23013) scale(0.14 -0.14)\">\n       <use xlink:href=\"#DejaVuSans-31\" transform=\"translate(0 0.765625)\"/>\n       <use xlink:href=\"#DejaVuSans-30\" transform=\"translate(63.623047 0.765625)\"/>\n       <use xlink:href=\"#DejaVuSans-30\" transform=\"translate(128.203125 39.046875) scale(0.7)\"/>\n      </g>\n     </g>\n    </g>\n   </g>\n   <g id=\"line2d_12\">\n    <path d=\"M 68.478182 17.28 \nL 74.689685 36.257044 \nL 80.901187 30.678074 \nL 87.11269 28.096658 \nL 93.324193 40.105785 \nL 99.535696 45.850053 \nL 105.747199 44.60089 \nL 111.958701 59.690382 \nL 118.170204 53.14987 \nL 124.381707 56.445296 \nL 130.59321 57.89148 \nL 136.804712 61.00001 \nL 143.016215 68.973733 \nL 149.227718 78.440427 \nL 155.439221 78.45625 \nL 161.650724 80.540265 \nL 167.862226 93.581896 \nL 174.073729 83.533666 \nL 180.285232 94.459638 \nL 186.496735 105.955022 \nL 192.708237 107.20299 \nL 198.91974 110.995859 \nL 205.131243 105.447481 \nL 211.342746 125.286569 \nL 217.554249 131.804119 \nL 223.765751 122.565573 \nL 229.977254 113.269204 \nL 236.188757 108.883023 \nL 242.40026 105.062773 \nL 248.611763 100.939141 \nL 254.823265 96.819543 \nL 261.034768 92.705962 \nL 267.246271 88.591525 \nL 273.457774 84.477239 \nL 279.669276 80.362982 \nL 285.880779 76.248678 \nL 292.092282 72.134356 \nL 298.303785 68.019996 \nL 304.515288 63.905552 \nL 310.72679 59.79093 \nL 316.938293 55.675932 \nL 323.149796 51.560138 \nL 329.361299 47.442658 \nL 335.572801 43.321627 \nL 341.784304 39.193164 \nL 347.995807 35.049387 \nL 354.20731 30.875133 \nL 360.418813 26.645061 \nL 366.630315 22.334722 \nL 372.841818 18.014041 \n\" clip-path=\"url(#pe434c9815d)\" style=\"fill: none; stroke: #1f77b4; stroke-width: 1.5; stroke-linecap: square\"/>\n   </g>\n   <g id=\"line2d_13\">\n    <path d=\"M 68.478182 17.28 \nL 74.689685 21.394286 \nL 80.901187 25.508571 \nL 87.11269 29.622857 \nL 93.324193 33.737143 \nL 99.535696 37.851429 \nL 105.747199 41.965714 \nL 111.958701 46.08 \nL 118.170204 50.194286 \nL 124.381707 54.308571 \nL 130.59321 58.422857 \nL 136.804712 62.537143 \nL 143.016215 66.651429 \nL 149.227718 70.765714 \nL 155.439221 74.88 \nL 161.650724 78.994286 \nL 167.862226 83.108571 \nL 174.073729 87.222857 \nL 180.285232 91.337143 \nL 186.496735 95.451429 \nL 192.708237 99.565714 \nL 198.91974 103.68 \nL 205.131243 107.794286 \nL 211.342746 111.908571 \nL 217.554249 116.022857 \nL 223.765751 120.137143 \nL 229.977254 124.251429 \nL 236.188757 128.365714 \nL 242.40026 132.48 \nL 248.611763 136.594286 \nL 254.823265 140.708571 \nL 261.034768 144.822857 \nL 267.246271 148.937143 \nL 273.457774 153.051429 \nL 279.669276 157.165714 \nL 285.880779 161.28 \nL 292.092282 165.394286 \nL 298.303785 169.508571 \nL 304.515288 173.622857 \nL 310.72679 177.737143 \nL 316.938293 181.851429 \nL 323.149796 185.965714 \nL 329.361299 190.08 \nL 335.572801 194.194286 \nL 341.784304 198.308571 \nL 347.995807 202.422857 \nL 354.20731 206.537143 \nL 360.418813 210.651429 \nL 366.630315 214.765714 \nL 372.841818 218.88 \n\" clip-path=\"url(#pe434c9815d)\" style=\"fill: none; stroke: #ff7f0e; stroke-width: 1.5; stroke-linecap: square\"/>\n   </g>\n   <g id=\"patch_3\">\n    <path d=\"M 53.26 228.96 \nL 53.26 7.2 \n\" style=\"fill: none; stroke: #000000; stroke-width: 0.8; stroke-linejoin: miter; stroke-linecap: square\"/>\n   </g>\n   <g id=\"patch_4\">\n    <path d=\"M 388.06 228.96 \nL 388.06 7.2 \n\" style=\"fill: none; stroke: #000000; stroke-width: 0.8; stroke-linejoin: miter; stroke-linecap: square\"/>\n   </g>\n   <g id=\"patch_5\">\n    <path d=\"M 53.26 228.96 \nL 388.06 228.96 \n\" style=\"fill: none; stroke: #000000; stroke-width: 0.8; stroke-linejoin: miter; stroke-linecap: square\"/>\n   </g>\n   <g id=\"patch_6\">\n    <path d=\"M 53.26 7.2 \nL 388.06 7.2 \n\" style=\"fill: none; stroke: #000000; stroke-width: 0.8; stroke-linejoin: miter; stroke-linecap: square\"/>\n   </g>\n  </g>\n </g>\n <defs>\n  <clipPath id=\"pe434c9815d\">\n   <rect x=\"53.26\" y=\"7.2\" width=\"334.8\" height=\"221.76\"/>\n  </clipPath>\n </defs>\n</svg>\n",
      "text/plain": [
       "<Figure size 600x400 with 1 Axes>"
      ]
     },
     "metadata": {},
     "output_type": "display_data"
    }
   ],
   "source": [
    "h = 10 ** (np.linspace(-16, 0))\n",
    "plt.loglog(h, abs_error(h))\n",
    "plt.loglog(h, 1e-16 * dfdx_true / h);"
   ]
  },
  {
   "cell_type": "markdown",
   "metadata": {},
   "source": [
    "We've seen a bunch of plots, but what have we actually learned? Well:\n",
    "\n",
    "- the _numerical approximation_ to the derivative initially increases as $h$ gets smaller (this effect is linear in $h$)\n",
    "- however, when $h$ is too small then roundoff error kicks in and the error starts to increase (this effect is linear in $1/h$)\n",
    "\n",
    "What you really need to know: picking $h$ is tricky: it can't be too big or too small."
   ]
  },
  {
   "cell_type": "markdown",
   "metadata": {},
   "source": [
    "### Gradients"
   ]
  },
  {
   "cell_type": "markdown",
   "metadata": {},
   "source": [
    "So, what about gradients?\n",
    "\n",
    "$$\\nabla f(x) = \\begin{bmatrix} \\frac{\\partial f}{\\partial x_1} \\\\ \\frac{\\partial f}{\\partial x_2} \\\\ \\vdots \\\\ \\frac{\\partial f}{\\partial x_d} \\end{bmatrix}$$ \n",
    "\n",
    "Well, we can approximate each partial derivative as:\n",
    "\n",
    "$$\\frac{\\partial f(x)}{\\partial x_1} \\approx \\frac{f(x+h e_1)-f(x)}{h}$$ \n",
    "\n",
    "where $e_1 = \\begin{bmatrix}1 \\\\ 0 \\\\ 0 \\\\ \\vdots \\\\ 0 \\end{bmatrix}$. \n",
    "\n",
    "In general, $$\\frac{\\partial f(x)}{\\partial x_j} \\approx \\frac{f(x+h e_j)-f(x)}{h}$$ \n",
    "\n",
    "where $e_j$ is $1$ at position $j$ and zero elsewhere.\n",
    "\n",
    "Put another way (if this helps),\n",
    "\n",
    "$$\\frac{\\partial f(x)}{\\partial x_1} \\approx \\frac{f\\left(\\begin{bmatrix}x_1 + h \\\\ x_2 \\\\ x_3 \\\\ \\vdots \\\\ x_d \\end{bmatrix} \\right)-f(x)}{h}$$ \n",
    "\n",
    "$$\\frac{\\partial f(x)}{\\partial x_2} \\approx \\frac{f\\left(\\begin{bmatrix}x_1 \\\\ x_2 + h \\\\ x_3 \\\\ \\vdots \\\\ x_d \\end{bmatrix} \\right)-f(x)}{h}$$ \n",
    "\n",
    "And so on and so forth."
   ]
  },
  {
   "cell_type": "markdown",
   "metadata": {},
   "source": [
    "### Cost of Estimating a Gradient"
   ]
  },
  {
   "cell_type": "markdown",
   "metadata": {},
   "source": [
    "As you can see above, estimating a gradient requires $d+1$ function evaluations. That can be expensive - perhaps $d$ is $1000$ or $10000$. If you can compute the gradient symbolically, that is much better."
   ]
  },
  {
   "cell_type": "markdown",
   "metadata": {},
   "source": [
    "### (Optional) Other Finite Difference Formulas"
   ]
  },
  {
   "cell_type": "markdown",
   "metadata": {},
   "source": [
    "There are better finite differences formulas than the one we are using, such as the centered difference formula:\n",
    "\n",
    "$$\\frac{df(x)}{dx} \\approx \\frac{f(x+h)-f(x-h)}{2h}$$\n",
    "\n",
    "In this case the error goes down as $h^2$, which is great, but most of the benefits come in applications that don't concern us here (e.g., solving differential equations). However, in $d$ dimensions, this requires $2d$ evaluations of the function instead of $d+1$, because with the forward difference formula (the original one above) we reuse the point $f(x)$ for all the partial derivatives. Really, which formula you use depends on what you're doing.\n",
    "\n",
    "If you're really bored, you can also check out the [complex step method](https://timvieira.github.io/blog/post/2014/08/07/complex-step-derivative/)."
   ]
  },
  {
   "cell_type": "markdown",
   "metadata": {},
   "source": [
    "### Summary"
   ]
  },
  {
   "cell_type": "markdown",
   "metadata": {},
   "source": [
    "If we can't figure out the derivative of a function, but have code that computes the function, we can _approximate_ the derivative using finite differences. This works pretty well but there are some pitfalls. In particular you need to choose $h$ carefully and it costs $O(d)$ function evaluations to estimate a gradient. It seems better to actually know the derivative if possible, because the computations will be faster and more accurate."
   ]
  },
  {
   "cell_type": "markdown",
   "metadata": {},
   "source": [
    "## Automatic Differentiation\n"
   ]
  },
  {
   "cell_type": "markdown",
   "metadata": {},
   "source": [
    "Automatic differentiation (AD) is another way to take the derivative given some code that computes $f$. It is advertised as the \"best of both worlds\" between symbolic and numerical differentiation:\n",
    "  - Pro: takes the code as input, not math.\n",
    "  - Pro: does not have the problem of choosing $h$, or the extra $O(d)$ cost.\n",
    "  - Con: some AD software packages have limitations, hurt code readability.\n",
    "  - Con: large space complexity.\n",
    "  \n",
    "There are two main types of AD, _forward mode_ and _reverse mode_ AD. We'll be discussing reverse mode here. Basically, AD keeps track of the gradient of primitive operations and uses the chain rule to link them together. We'll use a package called `AutoGrad` to demo AD."
   ]
  },
  {
   "cell_type": "markdown",
   "metadata": {},
   "source": [
    "Demonstration 1: $\\sin(x)$"
   ]
  },
  {
   "cell_type": "code",
   "execution_count": 8,
   "metadata": {},
   "outputs": [
    {
     "data": {
      "text/plain": [
       "0.5403023058681398"
      ]
     },
     "execution_count": 8,
     "metadata": {},
     "output_type": "execute_result"
    }
   ],
   "source": [
    "anp.cos(1.0)"
   ]
  },
  {
   "cell_type": "code",
   "execution_count": 9,
   "metadata": {},
   "outputs": [
    {
     "data": {
      "text/plain": [
       "0.5403023058681398"
      ]
     },
     "execution_count": 9,
     "metadata": {},
     "output_type": "execute_result"
    }
   ],
   "source": [
    "grad(anp.sin)(1.0)"
   ]
  },
  {
   "cell_type": "markdown",
   "metadata": {},
   "source": [
    "What happened above is that AutoGrad's `grad` takes in a Python function, and returns another Python function that computes the gradient.\n",
    "\n",
    "Some more examples:"
   ]
  },
  {
   "cell_type": "code",
   "execution_count": 10,
   "metadata": {},
   "outputs": [
    {
     "data": {
      "text/plain": [
       "array([1., 1., 1., 1.])"
      ]
     },
     "execution_count": 10,
     "metadata": {},
     "output_type": "execute_result"
    }
   ],
   "source": [
    "x = anp.random.rand(4)\n",
    "\n",
    "def foo(x):\n",
    "    return anp.sum(x)\n",
    "\n",
    "def foo_grad(x):\n",
    "    return anp.ones(len(x)) ## SOLUTION\n",
    "\n",
    "foo_grad(x)"
   ]
  },
  {
   "cell_type": "code",
   "execution_count": 11,
   "metadata": {},
   "outputs": [
    {
     "data": {
      "text/plain": [
       "array([1., 1., 1., 1.])"
      ]
     },
     "execution_count": 11,
     "metadata": {},
     "output_type": "execute_result"
    }
   ],
   "source": [
    "foo_grad_AD = grad(foo)\n",
    "foo_grad_AD(x)"
   ]
  },
  {
   "cell_type": "code",
   "execution_count": 12,
   "metadata": {},
   "outputs": [
    {
     "data": {
      "text/plain": [
       "array([0.       , 0.8388448, 0.       , 0.       ])"
      ]
     },
     "execution_count": 12,
     "metadata": {},
     "output_type": "execute_result"
    }
   ],
   "source": [
    "def pin(x):\n",
    "    return anp.sin(x[1])\n",
    "\n",
    "def pin_grad(x):\n",
    "    grad = anp.zeros(len(x)) ## SOLUTION\n",
    "    grad[1] = anp.cos(x[1])\n",
    "    return grad\n",
    "\n",
    "pin_grad(x)"
   ]
  },
  {
   "cell_type": "code",
   "execution_count": 13,
   "metadata": {},
   "outputs": [
    {
     "data": {
      "text/plain": [
       "array([0.       , 0.8388448, 0.       , 0.       ])"
      ]
     },
     "execution_count": 13,
     "metadata": {},
     "output_type": "execute_result"
    }
   ],
   "source": [
    "pin_grad_AD = grad(pin)\n",
    "pin_grad_AD(x)"
   ]
  },
  {
   "cell_type": "markdown",
   "metadata": {},
   "source": [
    "As you can see above, Autograd knows how to deal with things like `np.sum`, `np.abs`, subtraction, addition, etc. But let's make sure it wasn't cheating and just doing numerical differentiation!"
   ]
  },
  {
   "cell_type": "code",
   "execution_count": 14,
   "metadata": {},
   "outputs": [],
   "source": [
    "def pin(x):\n",
    "    print(\"Evaluated function!\") # let us know what it's doing\n",
    "    return anp.sin(x[1])\n",
    "\n",
    "def pin_grad(x):\n",
    "    grad = anp.zeros(len(x)) ## SOLUTION\n",
    "    grad[1] = anp.cos(x[1])\n",
    "    return grad"
   ]
  },
  {
   "cell_type": "markdown",
   "metadata": {},
   "source": [
    "If it were doing numerical differentiation, it would need to evaluation the function $d+1$ times (5 times in this case), like this:"
   ]
  },
  {
   "cell_type": "code",
   "execution_count": 15,
   "metadata": {},
   "outputs": [
    {
     "name": "stdout",
     "output_type": "stream",
     "text": [
      "Evaluated function!\n",
      "Evaluated function!\n",
      "Evaluated function!\n",
      "Evaluated function!\n",
      "Evaluated function!\n"
     ]
    },
    {
     "data": {
      "text/plain": [
       "array([0.        , 0.83884453, 0.        , 0.        ])"
      ]
     },
     "execution_count": 15,
     "metadata": {},
     "output_type": "execute_result"
    }
   ],
   "source": [
    "scipy.optimize.approx_fprime(x, pin, 1e-6) # do numerical differentiation"
   ]
  },
  {
   "cell_type": "code",
   "execution_count": 16,
   "metadata": {},
   "outputs": [
    {
     "name": "stdout",
     "output_type": "stream",
     "text": [
      "Evaluated function!\n"
     ]
    },
    {
     "data": {
      "text/plain": [
       "array([0.       , 0.8388448, 0.       , 0.       ])"
      ]
     },
     "execution_count": 16,
     "metadata": {},
     "output_type": "execute_result"
    }
   ],
   "source": [
    "pin_grad_AD = grad(pin) # automatic differentiation\n",
    "pin_grad_AD(x)"
   ]
  },
  {
   "cell_type": "markdown",
   "metadata": {},
   "source": [
    "Looks like it's not doing numerical differentiation! Bam!"
   ]
  },
  {
   "cell_type": "code",
   "execution_count": 17,
   "metadata": {},
   "outputs": [
    {
     "data": {
      "text/plain": [
       "[0, 1.0, 0.22176843559103543, 1.5829762293698537]"
      ]
     },
     "execution_count": 17,
     "metadata": {},
     "output_type": "execute_result"
    }
   ],
   "source": [
    "def baz(x):\n",
    "    result = 0\n",
    "    for i in range(len(x)):\n",
    "        result = result + x[i]**i\n",
    "    return result\n",
    "\n",
    "def baz_grad(x):\n",
    "    result = [0] ## SOLUTION\n",
    "    for i in range(1,len(x)):\n",
    "        result.append(i*x[i]**(i-1))\n",
    "    return result\n",
    "\n",
    "baz_grad(x)"
   ]
  },
  {
   "cell_type": "code",
   "execution_count": 18,
   "metadata": {},
   "outputs": [
    {
     "data": {
      "text/plain": [
       "array([0.        , 1.        , 0.22176844, 1.58297623])"
      ]
     },
     "execution_count": 18,
     "metadata": {},
     "output_type": "execute_result"
    }
   ],
   "source": [
    "baz_grad_AD = grad(baz) # differentiate through `for` loops!\n",
    "baz_grad_AD(x)"
   ]
  },
  {
   "cell_type": "code",
   "execution_count": 19,
   "metadata": {},
   "outputs": [
    {
     "data": {
      "text/plain": [
       "array([-0.95277637, -0.52425614,  0.        ,  0.        ])"
      ]
     },
     "execution_count": 19,
     "metadata": {},
     "output_type": "execute_result"
    }
   ],
   "source": [
    "def bar(x):\n",
    "    if anp.abs(x[1]) > 2:\n",
    "        return 0\n",
    "    else:\n",
    "        return -(x[0] * x[0] + 1) * anp.cos(x[1] - 1)\n",
    "\n",
    "\n",
    "def bar_grad(x):\n",
    "    if anp.abs(x[1]) > 2:  ## SOLUTION\n",
    "        return anp.zeros(len(x))\n",
    "    else:\n",
    "        result = 0 * x\n",
    "        result[0] = -2 * x[0] * anp.cos(x[1] - 1)\n",
    "        result[1] = (x[0] * x[0] + 1) * anp.sin(x[1] - 1)\n",
    "        return result\n",
    "\n",
    "\n",
    "bar_grad(x)"
   ]
  },
  {
   "cell_type": "code",
   "execution_count": 20,
   "metadata": {},
   "outputs": [
    {
     "data": {
      "text/plain": [
       "array([-0.95277637, -0.52425614,  0.        ,  0.        ])"
      ]
     },
     "execution_count": 20,
     "metadata": {},
     "output_type": "execute_result"
    }
   ],
   "source": [
    "bar_grad_AD = grad(bar) # differentiate through `if` statements!\n",
    "bar_grad_AD(x)"
   ]
  },
  {
   "cell_type": "markdown",
   "metadata": {},
   "source": [
    "As an additional demo, let's try robust regression with the Huber loss (whose derivative I don't really feel like dealing with):"
   ]
  },
  {
   "cell_type": "code",
   "execution_count": 21,
   "metadata": {},
   "outputs": [
    {
     "data": {
      "text/plain": [
       "array([-0.97369251, -2.31538039, -0.70716912,  0.84031742, -2.23766131,\n",
       "       -0.23711665, -1.00731654,  0.07554957, -0.58959108,  0.46803134])"
      ]
     },
     "execution_count": 21,
     "metadata": {},
     "output_type": "execute_result"
    }
   ],
   "source": [
    "d = 10\n",
    "n = 1000\n",
    "\n",
    "# generate random data\n",
    "X = anp.random.randn(n, d)\n",
    "w_true = anp.random.randn(d)\n",
    "y = X @ w_true\n",
    "# add random outliers\n",
    "Noutliers = 50\n",
    "y[:Noutliers] += 100 * anp.random.randn(Noutliers)\n",
    "w_true"
   ]
  },
  {
   "cell_type": "code",
   "execution_count": 22,
   "metadata": {},
   "outputs": [
    {
     "data": {
      "text/plain": [
       "array([-0.9736925 , -2.31538045, -0.7071691 ,  0.84031747, -2.23766131,\n",
       "       -0.23711668, -1.00731657,  0.07554957, -0.58959108,  0.46803136])"
      ]
     },
     "execution_count": 22,
     "metadata": {},
     "output_type": "execute_result"
    }
   ],
   "source": [
    "from sklearn.linear_model import HuberRegressor\n",
    "\n",
    "hr = HuberRegressor(fit_intercept=False, alpha=0)\n",
    "hr.fit(X, y)\n",
    "hr.coef_"
   ]
  },
  {
   "cell_type": "code",
   "execution_count": 23,
   "metadata": {},
   "outputs": [],
   "source": [
    "huber = lambda z: 0.5 * z ** 2 * (anp.abs(z) <= 1) + (anp.abs(z) - 0.5) * (anp.abs(z) > 1)\n",
    "f = lambda w: anp.sum(huber(X @ w - y))"
   ]
  },
  {
   "cell_type": "markdown",
   "metadata": {},
   "source": [
    "Okay here we go:"
   ]
  },
  {
   "cell_type": "code",
   "execution_count": 24,
   "metadata": {},
   "outputs": [],
   "source": [
    "df_dw = grad(f) # differentiate through matrix multiplications, etc."
   ]
  },
  {
   "cell_type": "code",
   "execution_count": 25,
   "metadata": {},
   "outputs": [
    {
     "data": {
      "text/plain": [
       "array([-0.96555241, -2.32608123, -0.71405059,  0.84137761, -2.226602  ,\n",
       "       -0.24343648, -1.00125349,  0.08771633, -0.59001858,  0.46743015])"
      ]
     },
     "execution_count": 25,
     "metadata": {},
     "output_type": "execute_result"
    }
   ],
   "source": [
    "w = np.zeros(d)\n",
    "\n",
    "alpha = 0.001\n",
    "while anp.linalg.norm(df_dw(w)) > 0.0001:\n",
    "    w -= alpha * df_dw(w)\n",
    "\n",
    "w"
   ]
  },
  {
   "cell_type": "markdown",
   "metadata": {},
   "source": [
    "Nice! (They are not exactly the same because of `epsilon` hyperparameter in `HuberRegressor`.)\n"
   ]
  },
  {
   "cell_type": "markdown",
   "metadata": {},
   "source": [
    "### Do I Never Need to Take a Derivative Again?"
   ]
  },
  {
   "cell_type": "markdown",
   "metadata": {},
   "source": [
    "Hopefully not? There are production-grade automatic differentiation systems, like those used in TensorFlow or PyTorch so you may never have to worry about taking a derivative ever again."
   ]
  }
 ],
 "metadata": {
  "anaconda-cloud": {},
  "kernelspec": {
   "display_name": "dsci572",
   "language": "python",
   "name": "python3"
  },
  "language_info": {
   "codemirror_mode": {
    "name": "ipython",
    "version": 3
   },
   "file_extension": ".py",
   "mimetype": "text/x-python",
   "name": "python",
   "nbconvert_exporter": "python",
   "pygments_lexer": "ipython3",
   "version": "3.10.8 | packaged by conda-forge | (main, Nov 22 2022, 08:25:29) [Clang 14.0.6 ]"
  },
  "vscode": {
   "interpreter": {
    "hash": "f821000d0c0da66e5bcde88c37d59c8e0de03b40667fb62009a8148ca49465a0"
   }
  }
 },
 "nbformat": 4,
 "nbformat_minor": 4
}
