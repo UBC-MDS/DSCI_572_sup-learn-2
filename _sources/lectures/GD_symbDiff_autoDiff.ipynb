{
 "cells": [
  {
   "cell_type": "code",
   "execution_count": 1,
   "id": "8ed0af3b-7546-4641-bf65-afdc55be6af2",
   "metadata": {},
   "outputs": [],
   "source": [
    "import numpy as np\n",
    "import pandas as pd\n",
    "import torch"
   ]
  },
  {
   "cell_type": "code",
   "execution_count": 2,
   "id": "179828ef-6816-472e-bfb8-9964c932201a",
   "metadata": {
    "tags": []
   },
   "outputs": [],
   "source": [
    "df = (pd.read_csv(\"data/pokemon.csv\", usecols=['name', 'defense', 'attack'], index_col=0)\n",
    "        .head(10)\n",
    "        .sort_values(by='defense')\n",
    "        .reset_index()\n",
    "     )\n",
    "x = df['defense'].values\n",
    "y = df['attack'].values"
   ]
  },
  {
   "cell_type": "markdown",
   "id": "08e34f87-b505-464a-a6ce-0e485091cd81",
   "metadata": {},
   "source": [
    "## GD with symbolic differentiation of the loss function"
   ]
  },
  {
   "cell_type": "code",
   "execution_count": 3,
   "id": "8efc8ce8-6a4a-4013-af65-4662807fc199",
   "metadata": {},
   "outputs": [],
   "source": [
    "def gradient(x, y, w):\n",
    "    return 2 * (x * (w * x - y)).mean()"
   ]
  },
  {
   "cell_type": "code",
   "execution_count": 4,
   "id": "2e3a6eb4-6709-4932-81e8-d7deddcde594",
   "metadata": {},
   "outputs": [],
   "source": [
    "def gradient_descent(x, y, w, alpha, ϵ=2e-4, max_iterations=100, print_progress=10):\n",
    "    \"\"\"Gradient descent for optimizing slope in simple linear regression with no intercept.\"\"\"\n",
    "    \n",
    "    print(f\"Iteration 0 \\tw = {w:.3f}\")\n",
    "    iterations = 1  # init iterations\n",
    "    dw = 2 * ϵ      # init. dw\n",
    "    \n",
    "    while abs(dw) > ϵ and iterations <= max_iterations:\n",
    "        \n",
    "        g = gradient(x, y, w)\n",
    "        dw = alpha * g\n",
    "        w -= dw\n",
    "        \n",
    "        if iterations % print_progress == 0:  # periodically print progress\n",
    "            print(f\"Iteration {iterations} \\tw = {w:.3f}\")\n",
    "            \n",
    "        iterations += 1        # increase iteration"
   ]
  },
  {
   "cell_type": "code",
   "execution_count": 5,
   "id": "43ed19bb-9b56-44ce-826d-7a5341b847cf",
   "metadata": {},
   "outputs": [
    {
     "name": "stdout",
     "output_type": "stream",
     "text": [
      "Iteration 0 \tw = 0.500\n",
      "Iteration 10 \tw = 0.799\n",
      "Iteration 20 \tw = 0.885\n",
      "Iteration 30 \tw = 0.909\n",
      "Iteration 40 \tw = 0.916\n"
     ]
    }
   ],
   "source": [
    "gradient_descent(x, y, w=0.5, alpha=0.00001, print_progress=10)"
   ]
  },
  {
   "cell_type": "markdown",
   "id": "ead37dcd-d58e-4b00-9b20-0fc4fb570ce6",
   "metadata": {},
   "source": [
    "## GD with automatic differentiation of the loss function"
   ]
  },
  {
   "cell_type": "code",
   "execution_count": 6,
   "id": "d60cdaee-7656-4673-95e3-826230e6b079",
   "metadata": {},
   "outputs": [],
   "source": [
    "x = torch.tensor(x)\n",
    "y = torch.tensor(y)"
   ]
  },
  {
   "cell_type": "code",
   "execution_count": 7,
   "id": "a77059c9-0db7-48e1-b0ba-7d7979b9f986",
   "metadata": {},
   "outputs": [],
   "source": [
    "def loss(y, y_pred):\n",
    "    return ((y_pred - y)**2).mean()"
   ]
  },
  {
   "cell_type": "code",
   "execution_count": 8,
   "id": "3b4a1f68-e365-4436-b08e-7bc83b1a3fd8",
   "metadata": {},
   "outputs": [],
   "source": [
    "def model(x, w):\n",
    "    return x * w"
   ]
  },
  {
   "cell_type": "code",
   "execution_count": 9,
   "id": "fe2f60b4-cb37-4801-9e0c-47c30b4940a5",
   "metadata": {},
   "outputs": [],
   "source": [
    "def gradient_descent(x, y, w, alpha, ϵ=2e-4, max_iterations=100, print_progress=10):\n",
    "    \"\"\"Gradient descent for optimizing slope in simple linear regression with no intercept.\"\"\"\n",
    "    \n",
    "    print(f\"Iteration 0 \\tw = {w:.3f}\")\n",
    "    iterations = 1  # init iterations\n",
    "    dw = 2 * ϵ      # init. dw\n",
    "    \n",
    "    w = torch.tensor(w, requires_grad=True)\n",
    "    \n",
    "    while abs(dw) > ϵ and iterations <= max_iterations:\n",
    "        \n",
    "        y_pred = model(x, w)\n",
    "        mse = loss(y_pred, y)\n",
    "        mse.backward()\n",
    "        \n",
    "        with torch.no_grad():\n",
    "            dw = alpha * w.grad\n",
    "            w -= dw\n",
    "        \n",
    "        w.grad.zero_()\n",
    "        \n",
    "        if iterations % print_progress == 0:  # periodically print progress\n",
    "            print(f\"Iteration {iterations} \\tw = {w:.3f}\")\n",
    "            \n",
    "        iterations += 1        # increase iteration\n",
    "    "
   ]
  },
  {
   "cell_type": "code",
   "execution_count": 10,
   "id": "574c69b9-b1fa-4538-bc33-aa5f4a390494",
   "metadata": {},
   "outputs": [
    {
     "name": "stdout",
     "output_type": "stream",
     "text": [
      "Iteration 0 \tw = 0.500\n",
      "Iteration 10 \tw = 0.799\n",
      "Iteration 20 \tw = 0.885\n",
      "Iteration 30 \tw = 0.909\n",
      "Iteration 40 \tw = 0.916\n"
     ]
    }
   ],
   "source": [
    "gradient_descent(x, y, w=0.5, alpha=0.00001, print_progress=10)"
   ]
  }
 ],
 "metadata": {
  "kernelspec": {
   "display_name": "Python [conda env:dsci572env]",
   "language": "python",
   "name": "conda-env-dsci572env-py"
  },
  "language_info": {
   "codemirror_mode": {
    "name": "ipython",
    "version": 3
   },
   "file_extension": ".py",
   "mimetype": "text/x-python",
   "name": "python",
   "nbconvert_exporter": "python",
   "pygments_lexer": "ipython3",
   "version": "3.9.9"
  }
 },
 "nbformat": 4,
 "nbformat_minor": 5
}
