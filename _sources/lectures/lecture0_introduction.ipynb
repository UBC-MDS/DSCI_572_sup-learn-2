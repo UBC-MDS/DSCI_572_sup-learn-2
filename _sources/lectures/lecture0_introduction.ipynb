{
 "cells": [
  {
   "cell_type": "markdown",
   "metadata": {},
   "source": [
    "![](img/572_banner.png)"
   ]
  },
  {
   "cell_type": "markdown",
   "metadata": {},
   "source": [
    "# Introduction to the Course\n",
    "\n",
    "**Tomas Beuzen, January 2021**"
   ]
  },
  {
   "cell_type": "markdown",
   "metadata": {},
   "source": [
    "![](img/party.png)"
   ]
  },
  {
   "cell_type": "markdown",
   "metadata": {},
   "source": [
    "## About the Course\n",
    "<hr>"
   ]
  },
  {
   "cell_type": "markdown",
   "metadata": {},
   "source": [
    "- **Lectures 1-3**: preparation for deep learning (floating point numbers, optimization, loss functions)\n",
    "- **Lectures 4-8**: deep learning (neural networks, convolutional neural networks, etc.)\n",
    "\n",
    "In this course, I want to give you a really solid foundation upon which to build your deep learning skills. There will be a lot of focus on understanding fundamentals and implementing things from scratch. We will progressively build our deep learning skills from understanding optimization algorithms like gradient descent, to building convolutional neural networks for image classification, and even creating generative adversarial networks (GANs) for synthetic image generation! This course will also lay the foundation for the more advanced topics you'll be exploring in DSCI 575 (Advanced Machine Learning), like recurrent neural networks.\n",
    "\n",
    "Along the way, I'll include and reference additional material in appendices that dive into some topics in more detail. These are **completely optional** and are there for those who wish to learn more about a particular topic."
   ]
  },
  {
   "cell_type": "markdown",
   "metadata": {},
   "source": [
    "### Course Tools"
   ]
  },
  {
   "cell_type": "markdown",
   "metadata": {},
   "source": [
    "The course will use Python and [PyTorch](https://pytorch.org/) as the deep learning software. Course material will be predominantly in Jupyter notebooks. Everything has been compiled into a Jupyter book [here](https://pages.github.ubc.ca/MDS-2020-21/DSCI_572_sup-learn-2_students/README.html).\n",
    "\n",
    "You can install all the software you need for the course using conda:\n",
    "\n",
    "```sh\n",
    "conda env create -f mds572.yaml\n",
    "```"
   ]
  },
  {
   "cell_type": "markdown",
   "metadata": {},
   "source": [
    "### Attribution"
   ]
  },
  {
   "cell_type": "markdown",
   "metadata": {},
   "source": [
    "These lectures build upon material developed by [Mike Gelbart](https://www.mikegelbart.com/). Also a big thank you and tip of the hat to [Aaron Berk](https://aaronberk.ca/) who has helped transition old course notes from Tensorflow to PyTorch. Throughout these lectures I've curated and adapted a variety of examples, images, etc from external sources which I cite when used."
   ]
  },
  {
   "cell_type": "markdown",
   "metadata": {},
   "source": [
    "## Course Roadmap\n",
    "<hr>"
   ]
  },
  {
   "cell_type": "markdown",
   "metadata": {},
   "source": [
    "![](img/roadmap-0.png)"
   ]
  }
 ],
 "metadata": {
  "kernelspec": {
   "display_name": "Python 3",
   "language": "python",
   "name": "python3"
  },
  "language_info": {
   "codemirror_mode": {
    "name": "ipython",
    "version": 3
   },
   "file_extension": ".py",
   "mimetype": "text/x-python",
   "name": "python",
   "nbconvert_exporter": "python",
   "pygments_lexer": "ipython3",
   "version": "3.7.8"
  },
  "toc": {
   "base_numbering": 1,
   "nav_menu": {},
   "number_sections": false,
   "sideBar": true,
   "skip_h1_title": true,
   "title_cell": "Lecture Outline",
   "title_sidebar": "Contents",
   "toc_cell": true,
   "toc_position": {},
   "toc_section_display": true,
   "toc_window_display": true
  },
  "toc-autonumbering": false,
  "toc-showcode": false,
  "toc-showmarkdowntxt": false,
  "toc-showtags": false
 },
 "nbformat": 4,
 "nbformat_minor": 4
}
