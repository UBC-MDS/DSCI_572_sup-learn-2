{
 "cells": [
  {
   "cell_type": "markdown",
   "metadata": {},
   "source": [
    "<img src=\"img/dsci572_header.png\" width=\"600\">"
   ]
  },
  {
   "cell_type": "markdown",
   "metadata": {},
   "source": [
    "# Appendix C: Computing Derivatives"
   ]
  },
  {
   "cell_type": "code",
   "execution_count": 1,
   "metadata": {},
   "outputs": [],
   "source": [
    "import numpy as np\n",
    "import sklearn\n",
    "import sklearn.linear_model\n",
    "import scipy.optimize\n",
    "import autograd # pip install autograd\n",
    "from autograd import grad\n",
    "import autograd.numpy as anp\n",
    "from scipy.optimize import minimize\n",
    "import matplotlib.pyplot as plt\n",
    "\n",
    "plt.rcParams.update({'font.size': 14, 'axes.labelweight': 'bold', 'figure.figsize': (6, 4)})\n",
    "%config InlineBackend.figure_formats = ['svg']"
   ]
  },
  {
   "cell_type": "code",
   "execution_count": null,
   "metadata": {},
   "outputs": [],
   "source": []
  },
  {
   "cell_type": "code",
   "execution_count": null,
   "metadata": {},
   "outputs": [],
   "source": []
  },
  {
   "attachments": {},
   "cell_type": "markdown",
   "metadata": {},
   "source": [
    "## Few-Shot Learning"
   ]
  },
  {
   "attachments": {},
   "cell_type": "markdown",
   "metadata": {},
   "source": [
    "- We have so far discussed how CNNs can be used to classify images\n",
    "\n",
    "- The assumption here is that we have access to relatively large datasets that contain 100s or 1000s of images per class\n",
    "- However, this is not always the case. More data is usually hard, or even impossible to obtain\n",
    "- Take the example of a **face recognition** system for a company's employees:\n",
    "\n",
    "  - Does it make sense to ask each employee to provide, say, 1000 images of their face so as to register them in the system?\n",
    "\n",
    "  - Even if we have 1000 images of each employee, we'd have to retrain the model every time a new employee is added to the system"
   ]
  },
  {
   "attachments": {},
   "cell_type": "markdown",
   "metadata": {},
   "source": [
    "<br><br><br>"
   ]
  },
  {
   "attachments": {},
   "cell_type": "markdown",
   "metadata": {},
   "source": [
    "- For cases like these, we can use a technique called **few-shot** learning. Instead of training the model on a new class of images, we use the similarities and differences of an image with other images to decide the class of that image.\n",
    "\n",
    "- Let me explain this with some examples (credit: most images in this section are adopted from this [website](https://zzaebok.github.io/machine_learning/FSL/) and [Youtube video](https://www.youtube.com/watch?v=hE7eGew4eeg)):\n",
    "\n",
    "For training a conventional CNN, we use a dataset like this:\n",
    "\n",
    "<img src=\"https://imgur.com/6MAisQL.png\" width=\"600\">"
   ]
  },
  {
   "attachments": {},
   "cell_type": "markdown",
   "metadata": {},
   "source": [
    "<br><br><br>"
   ]
  },
  {
   "attachments": {},
   "cell_type": "markdown",
   "metadata": {},
   "source": [
    "When we want to predict the class of a new image, that class should already exist in the training set of the CNN:\n",
    "\n",
    "<img src=\"https://imgur.com/H1rP0Aw.png\" width=\"600\">"
   ]
  },
  {
   "attachments": {},
   "cell_type": "markdown",
   "metadata": {},
   "source": [
    "-But what if the class of the test image does not exist among the classes on which the CNN was trained?\n",
    "\n",
    "- This is the kind of problem we're interested in solving with few-shot learning\n",
    "\n",
    "- **Few-shot learning is about learning to classify a new test image, with only few examples of that new class**"
   ]
  },
  {
   "attachments": {},
   "cell_type": "markdown",
   "metadata": {},
   "source": [
    "<br><br><br>"
   ]
  },
  {
   "attachments": {},
   "cell_type": "markdown",
   "metadata": {},
   "source": [
    "- Here for example, rabbit class does not exist in the training set. It would be desirable to have a model that can learn to classify this **query** image, based on a few images of rabbits"
   ]
  },
  {
   "cell_type": "markdown",
   "metadata": {},
   "source": [
    "<img src=\"https://imgur.com/StTYXay.png\" width=\"600\">"
   ]
  },
  {
   "attachments": {},
   "cell_type": "markdown",
   "metadata": {},
   "source": [
    "<br><br><br>"
   ]
  },
  {
   "attachments": {},
   "cell_type": "markdown",
   "metadata": {},
   "source": [
    "- The dataset of images on which the model wasn't trained on is called the **support set**\n",
    "\n",
    "- This problem is called **k-way n-shot** learning, when we have **k classes** and **n samples per class** in the **support set**"
   ]
  },
  {
   "attachments": {},
   "cell_type": "markdown",
   "metadata": {},
   "source": [
    "<img src=\"https://imgur.com/UsmR4Ow.png\" width=\"600\">\n"
   ]
  },
  {
   "attachments": {},
   "cell_type": "markdown",
   "metadata": {},
   "source": [
    "<br><br><br>"
   ]
  },
  {
   "attachments": {},
   "cell_type": "markdown",
   "metadata": {},
   "source": [
    "- **Now comes the key idea of few-show learning:** instead of directly learning how to classify, learn how to find similarities between samples belonging to the same class, and differences between samples belonging to different classes\n",
    "\n",
    "- In other words, instead of **learning the classification itself**, we'd like to **learn how to learn the classification**!\n",
    "\n",
    "- This is why few-shot learning is said to be an example of **meta learning**\n"
   ]
  },
  {
   "attachments": {},
   "cell_type": "markdown",
   "metadata": {},
   "source": [
    "<br><br><br>"
   ]
  },
  {
   "attachments": {},
   "cell_type": "markdown",
   "metadata": {},
   "source": [
    "### Siamese Networks for Few-Shot Learning"
   ]
  },
  {
   "attachments": {},
   "cell_type": "markdown",
   "metadata": {},
   "source": [
    "- As mentioned above, the goal is to learn **similarities** and **differences** between images in the same and different classes, rather than the corresponding classes\n",
    "\n",
    "- Therefore, it seems natural to think that a CNN could be used for feature extraction\n",
    "\n",
    "- An interesting model for few-shot learning is a Siamese (or twin) network ([image source](https://people.kth.se/~rosun/deep-learning/figures/siamese-arch.svg)):\n",
    "\n",
    "<img src=\"https://people.kth.se/~rosun/deep-learning/figures/siamese-arch.svg\" width=\"700\">"
   ]
  },
  {
   "attachments": {},
   "cell_type": "markdown",
   "metadata": {},
   "source": [
    "<br><br><br>"
   ]
  },
  {
   "attachments": {},
   "cell_type": "markdown",
   "metadata": {},
   "source": [
    "- The Siamese network is supposed to learn similarities and differences\n",
    "\n",
    "- This is why the first step is to **construct a new dataset from an existing one** as follows:\n",
    "\n",
    "<img src=\"img/pos_neg.png\" width=\"700\">"
   ]
  },
  {
   "attachments": {},
   "cell_type": "markdown",
   "metadata": {},
   "source": [
    "- Positive samples are pairs of images that belong to the same class\n",
    "\n",
    "- Negative samples are pairs of images that don't belong to the same class\n",
    "\n",
    "- The Siamese network is a parallel neural network architecture has two streams of images: one for each image in a pair of images, that form either a positive or negative sample\n",
    "\n",
    "- The two streams share exactly the same architecture and model parameters. This is why this particular architecture is called a **Siamese** or **twin** network"
   ]
  },
  {
   "attachments": {},
   "cell_type": "markdown",
   "metadata": {},
   "source": [
    "<br><br><br>"
   ]
  },
  {
   "attachments": {},
   "cell_type": "markdown",
   "metadata": {},
   "source": [
    "**How does a Siamese network learn?**\n",
    "\n",
    "A Siamese network uses a particular type of loss function called **contrastive loss**, with the following form:\n",
    "\n",
    "$$\n",
    "(1-Y) \\left(D\\right)^2+(Y) \\left\\{\\max \\left(0, m-D\\right)\\right\\}^2\n",
    "$$\n",
    "\n",
    "where $Y$ is the label of the generated samples; 0 for similar images (positive sample), and 1 for dissimilar images (negative sample).\n",
    "\n",
    "- The contrastive loss tries to decrease distance between embeddings (feature vectors) of similar images, and to increase distance between embeddings of dissimilar images.\n",
    "\n",
    "- In other words, through the contrastive loss, a Siamese network tries to pull similar images together, and push dissimilar images away, in the embedding space"
   ]
  },
  {
   "attachments": {},
   "cell_type": "markdown",
   "metadata": {},
   "source": [
    "<br><br><br>"
   ]
  },
  {
   "attachments": {},
   "cell_type": "markdown",
   "metadata": {},
   "source": [
    "- I'll explain the implementation in the lecture (the code below is adopted from [here](https://github.com/harveyslash/Facial-Similarity-with-Siamese-Networks-in-Pytorch/blob/master/Siamese-networks-medium.ipynb) with some minor changes)."
   ]
  },
  {
   "cell_type": "code",
   "execution_count": null,
   "metadata": {},
   "outputs": [],
   "source": [
    "class SiameseNetworkDataset(Dataset):\n",
    "    def __init__(self, imageFolderDataset, transform=None):\n",
    "        self.imageFolderDataset = imageFolderDataset\n",
    "        self.transform = transform\n",
    "\n",
    "    def __getitem__(self, index):\n",
    "        idx = np.random.choice(len(self.imageFolderDataset.imgs))\n",
    "        img0_tuple = self.imageFolderDataset.imgs[idx]\n",
    "\n",
    "        # 50% chance of images being in the same class\n",
    "        should_get_same_class = np.random.randint(0, 2)\n",
    "        if should_get_same_class:\n",
    "            while True:\n",
    "                # loop untill the same class is found\n",
    "                idx = np.random.choice(len(self.imageFolderDataset.imgs))\n",
    "                img1_tuple = self.imageFolderDataset.imgs[idx]\n",
    "                if img0_tuple[1] == img1_tuple[1]:\n",
    "                    break\n",
    "        else:\n",
    "            while True:\n",
    "                # loop untill a different class is found\n",
    "                idx = np.random.choice(len(self.imageFolderDataset.imgs))\n",
    "                img1_tuple = self.imageFolderDataset.imgs[idx]\n",
    "                if img0_tuple[1] != img1_tuple[1]:\n",
    "                    break\n",
    "\n",
    "        img0 = Image.open(img0_tuple[0])\n",
    "        img1 = Image.open(img1_tuple[0])\n",
    "\n",
    "        # convert to gray-scale\n",
    "        img0 = img0.convert(\"L\")\n",
    "        img1 = img1.convert(\"L\")\n",
    "\n",
    "        if self.transform is not None:\n",
    "            img0 = self.transform(img0)\n",
    "            img1 = self.transform(img1)\n",
    "\n",
    "        return (\n",
    "            img0,\n",
    "            img1,\n",
    "            torch.from_numpy(\n",
    "                np.array([int(img1_tuple[1] != img0_tuple[1])], dtype=np.float32)\n",
    "            ),\n",
    "        )\n",
    "\n",
    "    def __len__(self):\n",
    "        return 500"
   ]
  },
  {
   "cell_type": "code",
   "execution_count": null,
   "metadata": {},
   "outputs": [],
   "source": [
    "class SiameseNetwork(nn.Module):\n",
    "\n",
    "    def __init__(self):\n",
    "        super().__init__()\n",
    "\n",
    "        self.cnn = nn.Sequential(\n",
    "\n",
    "            nn.Conv2d(1, 96, kernel_size=5,stride=2),\n",
    "            nn.BatchNorm2d(96),\n",
    "            nn.ReLU(inplace=True),\n",
    "            nn.MaxPool2d(3, stride=2),\n",
    "            \n",
    "            nn.Conv2d(96, 64, kernel_size=3, stride=2),\n",
    "            nn.BatchNorm2d(64),\n",
    "            nn.ReLU(inplace=True),\n",
    "            nn.MaxPool2d(2, stride=2),\n",
    "\n",
    "            nn.Flatten()\n",
    "        )\n",
    "\n",
    "        self.fc = nn.Sequential(\n",
    "\n",
    "            nn.Linear(3136, 256),\n",
    "            nn.ReLU(inplace=True),\n",
    "\n",
    "            nn.Linear(256, 128),\n",
    "            nn.ReLU(inplace=True),\n",
    "\n",
    "            nn.Linear(128, 32),\n",
    "            nn.ReLU(inplace=True),\n",
    "            \n",
    "            nn.Linear(32, 2)\n",
    "        )\n",
    "        \n",
    "    def forward_each(self, x):\n",
    "        output = self.cnn(x)\n",
    "        output = self.fc(output)\n",
    "        \n",
    "        return output\n",
    "\n",
    "    def forward(self, input1, input2):\n",
    "        output1 = self.forward_each(input1)\n",
    "        output2 = self.forward_each(input2)\n",
    "\n",
    "        return output1, output2\n",
    "\n",
    "\n",
    "model = SiameseNetwork()\n",
    "summary(model, [(1, 128, 128,), (1, 128, 128,)]);"
   ]
  },
  {
   "cell_type": "code",
   "execution_count": null,
   "metadata": {},
   "outputs": [],
   "source": [
    "class ContrastiveLoss(torch.nn.Module):\n",
    "    def __init__(self, margin=2.0):\n",
    "        super(ContrastiveLoss, self).__init__()\n",
    "        self.margin = margin\n",
    "\n",
    "    def forward(self, output1, output2, label):\n",
    "        # Calculate the euclidian distance and calculate the contrastive loss\n",
    "        euclidean_distance = F.pairwise_distance(output1, output2, keepdim=True)\n",
    "\n",
    "        loss_contrastive = torch.mean(\n",
    "        (1 - label) * torch.pow(euclidean_distance, 2)\n",
    "        + (label) * torch.pow(torch.clamp(self.margin - euclidean_distance, min=0.0), 2)\n",
    "        )\n",
    "        \n",
    "        return loss_contrastive"
   ]
  },
  {
   "cell_type": "code",
   "execution_count": null,
   "metadata": {},
   "outputs": [],
   "source": [
    "def gridshow(img, text=None):\n",
    "    npimg = img.numpy()\n",
    "    plt.axis(\"off\")\n",
    "    if text:\n",
    "        plt.text(75, 8, text, style='italic',fontweight='bold',\n",
    "            bbox={'facecolor':'white', 'alpha':0.8, 'pad':10})\n",
    "        \n",
    "    plt.imshow(np.transpose(npimg, (1, 2, 0)))\n",
    "    plt.show() "
   ]
  },
  {
   "cell_type": "code",
   "execution_count": null,
   "metadata": {},
   "outputs": [],
   "source": [
    "folder_dataset = datasets.ImageFolder(root=\"data/faces/training\")\n",
    "\n",
    "transformation = transforms.Compose([\n",
    "    transforms.Resize((128, 128)),\n",
    "    transforms.ToTensor()\n",
    "])\n",
    "\n",
    "siamese_dataset = SiameseNetworkDataset(\n",
    "    imageFolderDataset=folder_dataset, transform=transformation\n",
    ")\n",
    "\n",
    "train_loader = DataLoader(siamese_dataset, shuffle=True, batch_size=8)\n",
    "\n",
    "example_batch = next(iter(train_loader))\n",
    "concatenated = torch.cat((example_batch[0], example_batch[1]), axis=0)\n",
    "\n",
    "gridshow(utils.make_grid(concatenated, nrow=8))\n",
    "print(example_batch[2].numpy().reshape(-1))"
   ]
  },
  {
   "cell_type": "code",
   "execution_count": null,
   "metadata": {},
   "outputs": [],
   "source": [
    "device = torch.device('mps' if torch.backends.mps.is_available() else 'cpu')\n",
    "\n",
    "model = SiameseNetwork().to(device)\n",
    "criterion = ContrastiveLoss(margin=3.0)\n",
    "optimizer = optim.Adam(model.parameters(), lr=1e-3)\n",
    "\n",
    "siamese_dataset = SiameseNetworkDataset(imageFolderDataset=folder_dataset, transform=transformation)\n",
    "# siamese_dataset = Subset(siamese_dataset, range(500))\n",
    "\n",
    "train_loader = DataLoader(siamese_dataset, shuffle=True, batch_size=64)\n",
    "\n",
    "loss_history = [] \n",
    "\n",
    "for epoch in range(200):\n",
    "\n",
    "    for i, (img0, img1, label) in enumerate(train_loader, 0):\n",
    "\n",
    "        if device.type in ['cuda', 'mps']:\n",
    "            img0, img1, label = img0.to(device), img1.to(device), label.to(device)\n",
    "\n",
    "        optimizer.zero_grad()\n",
    "        output1, output2 = model(img0, img1)\n",
    "        loss_contrastive = criterion(output1, output2, label)\n",
    "        loss_contrastive.backward()\n",
    "        optimizer.step()\n",
    "\n",
    "        if i % 10 == 0 :\n",
    "            print(f\"Epoch {epoch}: Training batch loss = {loss_contrastive.item():g}\")\n",
    "            loss_history.append(loss_contrastive.item())"
   ]
  },
  {
   "cell_type": "code",
   "execution_count": null,
   "metadata": {},
   "outputs": [],
   "source": [
    "plt.loglog(loss_history)"
   ]
  },
  {
   "cell_type": "code",
   "execution_count": null,
   "metadata": {},
   "outputs": [],
   "source": [
    "model.eval()\n",
    "\n",
    "folder_dataset_test = datasets.ImageFolder(root=\"data/faces/testing/\")\n",
    "siamese_dataset = SiameseNetworkDataset(imageFolderDataset=folder_dataset_test, transform=transformation)\n",
    "                                        \n",
    "# siamese_dataset = Subset(siamese_dataset, range(2000))\n",
    "\n",
    "test_dataloader = DataLoader(siamese_dataset, batch_size=1, shuffle=True)\n",
    "\n",
    "# Take one image to test on\n",
    "dataiter = iter(test_dataloader)\n",
    "x0, _, _ = next(dataiter)\n",
    "\n",
    "if device.type in ['cuda', 'mps']: x0 = x0.to(device)\n",
    "\n",
    "for i in range(10):\n",
    "    _, x1, label2 = next(dataiter)\n",
    "    if device.type in ['cuda', 'mps']:\n",
    "        x1, labe12 = x1.to(device), label2.to(device)\n",
    "\n",
    "    concatenated = torch.cat((x0, x1), 0)\n",
    "    \n",
    "    output1, output2 = model(x0, x1)\n",
    "    euclidean_distance = F.pairwise_distance(output1, output2)\n",
    "    gridshow(utils.make_grid(concatenated.cpu()), f'Distance: {euclidean_distance.item():.4g}')"
   ]
  }
 ],
 "metadata": {
  "anaconda-cloud": {},
  "kernelspec": {
   "display_name": "Python 3 (ipykernel)",
   "language": "python",
   "name": "python3"
  },
  "language_info": {
   "codemirror_mode": {
    "name": "ipython",
    "version": 3
   },
   "file_extension": ".py",
   "mimetype": "text/x-python",
   "name": "python",
   "nbconvert_exporter": "python",
   "pygments_lexer": "ipython3",
   "version": "3.11.4"
  },
  "vscode": {
   "interpreter": {
    "hash": "f821000d0c0da66e5bcde88c37d59c8e0de03b40667fb62009a8148ca49465a0"
   }
  }
 },
 "nbformat": 4,
 "nbformat_minor": 4
}
