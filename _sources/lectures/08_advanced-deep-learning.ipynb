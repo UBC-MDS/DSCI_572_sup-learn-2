{
 "cells": [
  {
   "cell_type": "markdown",
   "metadata": {},
   "source": [
    "<img src=\"img/dsci572_header.png\" width=\"600\">"
   ]
  },
  {
   "attachments": {},
   "cell_type": "markdown",
   "metadata": {},
   "source": [
    "# Lecture 8: Advanced Convolutional Models"
   ]
  },
  {
   "attachments": {},
   "cell_type": "markdown",
   "metadata": {},
   "source": [
    "<br><br><br>"
   ]
  },
  {
   "cell_type": "markdown",
   "metadata": {},
   "source": [
    "## Lecture Learning Objectives\n"
   ]
  },
  {
   "attachments": {},
   "cell_type": "markdown",
   "metadata": {},
   "source": [
    "- Explain the difference between generative vs. discriminative models  \n",
    "- Describe what an autoencoder is at a high level and what they can be useful for\n",
    "- Describe what a generative adversarial network is at a high level and what they can be useful for"
   ]
  },
  {
   "attachments": {},
   "cell_type": "markdown",
   "metadata": {},
   "source": [
    "<br><br><br>"
   ]
  },
  {
   "cell_type": "markdown",
   "metadata": {},
   "source": [
    "## Imports\n"
   ]
  },
  {
   "cell_type": "code",
   "execution_count": 1,
   "metadata": {},
   "outputs": [],
   "source": [
    "import numpy as np\n",
    "import pandas as pd\n",
    "import torch\n",
    "from torch import nn, optim\n",
    "from torch.utils.data import DataLoader, TensorDataset\n",
    "from torchvision import transforms, datasets, utils, models\n",
    "from torchsummary import summary\n",
    "from sklearn.datasets import make_blobs\n",
    "from sklearn.preprocessing import StandardScaler\n",
    "from utils.plotting import *\n",
    "import matplotlib.pyplot as plt\n",
    "import matplotlib.animation as animation\n",
    "from IPython.display import HTML\n",
    "from PIL import Image\n",
    "plt.rcParams.update({'font.size': 16, 'axes.labelweight': 'bold', 'axes.grid': False})\n",
    "import plotly.io as pio\n",
    "pio.renderers.default = \"png\""
   ]
  },
  {
   "cell_type": "markdown",
   "metadata": {},
   "source": [
    "<br><br><br><br>"
   ]
  },
  {
   "cell_type": "markdown",
   "metadata": {},
   "source": [
    "## Clarifications"
   ]
  },
  {
   "cell_type": "markdown",
   "metadata": {},
   "source": [
    "### `nn.CrossEntropyLoss` in PyTorch\n",
    "\n",
    "From the [documentation](https://pytorch.org/docs/stable/generated/torch.nn.CrossEntropyLoss.html) \n",
    "- The input is expected to contain the unnormalized logits for each class (which do not need to be positive or sum to 1, in general)."
   ]
  },
  {
   "cell_type": "code",
   "execution_count": 2,
   "metadata": {},
   "outputs": [],
   "source": [
    "criterion = nn.CrossEntropyLoss()\n",
    "y = torch.tensor([0, 3]) # targets for two examples assuming a 4-class classification problem \n",
    "\n",
    "y_preds_good = torch.tensor([[2.0, 0.1, 0.2, 0.4], [0.22, 0.7, 1.0, 4.0]])\n",
    "y_preds_bad = torch.tensor([[0.1, 0.3, 3.0, 1.2], [3.1, 1.3, 0.9, 0.2]])"
   ]
  },
  {
   "cell_type": "code",
   "execution_count": 3,
   "metadata": {},
   "outputs": [
    {
     "data": {
      "text/plain": [
       "tensor(0.2602)"
      ]
     },
     "execution_count": 3,
     "metadata": {},
     "output_type": "execute_result"
    }
   ],
   "source": [
    "criterion(y_preds_good, y) # low loss as expected "
   ]
  },
  {
   "cell_type": "code",
   "execution_count": 4,
   "metadata": {},
   "outputs": [
    {
     "data": {
      "text/plain": [
       "tensor(3.1694)"
      ]
     },
     "execution_count": 4,
     "metadata": {},
     "output_type": "execute_result"
    }
   ],
   "source": [
    "criterion(y_preds_bad, y) # high loss as expected "
   ]
  },
  {
   "cell_type": "markdown",
   "metadata": {},
   "source": [
    "### Using torchsummary  "
   ]
  },
  {
   "cell_type": "markdown",
   "metadata": {},
   "source": [
    "Manually calculating the output map shape of complex CNNs with multiple layers before the final flattening layer can be tedious.\n",
    "\n",
    "In these instances, the `summary` function from `torchsummary` can be useful."
   ]
  },
  {
   "cell_type": "code",
   "execution_count": 5,
   "metadata": {},
   "outputs": [],
   "source": [
    "class test_CNN(nn.Module):\n",
    "    def __init__(self):\n",
    "        super().__init__()\n",
    "        self.main = nn.Sequential(\n",
    "            nn.Conv2d(3, 8, (5, 5)),\n",
    "            nn.ReLU(),\n",
    "            nn.MaxPool2d((2, 2)),\n",
    "            nn.Conv2d(8, 4, (3, 3)),\n",
    "            nn.ReLU(),\n",
    "            nn.MaxPool2d((3, 3)),\n",
    "            nn.Dropout(0.2),\n",
    "            # nn.Flatten(),\n",
    "            # nn.Linear(324, 128),\n",
    "            # nn.ReLU(),\n",
    "            # nn.Linear(128, 1)\n",
    "        )\n",
    "        \n",
    "    def forward(self, x):\n",
    "        out = self.main(x)\n",
    "        return out"
   ]
  },
  {
   "cell_type": "code",
   "execution_count": 6,
   "metadata": {},
   "outputs": [
    {
     "name": "stdout",
     "output_type": "stream",
     "text": [
      "==========================================================================================\n",
      "Layer (type:depth-idx)                   Output Shape              Param #\n",
      "==========================================================================================\n",
      "├─Sequential: 1-1                        [-1, 4, 9, 9]             --\n",
      "|    └─Conv2d: 2-1                       [-1, 8, 60, 60]           608\n",
      "|    └─ReLU: 2-2                         [-1, 8, 60, 60]           --\n",
      "|    └─MaxPool2d: 2-3                    [-1, 8, 30, 30]           --\n",
      "|    └─Conv2d: 2-4                       [-1, 4, 28, 28]           292\n",
      "|    └─ReLU: 2-5                         [-1, 4, 28, 28]           --\n",
      "|    └─MaxPool2d: 2-6                    [-1, 4, 9, 9]             --\n",
      "|    └─Dropout: 2-7                      [-1, 4, 9, 9]             --\n",
      "==========================================================================================\n",
      "Total params: 900\n",
      "Trainable params: 900\n",
      "Non-trainable params: 0\n",
      "Total mult-adds (M): 2.39\n",
      "==========================================================================================\n",
      "Input size (MB): 0.05\n",
      "Forward/backward pass size (MB): 0.24\n",
      "Params size (MB): 0.00\n",
      "Estimated Total Size (MB): 0.29\n",
      "==========================================================================================\n"
     ]
    }
   ],
   "source": [
    "from torchsummary import summary\n",
    "\n",
    "model = test_CNN()\n",
    "# The second argument is the size of your input.\n",
    "summary(model, (3, 64, 64));"
   ]
  },
  {
   "cell_type": "markdown",
   "metadata": {},
   "source": [
    "<br><br><br><br>"
   ]
  },
  {
   "cell_type": "markdown",
   "metadata": {},
   "source": [
    "## 1. Generative vs. Descriminative approaches "
   ]
  },
  {
   "cell_type": "markdown",
   "metadata": {},
   "source": [
    "Both approaches can be used for supervised classification. But the way they think about separating classes is very different.  \n",
    "\n",
    "- **Generative** models can generate new data instances\n",
    "    - Example: Generate or draw a cat\n",
    "    - They build a \"model\" for each class; they try to capture some characterization of the distribution\n",
    "    - They capture the joint probability $p(X, y)$ or just $p(X)$ (if no labels are available)\n",
    "    - You predict the class based on which model becomes more likely for the given example \n",
    "- **Discriminative** models descriminate between different kinds of data instances\n",
    "    - Example: distinguish dog images from cat images\n",
    "    - They put all their effort in identifying the boundary between different classes\n",
    "    - They capture the conditional probability $p(y \\vert X)$"
   ]
  },
  {
   "cell_type": "markdown",
   "metadata": {},
   "source": [
    "![](img/generative-discriminative.png)\n",
    "\n",
    "[Source](https://stanford.edu/~shervine/teaching/cs-229/cheatsheet-supervised-learning)"
   ]
  },
  {
   "cell_type": "markdown",
   "metadata": {},
   "source": [
    "### Activity \n",
    "\n",
    "Identify which of the following models are generative vs. discriminative\n",
    "\n",
    "- Logistic regression\n",
    "- Tree-based models\n",
    "- Naive Bayes\n",
    "- CNNs\n",
    "- Large language models (e.g., ChatGPT)"
   ]
  },
  {
   "cell_type": "markdown",
   "metadata": {},
   "source": [
    "## 2. Autoencoders\n",
    "<hr>"
   ]
  },
  {
   "cell_type": "markdown",
   "metadata": {},
   "source": [
    "- Autoencoders (AE) are networks that are designed to reproduce their input at the output layer\n",
    "- They are composed of an \"encoder\" and \"decoder\"\n",
    "- The hidden layers of the AE are typically smaller than the input layers, such that the dimensionality of the data is reduced as it is passed through the encoder, and then expanded again in the decoder:\n",
    "\n",
    "![](img/autoencoder.png)"
   ]
  },
  {
   "cell_type": "markdown",
   "metadata": {},
   "source": [
    "- Why would you want to use such a model? As you can see, AEs perform dimensionality reduction by learning to represent your input features using fewer dimensions\n",
    "- That can be useful for a range of tasks but we'll look at some specific examples below"
   ]
  },
  {
   "cell_type": "markdown",
   "metadata": {},
   "source": [
    "### 2.1. Example 1: Dimensionality Reduction"
   ]
  },
  {
   "cell_type": "markdown",
   "metadata": {},
   "source": [
    "- Here's some synthetic data of 3 features and two classes\n",
    "- Can we reduce the dimensionality of this data to two features while preserving the class separation?"
   ]
  },
  {
   "cell_type": "code",
   "execution_count": 7,
   "metadata": {},
   "outputs": [
    {
     "data": {
      "image/png": "[encoded data removed]"
     },
     "metadata": {},
     "output_type": "display_data"
    }
   ],
   "source": [
    "n_samples = 500\n",
    "X, y = make_blobs(n_samples, n_features=2, centers=2, cluster_std=1, random_state=123)\n",
    "X = np.concatenate((X, np.random.random((n_samples, 1))), axis=1)\n",
    "X = StandardScaler().fit_transform(X)\n",
    "plot_scatter3D(X, y)"
   ]
  },
  {
   "cell_type": "markdown",
   "metadata": {},
   "source": [
    "- We can see that `X1` and `X2` split the data nicely, and the `X3` is just noise\n",
    "- The question is, can an AE learn that this data can be nicely separated in just two of the three dimensions?\n",
    "- Let's build a simple AE with the following neurons in each layer: 3 -> 2 -> 3:"
   ]
  },
  {
   "cell_type": "code",
   "execution_count": 8,
   "metadata": {},
   "outputs": [],
   "source": [
    "class autoencoder(torch.nn.Module):\n",
    "    def __init__(self, input_size, hidden_size):\n",
    "        super().__init__()\n",
    "        self.encoder = nn.Sequential(\n",
    "            nn.Linear(input_size, 2),\n",
    "            nn.Sigmoid()\n",
    "        )\n",
    "        self.decoder = nn.Sequential(\n",
    "            nn.Linear(2, input_size),\n",
    "            nn.Sigmoid()\n",
    "        )\n",
    "\n",
    "    def forward(self, x):\n",
    "        x = self.encoder(x)\n",
    "        x = self.decoder(x)\n",
    "        return x"
   ]
  },
  {
   "cell_type": "code",
   "execution_count": 9,
   "metadata": {},
   "outputs": [],
   "source": [
    "BATCH_SIZE = 100\n",
    "torch.manual_seed(1)\n",
    "X_tensor = torch.tensor(X, dtype=torch.float32)\n",
    "dataloader = DataLoader(X_tensor,\n",
    "                        batch_size=BATCH_SIZE)\n",
    "model = autoencoder(3, 2)\n",
    "criterion = nn.MSELoss()\n",
    "optimizer = optim.Adam(model.parameters())"
   ]
  },
  {
   "cell_type": "code",
   "execution_count": 10,
   "metadata": {},
   "outputs": [],
   "source": [
    "EPOCHS = 5\n",
    "\n",
    "for epoch in range(EPOCHS):\n",
    "    for batch in dataloader:\n",
    "        optimizer.zero_grad()           # Clear gradients w.r.t. parameters\n",
    "        y_hat = model(batch)            # Forward pass to get output\n",
    "        loss = criterion(y_hat, batch)  # Calculate loss\n",
    "        loss.backward()                 # Getting gradients w.r.t. parameters\n",
    "        optimizer.step()                # Update parameters"
   ]
  },
  {
   "cell_type": "markdown",
   "metadata": {},
   "source": [
    "- We only care about the encoder now, does it represent our data nicely in reduced dimensions?"
   ]
  },
  {
   "cell_type": "code",
   "execution_count": 11,
   "metadata": {},
   "outputs": [
    {
     "name": "stdout",
     "output_type": "stream",
     "text": [
      "Original X shape = torch.Size([500, 3])\n",
      " Encoded X shape = torch.Size([500, 2])\n"
     ]
    }
   ],
   "source": [
    "model.eval()\n",
    "print(f\"Original X shape = {X_tensor.shape}\")\n",
    "X_encoded = model.encoder(X_tensor)\n",
    "print(f\" Encoded X shape = {X_encoded.shape}\")"
   ]
  },
  {
   "cell_type": "code",
   "execution_count": 12,
   "metadata": {},
   "outputs": [
    {
     "data": {
      "image/png": "[encoded data removed]"
     },
     "metadata": {},
     "output_type": "display_data"
    }
   ],
   "source": [
    "plot_scatter2D(X_encoded, y)"
   ]
  },
  {
   "cell_type": "markdown",
   "metadata": {},
   "source": [
    "- What did we just do? We used an AE to effectively reduce the number of features in our data\n",
    "- This is very similar to concepts of unsupervised learning and clustering that we'll discuss in DSCI 563."
   ]
  },
  {
   "cell_type": "markdown",
   "metadata": {},
   "source": [
    "### 2.2. Example 2: Image Denoising"
   ]
  },
  {
   "cell_type": "markdown",
   "metadata": {},
   "source": [
    "- Okay, let's do something more interesting\n",
    "- We saw above that AEs can be useful feature reducers (i.e., they can remove unimportant features from our data)\n",
    "- This also applies to images and it's a fun application to de-noise images!\n",
    "- Take a look at these images of 8's from the MNIST dataset, I'm going to mess them up by adding some noise to them:"
   ]
  },
  {
   "cell_type": "code",
   "execution_count": 13,
   "metadata": {},
   "outputs": [
    {
     "data": {
      "image/png": "[encoded data removed]",
      "text/plain": [
       "<Figure size 700x500 with 6 Axes>"
      ]
     },
     "metadata": {},
     "output_type": "display_data"
    }
   ],
   "source": [
    "BATCH_SIZE = 32\n",
    "\n",
    "# Download data\n",
    "transform = transforms.Compose([transforms.ToTensor()])\n",
    "trainset = datasets.MNIST('data/', download=True, train=True, transform=transform)\n",
    "idx = trainset.targets == 8  # let's only work with the number 8\n",
    "trainset.targets = trainset.targets[idx]\n",
    "trainset.data = trainset.data[idx]\n",
    "trainloader = torch.utils.data.DataLoader(trainset, batch_size=BATCH_SIZE, shuffle=True)\n",
    "\n",
    "# Sample plot\n",
    "X, y = next(iter(trainloader))\n",
    "noise = 0.5\n",
    "plot_eights(X, noise)"
   ]
  },
  {
   "cell_type": "code",
   "execution_count": 14,
   "metadata": {},
   "outputs": [
    {
     "data": {
      "text/plain": [
       "torch.Size([32, 1, 28, 28])"
      ]
     },
     "execution_count": 14,
     "metadata": {},
     "output_type": "execute_result"
    }
   ],
   "source": [
    "X.shape"
   ]
  },
  {
   "cell_type": "markdown",
   "metadata": {},
   "source": [
    "- Can we train an AE to get rid of that noise and reconstruct the original 8's? Let's give it a try!\n",
    "- I'm going to use convolutional layers in my AE now as we are dealing with images\n",
    "- We'll use `Conv2D()` layers to *compress* our images into a reduced dimensonality, and then we need to \"upsample\" it back to the original size\n",
    "- One ingredient you'll need to know to do this is \"transposed convolutional layers\". These are just like \"convolutional layers\" but for the purpose of \"upsampling\" (increasing the size of) our data. Rather than simply expanding the size of our data and interpolating, we use \n",
    "`nn.ConvTranspose2d()` layers to help us learn how to best upsample our data:\n",
    "\n",
    "![](img/conv_trans_1.gif)\n",
    "\n",
    "![](img/conv_trans_2.gif)\n",
    "\n",
    "Source: modified from [A guide to convolution arithmetic for deep learning, Vincent Dumoulin (2018)](https://arxiv.org/abs/1603.07285)"
   ]
  },
  {
   "cell_type": "markdown",
   "metadata": {
    "tags": []
   },
   "source": [
    "#### Convolution Layers"
   ]
  },
  {
   "cell_type": "markdown",
   "metadata": {
    "tags": []
   },
   "source": [
    "Convolution layers **downsample** input features. In other words, the goal of convolution layers is to go from **larger features (images)** to **smaller features (images)**.\n",
    "\n",
    "Here is an animation of how kernels are applied to input features:"
   ]
  },
  {
   "attachments": {},
   "cell_type": "markdown",
   "metadata": {
    "tags": []
   },
   "source": [
    "<img src=\"img/conv-padded.gif\" width=\"200\"><img src=\"img/conv-strided-padded.gif\" width=\"200\">\n",
    "<br>\n",
    "[(image source)](https://github.com/vdumoulin/conv_arithmetic/blob/master/README.md#transposed-convolution-animations)"
   ]
  },
  {
   "attachments": {},
   "cell_type": "markdown",
   "metadata": {},
   "source": [
    "<br><br><br>"
   ]
  },
  {
   "attachments": {},
   "cell_type": "markdown",
   "metadata": {
    "tags": []
   },
   "source": [
    "#### Transposed Convolution Layers"
   ]
  },
  {
   "attachments": {},
   "cell_type": "markdown",
   "metadata": {
    "tags": []
   },
   "source": [
    "This is the first time we see transposed convolution layers. These layers do the opposite of what convolution layers do; that is, instead of downsampling images, they upsample. Transposed convolutions are used in the generator of a GAN to generate a image from some random vector."
   ]
  },
  {
   "attachments": {},
   "cell_type": "markdown",
   "metadata": {
    "tags": []
   },
   "source": [
    "The goal of transposed convolution layers is to go from **smaller features (images)** to **larger features (images)**."
   ]
  },
  {
   "cell_type": "markdown",
   "metadata": {
    "tags": []
   },
   "source": [
    "<img src=\"img/conv-trans-strided.gif\" width=\"200\"><img src=\"img/conv-trans-not-strided.gif\" width=\"200\"><br>\n",
    "[(image source)](https://github.com/vdumoulin/conv_arithmetic/blob/master/README.md#transposed-convolution-animations)"
   ]
  },
  {
   "attachments": {},
   "cell_type": "markdown",
   "metadata": {
    "tags": []
   },
   "source": [
    "While downsampling seems very intuitive, upsampling might look like doing magic: we try to generate information (pixel values) that did not exist before. But it's practically not hard to do.\n",
    "\n",
    "We do something similar to what we did with convolution layers: we convolve (pass) the kernel over the inputs, and multiply each input element by all kernel elements. The resulting array will be part of the larger image:"
   ]
  },
  {
   "cell_type": "markdown",
   "metadata": {
    "tags": []
   },
   "source": [
    "<img src=\"img/conv-trans-how.svg\" width=\"500\"><br>\n",
    "[(image source)](https://d2l.ai/chapter_computer-vision/transposed-conv.html)"
   ]
  },
  {
   "cell_type": "markdown",
   "metadata": {
    "tags": []
   },
   "source": [
    "If we repeat this operation in several layers, we can progressively increase the size of the input images. This is exactly what the generator does; it starts from some random noise, and progressively expands that into larger and larger images."
   ]
  },
  {
   "cell_type": "code",
   "execution_count": 15,
   "metadata": {},
   "outputs": [],
   "source": [
    "def conv_block(input_channels, output_channels):\n",
    "    return nn.Sequential(\n",
    "        nn.Conv2d(input_channels, output_channels, 3, padding=1),\n",
    "        nn.ReLU(),\n",
    "        nn.MaxPool2d(2)  # reduce x-y dims by two; window and stride of 2\n",
    "    )\n",
    "\n",
    "def deconv_block(input_channels, output_channels, kernel_size):\n",
    "    return nn.Sequential(\n",
    "        nn.ConvTranspose2d(input_channels, output_channels, kernel_size, stride=2),\n",
    "        nn.ReLU()\n",
    "    )\n",
    "\n",
    "class autoencoder(torch.nn.Module):\n",
    "    def __init__(self):\n",
    "        super().__init__()\n",
    "        self.encoder = nn.Sequential(\n",
    "            conv_block(1, 32),\n",
    "            conv_block(32, 16),\n",
    "            conv_block(16, 8)\n",
    "        )\n",
    "        self.decoder = nn.Sequential(\n",
    "            deconv_block(8, 8, 3),\n",
    "            deconv_block(8, 16, 2),\n",
    "            deconv_block(16, 32, 2),\n",
    "            nn.Conv2d(32, 1, 3, padding=1)  # final conv layer to decrease channel back to 1\n",
    "        )\n",
    "\n",
    "    def forward(self, x):\n",
    "        x = self.encoder(x)\n",
    "        x = self.decoder(x)\n",
    "        x = torch.sigmoid(x)  # get pixels between 0 and 1\n",
    "        return x"
   ]
  },
  {
   "cell_type": "code",
   "execution_count": 16,
   "metadata": {},
   "outputs": [
    {
     "name": "stdout",
     "output_type": "stream",
     "text": [
      "==========================================================================================\n",
      "Layer (type:depth-idx)                   Output Shape              Param #\n",
      "==========================================================================================\n",
      "├─Sequential: 1-1                        [-1, 8, 3, 3]             --\n",
      "|    └─Sequential: 2-1                   [-1, 32, 14, 14]          --\n",
      "|    |    └─Conv2d: 3-1                  [-1, 32, 28, 28]          320\n",
      "|    |    └─ReLU: 3-2                    [-1, 32, 28, 28]          --\n",
      "|    |    └─MaxPool2d: 3-3               [-1, 32, 14, 14]          --\n",
      "|    └─Sequential: 2-2                   [-1, 16, 7, 7]            --\n",
      "|    |    └─Conv2d: 3-4                  [-1, 16, 14, 14]          4,624\n",
      "|    |    └─ReLU: 3-5                    [-1, 16, 14, 14]          --\n",
      "|    |    └─MaxPool2d: 3-6               [-1, 16, 7, 7]            --\n",
      "|    └─Sequential: 2-3                   [-1, 8, 3, 3]             --\n",
      "|    |    └─Conv2d: 3-7                  [-1, 8, 7, 7]             1,160\n",
      "|    |    └─ReLU: 3-8                    [-1, 8, 7, 7]             --\n",
      "|    |    └─MaxPool2d: 3-9               [-1, 8, 3, 3]             --\n",
      "├─Sequential: 1-2                        [-1, 1, 28, 28]           --\n",
      "|    └─Sequential: 2-4                   [-1, 8, 7, 7]             --\n",
      "|    |    └─ConvTranspose2d: 3-10        [-1, 8, 7, 7]             584\n",
      "|    |    └─ReLU: 3-11                   [-1, 8, 7, 7]             --\n",
      "|    └─Sequential: 2-5                   [-1, 16, 14, 14]          --\n",
      "|    |    └─ConvTranspose2d: 3-12        [-1, 16, 14, 14]          528\n",
      "|    |    └─ReLU: 3-13                   [-1, 16, 14, 14]          --\n",
      "|    └─Sequential: 2-6                   [-1, 32, 28, 28]          --\n",
      "|    |    └─ConvTranspose2d: 3-14        [-1, 32, 28, 28]          2,080\n",
      "|    |    └─ReLU: 3-15                   [-1, 32, 28, 28]          --\n",
      "|    └─Conv2d: 2-7                       [-1, 1, 28, 28]           289\n",
      "==========================================================================================\n",
      "Total params: 9,585\n",
      "Trainable params: 9,585\n",
      "Non-trainable params: 0\n",
      "Total mult-adds (M): 3.16\n",
      "==========================================================================================\n",
      "Input size (MB): 0.00\n",
      "Forward/backward pass size (MB): 0.44\n",
      "Params size (MB): 0.04\n",
      "Estimated Total Size (MB): 0.48\n",
      "==========================================================================================\n"
     ]
    },
    {
     "data": {
      "text/plain": [
       "==========================================================================================\n",
       "Layer (type:depth-idx)                   Output Shape              Param #\n",
       "==========================================================================================\n",
       "├─Sequential: 1-1                        [-1, 8, 3, 3]             --\n",
       "|    └─Sequential: 2-1                   [-1, 32, 14, 14]          --\n",
       "|    |    └─Conv2d: 3-1                  [-1, 32, 28, 28]          320\n",
       "|    |    └─ReLU: 3-2                    [-1, 32, 28, 28]          --\n",
       "|    |    └─MaxPool2d: 3-3               [-1, 32, 14, 14]          --\n",
       "|    └─Sequential: 2-2                   [-1, 16, 7, 7]            --\n",
       "|    |    └─Conv2d: 3-4                  [-1, 16, 14, 14]          4,624\n",
       "|    |    └─ReLU: 3-5                    [-1, 16, 14, 14]          --\n",
       "|    |    └─MaxPool2d: 3-6               [-1, 16, 7, 7]            --\n",
       "|    └─Sequential: 2-3                   [-1, 8, 3, 3]             --\n",
       "|    |    └─Conv2d: 3-7                  [-1, 8, 7, 7]             1,160\n",
       "|    |    └─ReLU: 3-8                    [-1, 8, 7, 7]             --\n",
       "|    |    └─MaxPool2d: 3-9               [-1, 8, 3, 3]             --\n",
       "├─Sequential: 1-2                        [-1, 1, 28, 28]           --\n",
       "|    └─Sequential: 2-4                   [-1, 8, 7, 7]             --\n",
       "|    |    └─ConvTranspose2d: 3-10        [-1, 8, 7, 7]             584\n",
       "|    |    └─ReLU: 3-11                   [-1, 8, 7, 7]             --\n",
       "|    └─Sequential: 2-5                   [-1, 16, 14, 14]          --\n",
       "|    |    └─ConvTranspose2d: 3-12        [-1, 16, 14, 14]          528\n",
       "|    |    └─ReLU: 3-13                   [-1, 16, 14, 14]          --\n",
       "|    └─Sequential: 2-6                   [-1, 32, 28, 28]          --\n",
       "|    |    └─ConvTranspose2d: 3-14        [-1, 32, 28, 28]          2,080\n",
       "|    |    └─ReLU: 3-15                   [-1, 32, 28, 28]          --\n",
       "|    └─Conv2d: 2-7                       [-1, 1, 28, 28]           289\n",
       "==========================================================================================\n",
       "Total params: 9,585\n",
       "Trainable params: 9,585\n",
       "Non-trainable params: 0\n",
       "Total mult-adds (M): 3.16\n",
       "==========================================================================================\n",
       "Input size (MB): 0.00\n",
       "Forward/backward pass size (MB): 0.44\n",
       "Params size (MB): 0.04\n",
       "Estimated Total Size (MB): 0.48\n",
       "=========================================================================================="
      ]
     },
     "execution_count": 16,
     "metadata": {},
     "output_type": "execute_result"
    }
   ],
   "source": [
    "model = autoencoder()\n",
    "summary(model, (1, 28, 28));"
   ]
  },
  {
   "cell_type": "markdown",
   "metadata": {},
   "source": [
    "- So we want to train our model to remove that noise I added\n",
    "- Generally speaking, the idea is that the model learns what pixel values are important, we are reducing the dimensionality of the imaages, so our model must learn only the crucial information (i.e., not the noise) needed to reproduce the image\n",
    "- Right now, our model probably produces gibberish because it isn't trained:"
   ]
  },
  {
   "cell_type": "code",
   "execution_count": 17,
   "metadata": {},
   "outputs": [
    {
     "name": "stderr",
     "output_type": "stream",
     "text": [
      "[W NNPACK.cpp:64] Could not initialize NNPACK! Reason: Unsupported hardware.\n"
     ]
    },
    {
     "data": {
      "image/png": "[encoded data removed]",
      "text/plain": [
       "<Figure size 600x400 with 2 Axes>"
      ]
     },
     "metadata": {},
     "output_type": "display_data"
    }
   ],
   "source": [
    "model = autoencoder()\n",
    "input_8 = X[:1, :1, :, :]\n",
    "output_8 = model(input_8)\n",
    "plot_eight_pair(input_8, output_8)"
   ]
  },
  {
   "cell_type": "markdown",
   "metadata": {},
   "source": [
    "- How do we train it?\n",
    "- Well we feed in a noisy image, compare it to the non-noisy version, and let the network learn how to make that happen\n",
    "- We want the value of the predicted pixels to be as close as possible to the real pixel values, so we'll use `MSELoss()` as our loss function:"
   ]
  },
  {
   "cell_type": "code",
   "execution_count": 18,
   "metadata": {},
   "outputs": [
    {
     "name": "stdout",
     "output_type": "stream",
     "text": [
      "epoch: 1, loss: 0.1165\n",
      "epoch: 2, loss: 0.0635\n",
      "epoch: 3, loss: 0.0486\n",
      "epoch: 4, loss: 0.0423\n",
      "epoch: 5, loss: 0.0394\n",
      "epoch: 6, loss: 0.0375\n",
      "epoch: 7, loss: 0.0362\n",
      "epoch: 8, loss: 0.0351\n",
      "epoch: 9, loss: 0.0343\n",
      "epoch: 10, loss: 0.0336\n",
      "epoch: 11, loss: 0.0329\n",
      "epoch: 12, loss: 0.0325\n",
      "epoch: 13, loss: 0.0318\n",
      "epoch: 14, loss: 0.0314\n",
      "epoch: 15, loss: 0.0310\n",
      "epoch: 16, loss: 0.0305\n",
      "epoch: 17, loss: 0.0302\n",
      "epoch: 18, loss: 0.0299\n",
      "epoch: 19, loss: 0.0295\n",
      "epoch: 20, loss: 0.0291\n"
     ]
    }
   ],
   "source": [
    "EPOCHS = 20\n",
    "criterion = nn.MSELoss()\n",
    "optimizer = torch.optim.Adam(model.parameters())\n",
    "img_list = []\n",
    "\n",
    "for epoch in range(EPOCHS):\n",
    "    losses = 0\n",
    "    for batch, _ in trainloader:\n",
    "        noisy_batch = batch + noise * torch.randn(*batch.shape)\n",
    "        noisy_batch = torch.clip(noisy_batch, 0.0, 1.0)\n",
    "        optimizer.zero_grad()\n",
    "        y_hat = model(noisy_batch)\n",
    "        loss = criterion(y_hat, batch)\n",
    "        loss.backward()\n",
    "        optimizer.step()\n",
    "        losses += loss.item()\n",
    "    print(f\"epoch: {epoch + 1}, loss: {losses / len(trainloader):.4f}\")\n",
    "    # Save example results each epoch so we can see what's going on\n",
    "    with torch.no_grad():\n",
    "        noisy_8 = noisy_batch[:1, :1, :, :]\n",
    "        model_8 = model(input_8)\n",
    "        real_8 = batch[:1, :1, :, :]\n",
    "    img_list.append(utils.make_grid([noisy_8[0], model_8[0], real_8[0]], padding=1))"
   ]
  },
  {
   "cell_type": "markdown",
   "metadata": {},
   "source": [
    "```C\n",
    "epoch: 1, loss: 0.0914\n",
    "epoch: 2, loss: 0.0501\n",
    "epoch: 3, loss: 0.0431\n",
    "...\n",
    "epoch: 28, loss: 0.0275\n",
    "epoch: 29, loss: 0.0273\n",
    "epoch: 30, loss: 0.0273\n",
    "```"
   ]
  },
  {
   "cell_type": "code",
   "execution_count": null,
   "metadata": {},
   "outputs": [],
   "source": [
    "%%capture\n",
    "fig, ax = plt.subplots(1, 1, figsize=(8, 5))\n",
    "ax.set_title(\"Input        Prediction        Actual\")\n",
    "ims = [[plt.imshow(np.transpose(i, (1,2,0)), animated=True)] for i in img_list]\n",
    "# ani = animation.ArtistAnimation(fig, ims, interval=1000, repeat_delay=1000, blit=True)\n",
    "# ani.save('eights.gif', writer='imagemagick', fps=2)\n",
    "# HTML(ani.to_jshtml()) # run this in a new cell to produce the below animation"
   ]
  },
  {
   "cell_type": "markdown",
   "metadata": {},
   "source": [
    "![](img/eights.gif)"
   ]
  },
  {
   "cell_type": "markdown",
   "metadata": {},
   "source": [
    "- Pretty cool!"
   ]
  },
  {
   "attachments": {},
   "cell_type": "markdown",
   "metadata": {},
   "source": [
    "<br><br><br><br>"
   ]
  },
  {
   "cell_type": "markdown",
   "metadata": {},
   "source": [
    "## 3. Generative Adversarial Networks (GANs)\n"
   ]
  },
  {
   "cell_type": "markdown",
   "metadata": {
    "tags": []
   },
   "source": [
    "### 3.1 What are GANs?"
   ]
  },
  {
   "cell_type": "markdown",
   "metadata": {
    "tags": []
   },
   "source": [
    "GANs are a type of neural network models that are used to generate new data, that is indistinguishable from the data that exists in a dataset."
   ]
  },
  {
   "cell_type": "markdown",
   "metadata": {
    "tags": []
   },
   "source": [
    "For example, suppose that we have a dataset of 10,000 images. The question is: can we somehow generate images that are so real-looking that we can't tell if they are **real** (could potentially come from the dataset) or **fake** (generated by some algorithm)?"
   ]
  },
  {
   "cell_type": "markdown",
   "metadata": {
    "tags": []
   },
   "source": [
    "Here, there aren't any real labels. We just want to be able to produce images that are as real-looking as possible; we don't classify them. This is why **GAN modeling** is regarded as an **unsupervised learning** task. In other words, we just need a bunch of images (or input data), no labels (or target data or outputs) would be required. We will learn more on unsupervised learning in DSCI 563."
   ]
  },
  {
   "attachments": {},
   "cell_type": "markdown",
   "metadata": {},
   "source": [
    "<br><br><br>"
   ]
  },
  {
   "cell_type": "markdown",
   "metadata": {
    "tags": []
   },
   "source": [
    "GANs were invented in 2014 by Ian Goodfellow and colleagues (see the original paper [here](https://arxiv.org/abs/1406.2661)); and have been called \"_the most interesting idea in the last 10 years in ML_\" by Yann LeCun, Facebook’s AI research director."
   ]
  },
  {
   "attachments": {},
   "cell_type": "markdown",
   "metadata": {},
   "source": [
    "<br><br><br>"
   ]
  },
  {
   "cell_type": "markdown",
   "metadata": {
    "tags": []
   },
   "source": [
    "Now take a look at the following image:\n",
    "\n",
    "<img src=\"img/GAN-face.png\" width=\"400\">\n"
   ]
  },
  {
   "attachments": {},
   "cell_type": "markdown",
   "metadata": {
    "tags": []
   },
   "source": [
    "Believe it or not, **this is not a real person!**\n",
    "\n",
    "The image above is produced by a GAN that is trained on human faces. If you want to see more, visit [www.thispersondoesnotexist.com](www.thispersondoesnotexist.com). The website is connected to a GAN model living on the cloud, and each time the page refreshes, it generates a new image of a person who **does not exist!**."
   ]
  },
  {
   "attachments": {},
   "cell_type": "markdown",
   "metadata": {},
   "source": [
    "<br><br><br>"
   ]
  },
  {
   "cell_type": "markdown",
   "metadata": {
    "tags": []
   },
   "source": [
    "### 3.2 Structure of a GAN\n",
    "\n"
   ]
  },
  {
   "cell_type": "markdown",
   "metadata": {},
   "source": [
    "![](img/GAN-structure.png)\n",
    "\n",
    "[Source](https://developers.google.com/machine-learning/gan/gan_structure)"
   ]
  },
  {
   "cell_type": "markdown",
   "metadata": {
    "tags": []
   },
   "source": [
    "In this section, I describe how GANs work for image data, but remember that the idea of GANs is generalizable to any kind of data, not just images."
   ]
  },
  {
   "cell_type": "markdown",
   "metadata": {
    "tags": []
   },
   "source": [
    "Here is the visualization of the structure of a GAN:\n",
    "\n",
    "<img src=\"img/gan-1.png\" width=\"900\"><br>\n",
    "[(image source)](https://freecontent.manning.com/practical-applications-of-gans-part-1/)"
   ]
  },
  {
   "attachments": {},
   "cell_type": "markdown",
   "metadata": {
    "tags": []
   },
   "source": [
    "The structure of a GAN consists of a **discriminator** and a **generator**:\n",
    "\n",
    "- A discriminator is just a **typical CNN** that receives an image as the input, and generates a vector of probabilities of the input belonging to some class\n",
    "\n",
    "- A generator is an **inverted CNN** that receives a vector of random numbers and generates an image in the output"
   ]
  },
  {
   "attachments": {},
   "cell_type": "markdown",
   "metadata": {},
   "source": [
    "<br><br><br>"
   ]
  },
  {
   "attachments": {},
   "cell_type": "markdown",
   "metadata": {
    "tags": []
   },
   "source": [
    "The word \"adversarial\" comes from the fact that we actually have two networks battling each other:\n",
    "\n",
    "- The generator: tries to generate fake images that look as realistic as possible such that it can **fool** the discriminator\n",
    "\n",
    "- The discriminator: takes in real data and fake data and tries to correctly determine whether an input was real or fake"
   ]
  },
  {
   "attachments": {},
   "cell_type": "markdown",
   "metadata": {},
   "source": [
    "<br><br><br>"
   ]
  },
  {
   "attachments": {},
   "cell_type": "markdown",
   "metadata": {
    "tags": []
   },
   "source": [
    "**An analogy:**\n",
    "\n",
    "Think of the \"Generator\" as a new counterfeit artist trying to produce realistic-looking famous artworks to sell.\n",
    "\n",
    "The \"Discriminator\" is an art critic, trying to determine if a piece of art is \"real\" or \"fake\".\n",
    "\n",
    "At first, the \"Generator\" produces poor art-replicas which the \"Discriminator\" can easily tell are fake. But over time, the \"Generator\" learns ways to produce art that fools the \"Discriminator\". Eventually, the \"Generator\" becomes so good that the \"Discriminator\" can't tell if a piece of art is real or fake."
   ]
  },
  {
   "attachments": {},
   "cell_type": "markdown",
   "metadata": {},
   "source": [
    "<br><br><br>"
   ]
  },
  {
   "cell_type": "markdown",
   "metadata": {
    "tags": []
   },
   "source": [
    "### 3.3 Training GANs"
   ]
  },
  {
   "attachments": {},
   "cell_type": "markdown",
   "metadata": {
    "tags": []
   },
   "source": [
    "Training a GAN happens in two iterative phases:\n",
    "\n",
    "1. **Train the Discriminator:**\n",
    "\n",
    "    - Generate some fake images with the generator\n",
    "    \n",
    "    - Show the discriminator real images and fake images and get it to classify them correctly (a simple binary classification problem)"
   ]
  },
  {
   "attachments": {},
   "cell_type": "markdown",
   "metadata": {
    "tags": []
   },
   "source": [
    "2. **Train the Generator:**\n",
    "\n",
    "    - Generate fake images with the generator but label them as \"real\"\n",
    "    \n",
    "    - Pass these fake images through the discriminator, and ask it for its judgment, i.e. the probability of this image being real\n",
    "    - Pass this judgment to a loss function, and see how far it is from the ideal output. The ideal output is that the generator was so good that it has fooled the discriminator to give it the label of \"real\".\n",
    "    - Do backpropagation based on the gradients of this loss value to adjust the parameters of the generator, such that it can better and better fool the discriminator."
   ]
  },
  {
   "attachments": {},
   "cell_type": "markdown",
   "metadata": {
    "tags": []
   },
   "source": [
    "3. **Repeat**."
   ]
  },
  {
   "attachments": {},
   "cell_type": "markdown",
   "metadata": {},
   "source": [
    "<br><br><br>"
   ]
  },
  {
   "cell_type": "markdown",
   "metadata": {},
   "source": [
    "<img src=\"img/gan-train.png\" width=\"600\"><br>\n",
    "[(image source)](https://sthalles.github.io/intro-to-gans/)"
   ]
  },
  {
   "attachments": {},
   "cell_type": "markdown",
   "metadata": {},
   "source": [
    "<br><br><br>"
   ]
  },
  {
   "cell_type": "markdown",
   "metadata": {
    "tags": []
   },
   "source": [
    "### 3.4 PyTorch Implementation"
   ]
  },
  {
   "cell_type": "markdown",
   "metadata": {
    "tags": []
   },
   "source": [
    "Alright, now's the time to implement a GAN in PyTorch. Since training GANs is a very resource-intensive job, we need to do our computations on a GPU. Here, I'll write the code **so that you can take this notebook and run it directly on [Kaggle](https://www.kaggle.com)**. If you want to run it on your own computer, you need to change the folder paths of the dataset that we're going to use."
   ]
  },
  {
   "cell_type": "code",
   "execution_count": 19,
   "metadata": {
    "tags": []
   },
   "outputs": [
    {
     "name": "stdout",
     "output_type": "stream",
     "text": [
      "Using device: mps\n"
     ]
    }
   ],
   "source": [
    "device = torch.device('cuda' if torch.cuda.is_available() else 'cpu')\n",
    "device = torch.device('mps' if torch.backends.mps.is_available() else 'cpu')\n",
    "print(f\"Using device: {device.type}\")"
   ]
  },
  {
   "attachments": {},
   "cell_type": "markdown",
   "metadata": {
    "tags": []
   },
   "source": [
    "For the purpose of demonstrating how training a GAN works in PyTorch, we'll use the [Face Recognition Dataset_](https://www.kaggle.com/stoicstatic/face-recognition-dataset) from Kaggle, which contains face images of celebrities.\n",
    "\n",
    "This dataset contains two folders: `Face Dataset` and `Extracted Faces`. We'll use the images in `Extracted Faces`, which are already `128x128` pixels. Therefore, there is no need to resize them, which is why I've commented out `transforms.Resize(IMAGE_SIZE)` in the code below. This speeds up the computations significantly, as resizing is done on CPU and it would have been the bottle-neck of our computations. Fortunately, we don't need to do this here:"
   ]
  },
  {
   "cell_type": "code",
   "execution_count": 23,
   "metadata": {
    "tags": []
   },
   "outputs": [],
   "source": [
    "DATA_DIR = \"../input/face-recognition-dataset/Extracted Faces\"\n",
    "\n",
    "BATCH_SIZE = 64\n",
    "IMAGE_SIZE = (128, 128)\n",
    "\n",
    "data_transforms = transforms.Compose([\n",
    "#     transforms.Resize(IMAGE_SIZE),\n",
    "    transforms.ToTensor(),\n",
    "    transforms.Normalize((0.5, 0.5, 0.5), (0.5, 0.5, 0.5))\n",
    "])\n",
    "\n",
    "dataset = datasets.ImageFolder(root=DATA_DIR, transform=data_transforms)\n",
    "data_loader = torch.utils.data.DataLoader(dataset, batch_size=BATCH_SIZE, shuffle=True)\n",
    "        \n",
    "# Plot samples\n",
    "sample_batch = next(iter(data_loader))\n",
    "plt.figure(figsize=(8, 8)); plt.axis(\"off\"); plt.title(\"Sample Training Images\")\n",
    "plt.imshow(np.transpose(utils.make_grid(sample_batch[0], padding=1, normalize=True), (1, 2, 0)));\n",
    "\n",
    "print(f'Size of dataset: {len(data_loader) * BATCH_SIZE}')"
   ]
  },
  {
   "cell_type": "markdown",
   "metadata": {
    "tags": []
   },
   "source": [
    "Example output:\n",
    "\n",
    "<img src=\"img/faces.png\" width=\"500\">"
   ]
  },
  {
   "cell_type": "markdown",
   "metadata": {},
   "source": [
    "<br><br><br>"
   ]
  },
  {
   "cell_type": "markdown",
   "metadata": {
    "tags": []
   },
   "source": [
    "#### 3.4.1 Creating the Generator"
   ]
  },
  {
   "attachments": {},
   "cell_type": "markdown",
   "metadata": {
    "tags": []
   },
   "source": [
    "The generator takes in a random vector called **latent vector**, which can be thought of as a `1x1` pixel image having an arbitrary number of **channels** (specified in the code by `LATENT_SIZE`).\n",
    "\n",
    "Through the generator, we pass this latent vector through the **deconvolution** layers (known as **transposed convolution** layers in PyTorch), and progressively expand its size, such that in the output we'll have an image similar in dimensions to the images in our dataset. Here for example, our images in the dataset are `128x128`, so the goal of the generator is to start from an image of `1x1` pixel and generate an image of `128x128` pixels.\n",
    "\n",
    "**Details:**\n",
    "\n",
    "- In the following code, I've used `nn.BatchNorm2d()` for all layers, `nn.LeakyReLU()` as activation for intermediate layers, and `nn.Tanh()` as activation for the output of the generator. These are suggested to be used based on empirical evidence in training GANs.\n",
    "\n",
    "- We usually do in-place modification of tensors in `nn.LeakyReLU()` by setting `inplace=True` to save some memory.\n",
    "- We set `bias=False` because the batch normalization layer contains a bias term, so we don't want to do it twice.\n",
    "\n",
    "Note that we mainly play with the strides to progressively expand the size of the input latent vector.\n",
    "\n",
    "Here is the code for the generator:"
   ]
  },
  {
   "cell_type": "code",
   "execution_count": 24,
   "metadata": {
    "tags": []
   },
   "outputs": [],
   "source": [
    "class Generator(nn.Module):\n",
    "    \n",
    "    def __init__(self, LATENT_SIZE):\n",
    "        super(Generator, self).__init__()\n",
    "        \n",
    "        self.main = nn.Sequential(\n",
    "            \n",
    "            # input dim: [-1, LATENT_SIZE, 1, 1]\n",
    "            # output size = (1 - 1)*1 - 2*0 + 4\n",
    "            \n",
    "            nn.ConvTranspose2d(LATENT_SIZE, 1024, kernel_size=4, stride=1, padding=0, bias=False),\n",
    "            nn.BatchNorm2d(1024),\n",
    "            nn.LeakyReLU(0.2, inplace=True),\n",
    "            \n",
    "            # output dim: [-1, 1024, 4, 4]\n",
    "            # output size = (input size - 1)*stride - 2*padding + kernel size\n",
    "            # (4 - 1)*2 - 2 * 1 + 4 = 4 + 4 = 8\n",
    "\n",
    "            nn.ConvTranspose2d(1024, 512, kernel_size=4, stride=2, padding=1, bias=False),\n",
    "            nn.BatchNorm2d(512),\n",
    "            nn.LeakyReLU(0.2, inplace=True),\n",
    "            \n",
    "            # output dim: [-1, 512, 8, 8]\n",
    "\n",
    "            nn.ConvTranspose2d(512, 256, kernel_size=4, stride=2, padding=1, bias=False),\n",
    "            nn.BatchNorm2d(256),\n",
    "            nn.LeakyReLU(0.2, inplace=True),\n",
    "            \n",
    "            # output dim: [-1, 256, 16, 16]\n",
    "\n",
    "            nn.ConvTranspose2d(256, 128, kernel_size=4, stride=2, padding=1, bias=False),\n",
    "            nn.BatchNorm2d(128),\n",
    "            nn.LeakyReLU(0.2, inplace=True),\n",
    "            \n",
    "            # output dim: [-1, 128, 32, 32]\n",
    "            \n",
    "            nn.ConvTranspose2d(128, 64, kernel_size=4, stride=2, padding=1, bias=False),\n",
    "            nn.BatchNorm2d(64),\n",
    "            nn.LeakyReLU(0.2, inplace=True),\n",
    "            \n",
    "            # output dim: [-1, 64, 64, 64]\n",
    "\n",
    "            nn.ConvTranspose2d(64, 3, kernel_size=4, stride=2, padding=1, bias=False),\n",
    "            nn.BatchNorm2d(3),\n",
    "            \n",
    "            # output dim: [-1, 3, 128, 128]\n",
    "            \n",
    "            nn.Tanh()\n",
    "            \n",
    "            # output dim: [-1, 3, 128, 128]\n",
    "        )\n",
    "        \n",
    "    def forward(self, input):\n",
    "        output = self.main(input)\n",
    "        return output"
   ]
  },
  {
   "cell_type": "markdown",
   "metadata": {},
   "source": [
    "<br><br><br>"
   ]
  },
  {
   "attachments": {},
   "cell_type": "markdown",
   "metadata": {},
   "source": [
    "The details of how exactly a transposed convolution layer works in PyTorch can be fairly confusing at first, but here's some further remarks to help you feel more comfortable with it:\n",
    "\n",
    "The parameters `stride` and `padding` in `nn.ConvTranspose2d` are (unfortunately?) not what we’re used to in using `nn.Conv2d`. For example, `stride=2` doesn’t mean that the kernel in the transposed convolution moves in steps of 2 pixels each time. These parameters are, instead, designed such that if you use the same stride and padding for a `ConvTranspose2d` as in a `Conv2d`, and apply it on the output of the that `Conv2d`, it will give you an image of the same shape (but not the same pixel values). \n",
    "\n",
    "If you’re wondering about the mechanics of computing a transposed convolution in various scenarios, **make sure to check out [this article](https://arxiv.org/pdf/1603.07285.pdf) or [this blog post](https://numbersmithy.com/understanding-transposed-convolutions-in-pytorch/).**"
   ]
  },
  {
   "attachments": {},
   "cell_type": "markdown",
   "metadata": {},
   "source": [
    "<br><br><br>"
   ]
  },
  {
   "cell_type": "markdown",
   "metadata": {
    "tags": []
   },
   "source": [
    "#### 3.4.2 Creating the Discriminator"
   ]
  },
  {
   "cell_type": "markdown",
   "metadata": {
    "tags": []
   },
   "source": [
    "As discussed before, this is a conventional CNN that receives an image (`128x128` in our case here) and outputs the probability of this image belonging to some certain class:\n",
    "\n",
    "- Using pooling layers is less common because they reduce spatial resolution of feature maps and can result in loss of fine-grained details\n",
    "- It's more common to use strided convolutions instead\n",
    "- We usually do in-place modification of tensors in `nn.LeakyReLU()` by setting `inplace=True` to save some memory.\n",
    "- We set `bias=False` because the batch normalization layer contains a bias term, so we don't want to do it twice."
   ]
  },
  {
   "cell_type": "code",
   "execution_count": 25,
   "metadata": {
    "tags": []
   },
   "outputs": [],
   "source": [
    "class Discriminator(nn.Module):\n",
    "    \n",
    "    def __init__(self):\n",
    "        super(Discriminator, self).__init__()\n",
    "        \n",
    "        self.main = nn.Sequential(\n",
    "        \n",
    "            # input dim: [-1, 3, 128, 128]\n",
    "            \n",
    "            nn.Conv2d(3, 64, kernel_size=4, stride=2, padding=1, bias=False),\n",
    "            nn.BatchNorm2d(64),\n",
    "            nn.LeakyReLU(0.2, inplace=True),\n",
    "\n",
    "            # output dim: [-1, 64, 64, 64]\n",
    "\n",
    "            nn.Conv2d(64, 64, kernel_size=4, stride=2, padding=1, bias=False),\n",
    "            nn.BatchNorm2d(64),\n",
    "            nn.LeakyReLU(0.2, inplace=True),\n",
    "\n",
    "            # output dim: [-1, 64, 32, 32]\n",
    "\n",
    "            nn.Conv2d(64, 128, kernel_size=4, stride=2, padding=1, bias=False),\n",
    "            nn.BatchNorm2d(128),\n",
    "            nn.LeakyReLU(0.2, inplace=True),\n",
    "\n",
    "            # output dim: [-1, 128, 16, 16]\n",
    "\n",
    "            nn.Conv2d(128, 256, kernel_size=4, stride=2, padding=1, bias=False),\n",
    "            nn.BatchNorm2d(256),\n",
    "            nn.LeakyReLU(0.2, inplace=True),\n",
    "\n",
    "            # output dim: [-1, 256, 8, 8]\n",
    "\n",
    "            nn.Conv2d(256, 512, kernel_size=4, stride=2, padding=1, bias=False),\n",
    "            nn.BatchNorm2d(512),\n",
    "            nn.LeakyReLU(0.2, inplace=True),\n",
    "\n",
    "            # output dim: [-1, 512, 4, 4]\n",
    "\n",
    "            nn.Conv2d(512, 1, kernel_size=4, stride=1, padding=0),\n",
    "            \n",
    "            # output dim: [-1, 1, 1, 1]\n",
    "\n",
    "            nn.Flatten(),\n",
    "            \n",
    "            # output dim: [-1]\n",
    "\n",
    "            nn.Sigmoid()\n",
    "            \n",
    "            # output dim: [-1]\n",
    "        )\n",
    "\n",
    "    def forward(self, input):\n",
    "        output = self.main(input)\n",
    "        return output"
   ]
  },
  {
   "attachments": {},
   "cell_type": "markdown",
   "metadata": {},
   "source": [
    "<br><br><br>"
   ]
  },
  {
   "cell_type": "markdown",
   "metadata": {
    "tags": []
   },
   "source": [
    "#### Instantiating and Initializing our GAN"
   ]
  },
  {
   "cell_type": "markdown",
   "metadata": {
    "tags": []
   },
   "source": [
    "Let's create the discriminator and generator objects, as well as the loss function and optimizers:"
   ]
  },
  {
   "cell_type": "code",
   "execution_count": 28,
   "metadata": {
    "tags": []
   },
   "outputs": [],
   "source": [
    "LATENT_SIZE = 200\n",
    "\n",
    "generator = Generator(LATENT_SIZE)\n",
    "discriminator = Discriminator()\n",
    "\n",
    "generator.to(device)\n",
    "discriminator.to(device)\n",
    "\n",
    "criterion = nn.BCELoss()\n",
    "\n",
    "optimizerG = optim.Adam(generator.parameters(), lr=0.001, betas=(0.5, 0.999))\n",
    "optimizerD = optim.Adam(discriminator.parameters(), lr=0.001, betas=(0.5, 0.999))"
   ]
  },
  {
   "cell_type": "markdown",
   "metadata": {},
   "source": [
    "<br><br><br>"
   ]
  },
  {
   "cell_type": "markdown",
   "metadata": {
    "tags": []
   },
   "source": [
    "We explored how the starting point of the optimization can affect the final results. It is recommended that to initialize the weights of a GAN with values obtained randomly from a normal distribution. In PyTorch, we can define the initialization function as we like and apply it to the model parameters using the `.apply()` method:"
   ]
  },
  {
   "cell_type": "code",
   "execution_count": 29,
   "metadata": {
    "tags": []
   },
   "outputs": [],
   "source": [
    "def weights_init(m):\n",
    "    if isinstance(m, (nn.Conv2d, nn.ConvTranspose2d)):\n",
    "        nn.init.normal_(m.weight.data, 0.0, 0.02)\n",
    "    elif isinstance(m, nn.BatchNorm2d):\n",
    "        nn.init.normal_(m.weight.data, 1.0, 0.02)\n",
    "        nn.init.constant_(m.bias.data, 0)\n",
    "        \n",
    "generator.apply(weights_init)\n",
    "discriminator.apply(weights_init);"
   ]
  },
  {
   "attachments": {},
   "cell_type": "markdown",
   "metadata": {},
   "source": [
    "<br><br><br>"
   ]
  },
  {
   "cell_type": "markdown",
   "metadata": {
    "tags": []
   },
   "source": [
    "#### 3.4.1 Training our GAN"
   ]
  },
  {
   "cell_type": "markdown",
   "metadata": {},
   "source": [
    "We use the following cell to keep track of how a fixed noise (latent vector) is transformed to a generated image in each epoch. We will see that the generations become better and better throughout the epochs:"
   ]
  },
  {
   "cell_type": "code",
   "execution_count": null,
   "metadata": {
    "tags": []
   },
   "outputs": [],
   "source": [
    "img_list = []\n",
    "fixed_noise = torch.randn(BATCH_SIZE, LATENT_SIZE, 1, 1).to(device)"
   ]
  },
  {
   "cell_type": "markdown",
   "metadata": {},
   "source": [
    "Finally, here is the training loop (you can also put everything inside a function):"
   ]
  },
  {
   "cell_type": "code",
   "execution_count": null,
   "metadata": {
    "tags": []
   },
   "outputs": [],
   "source": [
    "NUM_EPOCHS = 50\n",
    "from statistics import mean\n",
    "print('Training started:\\n')\n",
    "\n",
    "D_real_epoch, D_fake_epoch, loss_dis_epoch, loss_gen_epoch = [], [], [], []\n",
    "\n",
    "for epoch in range(NUM_EPOCHS):\n",
    "\n",
    "    # D_real_iter: list that accumulates the average output of the discriminator \n",
    "    # for real images for each batch. High values mean the discriminator is more \n",
    "    # confidently classifying real images as real.\n",
    "\n",
    "    # D_fake_iter: Similar to D_real_iter but for fake images. Low values indicate\n",
    "    # the descriminator is confidently classifying them as fake. \n",
    "    \n",
    "    # loss_dis_iter: Stores the discriminator loss for each batch. \n",
    "    # This is the sum of the loss on real images and the loss on fake images. \n",
    "    # Monitoring this helps understand how well the discriminator is \n",
    "    # differentiating between real and fake images.\n",
    "\n",
    "    # loss_gen_iter: Stores the generator loss for each batch. This indicates \n",
    "    # how well the generator is fooling the discriminator. \n",
    "    \n",
    "    D_real_iter, D_fake_iter, loss_dis_iter, loss_gen_iter = [], [], [], []\n",
    "    \n",
    "    for real_batch, _ in data_loader:\n",
    "\n",
    "        # STEP 1: train discriminator\n",
    "        # ==================================\n",
    "        # Train with real data\n",
    "        optimizerD.zero_grad()\n",
    "        \n",
    "        real_batch = real_batch.to(device)\n",
    "        real_labels = torch.ones((real_batch.shape[0],), dtype=torch.float).to(device)\n",
    "        \n",
    "        output = discriminator(real_batch).view(-1)\n",
    "        loss_real = criterion(output, real_labels)\n",
    "        \n",
    "        # Iteration book-keeping\n",
    "        D_real_iter.append(output.mean().item())\n",
    "        \n",
    "        # Train with fake data\n",
    "        noise = torch.randn(real_batch.shape[0], LATENT_SIZE, 1, 1).to(device)\n",
    "        \n",
    "        fake_batch = generator(noise)\n",
    "        fake_labels = torch.zeros_like(real_labels)\n",
    "        \n",
    "        output = discriminator(fake_batch.detach()).view(-1)\n",
    "        loss_fake = criterion(output, fake_labels)\n",
    "        \n",
    "        # Update discriminator weights\n",
    "        loss_dis = loss_real + loss_fake\n",
    "        loss_dis.backward()\n",
    "        optimizerD.step()\n",
    "        \n",
    "        # Iteration book-keeping\n",
    "        loss_dis_iter.append(loss_dis.mean().item())\n",
    "        D_fake_iter.append(output.mean().item())\n",
    "        \n",
    "        # STEP 2: train generator\n",
    "        # ==================================\n",
    "        optimizerG.zero_grad()\n",
    "\n",
    "        # Calculate the output with the updated weights of the discriminator\n",
    "        output = discriminator(fake_batch).view(-1)\n",
    "        loss_gen = criterion(output, real_labels)\n",
    "        loss_gen.backward()\n",
    "        \n",
    "        # Book-keeping\n",
    "        loss_gen_iter.append(loss_gen.mean().item())\n",
    "        \n",
    "        # Update generator weights and store loss\n",
    "        optimizerG.step()\n",
    "        \n",
    "    print(f\"Epoch ({epoch + 1}/{NUM_EPOCHS})\\t\",\n",
    "          f\"Loss_G: {mean(loss_gen_iter):.4f}\",\n",
    "          f\"Loss_D: {mean(loss_dis_iter):.4f}\\t\",\n",
    "          f\"D_real: {mean(D_real_iter):.4f}\",\n",
    "          f\"D_fake: {mean(D_fake_iter):.4f}\")\n",
    "    \n",
    "    # Epoch book-keeping\n",
    "    loss_gen_epoch.append(mean(loss_gen_iter))\n",
    "    loss_dis_epoch.append(mean(loss_dis_iter))\n",
    "    D_real_epoch.append(mean(D_real_iter))\n",
    "    D_fake_epoch.append(mean(D_fake_iter))\n",
    "    \n",
    "    # Keeping track of the evolution of a fixed noise latent vector\n",
    "    with torch.no_grad():\n",
    "        fake_images = generator(fixed_noise).detach().cpu()\n",
    "        #img_list.append(utils.make_grid(fake_images, normalize=True, nrows=10))\n",
    "        \n",
    "print(\"\\nTraining ended.\")"
   ]
  },
  {
   "cell_type": "markdown",
   "metadata": {
    "tags": []
   },
   "source": [
    "Example output:\n",
    "\n",
    "```\n",
    "Epoch (1/50)\t Loss_G: 16.1643 Loss_D: 2.7680\t D_real: 0.8808 D_fake: 0.1760\n",
    "Epoch (2/50)\t Loss_G: 5.1395 Loss_D: 1.2464\t D_real: 0.7797 D_fake: 0.2442\n",
    "Epoch (3/50)\t Loss_G: 2.3695 Loss_D: 1.3886\t D_real: 0.6162 D_fake: 0.3758\n",
    "Epoch (4/50)\t Loss_G: 2.3272 Loss_D: 1.3902\t D_real: 0.6065 D_fake: 0.3902\n",
    "Epoch (5/50)\t Loss_G: 2.4110 Loss_D: 1.2522\t D_real: 0.6205 D_fake: 0.3870\n",
    "Epoch (6/50)\t Loss_G: 2.6082 Loss_D: 1.2582\t D_real: 0.6301 D_fake: 0.3727\n",
    "Epoch (7/50)\t Loss_G: 2.3240 Loss_D: 1.2784\t D_real: 0.6152 D_fake: 0.3882\n",
    "Epoch (8/50)\t Loss_G: 2.3167 Loss_D: 1.3681\t D_real: 0.6032 D_fake: 0.3983\n",
    "Epoch (9/50)\t Loss_G: 2.3370 Loss_D: 1.2700\t D_real: 0.6068 D_fake: 0.3959\n",
    "Epoch (10/50)\t Loss_G: 2.3772 Loss_D: 1.2815\t D_real: 0.6077 D_fake: 0.3872\n",
    "```"
   ]
  },
  {
   "cell_type": "markdown",
   "metadata": {},
   "source": [
    "During the training of the discriminator in a GAN, it is important to prevent updates to the generator's parameters. This is achieved in the code by using the `detach()` method on the `fake_batch`. When `detach()` is applied to a tensor in PyTorch, it creates a new tensor that is disconnected from the current computation graph, meaning that it does not track gradients. Consequently, when `fake_batch.detach()` is used in our code, it instructs PyTorch not to calculate gradients for the generator during the discriminator's backward pass. Without `detach()`, gradients from the discriminator's loss, when evaluating fake images, would propagate back through both the discriminator and the generator, which is not desirable during this phase of training.\n",
    "\n",
    "Here's the relevant part of the code for training the discriminator with fake data:\n",
    "\n",
    "```python\n",
    "output = discriminator(fake_batch.detach()).view(-1)\n",
    "loss_fake = criterion(output, fake_labels)\n",
    "```\n",
    "\n",
    "On the other hand, in the generator training phase, the objective is to update the generator's parameters such that it becomes better at generating images. Here, the gradients need to flow through both the discriminator and the generator. This is why `detach()` is not used when passing `fake_batch` to the discriminator. \n",
    "\n",
    "Here's the code segment for training the generator:\n",
    "\n",
    "```python\n",
    "output = discriminator(fake_batch).view(-1)\n",
    "loss_gen = criterion(output, real_labels)\n",
    "```"
   ]
  },
  {
   "attachments": {},
   "cell_type": "markdown",
   "metadata": {},
   "source": [
    "<br><br><br>"
   ]
  },
  {
   "cell_type": "markdown",
   "metadata": {
    "tags": []
   },
   "source": [
    "#### 3.4.2 Visualizing Training Progress"
   ]
  },
  {
   "cell_type": "markdown",
   "metadata": {
    "tags": []
   },
   "source": [
    "The following plots will help you see how the loss values of the generator and the discriminator, as well as the probabilities generated by the discriminator on real and fake images evolve during the training of our GAN:"
   ]
  },
  {
   "cell_type": "code",
   "execution_count": null,
   "metadata": {
    "tags": []
   },
   "outputs": [],
   "source": [
    "plt.plot(np.array(loss_gen_epoch), label='loss_gen')\n",
    "plt.plot(np.array(loss_dis_epoch), label='loss_dis')\n",
    "plt.xlabel(\"Epoch\")\n",
    "plt.ylabel(\"Loss\")\n",
    "plt.legend();"
   ]
  },
  {
   "cell_type": "markdown",
   "metadata": {
    "tags": []
   },
   "source": [
    "Example output:\n",
    "\n",
    "<img src=\"img/loss_epoch.png\" width=\"350\">"
   ]
  },
  {
   "cell_type": "code",
   "execution_count": null,
   "metadata": {
    "tags": []
   },
   "outputs": [],
   "source": [
    "plt.plot(np.array(D_real_epoch), label='D_real')\n",
    "plt.plot(np.array(D_fake_epoch), label='D_fake')\n",
    "plt.xlabel(\"Epoch\")\n",
    "plt.ylabel(\"Probability\")\n",
    "plt.legend();"
   ]
  },
  {
   "cell_type": "markdown",
   "metadata": {
    "tags": []
   },
   "source": [
    "Example output:\n",
    "\n",
    "<img src=\"img/D_epoch.png\" width=\"350\">"
   ]
  },
  {
   "attachments": {},
   "cell_type": "markdown",
   "metadata": {},
   "source": [
    "<br><br><br>"
   ]
  },
  {
   "cell_type": "markdown",
   "metadata": {
    "tags": []
   },
   "source": [
    "The following code cells help to see the evolution of one fixed noise vector throughout the epochs. The generator is applied on this fixed random noise in each epoch, and the results are saved as batches of generated images."
   ]
  },
  {
   "cell_type": "code",
   "execution_count": null,
   "metadata": {
    "tags": []
   },
   "outputs": [],
   "source": [
    "%%capture\n",
    "\n",
    "fig = plt.figure(figsize=(10, 10))\n",
    "ims = [[plt.imshow(np.transpose(i,(1, 2, 0)), animated=True)] for i in img_list[::1]]\n",
    "ani = animation.ArtistAnimation(fig, ims, interval=1000, repeat_delay=1000, blit=True)\n",
    "ani.save('GAN.gif', writer='imagemagick', fps=2)"
   ]
  },
  {
   "cell_type": "code",
   "execution_count": null,
   "metadata": {
    "tags": []
   },
   "outputs": [],
   "source": [
    "HTML(ani.to_jshtml()) # run this in a new cell to produce the below animation"
   ]
  },
  {
   "cell_type": "markdown",
   "metadata": {
    "tags": []
   },
   "source": [
    "These are my results after running the GAN model for around 100 epochs:\n",
    "\n",
    "<img src=\"img/GAN.gif\" width=\"600\"><br>"
   ]
  },
  {
   "attachments": {},
   "cell_type": "markdown",
   "metadata": {},
   "source": [
    "**Note:** You might have noticed the checker-board patterns that appear in the generated images, especially early in the training process. This is a known issue with transposed convolutions. This problem and potential solutions are discussed in great detail in [this article](https://distill.pub/2016/deconv-checkerboard/)."
   ]
  },
  {
   "cell_type": "markdown",
   "metadata": {},
   "source": [
    " Here is a picture of GAN training from the original [paper](https://arxiv.org/abs/1406.2661). \n",
    "\n",
    "- Data generating distribution $\\rightarrow$ Green solid line\n",
    "- Real data distribution $\\rightarrow$ black dotted line\n",
    "- Discriminator distribution $\\rightarrow$ Blue dashed line\n",
    "- Lower horizontal line $\\rightarrow$ domain from which $z$ is sampled (uniform distribution in this case)\n",
    "\n",
    "![](img/GAN-plots.png)\n",
    "\n",
    "[Source](https://arxiv.org/abs/1406.2661)"
   ]
  },
  {
   "cell_type": "markdown",
   "metadata": {},
   "source": [
    "- (a) Initially we have a partially accurate classifier \n",
    "- (b) After training the discriminator for a few epochs it is able to classify real vs. fake examples. \n",
    "- (c) The gradient of the discriminator guides the generator to move to the real data distribution \n",
    "- (d) After several steps of training, if the generator distribution and the real data distribution align. The discriminator is unable to differentiate between the two distributions. "
   ]
  },
  {
   "cell_type": "markdown",
   "metadata": {},
   "source": [
    "<br><br><br><br>"
   ]
  },
  {
   "cell_type": "markdown",
   "metadata": {},
   "source": [
    "## 4. Multi-input Networks\n",
    "<hr>"
   ]
  },
  {
   "cell_type": "markdown",
   "metadata": {},
   "source": [
    "- Sometimes you'll want to combine different types of data in a single network\n",
    "- The most common case is combining tabular data with image data, for example, using both real estate data and images of a house to predict its sale price:\n",
    "\n",
    "![](img/multi-input.png)\n",
    "\n",
    "Source: \"[House](https://www.flickr.com/photos/68089229@N06/17458373552)\" by [oatsy40](https://www.flickr.com/photos/68089229@N06), \"[House in Vancouver](https://www.flickr.com/photos/17573364@N00/433449690)\" by [pnwra](https://www.flickr.com/photos/17573364@N00), \"[House](https://www.flickr.com/photos/21098413@N04/5405425139)\" by [noona11](https://www.flickr.com/photos/21098413@N04) all licensed under [CC BY 2.0](https://creativecommons.org/licenses/by/2.0/?ref=ccsearch&atype=rich)."
   ]
  },
  {
   "cell_type": "markdown",
   "metadata": {},
   "source": [
    "- In such a problem you may want to combine:\n",
    "    1. a NN for the tabular data\n",
    "    2. a CNN for the image data\n",
    "- The way we often do this is create these two models, and then combine them together into a model that produces a single output\n",
    "- This sounds complicated but it's pretty easy! We only need one new ingredient which is a concatenation function: `torch.cat()`\n",
    "- Below is a simple example:"
   ]
  },
  {
   "cell_type": "code",
   "execution_count": 30,
   "metadata": {},
   "outputs": [],
   "source": [
    "class MultiModel(nn.Module):\n",
    "    def __init__(self):\n",
    "        super().__init__()\n",
    "        self.cnn = nn.Sequential(\n",
    "            nn.Conv2d(3, 16, 3, 2, 1),\n",
    "            nn.ReLU(),\n",
    "            nn.Conv2d(16, 8, 5, 2, 1),\n",
    "            nn.ReLU(),\n",
    "            nn.Flatten(),\n",
    "            nn.Linear(1800, 5)\n",
    "        )\n",
    "        \n",
    "        self.fc = nn.Sequential(\n",
    "            nn.Linear(10, 50),\n",
    "            nn.ReLU(),\n",
    "            nn.Linear(50, 5)\n",
    "        )\n",
    "        \n",
    "        self.multi = nn.Sequential(\n",
    "            nn.Linear(10, 5),\n",
    "            nn.ReLU(),\n",
    "            nn.Linear(5, 1)\n",
    "        )\n",
    "        \n",
    "    def forward(self, image, data):\n",
    "        x_cnn = self.cnn(image)\n",
    "        x_fc = self.fc(data)\n",
    "        x_multi = torch.cat((x_cnn, x_fc), dim=1)\n",
    "        return self.multi(x_multi)"
   ]
  },
  {
   "cell_type": "code",
   "execution_count": null,
   "metadata": {},
   "outputs": [],
   "source": [
    "model = MultiModel()\n",
    "image = torch.randn(1, 3, 64, 64)\n",
    "data = torch.randn(1, 10)\n",
    "model(image, data).item()"
   ]
  },
  {
   "cell_type": "markdown",
   "metadata": {},
   "source": [
    "- The above network doesn't really do anything but show that we can easily combine a CNN and fully connected NN!"
   ]
  },
  {
   "cell_type": "markdown",
   "metadata": {},
   "source": [
    "<br><br><br><br>"
   ]
  },
  {
   "cell_type": "markdown",
   "metadata": {
    "slideshow": {
     "slide_type": "slide"
    }
   },
   "source": [
    "## 5. Conclusion\n",
    "\n",
    "How did we do with the course learning objectives? \n",
    "\n",
    "- Identify common computational issues caused by floating-point arithmatic, e.g., rounding, overflow, etc., and program defensively against these errors.\n",
    "- Explain how the gradient descent algorithm and its variants work.\n",
    "- Explain the fundamental concepts of neural networks including layers, nodes, and activation functions and gain proficiency in implementing basic neural networks using `PyTorch`.  \n",
    "- Illustrate the process of backpropagation in neural network training. \n",
    "- Explain how convolutional neural networks work and implement them for image classification using PyTorch. \n",
    "- Explain and apply transfer learning and the different flavours of it: \"out-of-the-box\", \"feature extractor\", \"fine tuning\".\n",
    "- Describe at a high level the basic principles and architecture of Generative Adversarial Networks (GANs)\n"
   ]
  },
  {
   "cell_type": "markdown",
   "metadata": {
    "slideshow": {
     "slide_type": "slide"
    }
   },
   "source": [
    "### Coming up ...\n",
    "\n",
    "- Clustering, dimensionality reduction, word embeddings, recommender systems (DSCI 563)\n",
    "- Training at scale/distributed computing (coming in DSCI 525)\n",
    "- Working with other forms of data like time series (DSCI 574)\n",
    "- Markov models, topic modeling, recurrent neural networks, and transformers (DSCI 575)\n"
   ]
  },
  {
   "cell_type": "markdown",
   "metadata": {
    "slideshow": {
     "slide_type": "slide"
    }
   },
   "source": [
    "### Final remarks \n",
    "\n",
    "I hope you learned something useful from the course. I was teaching this course for the first time and I had fun teaching this material to you! \n",
    "\n",
    "Here are fake versions of you, me, and our classroom 😀. (I also see some strawberries in the picture although they were not in the prompt 🍓🍓.) I generated this image by DALL-E, an AI image creation tool, using the following prompt.  \n",
    "\n",
    "> Generate a high-resolution photo of a computer science professor thanking her students for the term and wishing them luck on the upcoming quizzes and blocks ... Happy vibes and nice lighting.\n",
    "\n",
    "![](img/Dalle-CS-prof.png)\n",
    "\n",
    "FYI: The online course evaluations are up, it'll be great if you can fill them in when you get a chance. \n",
    "\n",
    "https://canvas.ubc.ca/courses/123600/external_tools/4732"
   ]
  },
  {
   "cell_type": "code",
   "execution_count": null,
   "metadata": {},
   "outputs": [],
   "source": []
  }
 ],
 "metadata": {
  "anaconda-cloud": {},
  "kernelspec": {
   "display_name": "dsci572",
   "language": "python",
   "name": "dsci572"
  },
  "language_info": {
   "codemirror_mode": {
    "name": "ipython",
    "version": 3
   },
   "file_extension": ".py",
   "mimetype": "text/x-python",
   "name": "python",
   "nbconvert_exporter": "python",
   "pygments_lexer": "ipython3",
   "version": "3.11.7"
  },
  "toc": {
   "base_numbering": 1,
   "nav_menu": {},
   "number_sections": false,
   "sideBar": true,
   "skip_h1_title": true,
   "title_cell": "Table of Contents",
   "title_sidebar": "Contents",
   "toc_cell": true,
   "toc_position": {},
   "toc_section_display": true,
   "toc_window_display": true
  },
  "vscode": {
   "interpreter": {
    "hash": "f821000d0c0da66e5bcde88c37d59c8e0de03b40667fb62009a8148ca49465a0"
   }
  }
 },
 "nbformat": 4,
 "nbformat_minor": 4
}
